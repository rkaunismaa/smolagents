{
 "cells": [
  {
   "cell_type": "markdown",
   "metadata": {},
   "source": [
    "[smolagents repo](https://github.com/huggingface/smolagents)"
   ]
  },
  {
   "cell_type": "code",
   "execution_count": null,
   "metadata": {},
   "outputs": [
    {
     "data": {
      "text/html": [
       "<pre style=\"white-space:pre;overflow-x:auto;line-height:normal;font-family:Menlo,'DejaVu Sans Mono',consolas,'Courier New',monospace\"><span style=\"color: #d4b702; text-decoration-color: #d4b702\">╭──────────────────────────────────────────────────── </span><span style=\"color: #d4b702; text-decoration-color: #d4b702; font-weight: bold\">New run</span><span style=\"color: #d4b702; text-decoration-color: #d4b702\"> ────────────────────────────────────────────────────╮</span>\n",
       "<span style=\"color: #d4b702; text-decoration-color: #d4b702\">│</span>                                                                                                                 <span style=\"color: #d4b702; text-decoration-color: #d4b702\">│</span>\n",
       "<span style=\"color: #d4b702; text-decoration-color: #d4b702\">│</span> <span style=\"font-weight: bold\">How many seconds would it take for a leopard at full speed to run through Pont des Arts?</span>                        <span style=\"color: #d4b702; text-decoration-color: #d4b702\">│</span>\n",
       "<span style=\"color: #d4b702; text-decoration-color: #d4b702\">│</span>                                                                                                                 <span style=\"color: #d4b702; text-decoration-color: #d4b702\">│</span>\n",
       "<span style=\"color: #d4b702; text-decoration-color: #d4b702\">╰─ HfApiModel - Qwen/Qwen2.5-Coder-32B-Instruct ──────────────────────────────────────────────────────────────────╯</span>\n",
       "</pre>\n"
      ],
      "text/plain": [
       "\u001b[38;2;212;183;2m╭─\u001b[0m\u001b[38;2;212;183;2m───────────────────────────────────────────────────\u001b[0m\u001b[38;2;212;183;2m \u001b[0m\u001b[1;38;2;212;183;2mNew run\u001b[0m\u001b[38;2;212;183;2m \u001b[0m\u001b[38;2;212;183;2m───────────────────────────────────────────────────\u001b[0m\u001b[38;2;212;183;2m─╮\u001b[0m\n",
       "\u001b[38;2;212;183;2m│\u001b[0m                                                                                                                 \u001b[38;2;212;183;2m│\u001b[0m\n",
       "\u001b[38;2;212;183;2m│\u001b[0m \u001b[1mHow many seconds would it take for a leopard at full speed to run through Pont des Arts?\u001b[0m                        \u001b[38;2;212;183;2m│\u001b[0m\n",
       "\u001b[38;2;212;183;2m│\u001b[0m                                                                                                                 \u001b[38;2;212;183;2m│\u001b[0m\n",
       "\u001b[38;2;212;183;2m╰─\u001b[0m\u001b[38;2;212;183;2m HfApiModel - Qwen/Qwen2.5-Coder-32B-Instruct \u001b[0m\u001b[38;2;212;183;2m─────────────────────────────────────────────────────────────────\u001b[0m\u001b[38;2;212;183;2m─╯\u001b[0m\n"
      ]
     },
     "metadata": {},
     "output_type": "display_data"
    },
    {
     "data": {
      "text/html": [
       "<pre style=\"white-space:pre;overflow-x:auto;line-height:normal;font-family:Menlo,'DejaVu Sans Mono',consolas,'Courier New',monospace\"><span style=\"color: #d4b702; text-decoration-color: #d4b702\">━━━━━━━━━━━━━━━━━━━━━━━━━━━━━━━━━━━━━━━━━━━━━━━━━━━━━ </span><span style=\"font-weight: bold\">Step </span><span style=\"color: #008080; text-decoration-color: #008080; font-weight: bold\">1</span><span style=\"color: #d4b702; text-decoration-color: #d4b702\"> ━━━━━━━━━━━━━━━━━━━━━━━━━━━━━━━━━━━━━━━━━━━━━━━━━━━━━━</span>\n",
       "</pre>\n"
      ],
      "text/plain": [
       "\u001b[38;2;212;183;2m━━━━━━━━━━━━━━━━━━━━━━━━━━━━━━━━━━━━━━━━━━━━━━━━━━━━━ \u001b[0m\u001b[1mStep \u001b[0m\u001b[1;36m1\u001b[0m\u001b[38;2;212;183;2m ━━━━━━━━━━━━━━━━━━━━━━━━━━━━━━━━━━━━━━━━━━━━━━━━━━━━━━\u001b[0m\n"
      ]
     },
     "metadata": {},
     "output_type": "display_data"
    },
    {
     "data": {
      "text/html": [
       "<pre style=\"white-space:pre;overflow-x:auto;line-height:normal;font-family:Menlo,'DejaVu Sans Mono',consolas,'Courier New',monospace\"> ─ <span style=\"font-weight: bold\">Executing parsed code:</span> ──────────────────────────────────────────────────────────────────────────────────────── \n",
       "  <span style=\"color: #f8f8f2; text-decoration-color: #f8f8f2; background-color: #272822\">pont_des_arts_length </span><span style=\"color: #ff4689; text-decoration-color: #ff4689; background-color: #272822\">=</span><span style=\"color: #f8f8f2; text-decoration-color: #f8f8f2; background-color: #272822\"> web_search(query</span><span style=\"color: #ff4689; text-decoration-color: #ff4689; background-color: #272822\">=</span><span style=\"color: #e6db74; text-decoration-color: #e6db74; background-color: #272822\">\"length of Pont des Arts\"</span><span style=\"color: #f8f8f2; text-decoration-color: #f8f8f2; background-color: #272822\">)</span><span style=\"background-color: #272822\">                                             </span>  \n",
       "  <span style=\"color: #f8f8f2; text-decoration-color: #f8f8f2; background-color: #272822\">leopard_speed </span><span style=\"color: #ff4689; text-decoration-color: #ff4689; background-color: #272822\">=</span><span style=\"color: #f8f8f2; text-decoration-color: #f8f8f2; background-color: #272822\"> web_search(query</span><span style=\"color: #ff4689; text-decoration-color: #ff4689; background-color: #272822\">=</span><span style=\"color: #e6db74; text-decoration-color: #e6db74; background-color: #272822\">\"maximum speed of a leopard\"</span><span style=\"color: #f8f8f2; text-decoration-color: #f8f8f2; background-color: #272822\">)</span><span style=\"background-color: #272822\">                                                 </span>  \n",
       "  <span style=\"color: #f8f8f2; text-decoration-color: #f8f8f2; background-color: #272822\">print(</span><span style=\"color: #e6db74; text-decoration-color: #e6db74; background-color: #272822\">\"Pont des Arts length:\"</span><span style=\"color: #f8f8f2; text-decoration-color: #f8f8f2; background-color: #272822\">, pont_des_arts_length)</span><span style=\"background-color: #272822\">                                                           </span>  \n",
       "  <span style=\"color: #f8f8f2; text-decoration-color: #f8f8f2; background-color: #272822\">print(</span><span style=\"color: #e6db74; text-decoration-color: #e6db74; background-color: #272822\">\"Leopard speed:\"</span><span style=\"color: #f8f8f2; text-decoration-color: #f8f8f2; background-color: #272822\">, leopard_speed)</span><span style=\"background-color: #272822\">                                                                         </span>  \n",
       " ───────────────────────────────────────────────────────────────────────────────────────────────────────────────── \n",
       "</pre>\n"
      ],
      "text/plain": [
       " ─ \u001b[1mExecuting parsed code:\u001b[0m ──────────────────────────────────────────────────────────────────────────────────────── \n",
       "  \u001b[38;2;248;248;242;48;2;39;40;34mpont_des_arts_length\u001b[0m\u001b[38;2;248;248;242;48;2;39;40;34m \u001b[0m\u001b[38;2;255;70;137;48;2;39;40;34m=\u001b[0m\u001b[38;2;248;248;242;48;2;39;40;34m \u001b[0m\u001b[38;2;248;248;242;48;2;39;40;34mweb_search\u001b[0m\u001b[38;2;248;248;242;48;2;39;40;34m(\u001b[0m\u001b[38;2;248;248;242;48;2;39;40;34mquery\u001b[0m\u001b[38;2;255;70;137;48;2;39;40;34m=\u001b[0m\u001b[38;2;230;219;116;48;2;39;40;34m\"\u001b[0m\u001b[38;2;230;219;116;48;2;39;40;34mlength of Pont des Arts\u001b[0m\u001b[38;2;230;219;116;48;2;39;40;34m\"\u001b[0m\u001b[38;2;248;248;242;48;2;39;40;34m)\u001b[0m\u001b[48;2;39;40;34m                                             \u001b[0m  \n",
       "  \u001b[38;2;248;248;242;48;2;39;40;34mleopard_speed\u001b[0m\u001b[38;2;248;248;242;48;2;39;40;34m \u001b[0m\u001b[38;2;255;70;137;48;2;39;40;34m=\u001b[0m\u001b[38;2;248;248;242;48;2;39;40;34m \u001b[0m\u001b[38;2;248;248;242;48;2;39;40;34mweb_search\u001b[0m\u001b[38;2;248;248;242;48;2;39;40;34m(\u001b[0m\u001b[38;2;248;248;242;48;2;39;40;34mquery\u001b[0m\u001b[38;2;255;70;137;48;2;39;40;34m=\u001b[0m\u001b[38;2;230;219;116;48;2;39;40;34m\"\u001b[0m\u001b[38;2;230;219;116;48;2;39;40;34mmaximum speed of a leopard\u001b[0m\u001b[38;2;230;219;116;48;2;39;40;34m\"\u001b[0m\u001b[38;2;248;248;242;48;2;39;40;34m)\u001b[0m\u001b[48;2;39;40;34m                                                 \u001b[0m  \n",
       "  \u001b[38;2;248;248;242;48;2;39;40;34mprint\u001b[0m\u001b[38;2;248;248;242;48;2;39;40;34m(\u001b[0m\u001b[38;2;230;219;116;48;2;39;40;34m\"\u001b[0m\u001b[38;2;230;219;116;48;2;39;40;34mPont des Arts length:\u001b[0m\u001b[38;2;230;219;116;48;2;39;40;34m\"\u001b[0m\u001b[38;2;248;248;242;48;2;39;40;34m,\u001b[0m\u001b[38;2;248;248;242;48;2;39;40;34m \u001b[0m\u001b[38;2;248;248;242;48;2;39;40;34mpont_des_arts_length\u001b[0m\u001b[38;2;248;248;242;48;2;39;40;34m)\u001b[0m\u001b[48;2;39;40;34m                                                           \u001b[0m  \n",
       "  \u001b[38;2;248;248;242;48;2;39;40;34mprint\u001b[0m\u001b[38;2;248;248;242;48;2;39;40;34m(\u001b[0m\u001b[38;2;230;219;116;48;2;39;40;34m\"\u001b[0m\u001b[38;2;230;219;116;48;2;39;40;34mLeopard speed:\u001b[0m\u001b[38;2;230;219;116;48;2;39;40;34m\"\u001b[0m\u001b[38;2;248;248;242;48;2;39;40;34m,\u001b[0m\u001b[38;2;248;248;242;48;2;39;40;34m \u001b[0m\u001b[38;2;248;248;242;48;2;39;40;34mleopard_speed\u001b[0m\u001b[38;2;248;248;242;48;2;39;40;34m)\u001b[0m\u001b[48;2;39;40;34m                                                                         \u001b[0m  \n",
       " ───────────────────────────────────────────────────────────────────────────────────────────────────────────────── \n"
      ]
     },
     "metadata": {},
     "output_type": "display_data"
    },
    {
     "data": {
      "text/html": [
       "<pre style=\"white-space:pre;overflow-x:auto;line-height:normal;font-family:Menlo,'DejaVu Sans Mono',consolas,'Courier New',monospace\"><span style=\"font-weight: bold\">Execution logs:</span>\n",
       "Pont des Arts length: ## Search Results\n",
       "\n",
       "[Pont des Arts - Wikipedia](https://en.wikipedia.org/wiki/Pont_des_Arts)\n",
       "The Pont des Arts (French pronunciation: [pɔ̃ dez‿aʁ]) or Passerelle des Arts ([pasʁɛl -]) is a pedestrian bridge in\n",
       "Paris which crosses the River Seine. It links the Institut de France and the central square (cour carrée) of the \n",
       "Palais du Louvre, (which had been termed the \"Palais des Arts\" under the First French Empire).\n",
       "\n",
       "[Pont des Arts, Paris, France - LatLong](https://www.latlong.net/place/pont-des-arts-paris-france-32945.html)\n",
       "Pont des Arts, Paris, France Latitude and longitude coordinates are: 48.858334, 2.337369. Pont des Arts is a scenic\n",
       "pedestrian bridge over the Seine River in Paris, France. The bridge connects the Musée du Louvre and the Institut \n",
       "de France. It has a length of 155 m (509 ft) and a width of 11 m (36 ft). It was constructed between 1981 and 1984.\n",
       "The bridge is part of the UNESCO World Heritage ...\n",
       "\n",
       "[Pont des Arts - The Parisian Guide](https://www.theparisianguide.com/s/pont-des-arts/)\n",
       "The Pont des Arts, connecting the Louvre and the Institut de France, holds a prominent place not only in Parisian \n",
       "architecture but also in the city's heart.\n",
       "\n",
       "[10 Picturesque Facts About The Pont Des Arts](https://art-facts.com/pont-des-arts-facts/)\n",
       "In this article, we'll take a closer look at some of the most interesting facts about the Pont des Arts, a \n",
       "remarkable structure in the City of Light.\n",
       "\n",
       "[10 things to know about the Pont des Arts in Paris. - \n",
       "ParisCadenas.com](https://www.pariscadenas.com/articles/read/art-bridge)\n",
       "The Pont des Arts is a wooden pedestrian bridge that connects the two sides of the Seine in Paris, between the \n",
       "Louvre and the rue de Seine. It was built between 1802 and 1804 by architect Louis-Alexandre de Cessart and \n",
       "engineer Jean-Rodolphe Perronet. The Pont des Arts is the first wooden bridge to be built over the Seine in Paris.\n",
       "\n",
       "[Pont des Arts - All You Need to Know BEFORE You Go \n",
       "(2025)](https://www.tripadvisor.com/Attraction_Review-g187147-d2072995-Reviews-Pont_des_Arts-Paris_Ile_de_France.ht\n",
       "ml)\n",
       "Pont des Arts is a lovely pedestrian bridge over the Seine River. At one entry side of the bridge is the Institut \n",
       "de France, and at the other side is the Palais du Louvre. The bridge is famous for all the love locks placed on it \n",
       "by thousands of visitors over time.\n",
       "\n",
       "[Pont des Arts (Passerelle des Arts), Paris, France - \n",
       "solosophie](https://www.solosophie.com/pont-des-arts-passerelle-des-arts-paris/)\n",
       "Here's a history of Pont des Arts (which is sometimes referred to as Passerelle des Arts), as well as how to visit,\n",
       "and things to know before you go.\n",
       "\n",
       "[A Complete Guide to the Pont des Arts in Paris - \n",
       "TripSavvy](https://www.tripsavvy.com/a-complete-guide-to-the-pont-des-arts-in-paris-4584846)\n",
       "One of the loveliest of Paris' many bridges, the Pont des Arts is a photogenic delight. It's appeared in countless \n",
       "films, including one that shares its name. Connecting the central courtyard of the Louvre Palace on one side of the\n",
       "Seine River to the prestigious Institut de France on the other, the bridge seems to embody the city at its most \n",
       "elegant.\n",
       "\n",
       "[Pont des Arts - Medium](https://medium.com/@SATPALDA/pont-des-arts-308c7214834c)\n",
       "The Pont des Arts is a pedestrian Arch shape bridge made up of steel in Paris, France, over the River Seine. \n",
       "WorldView-3 satellite courtesy…\n",
       "\n",
       "[Love Lock bridge in Paris then &amp; now: The Pont des Arts - \n",
       "CosmopoliClan](https://cosmopoliclan.com/travel-with-kids/inspiration/love-lock-bridge-paris-pont-des-arts/)\n",
       "The Pont des Arts or Passerelle des Arts is the pedestrian bridge over the Seine that connects the Louvre Museum on\n",
       "the Right bank to the Institut de France on the Left Bank. As a result, it connects the 1st and the 6th Paris \n",
       "arrondissements. It is flanked by the Pont du Carrousel downstream and by the Pont-Neuf and the Île de la Cité, \n",
       "home to the Notre Dame cathedral, upstream. The closest ...\n",
       "Leopard speed: ## Search Results\n",
       "\n",
       "[How Fast Can a Leopard Run? It's Slower than Most of Its Prey](https://africafreak.com/how-fast-can-a-leopard-run)\n",
       "African leopards have a top speed of 56-60 km/h (35-37 mph). That's significantly slower than cheetahs and lions, \n",
       "as well as being slower than a lot of its prey. But this top speed isn't the full story. The leopard is one of the \n",
       "greatest predators on the African savannah and speed is just one piece of its hunting prowess.\n",
       "\n",
       "[How Fast Are Leopards? Top Speeds and How It Compares ... - AZ \n",
       "Animals](https://a-z-animals.com/blog/how-fast-leopards-top-speeds-how-compares-other-big-cats/)\n",
       "Cats of all sizes can reach impressive speeds. These are all attributes of their anatomy. Much like how the \n",
       "strength of an animal's bite is due to their jaw and skull anatomy, a cat's speed is determined by their \n",
       "musculature and skeletal composition. However, you can boil down their speed and agility to a very important \n",
       "structure: the spine.\n",
       "\n",
       "[How fast can leopards run and how agile are they? - \n",
       "WildLifeFAQs](https://www.wildlifefaq.com/leopard-speed-and-agility/)\n",
       "The Speed and Agility of Amur Leopards. Amur leopards, a subspecies of leopard, are known for their exceptional \n",
       "speed and agility. These magnificent creatures can reach speeds of almost 37 miles per hour (58 km/h), allowing \n",
       "them to swiftly chase down prey and escape potential threats.\n",
       "\n",
       "[How fast can a leopard run per hour? - \n",
       "Quick-Advice.com](https://yourquickadvice.com/how-fast-can-a-leopard-run-per-hour/)\n",
       "The average top speed of a leopard is 35 miles ( 56 kilometers) per hour. If a leopard is particularly hungry, they\n",
       "can go even faster and even reach up to 40 miles ( 64 kilometers) per hour. ... Snow leopards can run at a maximum \n",
       "speed of 55 miles per hour though they cannot maintain this much speed for longer time. They will only attain the \n",
       "...\n",
       "\n",
       "[Unraveling the Speed of Leopards: How Fast Can They Actually \n",
       "Run?](https://startingrun.com/unraveling-the-speed-of-leopards-how-fast-can-they-actually-run/)\n",
       "Environmental and situational factors, including terrain, prey's size and speed, climatic conditions, fatigue, age,\n",
       "and health, significantly influence the leopard's speed. Compared to other big cats such as lions, cheetahs, \n",
       "jaguars, and tigers, leopards hold a respectable position with a top speed of 58 km/h (36 mph), showcasing a ...\n",
       "\n",
       "[How Fast Can a Leopard Run (Average Speed) - \n",
       "brotherspets.com](https://brotherspets.com/how-fast-can-a-leopard-run/)\n",
       "How Fast Can a Leopard Run? Leopards are known for their speed and agility, and they are capable of reaching \n",
       "impressive top speeds when they need to. According to various sources, leopards can run at speeds ranging from \n",
       "30-56 mph (48-90 km/h) with an average speed of 58 km/h.\n",
       "\n",
       "[Leopard - Facts, Diet, Habitat &amp; Pictures on Animalia.bio](https://animalia.bio/leopard)\n",
       "The leopard is distinguished by its well-camouflaged fur, opportunistic hunting behavior, broad diet, strength, and\n",
       "its ability to adapt to a variety of habitats ranging from rainforest to steppe, including arid and montane areas. \n",
       "It can run at speeds of up to 58 km/h (36 mph).\n",
       "\n",
       "[Leopard's Peak Speed: Unleashing Their Running \n",
       "Power](https://startingrun.com/unleashing-the-speed-how-fast-can-a-leopard-run/)\n",
       "Unique shoulder bone structure contributes to leopard's speed by allowing an extended range of motion for running \n",
       "and climbing, leading to longer strides. ... is often touted for its strength and might. Yet, when it comes to \n",
       "speed lions max out at around 50 mph - a fair bit slower than their leopard counterparts. Tigers, the biggest cats \n",
       "of ...\n",
       "\n",
       "[Leopard Animal Facts - Panthera pardus - A-Z Animals](https://a-z-animals.com/animals/leopard/)\n",
       "Top Speed 36 mph Lifespan 10 - 15 years Weight 30kg - 90kg (66lbs - 198lbs) Length ... The leopard is a \n",
       "medium-sized wildcat that lives in a variety of different habitats across sub-Saharan Africa and southern Asia. ...\n",
       "using the biologyof a jaguar to populate their physical statistics. Panthers can weigh upwards of 300lbs, but \n",
       "leopards max out ...\n",
       "\n",
       "[Leopard's Agile Movement And Impressive Speed - Big Cat \n",
       "Facts](https://bigcatfacts.net/leopards-agile-movement-and-impressive-speed/)\n",
       "Comparing the Leopard's Speed with that of the Cheetah. The leopard and the cheetah, two of the big cats in the \n",
       "world, are acclaimed for their swift and robust nature, each a formidable predator and a master in their hunting \n",
       "strategies. They are known for their speed, agility, strength and stealth which set them apart in the animal \n",
       "kingdom.\n",
       "\n",
       "Out: None\n",
       "</pre>\n"
      ],
      "text/plain": [
       "\u001b[1mExecution logs:\u001b[0m\n",
       "Pont des Arts length: ## Search Results\n",
       "\n",
       "[Pont des Arts - Wikipedia](https://en.wikipedia.org/wiki/Pont_des_Arts)\n",
       "The Pont des Arts (French pronunciation: [pɔ̃ dez‿aʁ]) or Passerelle des Arts ([pasʁɛl -]) is a pedestrian bridge in\n",
       "Paris which crosses the River Seine. It links the Institut de France and the central square (cour carrée) of the \n",
       "Palais du Louvre, (which had been termed the \"Palais des Arts\" under the First French Empire).\n",
       "\n",
       "[Pont des Arts, Paris, France - LatLong](https://www.latlong.net/place/pont-des-arts-paris-france-32945.html)\n",
       "Pont des Arts, Paris, France Latitude and longitude coordinates are: 48.858334, 2.337369. Pont des Arts is a scenic\n",
       "pedestrian bridge over the Seine River in Paris, France. The bridge connects the Musée du Louvre and the Institut \n",
       "de France. It has a length of 155 m (509 ft) and a width of 11 m (36 ft). It was constructed between 1981 and 1984.\n",
       "The bridge is part of the UNESCO World Heritage ...\n",
       "\n",
       "[Pont des Arts - The Parisian Guide](https://www.theparisianguide.com/s/pont-des-arts/)\n",
       "The Pont des Arts, connecting the Louvre and the Institut de France, holds a prominent place not only in Parisian \n",
       "architecture but also in the city's heart.\n",
       "\n",
       "[10 Picturesque Facts About The Pont Des Arts](https://art-facts.com/pont-des-arts-facts/)\n",
       "In this article, we'll take a closer look at some of the most interesting facts about the Pont des Arts, a \n",
       "remarkable structure in the City of Light.\n",
       "\n",
       "[10 things to know about the Pont des Arts in Paris. - \n",
       "ParisCadenas.com](https://www.pariscadenas.com/articles/read/art-bridge)\n",
       "The Pont des Arts is a wooden pedestrian bridge that connects the two sides of the Seine in Paris, between the \n",
       "Louvre and the rue de Seine. It was built between 1802 and 1804 by architect Louis-Alexandre de Cessart and \n",
       "engineer Jean-Rodolphe Perronet. The Pont des Arts is the first wooden bridge to be built over the Seine in Paris.\n",
       "\n",
       "[Pont des Arts - All You Need to Know BEFORE You Go \n",
       "(2025)](https://www.tripadvisor.com/Attraction_Review-g187147-d2072995-Reviews-Pont_des_Arts-Paris_Ile_de_France.ht\n",
       "ml)\n",
       "Pont des Arts is a lovely pedestrian bridge over the Seine River. At one entry side of the bridge is the Institut \n",
       "de France, and at the other side is the Palais du Louvre. The bridge is famous for all the love locks placed on it \n",
       "by thousands of visitors over time.\n",
       "\n",
       "[Pont des Arts (Passerelle des Arts), Paris, France - \n",
       "solosophie](https://www.solosophie.com/pont-des-arts-passerelle-des-arts-paris/)\n",
       "Here's a history of Pont des Arts (which is sometimes referred to as Passerelle des Arts), as well as how to visit,\n",
       "and things to know before you go.\n",
       "\n",
       "[A Complete Guide to the Pont des Arts in Paris - \n",
       "TripSavvy](https://www.tripsavvy.com/a-complete-guide-to-the-pont-des-arts-in-paris-4584846)\n",
       "One of the loveliest of Paris' many bridges, the Pont des Arts is a photogenic delight. It's appeared in countless \n",
       "films, including one that shares its name. Connecting the central courtyard of the Louvre Palace on one side of the\n",
       "Seine River to the prestigious Institut de France on the other, the bridge seems to embody the city at its most \n",
       "elegant.\n",
       "\n",
       "[Pont des Arts - Medium](https://medium.com/@SATPALDA/pont-des-arts-308c7214834c)\n",
       "The Pont des Arts is a pedestrian Arch shape bridge made up of steel in Paris, France, over the River Seine. \n",
       "WorldView-3 satellite courtesy…\n",
       "\n",
       "[Love Lock bridge in Paris then & now: The Pont des Arts - \n",
       "CosmopoliClan](https://cosmopoliclan.com/travel-with-kids/inspiration/love-lock-bridge-paris-pont-des-arts/)\n",
       "The Pont des Arts or Passerelle des Arts is the pedestrian bridge over the Seine that connects the Louvre Museum on\n",
       "the Right bank to the Institut de France on the Left Bank. As a result, it connects the 1st and the 6th Paris \n",
       "arrondissements. It is flanked by the Pont du Carrousel downstream and by the Pont-Neuf and the Île de la Cité, \n",
       "home to the Notre Dame cathedral, upstream. The closest ...\n",
       "Leopard speed: ## Search Results\n",
       "\n",
       "[How Fast Can a Leopard Run? It's Slower than Most of Its Prey](https://africafreak.com/how-fast-can-a-leopard-run)\n",
       "African leopards have a top speed of 56-60 km/h (35-37 mph). That's significantly slower than cheetahs and lions, \n",
       "as well as being slower than a lot of its prey. But this top speed isn't the full story. The leopard is one of the \n",
       "greatest predators on the African savannah and speed is just one piece of its hunting prowess.\n",
       "\n",
       "[How Fast Are Leopards? Top Speeds and How It Compares ... - AZ \n",
       "Animals](https://a-z-animals.com/blog/how-fast-leopards-top-speeds-how-compares-other-big-cats/)\n",
       "Cats of all sizes can reach impressive speeds. These are all attributes of their anatomy. Much like how the \n",
       "strength of an animal's bite is due to their jaw and skull anatomy, a cat's speed is determined by their \n",
       "musculature and skeletal composition. However, you can boil down their speed and agility to a very important \n",
       "structure: the spine.\n",
       "\n",
       "[How fast can leopards run and how agile are they? - \n",
       "WildLifeFAQs](https://www.wildlifefaq.com/leopard-speed-and-agility/)\n",
       "The Speed and Agility of Amur Leopards. Amur leopards, a subspecies of leopard, are known for their exceptional \n",
       "speed and agility. These magnificent creatures can reach speeds of almost 37 miles per hour (58 km/h), allowing \n",
       "them to swiftly chase down prey and escape potential threats.\n",
       "\n",
       "[How fast can a leopard run per hour? - \n",
       "Quick-Advice.com](https://yourquickadvice.com/how-fast-can-a-leopard-run-per-hour/)\n",
       "The average top speed of a leopard is 35 miles ( 56 kilometers) per hour. If a leopard is particularly hungry, they\n",
       "can go even faster and even reach up to 40 miles ( 64 kilometers) per hour. ... Snow leopards can run at a maximum \n",
       "speed of 55 miles per hour though they cannot maintain this much speed for longer time. They will only attain the \n",
       "...\n",
       "\n",
       "[Unraveling the Speed of Leopards: How Fast Can They Actually \n",
       "Run?](https://startingrun.com/unraveling-the-speed-of-leopards-how-fast-can-they-actually-run/)\n",
       "Environmental and situational factors, including terrain, prey's size and speed, climatic conditions, fatigue, age,\n",
       "and health, significantly influence the leopard's speed. Compared to other big cats such as lions, cheetahs, \n",
       "jaguars, and tigers, leopards hold a respectable position with a top speed of 58 km/h (36 mph), showcasing a ...\n",
       "\n",
       "[How Fast Can a Leopard Run (Average Speed) - \n",
       "brotherspets.com](https://brotherspets.com/how-fast-can-a-leopard-run/)\n",
       "How Fast Can a Leopard Run? Leopards are known for their speed and agility, and they are capable of reaching \n",
       "impressive top speeds when they need to. According to various sources, leopards can run at speeds ranging from \n",
       "30-56 mph (48-90 km/h) with an average speed of 58 km/h.\n",
       "\n",
       "[Leopard - Facts, Diet, Habitat & Pictures on Animalia.bio](https://animalia.bio/leopard)\n",
       "The leopard is distinguished by its well-camouflaged fur, opportunistic hunting behavior, broad diet, strength, and\n",
       "its ability to adapt to a variety of habitats ranging from rainforest to steppe, including arid and montane areas. \n",
       "It can run at speeds of up to 58 km/h (36 mph).\n",
       "\n",
       "[Leopard's Peak Speed: Unleashing Their Running \n",
       "Power](https://startingrun.com/unleashing-the-speed-how-fast-can-a-leopard-run/)\n",
       "Unique shoulder bone structure contributes to leopard's speed by allowing an extended range of motion for running \n",
       "and climbing, leading to longer strides. ... is often touted for its strength and might. Yet, when it comes to \n",
       "speed lions max out at around 50 mph - a fair bit slower than their leopard counterparts. Tigers, the biggest cats \n",
       "of ...\n",
       "\n",
       "[Leopard Animal Facts - Panthera pardus - A-Z Animals](https://a-z-animals.com/animals/leopard/)\n",
       "Top Speed 36 mph Lifespan 10 - 15 years Weight 30kg - 90kg (66lbs - 198lbs) Length ... The leopard is a \n",
       "medium-sized wildcat that lives in a variety of different habitats across sub-Saharan Africa and southern Asia. ...\n",
       "using the biologyof a jaguar to populate their physical statistics. Panthers can weigh upwards of 300lbs, but \n",
       "leopards max out ...\n",
       "\n",
       "[Leopard's Agile Movement And Impressive Speed - Big Cat \n",
       "Facts](https://bigcatfacts.net/leopards-agile-movement-and-impressive-speed/)\n",
       "Comparing the Leopard's Speed with that of the Cheetah. The leopard and the cheetah, two of the big cats in the \n",
       "world, are acclaimed for their swift and robust nature, each a formidable predator and a master in their hunting \n",
       "strategies. They are known for their speed, agility, strength and stealth which set them apart in the animal \n",
       "kingdom.\n",
       "\n",
       "Out: None\n"
      ]
     },
     "metadata": {},
     "output_type": "display_data"
    },
    {
     "data": {
      "text/html": [
       "<pre style=\"white-space:pre;overflow-x:auto;line-height:normal;font-family:Menlo,'DejaVu Sans Mono',consolas,'Courier New',monospace\"><span style=\"color: #7f7f7f; text-decoration-color: #7f7f7f\">[Step 0: Duration 7.52 seconds| Input tokens: 2,086 | Output tokens: 114]</span>\n",
       "</pre>\n"
      ],
      "text/plain": [
       "\u001b[2m[Step 0: Duration 7.52 seconds| Input tokens: 2,086 | Output tokens: 114]\u001b[0m\n"
      ]
     },
     "metadata": {},
     "output_type": "display_data"
    },
    {
     "data": {
      "text/html": [
       "<pre style=\"white-space:pre;overflow-x:auto;line-height:normal;font-family:Menlo,'DejaVu Sans Mono',consolas,'Courier New',monospace\"><span style=\"color: #d4b702; text-decoration-color: #d4b702\">━━━━━━━━━━━━━━━━━━━━━━━━━━━━━━━━━━━━━━━━━━━━━━━━━━━━━ </span><span style=\"font-weight: bold\">Step </span><span style=\"color: #008080; text-decoration-color: #008080; font-weight: bold\">2</span><span style=\"color: #d4b702; text-decoration-color: #d4b702\"> ━━━━━━━━━━━━━━━━━━━━━━━━━━━━━━━━━━━━━━━━━━━━━━━━━━━━━━</span>\n",
       "</pre>\n"
      ],
      "text/plain": [
       "\u001b[38;2;212;183;2m━━━━━━━━━━━━━━━━━━━━━━━━━━━━━━━━━━━━━━━━━━━━━━━━━━━━━ \u001b[0m\u001b[1mStep \u001b[0m\u001b[1;36m2\u001b[0m\u001b[38;2;212;183;2m ━━━━━━━━━━━━━━━━━━━━━━━━━━━━━━━━━━━━━━━━━━━━━━━━━━━━━━\u001b[0m\n"
      ]
     },
     "metadata": {},
     "output_type": "display_data"
    },
    {
     "data": {
      "text/html": [
       "<pre style=\"white-space:pre;overflow-x:auto;line-height:normal;font-family:Menlo,'DejaVu Sans Mono',consolas,'Courier New',monospace\"> ─ <span style=\"font-weight: bold\">Executing parsed code:</span> ──────────────────────────────────────────────────────────────────────────────────────── \n",
       "  <span style=\"color: #959077; text-decoration-color: #959077; background-color: #272822\"># Convert leopard speed from km/h to m/s</span><span style=\"background-color: #272822\">                                                                       </span>  \n",
       "  <span style=\"color: #f8f8f2; text-decoration-color: #f8f8f2; background-color: #272822\">leopard_speed_kmh </span><span style=\"color: #ff4689; text-decoration-color: #ff4689; background-color: #272822\">=</span><span style=\"color: #f8f8f2; text-decoration-color: #f8f8f2; background-color: #272822\"> </span><span style=\"color: #ae81ff; text-decoration-color: #ae81ff; background-color: #272822\">58</span><span style=\"color: #f8f8f2; text-decoration-color: #f8f8f2; background-color: #272822\">  </span><span style=\"color: #959077; text-decoration-color: #959077; background-color: #272822\"># Using the average speed of 58 km/h</span><span style=\"background-color: #272822\">                                                   </span>  \n",
       "  <span style=\"color: #f8f8f2; text-decoration-color: #f8f8f2; background-color: #272822\">leopard_speed_ms </span><span style=\"color: #ff4689; text-decoration-color: #ff4689; background-color: #272822\">=</span><span style=\"color: #f8f8f2; text-decoration-color: #f8f8f2; background-color: #272822\"> leopard_speed_kmh </span><span style=\"color: #ff4689; text-decoration-color: #ff4689; background-color: #272822\">*</span><span style=\"color: #f8f8f2; text-decoration-color: #f8f8f2; background-color: #272822\"> (</span><span style=\"color: #ae81ff; text-decoration-color: #ae81ff; background-color: #272822\">1000</span><span style=\"color: #f8f8f2; text-decoration-color: #f8f8f2; background-color: #272822\"> </span><span style=\"color: #ff4689; text-decoration-color: #ff4689; background-color: #272822\">/</span><span style=\"color: #f8f8f2; text-decoration-color: #f8f8f2; background-color: #272822\"> </span><span style=\"color: #ae81ff; text-decoration-color: #ae81ff; background-color: #272822\">3600</span><span style=\"color: #f8f8f2; text-decoration-color: #f8f8f2; background-color: #272822\">)</span><span style=\"background-color: #272822\">                                                           </span>  \n",
       "  <span style=\"background-color: #272822\">                                                                                                               </span>  \n",
       "  <span style=\"color: #959077; text-decoration-color: #959077; background-color: #272822\"># Length of Pont des Arts in meters</span><span style=\"background-color: #272822\">                                                                            </span>  \n",
       "  <span style=\"color: #f8f8f2; text-decoration-color: #f8f8f2; background-color: #272822\">pont_des_arts_length </span><span style=\"color: #ff4689; text-decoration-color: #ff4689; background-color: #272822\">=</span><span style=\"color: #f8f8f2; text-decoration-color: #f8f8f2; background-color: #272822\"> </span><span style=\"color: #ae81ff; text-decoration-color: #ae81ff; background-color: #272822\">155</span><span style=\"background-color: #272822\">                                                                                     </span>  \n",
       "  <span style=\"background-color: #272822\">                                                                                                               </span>  \n",
       "  <span style=\"color: #959077; text-decoration-color: #959077; background-color: #272822\"># Calculate the time in seconds</span><span style=\"background-color: #272822\">                                                                                </span>  \n",
       "  <span style=\"color: #f8f8f2; text-decoration-color: #f8f8f2; background-color: #272822\">time_seconds </span><span style=\"color: #ff4689; text-decoration-color: #ff4689; background-color: #272822\">=</span><span style=\"color: #f8f8f2; text-decoration-color: #f8f8f2; background-color: #272822\"> pont_des_arts_length </span><span style=\"color: #ff4689; text-decoration-color: #ff4689; background-color: #272822\">/</span><span style=\"color: #f8f8f2; text-decoration-color: #f8f8f2; background-color: #272822\"> leopard_speed_ms</span><span style=\"background-color: #272822\">                                                         </span>  \n",
       "  <span style=\"color: #f8f8f2; text-decoration-color: #f8f8f2; background-color: #272822\">final_answer(time_seconds)</span><span style=\"background-color: #272822\">                                                                                     </span>  \n",
       " ───────────────────────────────────────────────────────────────────────────────────────────────────────────────── \n",
       "</pre>\n"
      ],
      "text/plain": [
       " ─ \u001b[1mExecuting parsed code:\u001b[0m ──────────────────────────────────────────────────────────────────────────────────────── \n",
       "  \u001b[38;2;149;144;119;48;2;39;40;34m# Convert leopard speed from km/h to m/s\u001b[0m\u001b[48;2;39;40;34m                                                                       \u001b[0m  \n",
       "  \u001b[38;2;248;248;242;48;2;39;40;34mleopard_speed_kmh\u001b[0m\u001b[38;2;248;248;242;48;2;39;40;34m \u001b[0m\u001b[38;2;255;70;137;48;2;39;40;34m=\u001b[0m\u001b[38;2;248;248;242;48;2;39;40;34m \u001b[0m\u001b[38;2;174;129;255;48;2;39;40;34m58\u001b[0m\u001b[38;2;248;248;242;48;2;39;40;34m  \u001b[0m\u001b[38;2;149;144;119;48;2;39;40;34m# Using the average speed of 58 km/h\u001b[0m\u001b[48;2;39;40;34m                                                   \u001b[0m  \n",
       "  \u001b[38;2;248;248;242;48;2;39;40;34mleopard_speed_ms\u001b[0m\u001b[38;2;248;248;242;48;2;39;40;34m \u001b[0m\u001b[38;2;255;70;137;48;2;39;40;34m=\u001b[0m\u001b[38;2;248;248;242;48;2;39;40;34m \u001b[0m\u001b[38;2;248;248;242;48;2;39;40;34mleopard_speed_kmh\u001b[0m\u001b[38;2;248;248;242;48;2;39;40;34m \u001b[0m\u001b[38;2;255;70;137;48;2;39;40;34m*\u001b[0m\u001b[38;2;248;248;242;48;2;39;40;34m \u001b[0m\u001b[38;2;248;248;242;48;2;39;40;34m(\u001b[0m\u001b[38;2;174;129;255;48;2;39;40;34m1000\u001b[0m\u001b[38;2;248;248;242;48;2;39;40;34m \u001b[0m\u001b[38;2;255;70;137;48;2;39;40;34m/\u001b[0m\u001b[38;2;248;248;242;48;2;39;40;34m \u001b[0m\u001b[38;2;174;129;255;48;2;39;40;34m3600\u001b[0m\u001b[38;2;248;248;242;48;2;39;40;34m)\u001b[0m\u001b[48;2;39;40;34m                                                           \u001b[0m  \n",
       "  \u001b[48;2;39;40;34m                                                                                                               \u001b[0m  \n",
       "  \u001b[38;2;149;144;119;48;2;39;40;34m# Length of Pont des Arts in meters\u001b[0m\u001b[48;2;39;40;34m                                                                            \u001b[0m  \n",
       "  \u001b[38;2;248;248;242;48;2;39;40;34mpont_des_arts_length\u001b[0m\u001b[38;2;248;248;242;48;2;39;40;34m \u001b[0m\u001b[38;2;255;70;137;48;2;39;40;34m=\u001b[0m\u001b[38;2;248;248;242;48;2;39;40;34m \u001b[0m\u001b[38;2;174;129;255;48;2;39;40;34m155\u001b[0m\u001b[48;2;39;40;34m                                                                                     \u001b[0m  \n",
       "  \u001b[48;2;39;40;34m                                                                                                               \u001b[0m  \n",
       "  \u001b[38;2;149;144;119;48;2;39;40;34m# Calculate the time in seconds\u001b[0m\u001b[48;2;39;40;34m                                                                                \u001b[0m  \n",
       "  \u001b[38;2;248;248;242;48;2;39;40;34mtime_seconds\u001b[0m\u001b[38;2;248;248;242;48;2;39;40;34m \u001b[0m\u001b[38;2;255;70;137;48;2;39;40;34m=\u001b[0m\u001b[38;2;248;248;242;48;2;39;40;34m \u001b[0m\u001b[38;2;248;248;242;48;2;39;40;34mpont_des_arts_length\u001b[0m\u001b[38;2;248;248;242;48;2;39;40;34m \u001b[0m\u001b[38;2;255;70;137;48;2;39;40;34m/\u001b[0m\u001b[38;2;248;248;242;48;2;39;40;34m \u001b[0m\u001b[38;2;248;248;242;48;2;39;40;34mleopard_speed_ms\u001b[0m\u001b[48;2;39;40;34m                                                         \u001b[0m  \n",
       "  \u001b[38;2;248;248;242;48;2;39;40;34mfinal_answer\u001b[0m\u001b[38;2;248;248;242;48;2;39;40;34m(\u001b[0m\u001b[38;2;248;248;242;48;2;39;40;34mtime_seconds\u001b[0m\u001b[38;2;248;248;242;48;2;39;40;34m)\u001b[0m\u001b[48;2;39;40;34m                                                                                     \u001b[0m  \n",
       " ───────────────────────────────────────────────────────────────────────────────────────────────────────────────── \n"
      ]
     },
     "metadata": {},
     "output_type": "display_data"
    },
    {
     "data": {
      "text/html": [
       "<pre style=\"white-space:pre;overflow-x:auto;line-height:normal;font-family:Menlo,'DejaVu Sans Mono',consolas,'Courier New',monospace\"><span style=\"color: #d4b702; text-decoration-color: #d4b702; font-weight: bold\">Out - Final answer: 9.620689655172415</span>\n",
       "</pre>\n"
      ],
      "text/plain": [
       "\u001b[1;38;2;212;183;2mOut - Final answer: 9.620689655172415\u001b[0m\n"
      ]
     },
     "metadata": {},
     "output_type": "display_data"
    },
    {
     "data": {
      "text/html": [
       "<pre style=\"white-space:pre;overflow-x:auto;line-height:normal;font-family:Menlo,'DejaVu Sans Mono',consolas,'Courier New',monospace\"><span style=\"color: #7f7f7f; text-decoration-color: #7f7f7f\">[Step 1: Duration 5.42 seconds| Input tokens: 6,566 | Output tokens: 315]</span>\n",
       "</pre>\n"
      ],
      "text/plain": [
       "\u001b[2m[Step 1: Duration 5.42 seconds| Input tokens: 6,566 | Output tokens: 315]\u001b[0m\n"
      ]
     },
     "metadata": {},
     "output_type": "display_data"
    },
    {
     "data": {
      "text/plain": [
       "9.620689655172415"
      ]
     },
     "execution_count": 1,
     "metadata": {},
     "output_type": "execute_result"
    }
   ],
   "source": [
    "from smolagents import CodeAgent, DuckDuckGoSearchTool, HfApiModel\n",
    "\n",
    "model = HfApiModel()\n",
    "agent = CodeAgent(tools=[DuckDuckGoSearchTool()], model=model)\n",
    "\n",
    "agent.run(\"How many seconds would it take for a leopard at full speed to run through Pont des Arts?\")\n",
    "\n",
    "# 13.4s"
   ]
  },
  {
   "cell_type": "code",
   "execution_count": 2,
   "metadata": {},
   "outputs": [
    {
     "data": {
      "text/html": [
       "<pre style=\"white-space:pre;overflow-x:auto;line-height:normal;font-family:Menlo,'DejaVu Sans Mono',consolas,'Courier New',monospace\"><span style=\"color: #d4b702; text-decoration-color: #d4b702\">╭──────────────────────────────────────────────────── </span><span style=\"color: #d4b702; text-decoration-color: #d4b702; font-weight: bold\">New run</span><span style=\"color: #d4b702; text-decoration-color: #d4b702\"> ────────────────────────────────────────────────────╮</span>\n",
       "<span style=\"color: #d4b702; text-decoration-color: #d4b702\">│</span>                                                                                                                 <span style=\"color: #d4b702; text-decoration-color: #d4b702\">│</span>\n",
       "<span style=\"color: #d4b702; text-decoration-color: #d4b702\">│</span> <span style=\"font-weight: bold\">How many seconds would it take for a leopard at full speed to run through Pont des Arts?</span>                        <span style=\"color: #d4b702; text-decoration-color: #d4b702\">│</span>\n",
       "<span style=\"color: #d4b702; text-decoration-color: #d4b702\">│</span>                                                                                                                 <span style=\"color: #d4b702; text-decoration-color: #d4b702\">│</span>\n",
       "<span style=\"color: #d4b702; text-decoration-color: #d4b702\">╰─ HfApiModel - deepseek-ai/DeepSeek-R1 ──────────────────────────────────────────────────────────────────────────╯</span>\n",
       "</pre>\n"
      ],
      "text/plain": [
       "\u001b[38;2;212;183;2m╭─\u001b[0m\u001b[38;2;212;183;2m───────────────────────────────────────────────────\u001b[0m\u001b[38;2;212;183;2m \u001b[0m\u001b[1;38;2;212;183;2mNew run\u001b[0m\u001b[38;2;212;183;2m \u001b[0m\u001b[38;2;212;183;2m───────────────────────────────────────────────────\u001b[0m\u001b[38;2;212;183;2m─╮\u001b[0m\n",
       "\u001b[38;2;212;183;2m│\u001b[0m                                                                                                                 \u001b[38;2;212;183;2m│\u001b[0m\n",
       "\u001b[38;2;212;183;2m│\u001b[0m \u001b[1mHow many seconds would it take for a leopard at full speed to run through Pont des Arts?\u001b[0m                        \u001b[38;2;212;183;2m│\u001b[0m\n",
       "\u001b[38;2;212;183;2m│\u001b[0m                                                                                                                 \u001b[38;2;212;183;2m│\u001b[0m\n",
       "\u001b[38;2;212;183;2m╰─\u001b[0m\u001b[38;2;212;183;2m HfApiModel - deepseek-ai/DeepSeek-R1 \u001b[0m\u001b[38;2;212;183;2m─────────────────────────────────────────────────────────────────────────\u001b[0m\u001b[38;2;212;183;2m─╯\u001b[0m\n"
      ]
     },
     "metadata": {},
     "output_type": "display_data"
    },
    {
     "data": {
      "text/html": [
       "<pre style=\"white-space:pre;overflow-x:auto;line-height:normal;font-family:Menlo,'DejaVu Sans Mono',consolas,'Courier New',monospace\"><span style=\"color: #d4b702; text-decoration-color: #d4b702\">━━━━━━━━━━━━━━━━━━━━━━━━━━━━━━━━━━━━━━━━━━━━━━━━━━━━━ </span><span style=\"font-weight: bold\">Step </span><span style=\"color: #008080; text-decoration-color: #008080; font-weight: bold\">1</span><span style=\"color: #d4b702; text-decoration-color: #d4b702\"> ━━━━━━━━━━━━━━━━━━━━━━━━━━━━━━━━━━━━━━━━━━━━━━━━━━━━━━</span>\n",
       "</pre>\n"
      ],
      "text/plain": [
       "\u001b[38;2;212;183;2m━━━━━━━━━━━━━━━━━━━━━━━━━━━━━━━━━━━━━━━━━━━━━━━━━━━━━ \u001b[0m\u001b[1mStep \u001b[0m\u001b[1;36m1\u001b[0m\u001b[38;2;212;183;2m ━━━━━━━━━━━━━━━━━━━━━━━━━━━━━━━━━━━━━━━━━━━━━━━━━━━━━━\u001b[0m\n"
      ]
     },
     "metadata": {},
     "output_type": "display_data"
    },
    {
     "data": {
      "text/html": [
       "<pre style=\"white-space:pre;overflow-x:auto;line-height:normal;font-family:Menlo,'DejaVu Sans Mono',consolas,'Courier New',monospace\"><span style=\"color: #800000; text-decoration-color: #800000; font-weight: bold\">Error in code parsing:</span>\n",
       "<span style=\"color: #800000; text-decoration-color: #800000; font-weight: bold\">The code blob is invalid, because the regex pattern ```(?:py|python)?\\n(.*?)\\n``` was not found in </span>\n",
       "<span style=\"color: #800000; text-decoration-color: #800000; font-weight: bold\">code_blob</span><span style=\"color: #800000; text-decoration-color: #800000; font-weight: bold\">=</span><span style=\"color: #800000; text-decoration-color: #800000; font-weight: bold\">'&lt;think&gt;\\nOkay, let me try to figure out how to solve this question. So the task is to find out how many </span>\n",
       "<span style=\"color: #800000; text-decoration-color: #800000; font-weight: bold\">seconds a leopard at full speed would take to run through Pont des Arts. \\n\\nFirst, I need to break down the </span>\n",
       "<span style=\"color: #800000; text-decoration-color: #800000; font-weight: bold\">problem into parts. The main components are the speed of a leopard and the length of Pont des Arts. Then, time is </span>\n",
       "<span style=\"color: #800000; text-decoration-color: #800000; font-weight: bold\">distance divided by speed. So I need to find both the length of the bridge and the leopard\\'s speed.\\n\\nStarting </span>\n",
       "<span style=\"color: #800000; text-decoration-color: #800000; font-weight: bold\">with the leopard\\'s speed. I remember that leopards are big cats and pretty fast. But I\\'m not exactly sure of the </span>\n",
       "<span style=\"color: #800000; text-decoration-color: #800000; font-weight: bold\">exact top speed. Maybe around 58 km/h? Wait, I should verify that. Let me think, cheetahs are the fastest, but </span>\n",
       "<span style=\"color: #800000; text-decoration-color: #800000; font-weight: bold\">leopards are slower. Maybe I should use the web_search tool to find the leopard\\'s maximum speed.\\n\\nSo I\\'ll write</span>\n",
       "<span style=\"color: #800000; text-decoration-color: #800000; font-weight: bold\">some code to search for the leopard\\'s top speed. The code would be something like:\\nresult = </span>\n",
       "<span style=\"color: #800000; text-decoration-color: #800000; font-weight: bold\">web_search(query=\"leopard top speed in km/h\")\\nprint(result)\\n\\nThen, from the search results, I should extract the</span>\n",
       "<span style=\"color: #800000; text-decoration-color: #800000; font-weight: bold\">speed value. Let\\'s say the result says the leopard\\'s top speed is 58 km/h. I need to convert that to meters per </span>\n",
       "<span style=\"color: #800000; text-decoration-color: #800000; font-weight: bold\">second to make the units compatible with the bridge length, which I\\'ll probably get in meters.\\n\\nTo convert km/h </span>\n",
       "<span style=\"color: #800000; text-decoration-color: #800000; font-weight: bold\">to m/s, I divide by 3.6. So 58 km/h is 58 / 3.6 ≈ 16.111 m/s.\\n\\nNext, the length of Pont des Arts. I need to find </span>\n",
       "<span style=\"color: #800000; text-decoration-color: #800000; font-weight: bold\">out how long the bridge is. Pont des Arts is a bridge in Paris, right? Maybe it\\'s a pedestrian bridge. Let me </span>\n",
       "<span style=\"color: #800000; text-decoration-color: #800000; font-weight: bold\">search for its length. Using the web_search tool again.\\n\\nCode for that would be:\\nbridge_info = </span>\n",
       "<span style=\"color: #800000; text-decoration-color: #800000; font-weight: bold\">web_search(query=\"Pont des Arts length in meters\")\\nprint(bridge_info)\\n\\nSuppose the search says the bridge is 155</span>\n",
       "<span style=\"color: #800000; text-decoration-color: #800000; font-weight: bold\">meters long. Then, time is length divided by speed. So 155 meters / 16.111 m/s ≈ 9.62 seconds. Then round to a </span>\n",
       "<span style=\"color: #800000; text-decoration-color: #800000; font-weight: bold\">reasonable number of seconds.\\n\\nBut I need to make sure the units are correct. Let me check again:\\n\\nIf the </span>\n",
       "<span style=\"color: #800000; text-decoration-color: #800000; font-weight: bold\">leopard\\'s speed is in m/s and the bridge length is in meters, then dividing gives seconds. So the calculation is </span>\n",
       "<span style=\"color: #800000; text-decoration-color: #800000; font-weight: bold\">correct.\\n\\nPutting it all together:\\n\\n1. Get leopard\\'s top speed in km/h.\\n2. Convert speed to m/s.\\n3. Get </span>\n",
       "<span style=\"color: #800000; text-decoration-color: #800000; font-weight: bold\">bridge length in meters.\\n4. Divide length by speed to get time in seconds.\\n\\nBut I should also check if maybe the</span>\n",
       "<span style=\"color: #800000; text-decoration-color: #800000; font-weight: bold\">bridge\\'s length is given in different units, or if there\\'s a different name for the bridge. Also, verifying the </span>\n",
       "<span style=\"color: #800000; text-decoration-color: #800000; font-weight: bold\">exact numbers from reliable sources is important.\\n\\nWait, what if the web_search returns multiple results or the </span>\n",
       "<span style=\"color: #800000; text-decoration-color: #800000; font-weight: bold\">information is in a different format? For example, the speed might be listed as miles per hour, or the bridge\\'s </span>\n",
       "<span style=\"color: #800000; text-decoration-color: #800000; font-weight: bold\">length in feet. So I need to ensure that both values are in compatible units. Also, maybe Pont des Arts has varying</span>\n",
       "<span style=\"color: #800000; text-decoration-color: #800000; font-weight: bold\">lengths depending on sources.\\n\\nAlternatively, maybe the search for the bridge\\'s length could include keywords </span>\n",
       "<span style=\"color: #800000; text-decoration-color: #800000; font-weight: bold\">like \"Pont des Arts length meters\" to get the right unit. Let\\'s proceed step by step.\\n\\nAnother possible issue: </span>\n",
       "<span style=\"color: #800000; text-decoration-color: #800000; font-weight: bold\">maybe the leopard can\\'t maintain top speed for the entire bridge length. But the question says \"at full speed,\" so</span>\n",
       "<span style=\"color: #800000; text-decoration-color: #800000; font-weight: bold\">I assume it\\'s running the entire distance at maximum speed. So the time is simply the bridge length divided by top</span>\n",
       "<span style=\"color: #800000; text-decoration-color: #800000; font-weight: bold\">speed.\\n\\nSo now, step by step:\\n\\nFirst, get the leopard\\'s top speed using web_search. Let\\'s code that.\\n\\nThen,</span>\n",
       "<span style=\"color: #800000; text-decoration-color: #800000; font-weight: bold\">get the bridge\\'s length.\\n\\nThen compute the time.\\n\\nI need to handle possible unit conversions. For example, if </span>\n",
       "<span style=\"color: #800000; text-decoration-color: #800000; font-weight: bold\">the leopard\\'s speed is found in mph, convert it to km/h first, then to m/s. But maybe the search already gives it </span>\n",
       "<span style=\"color: #800000; text-decoration-color: #800000; font-weight: bold\">in km/h. Similarly for the bridge length.\\n\\nLet me start with the speed.\\n\\nCode step 1:\\n\\nleopard_speed_result =</span>\n",
       "<span style=\"color: #800000; text-decoration-color: #800000; font-weight: bold\">web_search(query=\"leopard top speed km/h\")\\nprint(leopard_speed_result)\\n\\nSuppose the result comes back saying </span>\n",
       "<span style=\"color: #800000; text-decoration-color: #800000; font-weight: bold\">\"The leopard can reach speeds of up to 58 km/h (36 mph).\" So take 58 km/h. Convert to m/s: 58 / 3.6 ≈ 16.111 </span>\n",
       "<span style=\"color: #800000; text-decoration-color: #800000; font-weight: bold\">m/s.\\n\\nThen, code step 2:\\n\\nbridge_length_result = web_search(query=\"pont des arts length </span>\n",
       "<span style=\"color: #800000; text-decoration-color: #800000; font-weight: bold\">meters\")\\nprint(bridge_length_result)\\n\\nIf the answer is \"Pont des Arts is 155 meters long.\" Then length is 155 </span>\n",
       "<span style=\"color: #800000; text-decoration-color: #800000; font-weight: bold\">m.\\n\\nTime = 155 / 16.111 ≈ 9.62 seconds. So the answer is approximately 10 seconds.\\n\\nBut if the bridge\\'s length</span>\n",
       "<span style=\"color: #800000; text-decoration-color: #800000; font-weight: bold\">is different, say, 200 meters, the time changes. So the key is to get accurate values from the web search.\\n\\nWait,</span>\n",
       "<span style=\"color: #800000; text-decoration-color: #800000; font-weight: bold\">maybe I should check the actual search results. Let\\'s imagine the code runs.\\n\\nFirst, searching for leopard\\'s </span>\n",
       "<span style=\"color: #800000; text-decoration-color: #800000; font-weight: bold\">top speed.\\n\\nObservation from code:\\n\\nLeopard\\'s top speed is about 58 km/h as per search results.\\n\\nThen, </span>\n",
       "<span style=\"color: #800000; text-decoration-color: #800000; font-weight: bold\">bridge length is 155 meters as per search. So time is 155 / (58 / 3.6) = 155 / 16.111 ≈ 9.6 seconds. So final </span>\n",
       "<span style=\"color: #800000; text-decoration-color: #800000; font-weight: bold\">answer would be approximately 10 seconds.\\n\\nBut to be precise, the exact calculation would use 155/(58/3.6) = (155</span>\n",
       "<span style=\"color: #800000; text-decoration-color: #800000; font-weight: bold\">* 3.6)/58 ≈ 558/58 ≈ 9.62.\\n\\nTherefore, the final answer is 9.62 seconds, which rounds to about 10 seconds.\\n\\nBut</span>\n",
       "<span style=\"color: #800000; text-decoration-color: #800000; font-weight: bold\">maybe the bridge\\'s actual length is different. Let\\'s check.\\n\\nAlternatively, if the search returns something </span>\n",
       "<span style=\"color: #800000; text-decoration-color: #800000; font-weight: bold\">like \"Pont des Arts is 232 meters long,\" then time would be 232/(58/3.6) = (232*3.6)/58 = 835.2 /58 ≈14.4 </span>\n",
       "<span style=\"color: #800000; text-decoration-color: #800000; font-weight: bold\">seconds.\\n\\nWait, so the exact answer depends on the correct length of the bridge. Therefore, accurate data is </span>\n",
       "<span style=\"color: #800000; text-decoration-color: #800000; font-weight: bold\">crucial.\\n\\nAlternatively, perhaps I should find the exact length first.\\n\\nAnother way: maybe use both queries and</span>\n",
       "<span style=\"color: #800000; text-decoration-color: #800000; font-weight: bold\">compare the data.\\n\\nBut given the tools available, I have to proceed step by step.\\n\\nSo in code:\\n\\nFirst, get </span>\n",
       "<span style=\"color: #800000; text-decoration-color: #800000; font-weight: bold\">the leopard\\'s speed.\\n\\nThen, get the bridge\\'s length.\\n\\nThen compute.\\n\\nSo, writing code for each </span>\n",
       "<span style=\"color: #800000; text-decoration-color: #800000; font-weight: bold\">step:\\n\\nCode part 1:\\n\\nleopard_speed_info = web_search(query=\"leopard top speed in </span>\n",
       "<span style=\"color: #800000; text-decoration-color: #800000; font-weight: bold\">km/h\")\\nprint(leopard_speed_info)  # Example result: \"Leopards can reach up to 58 km/h.\"\\n\\nAssuming the output is </span>\n",
       "<span style=\"color: #800000; text-decoration-color: #800000; font-weight: bold\">a string like \"The top speed of a leopard is approximately 58 kilometers per hour.\"\\n\\nFrom that, extract 58 </span>\n",
       "<span style=\"color: #800000; text-decoration-color: #800000; font-weight: bold\">km/h.\\n\\nThen code part 2:\\n\\nbridge_length_info = web_search(query=\"Pont des Arts length in </span>\n",
       "<span style=\"color: #800000; text-decoration-color: #800000; font-weight: bold\">meters\")\\nprint(bridge_length_info)  # Example result: \"The length of Pont des Arts is 155 meters.\"\\n\\nExtract 155 </span>\n",
       "<span style=\"color: #800000; text-decoration-color: #800000; font-weight: bold\">meters.\\n\\nThen calculate time.\\n\\nBut the code must process these strings. Wait, but in the code, the user would </span>\n",
       "<span style=\"color: #800000; text-decoration-color: #800000; font-weight: bold\">need to parse the text. However, web_search returns a string (the top search results), which might include various </span>\n",
       "<span style=\"color: #800000; text-decoration-color: #800000; font-weight: bold\">info. So the code would need to parse the results.\\n\\nBut since the system doesn\\'t have a parsing tool, perhaps </span>\n",
       "<span style=\"color: #800000; text-decoration-color: #800000; font-weight: bold\">the assistant can manually extract the numbers. For example, the user (me) would need to read the search results </span>\n",
       "<span style=\"color: #800000; text-decoration-color: #800000; font-weight: bold\">and pick the correct values.\\n\\nBut in this code simulation, the assistant must write code that would perform these</span>\n",
       "<span style=\"color: #800000; text-decoration-color: #800000; font-weight: bold\">steps via the tools. However, given that the assistant can\\'t manually parse, perhaps in the code, the user (me) </span>\n",
       "<span style=\"color: #800000; text-decoration-color: #800000; font-weight: bold\">would have to simulate that.\\n\\nBut in reality, the code would use regex or other methods to extract numbers. </span>\n",
       "<span style=\"color: #800000; text-decoration-color: #800000; font-weight: bold\">However, according to the rules, the code can only use certain imports. Since regex is allowed (re module), maybe </span>\n",
       "<span style=\"color: #800000; text-decoration-color: #800000; font-weight: bold\">write code to extract numbers.\\n\\nBut let\\'s suppose that the assistant can\\'t parse the web search results </span>\n",
       "<span style=\"color: #800000; text-decoration-color: #800000; font-weight: bold\">automatically. Then, the code would have to proceed step by step, using print statements to capture the </span>\n",
       "<span style=\"color: #800000; text-decoration-color: #800000; font-weight: bold\">information, which the next code step can use.\\n\\nBut maybe the code can\\'t parse it. Then, the assistant has to </span>\n",
       "<span style=\"color: #800000; text-decoration-color: #800000; font-weight: bold\">manually process the information and hardcode the numbers. But since the assistant can\\'t hardcode, perhaps the </span>\n",
       "<span style=\"color: #800000; text-decoration-color: #800000; font-weight: bold\">code would need to parse the results.\\n\\nAlternatively, the assistant could use the search results, then print </span>\n",
       "<span style=\"color: #800000; text-decoration-color: #800000; font-weight: bold\">them, and then in the next step, code would process them.\\n\\nBut given the example shown in the prior examples, the</span>\n",
       "<span style=\"color: #800000; text-decoration-color: #800000; font-weight: bold\">code would proceed step by step, with the assistant writing code that does a web search, then print, which is </span>\n",
       "<span style=\"color: #800000; text-decoration-color: #800000; font-weight: bold\">observed, then in the next code block, the answer is composed.\\n\\nSo for example:\\n\\nStep </span>\n",
       "<span style=\"color: #800000; text-decoration-color: #800000; font-weight: bold\">1:\\n\\nleopard_speed_result = web_search(query=\"leopard maximum running speed </span>\n",
       "<span style=\"color: #800000; text-decoration-color: #800000; font-weight: bold\">km/h\")\\nprint(leopard_speed_result)\\n\\n'</span><span style=\"color: #800000; text-decoration-color: #800000; font-weight: bold\">. It seems like you're trying to return the final answer, you can do it as </span>\n",
       "<span style=\"color: #800000; text-decoration-color: #800000; font-weight: bold\">follows:</span>\n",
       "<span style=\"color: #800000; text-decoration-color: #800000; font-weight: bold\">Code:</span>\n",
       "<span style=\"color: #800000; text-decoration-color: #800000; font-weight: bold\">```py</span>\n",
       "<span style=\"color: #800000; text-decoration-color: #800000; font-weight: bold\">final_answer(</span><span style=\"color: #800000; text-decoration-color: #800000; font-weight: bold\">\"YOUR FINAL ANSWER HERE\"</span><span style=\"color: #800000; text-decoration-color: #800000; font-weight: bold\">)</span>\n",
       "<span style=\"color: #800000; text-decoration-color: #800000; font-weight: bold\">```&lt;end_code&gt;</span>\n",
       "<span style=\"color: #800000; text-decoration-color: #800000; font-weight: bold\">Make sure to provide correct code blobs.</span>\n",
       "</pre>\n"
      ],
      "text/plain": [
       "\u001b[1;31mError in code parsing:\u001b[0m\n",
       "\u001b[1;31mThe code blob is invalid, because the regex pattern ```\u001b[0m\u001b[1;31m(\u001b[0m\u001b[1;31m?:py|python\u001b[0m\u001b[1;31m)\u001b[0m\u001b[1;31m?\\\u001b[0m\u001b[1;31mn\u001b[0m\u001b[1;31m(\u001b[0m\u001b[1;31m.*?\u001b[0m\u001b[1;31m)\u001b[0m\u001b[1;31m\\n``` was not found in \u001b[0m\n",
       "\u001b[1;31mcode_blob\u001b[0m\u001b[1;31m=\u001b[0m\u001b[1;31m'\u001b[0m\u001b[1;31m<\u001b[0m\u001b[1;31mthink\u001b[0m\u001b[1;31m>\\nOkay, let me try to figure out how to solve this question. So the task is to find out how many \u001b[0m\n",
       "\u001b[1;31mseconds a leopard at full speed would take to run through Pont des Arts. \\n\\nFirst, I need to break down the \u001b[0m\n",
       "\u001b[1;31mproblem into parts. The main components are the speed of a leopard and the length of Pont des Arts. Then, time is \u001b[0m\n",
       "\u001b[1;31mdistance divided by speed. So I need to find both the length of the bridge and the leopard\\'s speed.\\n\\nStarting \u001b[0m\n",
       "\u001b[1;31mwith the leopard\\'s speed. I remember that leopards are big cats and pretty fast. But I\\'m not exactly sure of the \u001b[0m\n",
       "\u001b[1;31mexact top speed. Maybe around 58 km/h? Wait, I should verify that. Let me think, cheetahs are the fastest, but \u001b[0m\n",
       "\u001b[1;31mleopards are slower. Maybe I should use the web_search tool to find the leopard\\'s maximum speed.\\n\\nSo I\\'ll write\u001b[0m\n",
       "\u001b[1;31msome code to search for the leopard\\'s top speed. The code would be something like:\\nresult = \u001b[0m\n",
       "\u001b[1;31mweb_search\u001b[0m\u001b[1;31m(\u001b[0m\u001b[1;31mquery\u001b[0m\u001b[1;31m=\u001b[0m\u001b[1;31m\"leopard\u001b[0m\u001b[1;31m top speed in km/h\"\u001b[0m\u001b[1;31m)\u001b[0m\u001b[1;31m\\nprint\u001b[0m\u001b[1;31m(\u001b[0m\u001b[1;31mresult\u001b[0m\u001b[1;31m)\u001b[0m\u001b[1;31m\\n\\nThen, from the search results, I should extract the\u001b[0m\n",
       "\u001b[1;31mspeed value. Let\\'s say the result says the leopard\\'s top speed is 58 km/h. I need to convert that to meters per \u001b[0m\n",
       "\u001b[1;31msecond to make the units compatible with the bridge length, which I\\'ll probably get in meters.\\n\\nTo convert km/h \u001b[0m\n",
       "\u001b[1;31mto m/s, I divide by 3.6. So 58 km/h is 58 / 3.6 ≈ 16.111 m/s.\\n\\nNext, the length of Pont des Arts. I need to find \u001b[0m\n",
       "\u001b[1;31mout how long the bridge is. Pont des Arts is a bridge in Paris, right? Maybe it\\'s a pedestrian bridge. Let me \u001b[0m\n",
       "\u001b[1;31msearch for its length. Using the web_search tool again.\\n\\nCode for that would be:\\nbridge_info = \u001b[0m\n",
       "\u001b[1;31mweb_search\u001b[0m\u001b[1;31m(\u001b[0m\u001b[1;31mquery\u001b[0m\u001b[1;31m=\u001b[0m\u001b[1;31m\"Pont\u001b[0m\u001b[1;31m des Arts length in meters\"\u001b[0m\u001b[1;31m)\u001b[0m\u001b[1;31m\\nprint\u001b[0m\u001b[1;31m(\u001b[0m\u001b[1;31mbridge_info\u001b[0m\u001b[1;31m)\u001b[0m\u001b[1;31m\\n\\nSuppose the search says the bridge is 155\u001b[0m\n",
       "\u001b[1;31mmeters long. Then, time is length divided by speed. So 155 meters / 16.111 m/s ≈ 9.62 seconds. Then round to a \u001b[0m\n",
       "\u001b[1;31mreasonable number of seconds.\\n\\nBut I need to make sure the units are correct. Let me check again:\\n\\nIf the \u001b[0m\n",
       "\u001b[1;31mleopard\\'s speed is in m/s and the bridge length is in meters, then dividing gives seconds. So the calculation is \u001b[0m\n",
       "\u001b[1;31mcorrect.\\n\\nPutting it all together:\\n\\n1. Get leopard\\'s top speed in km/h.\\n2. Convert speed to m/s.\\n3. Get \u001b[0m\n",
       "\u001b[1;31mbridge length in meters.\\n4. Divide length by speed to get time in seconds.\\n\\nBut I should also check if maybe the\u001b[0m\n",
       "\u001b[1;31mbridge\\'s length is given in different units, or if there\\'s a different name for the bridge. Also, verifying the \u001b[0m\n",
       "\u001b[1;31mexact numbers from reliable sources is important.\\n\\nWait, what if the web_search returns multiple results or the \u001b[0m\n",
       "\u001b[1;31minformation is in a different format? For example, the speed might be listed as miles per hour, or the bridge\\'s \u001b[0m\n",
       "\u001b[1;31mlength in feet. So I need to ensure that both values are in compatible units. Also, maybe Pont des Arts has varying\u001b[0m\n",
       "\u001b[1;31mlengths depending on sources.\\n\\nAlternatively, maybe the search for the bridge\\'s length could include keywords \u001b[0m\n",
       "\u001b[1;31mlike \"Pont des Arts length meters\" to get the right unit. Let\\'s proceed step by step.\\n\\nAnother possible issue: \u001b[0m\n",
       "\u001b[1;31mmaybe the leopard can\\'t maintain top speed for the entire bridge length. But the question says \"at full speed,\" so\u001b[0m\n",
       "\u001b[1;31mI assume it\\'s running the entire distance at maximum speed. So the time is simply the bridge length divided by top\u001b[0m\n",
       "\u001b[1;31mspeed.\\n\\nSo now, step by step:\\n\\nFirst, get the leopard\\'s top speed using web_search. Let\\'s code that.\\n\\nThen,\u001b[0m\n",
       "\u001b[1;31mget the bridge\\'s length.\\n\\nThen compute the time.\\n\\nI need to handle possible unit conversions. For example, if \u001b[0m\n",
       "\u001b[1;31mthe leopard\\'s speed is found in mph, convert it to km/h first, then to m/s. But maybe the search already gives it \u001b[0m\n",
       "\u001b[1;31min km/h. Similarly for the bridge length.\\n\\nLet me start with the speed.\\n\\nCode step 1:\\n\\nleopard_speed_result =\u001b[0m\n",
       "\u001b[1;31mweb_search\u001b[0m\u001b[1;31m(\u001b[0m\u001b[1;31mquery\u001b[0m\u001b[1;31m=\u001b[0m\u001b[1;31m\"leopard\u001b[0m\u001b[1;31m top speed km/h\"\u001b[0m\u001b[1;31m)\u001b[0m\u001b[1;31m\\nprint\u001b[0m\u001b[1;31m(\u001b[0m\u001b[1;31mleopard_speed_result\u001b[0m\u001b[1;31m)\u001b[0m\u001b[1;31m\\n\\nSuppose the result comes back saying \u001b[0m\n",
       "\u001b[1;31m\"The leopard can reach speeds of up to 58 km/h \u001b[0m\u001b[1;31m(\u001b[0m\u001b[1;31m36 mph\u001b[0m\u001b[1;31m)\u001b[0m\u001b[1;31m.\" So take 58 km/h. Convert to m/s: 58 / 3.6 ≈ 16.111 \u001b[0m\n",
       "\u001b[1;31mm/s.\\n\\nThen, code step 2:\\n\\nbridge_length_result = web_search\u001b[0m\u001b[1;31m(\u001b[0m\u001b[1;31mquery\u001b[0m\u001b[1;31m=\u001b[0m\u001b[1;31m\"pont\u001b[0m\u001b[1;31m des arts length \u001b[0m\n",
       "\u001b[1;31mmeters\"\u001b[0m\u001b[1;31m)\u001b[0m\u001b[1;31m\\nprint\u001b[0m\u001b[1;31m(\u001b[0m\u001b[1;31mbridge_length_result\u001b[0m\u001b[1;31m)\u001b[0m\u001b[1;31m\\n\\nIf the answer is \"Pont des Arts is 155 meters long.\" Then length is 155 \u001b[0m\n",
       "\u001b[1;31mm.\\n\\nTime = 155 / 16.111 ≈ 9.62 seconds. So the answer is approximately 10 seconds.\\n\\nBut if the bridge\\'s length\u001b[0m\n",
       "\u001b[1;31mis different, say, 200 meters, the time changes. So the key is to get accurate values from the web search.\\n\\nWait,\u001b[0m\n",
       "\u001b[1;31mmaybe I should check the actual search results. Let\\'s imagine the code runs.\\n\\nFirst, searching for leopard\\'s \u001b[0m\n",
       "\u001b[1;31mtop speed.\\n\\nObservation from code:\\n\\nLeopard\\'s top speed is about 58 km/h as per search results.\\n\\nThen, \u001b[0m\n",
       "\u001b[1;31mbridge length is 155 meters as per search. So time is 155 / \u001b[0m\u001b[1;31m(\u001b[0m\u001b[1;31m58 / 3.6\u001b[0m\u001b[1;31m)\u001b[0m\u001b[1;31m = 155 / 16.111 ≈ 9.6 seconds. So final \u001b[0m\n",
       "\u001b[1;31manswer would be approximately 10 seconds.\\n\\nBut to be precise, the exact calculation would use 155/\u001b[0m\u001b[1;31m(\u001b[0m\u001b[1;31m58/3.6\u001b[0m\u001b[1;31m)\u001b[0m\u001b[1;31m = \u001b[0m\u001b[1;31m(\u001b[0m\u001b[1;31m155\u001b[0m\n",
       "\u001b[1;31m* 3.6\u001b[0m\u001b[1;31m)\u001b[0m\u001b[1;31m/58 ≈ 558/58 ≈ 9.62.\\n\\nTherefore, the final answer is 9.62 seconds, which rounds to about 10 seconds.\\n\\nBut\u001b[0m\n",
       "\u001b[1;31mmaybe the bridge\\'s actual length is different. Let\\'s check.\\n\\nAlternatively, if the search returns something \u001b[0m\n",
       "\u001b[1;31mlike \"Pont des Arts is 232 meters long,\" then time would be 232/\u001b[0m\u001b[1;31m(\u001b[0m\u001b[1;31m58/3.6\u001b[0m\u001b[1;31m)\u001b[0m\u001b[1;31m = \u001b[0m\u001b[1;31m(\u001b[0m\u001b[1;31m232*3.6\u001b[0m\u001b[1;31m)\u001b[0m\u001b[1;31m/58 = 835.2 /58 ≈14.4 \u001b[0m\n",
       "\u001b[1;31mseconds.\\n\\nWait, so the exact answer depends on the correct length of the bridge. Therefore, accurate data is \u001b[0m\n",
       "\u001b[1;31mcrucial.\\n\\nAlternatively, perhaps I should find the exact length first.\\n\\nAnother way: maybe use both queries and\u001b[0m\n",
       "\u001b[1;31mcompare the data.\\n\\nBut given the tools available, I have to proceed step by step.\\n\\nSo in code:\\n\\nFirst, get \u001b[0m\n",
       "\u001b[1;31mthe leopard\\'s speed.\\n\\nThen, get the bridge\\'s length.\\n\\nThen compute.\\n\\nSo, writing code for each \u001b[0m\n",
       "\u001b[1;31mstep:\\n\\nCode part 1:\\n\\nleopard_speed_info = web_search\u001b[0m\u001b[1;31m(\u001b[0m\u001b[1;31mquery\u001b[0m\u001b[1;31m=\u001b[0m\u001b[1;31m\"leopard\u001b[0m\u001b[1;31m top speed in \u001b[0m\n",
       "\u001b[1;31mkm/h\"\u001b[0m\u001b[1;31m)\u001b[0m\u001b[1;31m\\nprint\u001b[0m\u001b[1;31m(\u001b[0m\u001b[1;31mleopard_speed_info\u001b[0m\u001b[1;31m)\u001b[0m\u001b[1;31m  # Example result: \"Leopards can reach up to 58 km/h.\"\\n\\nAssuming the output is \u001b[0m\n",
       "\u001b[1;31ma string like \"The top speed of a leopard is approximately 58 kilometers per hour.\"\\n\\nFrom that, extract 58 \u001b[0m\n",
       "\u001b[1;31mkm/h.\\n\\nThen code part 2:\\n\\nbridge_length_info = web_search\u001b[0m\u001b[1;31m(\u001b[0m\u001b[1;31mquery\u001b[0m\u001b[1;31m=\u001b[0m\u001b[1;31m\"Pont\u001b[0m\u001b[1;31m des Arts length in \u001b[0m\n",
       "\u001b[1;31mmeters\"\u001b[0m\u001b[1;31m)\u001b[0m\u001b[1;31m\\nprint\u001b[0m\u001b[1;31m(\u001b[0m\u001b[1;31mbridge_length_info\u001b[0m\u001b[1;31m)\u001b[0m\u001b[1;31m  # Example result: \"The length of Pont des Arts is 155 meters.\"\\n\\nExtract 155 \u001b[0m\n",
       "\u001b[1;31mmeters.\\n\\nThen calculate time.\\n\\nBut the code must process these strings. Wait, but in the code, the user would \u001b[0m\n",
       "\u001b[1;31mneed to parse the text. However, web_search returns a string \u001b[0m\u001b[1;31m(\u001b[0m\u001b[1;31mthe top search results\u001b[0m\u001b[1;31m)\u001b[0m\u001b[1;31m, which might include various \u001b[0m\n",
       "\u001b[1;31minfo. So the code would need to parse the results.\\n\\nBut since the system doesn\\'t have a parsing tool, perhaps \u001b[0m\n",
       "\u001b[1;31mthe assistant can manually extract the numbers. For example, the user \u001b[0m\u001b[1;31m(\u001b[0m\u001b[1;31mme\u001b[0m\u001b[1;31m)\u001b[0m\u001b[1;31m would need to read the search results \u001b[0m\n",
       "\u001b[1;31mand pick the correct values.\\n\\nBut in this code simulation, the assistant must write code that would perform these\u001b[0m\n",
       "\u001b[1;31msteps via the tools. However, given that the assistant can\\'t manually parse, perhaps in the code, the user \u001b[0m\u001b[1;31m(\u001b[0m\u001b[1;31mme\u001b[0m\u001b[1;31m)\u001b[0m\u001b[1;31m \u001b[0m\n",
       "\u001b[1;31mwould have to simulate that.\\n\\nBut in reality, the code would use regex or other methods to extract numbers. \u001b[0m\n",
       "\u001b[1;31mHowever, according to the rules, the code can only use certain imports. Since regex is allowed \u001b[0m\u001b[1;31m(\u001b[0m\u001b[1;31mre module\u001b[0m\u001b[1;31m)\u001b[0m\u001b[1;31m, maybe \u001b[0m\n",
       "\u001b[1;31mwrite code to extract numbers.\\n\\nBut let\\'s suppose that the assistant can\\'t parse the web search results \u001b[0m\n",
       "\u001b[1;31mautomatically. Then, the code would have to proceed step by step, using print statements to capture the \u001b[0m\n",
       "\u001b[1;31minformation, which the next code step can use.\\n\\nBut maybe the code can\\'t parse it. Then, the assistant has to \u001b[0m\n",
       "\u001b[1;31mmanually process the information and hardcode the numbers. But since the assistant can\\'t hardcode, perhaps the \u001b[0m\n",
       "\u001b[1;31mcode would need to parse the results.\\n\\nAlternatively, the assistant could use the search results, then print \u001b[0m\n",
       "\u001b[1;31mthem, and then in the next step, code would process them.\\n\\nBut given the example shown in the prior examples, the\u001b[0m\n",
       "\u001b[1;31mcode would proceed step by step, with the assistant writing code that does a web search, then print, which is \u001b[0m\n",
       "\u001b[1;31mobserved, then in the next code block, the answer is composed.\\n\\nSo for example:\\n\\nStep \u001b[0m\n",
       "\u001b[1;31m1:\\n\\nleopard_speed_result = web_search\u001b[0m\u001b[1;31m(\u001b[0m\u001b[1;31mquery\u001b[0m\u001b[1;31m=\u001b[0m\u001b[1;31m\"leopard\u001b[0m\u001b[1;31m maximum running speed \u001b[0m\n",
       "\u001b[1;31mkm/h\"\u001b[0m\u001b[1;31m)\u001b[0m\u001b[1;31m\\nprint\u001b[0m\u001b[1;31m(\u001b[0m\u001b[1;31mleopard_speed_result\u001b[0m\u001b[1;31m)\u001b[0m\u001b[1;31m\\n\\n'\u001b[0m\u001b[1;31m. It seems like you're trying to return the final answer, you can do it as \u001b[0m\n",
       "\u001b[1;31mfollows:\u001b[0m\n",
       "\u001b[1;31mCode:\u001b[0m\n",
       "\u001b[1;31m```py\u001b[0m\n",
       "\u001b[1;31mfinal_answer\u001b[0m\u001b[1;31m(\u001b[0m\u001b[1;31m\"YOUR FINAL ANSWER HERE\"\u001b[0m\u001b[1;31m)\u001b[0m\n",
       "\u001b[1;31m```<end_code\u001b[0m\u001b[1;31m>\u001b[0m\n",
       "\u001b[1;31mMake sure to provide correct code blobs.\u001b[0m\n"
      ]
     },
     "metadata": {},
     "output_type": "display_data"
    },
    {
     "data": {
      "text/html": [
       "<pre style=\"white-space:pre;overflow-x:auto;line-height:normal;font-family:Menlo,'DejaVu Sans Mono',consolas,'Courier New',monospace\"><span style=\"color: #7f7f7f; text-decoration-color: #7f7f7f\">[Step 0: Duration 83.51 seconds| Input tokens: 2,056 | Output tokens: 1,832]</span>\n",
       "</pre>\n"
      ],
      "text/plain": [
       "\u001b[2m[Step 0: Duration 83.51 seconds| Input tokens: 2,056 | Output tokens: 1,832]\u001b[0m\n"
      ]
     },
     "metadata": {},
     "output_type": "display_data"
    },
    {
     "data": {
      "text/html": [
       "<pre style=\"white-space:pre;overflow-x:auto;line-height:normal;font-family:Menlo,'DejaVu Sans Mono',consolas,'Courier New',monospace\"><span style=\"color: #d4b702; text-decoration-color: #d4b702\">━━━━━━━━━━━━━━━━━━━━━━━━━━━━━━━━━━━━━━━━━━━━━━━━━━━━━ </span><span style=\"font-weight: bold\">Step </span><span style=\"color: #008080; text-decoration-color: #008080; font-weight: bold\">2</span><span style=\"color: #d4b702; text-decoration-color: #d4b702\"> ━━━━━━━━━━━━━━━━━━━━━━━━━━━━━━━━━━━━━━━━━━━━━━━━━━━━━━</span>\n",
       "</pre>\n"
      ],
      "text/plain": [
       "\u001b[38;2;212;183;2m━━━━━━━━━━━━━━━━━━━━━━━━━━━━━━━━━━━━━━━━━━━━━━━━━━━━━ \u001b[0m\u001b[1mStep \u001b[0m\u001b[1;36m2\u001b[0m\u001b[38;2;212;183;2m ━━━━━━━━━━━━━━━━━━━━━━━━━━━━━━━━━━━━━━━━━━━━━━━━━━━━━━\u001b[0m\n"
      ]
     },
     "metadata": {},
     "output_type": "display_data"
    },
    {
     "data": {
      "text/html": [
       "<pre style=\"white-space:pre;overflow-x:auto;line-height:normal;font-family:Menlo,'DejaVu Sans Mono',consolas,'Courier New',monospace\"> ─ <span style=\"font-weight: bold\">Executing parsed code:</span> ──────────────────────────────────────────────────────────────────────────────────────── \n",
       "  <span style=\"color: #f8f8f2; text-decoration-color: #f8f8f2; background-color: #272822\">leopard_speed </span><span style=\"color: #ff4689; text-decoration-color: #ff4689; background-color: #272822\">=</span><span style=\"color: #f8f8f2; text-decoration-color: #f8f8f2; background-color: #272822\"> web_search(query</span><span style=\"color: #ff4689; text-decoration-color: #ff4689; background-color: #272822\">=</span><span style=\"color: #e6db74; text-decoration-color: #e6db74; background-color: #272822\">\"leopard top speed in km/h\"</span><span style=\"color: #f8f8f2; text-decoration-color: #f8f8f2; background-color: #272822\">)</span><span style=\"background-color: #272822\">                                                  </span>  \n",
       "  <span style=\"color: #f8f8f2; text-decoration-color: #f8f8f2; background-color: #272822\">print(leopard_speed)</span><span style=\"background-color: #272822\">                                                                                           </span>  \n",
       " ───────────────────────────────────────────────────────────────────────────────────────────────────────────────── \n",
       "</pre>\n"
      ],
      "text/plain": [
       " ─ \u001b[1mExecuting parsed code:\u001b[0m ──────────────────────────────────────────────────────────────────────────────────────── \n",
       "  \u001b[38;2;248;248;242;48;2;39;40;34mleopard_speed\u001b[0m\u001b[38;2;248;248;242;48;2;39;40;34m \u001b[0m\u001b[38;2;255;70;137;48;2;39;40;34m=\u001b[0m\u001b[38;2;248;248;242;48;2;39;40;34m \u001b[0m\u001b[38;2;248;248;242;48;2;39;40;34mweb_search\u001b[0m\u001b[38;2;248;248;242;48;2;39;40;34m(\u001b[0m\u001b[38;2;248;248;242;48;2;39;40;34mquery\u001b[0m\u001b[38;2;255;70;137;48;2;39;40;34m=\u001b[0m\u001b[38;2;230;219;116;48;2;39;40;34m\"\u001b[0m\u001b[38;2;230;219;116;48;2;39;40;34mleopard top speed in km/h\u001b[0m\u001b[38;2;230;219;116;48;2;39;40;34m\"\u001b[0m\u001b[38;2;248;248;242;48;2;39;40;34m)\u001b[0m\u001b[48;2;39;40;34m                                                  \u001b[0m  \n",
       "  \u001b[38;2;248;248;242;48;2;39;40;34mprint\u001b[0m\u001b[38;2;248;248;242;48;2;39;40;34m(\u001b[0m\u001b[38;2;248;248;242;48;2;39;40;34mleopard_speed\u001b[0m\u001b[38;2;248;248;242;48;2;39;40;34m)\u001b[0m\u001b[48;2;39;40;34m                                                                                           \u001b[0m  \n",
       " ───────────────────────────────────────────────────────────────────────────────────────────────────────────────── \n"
      ]
     },
     "metadata": {},
     "output_type": "display_data"
    },
    {
     "data": {
      "text/html": [
       "<pre style=\"white-space:pre;overflow-x:auto;line-height:normal;font-family:Menlo,'DejaVu Sans Mono',consolas,'Courier New',monospace\"><span style=\"font-weight: bold\">Execution logs:</span>\n",
       "## Search Results\n",
       "\n",
       "[How Fast Are Leopards? Top Speeds and How It Compares ... - AZ \n",
       "Animals](https://a-z-animals.com/blog/how-fast-leopards-top-speeds-how-compares-other-big-cats/)\n",
       "Cats of all sizes can reach impressive speeds. These are all attributes of their anatomy. Much like how the \n",
       "strength of an animal's bite is due to their jaw and skull anatomy, a cat's speed is determined by their \n",
       "musculature and skeletal composition. However, you can boil down their speed and agility to a very important \n",
       "structure: the spine.\n",
       "\n",
       "[How Fast Can a Leopard Run? It's Slower than Most of Its Prey](https://africafreak.com/how-fast-can-a-leopard-run)\n",
       "African leopards have a top speed of 56-60 km/h (35-37 mph). That's significantly slower than cheetahs and lions, \n",
       "as well as being slower than a lot of its prey. But this top speed isn't the full story. The leopard is one of the \n",
       "greatest predators on the African savannah and speed is just one piece of its hunting prowess.\n",
       "\n",
       "[16 Leopard Facts You Should Know - Fact Animal](https://factanimal.com/leopard/)\n",
       "The Leopard is the smallest of the big cat family, but are one of the most daring. They are known for their spots \n",
       "on their fur and live in a wide range of countries across Africa, Asia and Southern Russia. ... Top Speed: 58 km/h \n",
       "(36 mph) No. of Species: 1: Conservation Status:\n",
       "\n",
       "[How Fast Can a Leopard Run? A Fascinating Look at Their \n",
       "Speed](https://tiger-universe.com/blogs/tiger-blog/how-fast-can-a-leopard-run)\n",
       "Understanding Leopard's Top Speed. ... Yet, slimmer mountain lions or pumas can hit speeds up to 80 km/h, \n",
       "challenging the leopard's rank in speed among the big cat family. Leopard Running Capabilities and Limitations. \n",
       "Leopards excel in short bursts rather than long runs, ideal for quick attacks not exceeding 200 meters. ...\n",
       "\n",
       "[Unraveling the Speed of Leopards: How Fast Can They Actually \n",
       "Run?](https://startingrun.com/unraveling-the-speed-of-leopards-how-fast-can-they-actually-run/)\n",
       "The lion, larger and heavier, reaches a peak speed of 81 km/h (50 mph). Lions possess less agility, but they \n",
       "marshal their strength, larger muscle mass, and longer strides to outpace a leopard. Cheetahs are, without a doubt,\n",
       "the speed champions. These slender and lightweight cats can achieve blazing top speeds of 112 km/h (70 mph).\n",
       "\n",
       "[African Leopard - Facts, Diet, Habitat &amp; Pictures on Animalia.bio](https://animalia.bio/african-leopard)\n",
       "Top speed. 58. 36. km/h mph. km/h mph . Weight. 35-91. 77-200.2. kg lbs. kg lbs . The African leopard (Panthera \n",
       "pardus pardus) is the nominate subspecies of the leopard, native to many countries in Africa. ... The African \n",
       "leopard exhibits great variation in coat color, depending on location and habitat. Coat color varies from pale \n",
       "yellow to ...\n",
       "\n",
       "[Leopard - Facts, Diet, Habitat &amp; Pictures on Animalia.bio](https://animalia.bio/leopard)\n",
       "Top speed. 58. 36. km/h mph. km/h mph . Weight. 28-90. 61.6-198. kg lbs. kg lbs . Height. 57-70. 22.4-27.6. cm \n",
       "inch. cm inch . Length. ... It can run at speeds of up to 58 km/h (36 mph). The earliest known leopard fossils \n",
       "excavated in Europe are estimated 600,000 years old, dating to the late Early Pleistocene. ... also known as a top \n",
       "predator ...\n",
       "\n",
       "[How fast can leopards run and how agile are they? - \n",
       "WildLifeFAQs](https://www.wildlifefaq.com/leopard-speed-and-agility/)\n",
       "In this section, we will explore the leopard's running speed, top speed, and overall agility. Get ready to be \n",
       "amazed by these agile big cats! Leopards are known for their remarkable speed and agility. They can reach speeds of\n",
       "up to 58 kilometers per hour (36 mph) during short bursts of running. ... (58 km/h), allowing them to swiftly chase\n",
       "...\n",
       "\n",
       "[How Fast Can a Leopard Run (Average Speed) - \n",
       "brotherspets.com](https://brotherspets.com/how-fast-can-a-leopard-run/)\n",
       "Experience the breathtaking speed and agility of the leopard, one of nature's most skilled and formidable \n",
       "predators. ... need to. According to various sources, leopards can run at speeds ranging from 30-56 mph (48-90 \n",
       "km/h) with an average speed of 58 km/h. While these top speeds might not be as fast as some other big cats, such as\n",
       "cheetahs ...\n",
       "\n",
       "[LEOPARD - The Zoo Wild Life Park](https://thezoopark.com/leopard)\n",
       "It can run at speeds of up to 58 km/h (36 mph). The earliest known leopard fossils excavated in Europe are \n",
       "estimated 600,000 years old, dating to the late Early Pleistocene. Leopard fossils were also found in Japan and \n",
       "Sumatra. ... TOP SPEED. 58 KM/H. WEIGHT WEIGHT TOP SPEED. 28-90 KG. HEIGHT WEIGHT HEIGHT. 57-70 CM. LENGTH WEIGHT \n",
       "HEIGHT.\n",
       "\n",
       "Out: None\n",
       "</pre>\n"
      ],
      "text/plain": [
       "\u001b[1mExecution logs:\u001b[0m\n",
       "## Search Results\n",
       "\n",
       "[How Fast Are Leopards? Top Speeds and How It Compares ... - AZ \n",
       "Animals](https://a-z-animals.com/blog/how-fast-leopards-top-speeds-how-compares-other-big-cats/)\n",
       "Cats of all sizes can reach impressive speeds. These are all attributes of their anatomy. Much like how the \n",
       "strength of an animal's bite is due to their jaw and skull anatomy, a cat's speed is determined by their \n",
       "musculature and skeletal composition. However, you can boil down their speed and agility to a very important \n",
       "structure: the spine.\n",
       "\n",
       "[How Fast Can a Leopard Run? It's Slower than Most of Its Prey](https://africafreak.com/how-fast-can-a-leopard-run)\n",
       "African leopards have a top speed of 56-60 km/h (35-37 mph). That's significantly slower than cheetahs and lions, \n",
       "as well as being slower than a lot of its prey. But this top speed isn't the full story. The leopard is one of the \n",
       "greatest predators on the African savannah and speed is just one piece of its hunting prowess.\n",
       "\n",
       "[16 Leopard Facts You Should Know - Fact Animal](https://factanimal.com/leopard/)\n",
       "The Leopard is the smallest of the big cat family, but are one of the most daring. They are known for their spots \n",
       "on their fur and live in a wide range of countries across Africa, Asia and Southern Russia. ... Top Speed: 58 km/h \n",
       "(36 mph) No. of Species: 1: Conservation Status:\n",
       "\n",
       "[How Fast Can a Leopard Run? A Fascinating Look at Their \n",
       "Speed](https://tiger-universe.com/blogs/tiger-blog/how-fast-can-a-leopard-run)\n",
       "Understanding Leopard's Top Speed. ... Yet, slimmer mountain lions or pumas can hit speeds up to 80 km/h, \n",
       "challenging the leopard's rank in speed among the big cat family. Leopard Running Capabilities and Limitations. \n",
       "Leopards excel in short bursts rather than long runs, ideal for quick attacks not exceeding 200 meters. ...\n",
       "\n",
       "[Unraveling the Speed of Leopards: How Fast Can They Actually \n",
       "Run?](https://startingrun.com/unraveling-the-speed-of-leopards-how-fast-can-they-actually-run/)\n",
       "The lion, larger and heavier, reaches a peak speed of 81 km/h (50 mph). Lions possess less agility, but they \n",
       "marshal their strength, larger muscle mass, and longer strides to outpace a leopard. Cheetahs are, without a doubt,\n",
       "the speed champions. These slender and lightweight cats can achieve blazing top speeds of 112 km/h (70 mph).\n",
       "\n",
       "[African Leopard - Facts, Diet, Habitat & Pictures on Animalia.bio](https://animalia.bio/african-leopard)\n",
       "Top speed. 58. 36. km/h mph. km/h mph . Weight. 35-91. 77-200.2. kg lbs. kg lbs . The African leopard (Panthera \n",
       "pardus pardus) is the nominate subspecies of the leopard, native to many countries in Africa. ... The African \n",
       "leopard exhibits great variation in coat color, depending on location and habitat. Coat color varies from pale \n",
       "yellow to ...\n",
       "\n",
       "[Leopard - Facts, Diet, Habitat & Pictures on Animalia.bio](https://animalia.bio/leopard)\n",
       "Top speed. 58. 36. km/h mph. km/h mph . Weight. 28-90. 61.6-198. kg lbs. kg lbs . Height. 57-70. 22.4-27.6. cm \n",
       "inch. cm inch . Length. ... It can run at speeds of up to 58 km/h (36 mph). The earliest known leopard fossils \n",
       "excavated in Europe are estimated 600,000 years old, dating to the late Early Pleistocene. ... also known as a top \n",
       "predator ...\n",
       "\n",
       "[How fast can leopards run and how agile are they? - \n",
       "WildLifeFAQs](https://www.wildlifefaq.com/leopard-speed-and-agility/)\n",
       "In this section, we will explore the leopard's running speed, top speed, and overall agility. Get ready to be \n",
       "amazed by these agile big cats! Leopards are known for their remarkable speed and agility. They can reach speeds of\n",
       "up to 58 kilometers per hour (36 mph) during short bursts of running. ... (58 km/h), allowing them to swiftly chase\n",
       "...\n",
       "\n",
       "[How Fast Can a Leopard Run (Average Speed) - \n",
       "brotherspets.com](https://brotherspets.com/how-fast-can-a-leopard-run/)\n",
       "Experience the breathtaking speed and agility of the leopard, one of nature's most skilled and formidable \n",
       "predators. ... need to. According to various sources, leopards can run at speeds ranging from 30-56 mph (48-90 \n",
       "km/h) with an average speed of 58 km/h. While these top speeds might not be as fast as some other big cats, such as\n",
       "cheetahs ...\n",
       "\n",
       "[LEOPARD - The Zoo Wild Life Park](https://thezoopark.com/leopard)\n",
       "It can run at speeds of up to 58 km/h (36 mph). The earliest known leopard fossils excavated in Europe are \n",
       "estimated 600,000 years old, dating to the late Early Pleistocene. Leopard fossils were also found in Japan and \n",
       "Sumatra. ... TOP SPEED. 58 KM/H. WEIGHT WEIGHT TOP SPEED. 28-90 KG. HEIGHT WEIGHT HEIGHT. 57-70 CM. LENGTH WEIGHT \n",
       "HEIGHT.\n",
       "\n",
       "Out: None\n"
      ]
     },
     "metadata": {},
     "output_type": "display_data"
    },
    {
     "data": {
      "text/html": [
       "<pre style=\"white-space:pre;overflow-x:auto;line-height:normal;font-family:Menlo,'DejaVu Sans Mono',consolas,'Courier New',monospace\"><span style=\"color: #7f7f7f; text-decoration-color: #7f7f7f\">[Step 1: Duration 12.86 seconds| Input tokens: 8,085 | Output tokens: 2,015]</span>\n",
       "</pre>\n"
      ],
      "text/plain": [
       "\u001b[2m[Step 1: Duration 12.86 seconds| Input tokens: 8,085 | Output tokens: 2,015]\u001b[0m\n"
      ]
     },
     "metadata": {},
     "output_type": "display_data"
    },
    {
     "data": {
      "text/html": [
       "<pre style=\"white-space:pre;overflow-x:auto;line-height:normal;font-family:Menlo,'DejaVu Sans Mono',consolas,'Courier New',monospace\"><span style=\"color: #d4b702; text-decoration-color: #d4b702\">━━━━━━━━━━━━━━━━━━━━━━━━━━━━━━━━━━━━━━━━━━━━━━━━━━━━━ </span><span style=\"font-weight: bold\">Step </span><span style=\"color: #008080; text-decoration-color: #008080; font-weight: bold\">3</span><span style=\"color: #d4b702; text-decoration-color: #d4b702\"> ━━━━━━━━━━━━━━━━━━━━━━━━━━━━━━━━━━━━━━━━━━━━━━━━━━━━━━</span>\n",
       "</pre>\n"
      ],
      "text/plain": [
       "\u001b[38;2;212;183;2m━━━━━━━━━━━━━━━━━━━━━━━━━━━━━━━━━━━━━━━━━━━━━━━━━━━━━ \u001b[0m\u001b[1mStep \u001b[0m\u001b[1;36m3\u001b[0m\u001b[38;2;212;183;2m ━━━━━━━━━━━━━━━━━━━━━━━━━━━━━━━━━━━━━━━━━━━━━━━━━━━━━━\u001b[0m\n"
      ]
     },
     "metadata": {},
     "output_type": "display_data"
    },
    {
     "data": {
      "text/html": [
       "<pre style=\"white-space:pre;overflow-x:auto;line-height:normal;font-family:Menlo,'DejaVu Sans Mono',consolas,'Courier New',monospace\"> ─ <span style=\"font-weight: bold\">Executing parsed code:</span> ──────────────────────────────────────────────────────────────────────────────────────── \n",
       "  <span style=\"color: #f8f8f2; text-decoration-color: #f8f8f2; background-color: #272822\">bridge_length </span><span style=\"color: #ff4689; text-decoration-color: #ff4689; background-color: #272822\">=</span><span style=\"color: #f8f8f2; text-decoration-color: #f8f8f2; background-color: #272822\"> web_search(query</span><span style=\"color: #ff4689; text-decoration-color: #ff4689; background-color: #272822\">=</span><span style=\"color: #e6db74; text-decoration-color: #e6db74; background-color: #272822\">\"Pont des Arts length in meters\"</span><span style=\"color: #f8f8f2; text-decoration-color: #f8f8f2; background-color: #272822\">)</span><span style=\"background-color: #272822\">                                             </span>  \n",
       "  <span style=\"color: #f8f8f2; text-decoration-color: #f8f8f2; background-color: #272822\">print(bridge_length)</span><span style=\"background-color: #272822\">                                                                                           </span>  \n",
       " ───────────────────────────────────────────────────────────────────────────────────────────────────────────────── \n",
       "</pre>\n"
      ],
      "text/plain": [
       " ─ \u001b[1mExecuting parsed code:\u001b[0m ──────────────────────────────────────────────────────────────────────────────────────── \n",
       "  \u001b[38;2;248;248;242;48;2;39;40;34mbridge_length\u001b[0m\u001b[38;2;248;248;242;48;2;39;40;34m \u001b[0m\u001b[38;2;255;70;137;48;2;39;40;34m=\u001b[0m\u001b[38;2;248;248;242;48;2;39;40;34m \u001b[0m\u001b[38;2;248;248;242;48;2;39;40;34mweb_search\u001b[0m\u001b[38;2;248;248;242;48;2;39;40;34m(\u001b[0m\u001b[38;2;248;248;242;48;2;39;40;34mquery\u001b[0m\u001b[38;2;255;70;137;48;2;39;40;34m=\u001b[0m\u001b[38;2;230;219;116;48;2;39;40;34m\"\u001b[0m\u001b[38;2;230;219;116;48;2;39;40;34mPont des Arts length in meters\u001b[0m\u001b[38;2;230;219;116;48;2;39;40;34m\"\u001b[0m\u001b[38;2;248;248;242;48;2;39;40;34m)\u001b[0m\u001b[48;2;39;40;34m                                             \u001b[0m  \n",
       "  \u001b[38;2;248;248;242;48;2;39;40;34mprint\u001b[0m\u001b[38;2;248;248;242;48;2;39;40;34m(\u001b[0m\u001b[38;2;248;248;242;48;2;39;40;34mbridge_length\u001b[0m\u001b[38;2;248;248;242;48;2;39;40;34m)\u001b[0m\u001b[48;2;39;40;34m                                                                                           \u001b[0m  \n",
       " ───────────────────────────────────────────────────────────────────────────────────────────────────────────────── \n"
      ]
     },
     "metadata": {},
     "output_type": "display_data"
    },
    {
     "data": {
      "text/html": [
       "<pre style=\"white-space:pre;overflow-x:auto;line-height:normal;font-family:Menlo,'DejaVu Sans Mono',consolas,'Courier New',monospace\"><span style=\"font-weight: bold\">Execution logs:</span>\n",
       "## Search Results\n",
       "\n",
       "[Pont des Arts - Wikipedia](https://en.wikipedia.org/wiki/Pont_des_Arts)\n",
       "The Pont des Arts (French pronunciation: [pɔ̃ dez‿aʁ]) or Passerelle des Arts ([pasʁɛl-]) is a pedestrian bridge in\n",
       "Paris which crosses the River Seine. It links the Institut de France and the central square ( cour carrée ) of the \n",
       "Palais du Louvre , (which had been termed the \"Palais des Arts\" under the First French Empire ).\n",
       "\n",
       "[Pont des Arts, Paris, France - LatLong](https://www.latlong.net/place/pont-des-arts-paris-france-32945.html)\n",
       "Pont des Arts, Paris, France. Latitude and longitude coordinates are: 48.858334, 2.337369. Pont des Arts is a \n",
       "scenic pedestrian bridge over the Seine River in Paris, France. The bridge connects the Musée du Louvre and the \n",
       "Institut de France. It has a length of 155 m (509 ft) and a width of 11 m (36 ft). It was constructed between 1981 \n",
       "and 1984.\n",
       "\n",
       "[10 Picturesque Facts About The Pont Des Arts](https://art-facts.com/pont-des-arts-facts/)\n",
       "1. It connects two famous buildings in the heart of Paris. The Pont des Arts literally translates to \"The Bridge of\n",
       "the Arts\" and is also sometimes referred to as the \"Passarelles des Arts.\"That's because it's a pedestrian-only \n",
       "bridge that allows people to easily cross the River Seine in the heart of Paris.\n",
       "\n",
       "[Bridge of Lovers - Pont des Arts - Pariste.Net](https://www.pariste.net/en/lovers-bridge-pont-des-arts/)\n",
       "Firstly 1884in Napoleon Bonaparte made in time 155 meters This bridge with a length of Seine River on you first \n",
       "metal bridgeIt was yummy. ... Pont des Arts - Bridge of Lovers metro It's a bit difficult to reach directly, or \n",
       "rather give directions to the metro station to get here ...\n",
       "\n",
       "[Love Lock bridge in Paris then &amp; now: The Pont des \n",
       "Arts](https://cosmopoliclan.com/travel-with-kids/inspiration/love-lock-bridge-paris-pont-des-arts/)\n",
       "It was closed off in 1977 and, two years later, when once again it got hit by a barge, the Pont des Arts collapsed \n",
       "over a length of sixty meters. The original cast iron Parisian bridge was replaced by the steel bridge that you can\n",
       "visit today. Town planner Louis Arretche designed this new version, which was inaugurated by President\n",
       "\n",
       "[Pont des Arts - All You Need to Know BEFORE You Go (2025) - \n",
       "Tripadvisor](https://www.tripadvisor.com/Attraction_Review-g187147-d2072995-Reviews-Pont_des_Arts-Paris_Ile_de_Fran\n",
       "ce.html)\n",
       "Too bad about that symbolism. Otherwise, the Pont des Arts, inaugurated in 1804, is a 100% pedestrian bridge that \n",
       "connects the Institut de France to the Louvre, offering a splendid view of the Seine. It has become a must for \n",
       "tourists. This bridge is also a symbol of Parisian art and culture, with artists often present to exhibit their \n",
       "creations.\n",
       "\n",
       "[Pont Des Arts, Paris: How To Reach, Best Time &amp; Tips - \n",
       "Thrillophilia](https://www.thrillophilia.com/attractions/pont-des-arts)\n",
       "1. By Metro: The nearest metro stations to Pont des Arts are. Pont des Arts - Quai De Conti, situated 80 meters \n",
       "from the bridge and walking time of 2 min; Pont des Arts, situated 158 meters from the bridge and walking time of 3\n",
       "min; Pont du Carrousel - Quai Voltaire, 326 meters from the bridge and walking time of 5 min\n",
       "\n",
       "[Pont des Arts Map - Bridge - Paris, Île-de-France, France - Mapcarta](https://mapcarta.com/29198828)\n",
       "The Pont Neuf is the oldest standing bridge across the river Seine in Paris, France. Pont Neuf is situated 330 \n",
       "metres east of Pont des Arts.\n",
       "\n",
       "[Pont des Arts - Medium](https://medium.com/@SATPALDA/pont-des-arts-308c7214834c)\n",
       "The Pont des Arts is a pedestrian Arch shape bridge made up of steel in Paris, France, over the River Seine. \n",
       "WorldView-3 satellite courtesy of DigitalGlobe captured this UNESCO World Heritage Site…\n",
       "\n",
       "[Pont des Arts, Paris, France - planerGO](https://planergo.com/en/sights/pont-des-arts/)\n",
       "The Pont des Arts or Passerelle des Arts is a pedestrian bridge in Paris which crosses the Seine River. It links \n",
       "the Institut de France and the central square (cour carrée) of the palais du Louvre, (which had been termed the \n",
       "\"Palais des Arts\" under the First Empire).Between 1802 and 1804, a nine-arch metallic bridge for pedestrians was \n",
       "constructed at the location of the present day Pont des ...\n",
       "\n",
       "Out: None\n",
       "</pre>\n"
      ],
      "text/plain": [
       "\u001b[1mExecution logs:\u001b[0m\n",
       "## Search Results\n",
       "\n",
       "[Pont des Arts - Wikipedia](https://en.wikipedia.org/wiki/Pont_des_Arts)\n",
       "The Pont des Arts (French pronunciation: [pɔ̃ dez‿aʁ]) or Passerelle des Arts ([pasʁɛl-]) is a pedestrian bridge in\n",
       "Paris which crosses the River Seine. It links the Institut de France and the central square ( cour carrée ) of the \n",
       "Palais du Louvre , (which had been termed the \"Palais des Arts\" under the First French Empire ).\n",
       "\n",
       "[Pont des Arts, Paris, France - LatLong](https://www.latlong.net/place/pont-des-arts-paris-france-32945.html)\n",
       "Pont des Arts, Paris, France. Latitude and longitude coordinates are: 48.858334, 2.337369. Pont des Arts is a \n",
       "scenic pedestrian bridge over the Seine River in Paris, France. The bridge connects the Musée du Louvre and the \n",
       "Institut de France. It has a length of 155 m (509 ft) and a width of 11 m (36 ft). It was constructed between 1981 \n",
       "and 1984.\n",
       "\n",
       "[10 Picturesque Facts About The Pont Des Arts](https://art-facts.com/pont-des-arts-facts/)\n",
       "1. It connects two famous buildings in the heart of Paris. The Pont des Arts literally translates to \"The Bridge of\n",
       "the Arts\" and is also sometimes referred to as the \"Passarelles des Arts.\"That's because it's a pedestrian-only \n",
       "bridge that allows people to easily cross the River Seine in the heart of Paris.\n",
       "\n",
       "[Bridge of Lovers - Pont des Arts - Pariste.Net](https://www.pariste.net/en/lovers-bridge-pont-des-arts/)\n",
       "Firstly 1884in Napoleon Bonaparte made in time 155 meters This bridge with a length of Seine River on you first \n",
       "metal bridgeIt was yummy. ... Pont des Arts - Bridge of Lovers metro It's a bit difficult to reach directly, or \n",
       "rather give directions to the metro station to get here ...\n",
       "\n",
       "[Love Lock bridge in Paris then & now: The Pont des \n",
       "Arts](https://cosmopoliclan.com/travel-with-kids/inspiration/love-lock-bridge-paris-pont-des-arts/)\n",
       "It was closed off in 1977 and, two years later, when once again it got hit by a barge, the Pont des Arts collapsed \n",
       "over a length of sixty meters. The original cast iron Parisian bridge was replaced by the steel bridge that you can\n",
       "visit today. Town planner Louis Arretche designed this new version, which was inaugurated by President\n",
       "\n",
       "[Pont des Arts - All You Need to Know BEFORE You Go (2025) - \n",
       "Tripadvisor](https://www.tripadvisor.com/Attraction_Review-g187147-d2072995-Reviews-Pont_des_Arts-Paris_Ile_de_Fran\n",
       "ce.html)\n",
       "Too bad about that symbolism. Otherwise, the Pont des Arts, inaugurated in 1804, is a 100% pedestrian bridge that \n",
       "connects the Institut de France to the Louvre, offering a splendid view of the Seine. It has become a must for \n",
       "tourists. This bridge is also a symbol of Parisian art and culture, with artists often present to exhibit their \n",
       "creations.\n",
       "\n",
       "[Pont Des Arts, Paris: How To Reach, Best Time & Tips - \n",
       "Thrillophilia](https://www.thrillophilia.com/attractions/pont-des-arts)\n",
       "1. By Metro: The nearest metro stations to Pont des Arts are. Pont des Arts - Quai De Conti, situated 80 meters \n",
       "from the bridge and walking time of 2 min; Pont des Arts, situated 158 meters from the bridge and walking time of 3\n",
       "min; Pont du Carrousel - Quai Voltaire, 326 meters from the bridge and walking time of 5 min\n",
       "\n",
       "[Pont des Arts Map - Bridge - Paris, Île-de-France, France - Mapcarta](https://mapcarta.com/29198828)\n",
       "The Pont Neuf is the oldest standing bridge across the river Seine in Paris, France. Pont Neuf is situated 330 \n",
       "metres east of Pont des Arts.\n",
       "\n",
       "[Pont des Arts - Medium](https://medium.com/@SATPALDA/pont-des-arts-308c7214834c)\n",
       "The Pont des Arts is a pedestrian Arch shape bridge made up of steel in Paris, France, over the River Seine. \n",
       "WorldView-3 satellite courtesy of DigitalGlobe captured this UNESCO World Heritage Site…\n",
       "\n",
       "[Pont des Arts, Paris, France - planerGO](https://planergo.com/en/sights/pont-des-arts/)\n",
       "The Pont des Arts or Passerelle des Arts is a pedestrian bridge in Paris which crosses the Seine River. It links \n",
       "the Institut de France and the central square (cour carrée) of the palais du Louvre, (which had been termed the \n",
       "\"Palais des Arts\" under the First Empire).Between 1802 and 1804, a nine-arch metallic bridge for pedestrians was \n",
       "constructed at the location of the present day Pont des ...\n",
       "\n",
       "Out: None\n"
      ]
     },
     "metadata": {},
     "output_type": "display_data"
    },
    {
     "data": {
      "text/html": [
       "<pre style=\"white-space:pre;overflow-x:auto;line-height:normal;font-family:Menlo,'DejaVu Sans Mono',consolas,'Courier New',monospace\"><span style=\"color: #7f7f7f; text-decoration-color: #7f7f7f\">[Step 2: Duration 11.09 seconds| Input tokens: 15,527 | Output tokens: 2,171]</span>\n",
       "</pre>\n"
      ],
      "text/plain": [
       "\u001b[2m[Step 2: Duration 11.09 seconds| Input tokens: 15,527 | Output tokens: 2,171]\u001b[0m\n"
      ]
     },
     "metadata": {},
     "output_type": "display_data"
    },
    {
     "data": {
      "text/html": [
       "<pre style=\"white-space:pre;overflow-x:auto;line-height:normal;font-family:Menlo,'DejaVu Sans Mono',consolas,'Courier New',monospace\"><span style=\"color: #d4b702; text-decoration-color: #d4b702\">━━━━━━━━━━━━━━━━━━━━━━━━━━━━━━━━━━━━━━━━━━━━━━━━━━━━━ </span><span style=\"font-weight: bold\">Step </span><span style=\"color: #008080; text-decoration-color: #008080; font-weight: bold\">4</span><span style=\"color: #d4b702; text-decoration-color: #d4b702\"> ━━━━━━━━━━━━━━━━━━━━━━━━━━━━━━━━━━━━━━━━━━━━━━━━━━━━━━</span>\n",
       "</pre>\n"
      ],
      "text/plain": [
       "\u001b[38;2;212;183;2m━━━━━━━━━━━━━━━━━━━━━━━━━━━━━━━━━━━━━━━━━━━━━━━━━━━━━ \u001b[0m\u001b[1mStep \u001b[0m\u001b[1;36m4\u001b[0m\u001b[38;2;212;183;2m ━━━━━━━━━━━━━━━━━━━━━━━━━━━━━━━━━━━━━━━━━━━━━━━━━━━━━━\u001b[0m\n"
      ]
     },
     "metadata": {},
     "output_type": "display_data"
    },
    {
     "data": {
      "text/html": [
       "<pre style=\"white-space:pre;overflow-x:auto;line-height:normal;font-family:Menlo,'DejaVu Sans Mono',consolas,'Courier New',monospace\"> ─ <span style=\"font-weight: bold\">Executing parsed code:</span> ──────────────────────────────────────────────────────────────────────────────────────── \n",
       "  <span style=\"color: #f8f8f2; text-decoration-color: #f8f8f2; background-color: #272822\">final_answer(</span><span style=\"color: #ae81ff; text-decoration-color: #ae81ff; background-color: #272822\">9.62</span><span style=\"color: #f8f8f2; text-decoration-color: #f8f8f2; background-color: #272822\">)</span><span style=\"background-color: #272822\">                                                                                             </span>  \n",
       " ───────────────────────────────────────────────────────────────────────────────────────────────────────────────── \n",
       "</pre>\n"
      ],
      "text/plain": [
       " ─ \u001b[1mExecuting parsed code:\u001b[0m ──────────────────────────────────────────────────────────────────────────────────────── \n",
       "  \u001b[38;2;248;248;242;48;2;39;40;34mfinal_answer\u001b[0m\u001b[38;2;248;248;242;48;2;39;40;34m(\u001b[0m\u001b[38;2;174;129;255;48;2;39;40;34m9.62\u001b[0m\u001b[38;2;248;248;242;48;2;39;40;34m)\u001b[0m\u001b[48;2;39;40;34m                                                                                             \u001b[0m  \n",
       " ───────────────────────────────────────────────────────────────────────────────────────────────────────────────── \n"
      ]
     },
     "metadata": {},
     "output_type": "display_data"
    },
    {
     "data": {
      "text/html": [
       "<pre style=\"white-space:pre;overflow-x:auto;line-height:normal;font-family:Menlo,'DejaVu Sans Mono',consolas,'Courier New',monospace\"><span style=\"color: #d4b702; text-decoration-color: #d4b702; font-weight: bold\">Out - Final answer: 9.62</span>\n",
       "</pre>\n"
      ],
      "text/plain": [
       "\u001b[1;38;2;212;183;2mOut - Final answer: 9.62\u001b[0m\n"
      ]
     },
     "metadata": {},
     "output_type": "display_data"
    },
    {
     "data": {
      "text/html": [
       "<pre style=\"white-space:pre;overflow-x:auto;line-height:normal;font-family:Menlo,'DejaVu Sans Mono',consolas,'Courier New',monospace\"><span style=\"color: #7f7f7f; text-decoration-color: #7f7f7f\">[Step 3: Duration 29.70 seconds| Input tokens: 24,093 | Output tokens: 2,598]</span>\n",
       "</pre>\n"
      ],
      "text/plain": [
       "\u001b[2m[Step 3: Duration 29.70 seconds| Input tokens: 24,093 | Output tokens: 2,598]\u001b[0m\n"
      ]
     },
     "metadata": {},
     "output_type": "display_data"
    },
    {
     "data": {
      "text/plain": [
       "9.62"
      ]
     },
     "execution_count": 2,
     "metadata": {},
     "output_type": "execute_result"
    }
   ],
   "source": [
    "from smolagents import CodeAgent, DuckDuckGoSearchTool, HfApiModel\n",
    "\n",
    "model = HfApiModel(\n",
    "    model_id=\"deepseek-ai/DeepSeek-R1\",\n",
    "    provider=\"together\",\n",
    ")\n",
    "\n",
    "agent = CodeAgent(tools=[DuckDuckGoSearchTool()], model=model)\n",
    "\n",
    "agent.run(\"How many seconds would it take for a leopard at full speed to run through Pont des Arts?\")\n",
    "\n",
    "# 2m 17.1s\n",
    "\n"
   ]
  },
  {
   "cell_type": "code",
   "execution_count": 1,
   "metadata": {},
   "outputs": [
    {
     "ename": "RuntimeError",
     "evalue": "Failed to import transformers.models.auto.processing_auto because of the following error (look up to see its traceback):\nNo module named '_bz2'",
     "output_type": "error",
     "traceback": [
      "\u001b[0;31m---------------------------------------------------------------------------\u001b[0m",
      "\u001b[0;31mModuleNotFoundError\u001b[0m                       Traceback (most recent call last)",
      "File \u001b[0;32m~/Data/Documents/Github/rkaunismaa/smolagents/.smolagents/lib/python3.11/site-packages/transformers/utils/import_utils.py:1817\u001b[0m, in \u001b[0;36m_LazyModule._get_module\u001b[0;34m(self, module_name)\u001b[0m\n\u001b[1;32m   1816\u001b[0m \u001b[38;5;28;01mtry\u001b[39;00m:\n\u001b[0;32m-> 1817\u001b[0m     \u001b[38;5;28;01mreturn\u001b[39;00m \u001b[43mimportlib\u001b[49m\u001b[38;5;241;43m.\u001b[39;49m\u001b[43mimport_module\u001b[49m\u001b[43m(\u001b[49m\u001b[38;5;124;43m\"\u001b[39;49m\u001b[38;5;124;43m.\u001b[39;49m\u001b[38;5;124;43m\"\u001b[39;49m\u001b[43m \u001b[49m\u001b[38;5;241;43m+\u001b[39;49m\u001b[43m \u001b[49m\u001b[43mmodule_name\u001b[49m\u001b[43m,\u001b[49m\u001b[43m \u001b[49m\u001b[38;5;28;43mself\u001b[39;49m\u001b[38;5;241;43m.\u001b[39;49m\u001b[38;5;18;43m__name__\u001b[39;49m\u001b[43m)\u001b[49m\n\u001b[1;32m   1818\u001b[0m \u001b[38;5;28;01mexcept\u001b[39;00m \u001b[38;5;167;01mException\u001b[39;00m \u001b[38;5;28;01mas\u001b[39;00m e:\n",
      "File \u001b[0;32m~/.pyenv/versions/3.11.8/lib/python3.11/importlib/__init__.py:126\u001b[0m, in \u001b[0;36mimport_module\u001b[0;34m(name, package)\u001b[0m\n\u001b[1;32m    125\u001b[0m         level \u001b[38;5;241m+\u001b[39m\u001b[38;5;241m=\u001b[39m \u001b[38;5;241m1\u001b[39m\n\u001b[0;32m--> 126\u001b[0m \u001b[38;5;28;01mreturn\u001b[39;00m \u001b[43m_bootstrap\u001b[49m\u001b[38;5;241;43m.\u001b[39;49m\u001b[43m_gcd_import\u001b[49m\u001b[43m(\u001b[49m\u001b[43mname\u001b[49m\u001b[43m[\u001b[49m\u001b[43mlevel\u001b[49m\u001b[43m:\u001b[49m\u001b[43m]\u001b[49m\u001b[43m,\u001b[49m\u001b[43m \u001b[49m\u001b[43mpackage\u001b[49m\u001b[43m,\u001b[49m\u001b[43m \u001b[49m\u001b[43mlevel\u001b[49m\u001b[43m)\u001b[49m\n",
      "File \u001b[0;32m<frozen importlib._bootstrap>:1204\u001b[0m, in \u001b[0;36m_gcd_import\u001b[0;34m(name, package, level)\u001b[0m\n",
      "File \u001b[0;32m<frozen importlib._bootstrap>:1176\u001b[0m, in \u001b[0;36m_find_and_load\u001b[0;34m(name, import_)\u001b[0m\n",
      "File \u001b[0;32m<frozen importlib._bootstrap>:1147\u001b[0m, in \u001b[0;36m_find_and_load_unlocked\u001b[0;34m(name, import_)\u001b[0m\n",
      "File \u001b[0;32m<frozen importlib._bootstrap>:690\u001b[0m, in \u001b[0;36m_load_unlocked\u001b[0;34m(spec)\u001b[0m\n",
      "File \u001b[0;32m<frozen importlib._bootstrap_external>:940\u001b[0m, in \u001b[0;36mexec_module\u001b[0;34m(self, module)\u001b[0m\n",
      "File \u001b[0;32m<frozen importlib._bootstrap>:241\u001b[0m, in \u001b[0;36m_call_with_frames_removed\u001b[0;34m(f, *args, **kwds)\u001b[0m\n",
      "File \u001b[0;32m~/Data/Documents/Github/rkaunismaa/smolagents/.smolagents/lib/python3.11/site-packages/transformers/models/auto/processing_auto.py:28\u001b[0m\n\u001b[1;32m     27\u001b[0m \u001b[38;5;28;01mfrom\u001b[39;00m\u001b[38;5;250m \u001b[39m\u001b[38;5;21;01m.\u001b[39;00m\u001b[38;5;21;01m.\u001b[39;00m\u001b[38;5;21;01m.\u001b[39;00m\u001b[38;5;21;01mfeature_extraction_utils\u001b[39;00m\u001b[38;5;250m \u001b[39m\u001b[38;5;28;01mimport\u001b[39;00m FeatureExtractionMixin\n\u001b[0;32m---> 28\u001b[0m \u001b[38;5;28;01mfrom\u001b[39;00m\u001b[38;5;250m \u001b[39m\u001b[38;5;21;01m.\u001b[39;00m\u001b[38;5;21;01m.\u001b[39;00m\u001b[38;5;21;01m.\u001b[39;00m\u001b[38;5;21;01mimage_processing_utils\u001b[39;00m\u001b[38;5;250m \u001b[39m\u001b[38;5;28;01mimport\u001b[39;00m ImageProcessingMixin\n\u001b[1;32m     29\u001b[0m \u001b[38;5;28;01mfrom\u001b[39;00m\u001b[38;5;250m \u001b[39m\u001b[38;5;21;01m.\u001b[39;00m\u001b[38;5;21;01m.\u001b[39;00m\u001b[38;5;21;01m.\u001b[39;00m\u001b[38;5;21;01mprocessing_utils\u001b[39;00m\u001b[38;5;250m \u001b[39m\u001b[38;5;28;01mimport\u001b[39;00m ProcessorMixin\n",
      "File \u001b[0;32m~/Data/Documents/Github/rkaunismaa/smolagents/.smolagents/lib/python3.11/site-packages/transformers/image_processing_utils.py:21\u001b[0m\n\u001b[1;32m     20\u001b[0m \u001b[38;5;28;01mfrom\u001b[39;00m\u001b[38;5;250m \u001b[39m\u001b[38;5;21;01m.\u001b[39;00m\u001b[38;5;21;01mimage_processing_base\u001b[39;00m\u001b[38;5;250m \u001b[39m\u001b[38;5;28;01mimport\u001b[39;00m BatchFeature, ImageProcessingMixin\n\u001b[0;32m---> 21\u001b[0m \u001b[38;5;28;01mfrom\u001b[39;00m\u001b[38;5;250m \u001b[39m\u001b[38;5;21;01m.\u001b[39;00m\u001b[38;5;21;01mimage_transforms\u001b[39;00m\u001b[38;5;250m \u001b[39m\u001b[38;5;28;01mimport\u001b[39;00m center_crop, normalize, rescale\n\u001b[1;32m     22\u001b[0m \u001b[38;5;28;01mfrom\u001b[39;00m\u001b[38;5;250m \u001b[39m\u001b[38;5;21;01m.\u001b[39;00m\u001b[38;5;21;01mimage_utils\u001b[39;00m\u001b[38;5;250m \u001b[39m\u001b[38;5;28;01mimport\u001b[39;00m ChannelDimension\n",
      "File \u001b[0;32m~/Data/Documents/Github/rkaunismaa/smolagents/.smolagents/lib/python3.11/site-packages/transformers/image_transforms.py:22\u001b[0m\n\u001b[1;32m     20\u001b[0m \u001b[38;5;28;01mimport\u001b[39;00m\u001b[38;5;250m \u001b[39m\u001b[38;5;21;01mnumpy\u001b[39;00m\u001b[38;5;250m \u001b[39m\u001b[38;5;28;01mas\u001b[39;00m\u001b[38;5;250m \u001b[39m\u001b[38;5;21;01mnp\u001b[39;00m\n\u001b[0;32m---> 22\u001b[0m \u001b[38;5;28;01mfrom\u001b[39;00m\u001b[38;5;250m \u001b[39m\u001b[38;5;21;01m.\u001b[39;00m\u001b[38;5;21;01mimage_utils\u001b[39;00m\u001b[38;5;250m \u001b[39m\u001b[38;5;28;01mimport\u001b[39;00m (\n\u001b[1;32m     23\u001b[0m     ChannelDimension,\n\u001b[1;32m     24\u001b[0m     ImageInput,\n\u001b[1;32m     25\u001b[0m     get_channel_dimension_axis,\n\u001b[1;32m     26\u001b[0m     get_image_size,\n\u001b[1;32m     27\u001b[0m     infer_channel_dimension_format,\n\u001b[1;32m     28\u001b[0m )\n\u001b[1;32m     29\u001b[0m \u001b[38;5;28;01mfrom\u001b[39;00m\u001b[38;5;250m \u001b[39m\u001b[38;5;21;01m.\u001b[39;00m\u001b[38;5;21;01mutils\u001b[39;00m\u001b[38;5;250m \u001b[39m\u001b[38;5;28;01mimport\u001b[39;00m ExplicitEnum, TensorType, is_jax_tensor, is_tf_tensor, is_torch_tensor\n",
      "File \u001b[0;32m~/Data/Documents/Github/rkaunismaa/smolagents/.smolagents/lib/python3.11/site-packages/transformers/image_utils.py:59\u001b[0m\n\u001b[1;32m     58\u001b[0m \u001b[38;5;28;01mif\u001b[39;00m is_torchvision_available():\n\u001b[0;32m---> 59\u001b[0m     \u001b[38;5;28;01mfrom\u001b[39;00m\u001b[38;5;250m \u001b[39m\u001b[38;5;21;01mtorchvision\u001b[39;00m\u001b[38;5;21;01m.\u001b[39;00m\u001b[38;5;21;01mtransforms\u001b[39;00m\u001b[38;5;250m \u001b[39m\u001b[38;5;28;01mimport\u001b[39;00m InterpolationMode\n\u001b[1;32m     61\u001b[0m     pil_torch_interpolation_mapping \u001b[38;5;241m=\u001b[39m {\n\u001b[1;32m     62\u001b[0m         PILImageResampling\u001b[38;5;241m.\u001b[39mNEAREST: InterpolationMode\u001b[38;5;241m.\u001b[39mNEAREST,\n\u001b[1;32m     63\u001b[0m         PILImageResampling\u001b[38;5;241m.\u001b[39mBOX: InterpolationMode\u001b[38;5;241m.\u001b[39mBOX,\n\u001b[0;32m   (...)\u001b[0m\n\u001b[1;32m     67\u001b[0m         PILImageResampling\u001b[38;5;241m.\u001b[39mLANCZOS: InterpolationMode\u001b[38;5;241m.\u001b[39mLANCZOS,\n\u001b[1;32m     68\u001b[0m     }\n",
      "File \u001b[0;32m~/Data/Documents/Github/rkaunismaa/smolagents/.smolagents/lib/python3.11/site-packages/torchvision/__init__.py:10\u001b[0m\n\u001b[1;32m      9\u001b[0m \u001b[38;5;28;01mfrom\u001b[39;00m\u001b[38;5;250m \u001b[39m\u001b[38;5;21;01m.\u001b[39;00m\u001b[38;5;21;01mextension\u001b[39;00m\u001b[38;5;250m \u001b[39m\u001b[38;5;28;01mimport\u001b[39;00m _HAS_OPS  \u001b[38;5;66;03m# usort:skip\u001b[39;00m\n\u001b[0;32m---> 10\u001b[0m \u001b[38;5;28;01mfrom\u001b[39;00m\u001b[38;5;250m \u001b[39m\u001b[38;5;21;01mtorchvision\u001b[39;00m\u001b[38;5;250m \u001b[39m\u001b[38;5;28;01mimport\u001b[39;00m _meta_registrations, datasets, io, models, ops, transforms, utils  \u001b[38;5;66;03m# usort:skip\u001b[39;00m\n\u001b[1;32m     12\u001b[0m \u001b[38;5;28;01mtry\u001b[39;00m:\n",
      "File \u001b[0;32m~/Data/Documents/Github/rkaunismaa/smolagents/.smolagents/lib/python3.11/site-packages/torchvision/datasets/__init__.py:1\u001b[0m\n\u001b[0;32m----> 1\u001b[0m \u001b[38;5;28;01mfrom\u001b[39;00m\u001b[38;5;250m \u001b[39m\u001b[38;5;21;01m.\u001b[39;00m\u001b[38;5;21;01m_optical_flow\u001b[39;00m\u001b[38;5;250m \u001b[39m\u001b[38;5;28;01mimport\u001b[39;00m FlyingChairs, FlyingThings3D, HD1K, KittiFlow, Sintel\n\u001b[1;32m      2\u001b[0m \u001b[38;5;28;01mfrom\u001b[39;00m\u001b[38;5;250m \u001b[39m\u001b[38;5;21;01m.\u001b[39;00m\u001b[38;5;21;01m_stereo_matching\u001b[39;00m\u001b[38;5;250m \u001b[39m\u001b[38;5;28;01mimport\u001b[39;00m (\n\u001b[1;32m      3\u001b[0m     CarlaStereo,\n\u001b[1;32m      4\u001b[0m     CREStereo,\n\u001b[0;32m   (...)\u001b[0m\n\u001b[1;32m     12\u001b[0m     SintelStereo,\n\u001b[1;32m     13\u001b[0m )\n",
      "File \u001b[0;32m~/Data/Documents/Github/rkaunismaa/smolagents/.smolagents/lib/python3.11/site-packages/torchvision/datasets/_optical_flow.py:13\u001b[0m\n\u001b[1;32m     12\u001b[0m \u001b[38;5;28;01mfrom\u001b[39;00m\u001b[38;5;250m \u001b[39m\u001b[38;5;21;01m.\u001b[39;00m\u001b[38;5;21;01m.\u001b[39;00m\u001b[38;5;21;01mio\u001b[39;00m\u001b[38;5;21;01m.\u001b[39;00m\u001b[38;5;21;01mimage\u001b[39;00m\u001b[38;5;250m \u001b[39m\u001b[38;5;28;01mimport\u001b[39;00m decode_png, read_file\n\u001b[0;32m---> 13\u001b[0m \u001b[38;5;28;01mfrom\u001b[39;00m\u001b[38;5;250m \u001b[39m\u001b[38;5;21;01m.\u001b[39;00m\u001b[38;5;21;01mutils\u001b[39;00m\u001b[38;5;250m \u001b[39m\u001b[38;5;28;01mimport\u001b[39;00m _read_pfm, verify_str_arg\n\u001b[1;32m     14\u001b[0m \u001b[38;5;28;01mfrom\u001b[39;00m\u001b[38;5;250m \u001b[39m\u001b[38;5;21;01m.\u001b[39;00m\u001b[38;5;21;01mvision\u001b[39;00m\u001b[38;5;250m \u001b[39m\u001b[38;5;28;01mimport\u001b[39;00m VisionDataset\n",
      "File \u001b[0;32m~/Data/Documents/Github/rkaunismaa/smolagents/.smolagents/lib/python3.11/site-packages/torchvision/datasets/utils.py:1\u001b[0m\n\u001b[0;32m----> 1\u001b[0m \u001b[38;5;28;01mimport\u001b[39;00m\u001b[38;5;250m \u001b[39m\u001b[38;5;21;01mbz2\u001b[39;00m\n\u001b[1;32m      2\u001b[0m \u001b[38;5;28;01mimport\u001b[39;00m\u001b[38;5;250m \u001b[39m\u001b[38;5;21;01mgzip\u001b[39;00m\n",
      "File \u001b[0;32m~/.pyenv/versions/3.11.8/lib/python3.11/bz2.py:17\u001b[0m\n\u001b[1;32m     15\u001b[0m \u001b[38;5;28;01mimport\u001b[39;00m\u001b[38;5;250m \u001b[39m\u001b[38;5;21;01m_compression\u001b[39;00m\n\u001b[0;32m---> 17\u001b[0m \u001b[38;5;28;01mfrom\u001b[39;00m\u001b[38;5;250m \u001b[39m\u001b[38;5;21;01m_bz2\u001b[39;00m\u001b[38;5;250m \u001b[39m\u001b[38;5;28;01mimport\u001b[39;00m BZ2Compressor, BZ2Decompressor\n\u001b[1;32m     20\u001b[0m _MODE_CLOSED   \u001b[38;5;241m=\u001b[39m \u001b[38;5;241m0\u001b[39m\n",
      "\u001b[0;31mModuleNotFoundError\u001b[0m: No module named '_bz2'",
      "\nThe above exception was the direct cause of the following exception:\n",
      "\u001b[0;31mRuntimeError\u001b[0m                              Traceback (most recent call last)",
      "Cell \u001b[0;32mIn[1], line 6\u001b[0m\n\u001b[1;32m      2\u001b[0m \u001b[38;5;28;01mfrom\u001b[39;00m\u001b[38;5;250m \u001b[39m\u001b[38;5;21;01msmolagents\u001b[39;00m\u001b[38;5;250m \u001b[39m\u001b[38;5;28;01mimport\u001b[39;00m CodeAgent, TransformersModel\n\u001b[1;32m      4\u001b[0m model_id \u001b[38;5;241m=\u001b[39m \u001b[38;5;124m\"\u001b[39m\u001b[38;5;124mmeta-llama/Llama-3.2-3B-Instruct\u001b[39m\u001b[38;5;124m\"\u001b[39m\n\u001b[0;32m----> 6\u001b[0m model \u001b[38;5;241m=\u001b[39m \u001b[43mTransformersModel\u001b[49m\u001b[43m(\u001b[49m\u001b[43mmodel_id\u001b[49m\u001b[38;5;241;43m=\u001b[39;49m\u001b[43mmodel_id\u001b[49m\u001b[43m)\u001b[49m\n\u001b[1;32m      7\u001b[0m agent \u001b[38;5;241m=\u001b[39m CodeAgent(tools\u001b[38;5;241m=\u001b[39m[], model\u001b[38;5;241m=\u001b[39mmodel, add_base_tools\u001b[38;5;241m=\u001b[39m\u001b[38;5;28;01mTrue\u001b[39;00m)\n\u001b[1;32m      9\u001b[0m agent\u001b[38;5;241m.\u001b[39mrun(\n\u001b[1;32m     10\u001b[0m     \u001b[38;5;124m\"\u001b[39m\u001b[38;5;124mCould you give me the 118th number in the Fibonacci sequence?\u001b[39m\u001b[38;5;124m\"\u001b[39m,\n\u001b[1;32m     11\u001b[0m )\n",
      "File \u001b[0;32m~/Data/Documents/Github/rkaunismaa/smolagents/.smolagents/lib/python3.11/site-packages/smolagents/models.py:468\u001b[0m, in \u001b[0;36mTransformersModel.__init__\u001b[0;34m(self, model_id, device_map, torch_dtype, trust_remote_code, **kwargs)\u001b[0m\n\u001b[1;32m    464\u001b[0m     \u001b[38;5;28;01mraise\u001b[39;00m \u001b[38;5;167;01mModuleNotFoundError\u001b[39;00m(\n\u001b[1;32m    465\u001b[0m         \u001b[38;5;124m\"\u001b[39m\u001b[38;5;124mPlease install \u001b[39m\u001b[38;5;124m'\u001b[39m\u001b[38;5;124mtransformers\u001b[39m\u001b[38;5;124m'\u001b[39m\u001b[38;5;124m extra to use \u001b[39m\u001b[38;5;124m'\u001b[39m\u001b[38;5;124mTransformersModel\u001b[39m\u001b[38;5;124m'\u001b[39m\u001b[38;5;124m: `pip install \u001b[39m\u001b[38;5;124m'\u001b[39m\u001b[38;5;124msmolagents[transformers]\u001b[39m\u001b[38;5;124m'\u001b[39m\u001b[38;5;124m`\u001b[39m\u001b[38;5;124m\"\u001b[39m\n\u001b[1;32m    466\u001b[0m     )\n\u001b[1;32m    467\u001b[0m \u001b[38;5;28;01mimport\u001b[39;00m\u001b[38;5;250m \u001b[39m\u001b[38;5;21;01mtorch\u001b[39;00m\n\u001b[0;32m--> 468\u001b[0m \u001b[38;5;28;01mfrom\u001b[39;00m\u001b[38;5;250m \u001b[39m\u001b[38;5;21;01mtransformers\u001b[39;00m\u001b[38;5;250m \u001b[39m\u001b[38;5;28;01mimport\u001b[39;00m AutoModelForCausalLM, AutoModelForImageTextToText, AutoProcessor, AutoTokenizer\n\u001b[1;32m    470\u001b[0m default_model_id \u001b[38;5;241m=\u001b[39m \u001b[38;5;124m\"\u001b[39m\u001b[38;5;124mHuggingFaceTB/SmolLM2-1.7B-Instruct\u001b[39m\u001b[38;5;124m\"\u001b[39m\n\u001b[1;32m    471\u001b[0m \u001b[38;5;28;01mif\u001b[39;00m model_id \u001b[38;5;129;01mis\u001b[39;00m \u001b[38;5;28;01mNone\u001b[39;00m:\n",
      "File \u001b[0;32m<frozen importlib._bootstrap>:1229\u001b[0m, in \u001b[0;36m_handle_fromlist\u001b[0;34m(module, fromlist, import_, recursive)\u001b[0m\n",
      "File \u001b[0;32m~/Data/Documents/Github/rkaunismaa/smolagents/.smolagents/lib/python3.11/site-packages/transformers/utils/import_utils.py:1806\u001b[0m, in \u001b[0;36m_LazyModule.__getattr__\u001b[0;34m(self, name)\u001b[0m\n\u001b[1;32m   1804\u001b[0m \u001b[38;5;28;01melif\u001b[39;00m name \u001b[38;5;129;01min\u001b[39;00m \u001b[38;5;28mself\u001b[39m\u001b[38;5;241m.\u001b[39m_class_to_module\u001b[38;5;241m.\u001b[39mkeys():\n\u001b[1;32m   1805\u001b[0m     module \u001b[38;5;241m=\u001b[39m \u001b[38;5;28mself\u001b[39m\u001b[38;5;241m.\u001b[39m_get_module(\u001b[38;5;28mself\u001b[39m\u001b[38;5;241m.\u001b[39m_class_to_module[name])\n\u001b[0;32m-> 1806\u001b[0m     value \u001b[38;5;241m=\u001b[39m \u001b[38;5;28mgetattr\u001b[39m(module, name)\n\u001b[1;32m   1807\u001b[0m \u001b[38;5;28;01melif\u001b[39;00m name \u001b[38;5;129;01min\u001b[39;00m \u001b[38;5;28mself\u001b[39m\u001b[38;5;241m.\u001b[39m_modules:\n\u001b[1;32m   1808\u001b[0m     value \u001b[38;5;241m=\u001b[39m \u001b[38;5;28mself\u001b[39m\u001b[38;5;241m.\u001b[39m_get_module(name)\n",
      "File \u001b[0;32m~/Data/Documents/Github/rkaunismaa/smolagents/.smolagents/lib/python3.11/site-packages/transformers/utils/import_utils.py:1805\u001b[0m, in \u001b[0;36m_LazyModule.__getattr__\u001b[0;34m(self, name)\u001b[0m\n\u001b[1;32m   1803\u001b[0m     value \u001b[38;5;241m=\u001b[39m Placeholder\n\u001b[1;32m   1804\u001b[0m \u001b[38;5;28;01melif\u001b[39;00m name \u001b[38;5;129;01min\u001b[39;00m \u001b[38;5;28mself\u001b[39m\u001b[38;5;241m.\u001b[39m_class_to_module\u001b[38;5;241m.\u001b[39mkeys():\n\u001b[0;32m-> 1805\u001b[0m     module \u001b[38;5;241m=\u001b[39m \u001b[38;5;28;43mself\u001b[39;49m\u001b[38;5;241;43m.\u001b[39;49m\u001b[43m_get_module\u001b[49m\u001b[43m(\u001b[49m\u001b[38;5;28;43mself\u001b[39;49m\u001b[38;5;241;43m.\u001b[39;49m\u001b[43m_class_to_module\u001b[49m\u001b[43m[\u001b[49m\u001b[43mname\u001b[49m\u001b[43m]\u001b[49m\u001b[43m)\u001b[49m\n\u001b[1;32m   1806\u001b[0m     value \u001b[38;5;241m=\u001b[39m \u001b[38;5;28mgetattr\u001b[39m(module, name)\n\u001b[1;32m   1807\u001b[0m \u001b[38;5;28;01melif\u001b[39;00m name \u001b[38;5;129;01min\u001b[39;00m \u001b[38;5;28mself\u001b[39m\u001b[38;5;241m.\u001b[39m_modules:\n",
      "File \u001b[0;32m~/Data/Documents/Github/rkaunismaa/smolagents/.smolagents/lib/python3.11/site-packages/transformers/utils/import_utils.py:1819\u001b[0m, in \u001b[0;36m_LazyModule._get_module\u001b[0;34m(self, module_name)\u001b[0m\n\u001b[1;32m   1817\u001b[0m     \u001b[38;5;28;01mreturn\u001b[39;00m importlib\u001b[38;5;241m.\u001b[39mimport_module(\u001b[38;5;124m\"\u001b[39m\u001b[38;5;124m.\u001b[39m\u001b[38;5;124m\"\u001b[39m \u001b[38;5;241m+\u001b[39m module_name, \u001b[38;5;28mself\u001b[39m\u001b[38;5;241m.\u001b[39m\u001b[38;5;18m__name__\u001b[39m)\n\u001b[1;32m   1818\u001b[0m \u001b[38;5;28;01mexcept\u001b[39;00m \u001b[38;5;167;01mException\u001b[39;00m \u001b[38;5;28;01mas\u001b[39;00m e:\n\u001b[0;32m-> 1819\u001b[0m     \u001b[38;5;28;01mraise\u001b[39;00m \u001b[38;5;167;01mRuntimeError\u001b[39;00m(\n\u001b[1;32m   1820\u001b[0m         \u001b[38;5;124mf\u001b[39m\u001b[38;5;124m\"\u001b[39m\u001b[38;5;124mFailed to import \u001b[39m\u001b[38;5;132;01m{\u001b[39;00m\u001b[38;5;28mself\u001b[39m\u001b[38;5;241m.\u001b[39m\u001b[38;5;18m__name__\u001b[39m\u001b[38;5;132;01m}\u001b[39;00m\u001b[38;5;124m.\u001b[39m\u001b[38;5;132;01m{\u001b[39;00mmodule_name\u001b[38;5;132;01m}\u001b[39;00m\u001b[38;5;124m because of the following error (look up to see its\u001b[39m\u001b[38;5;124m\"\u001b[39m\n\u001b[1;32m   1821\u001b[0m         \u001b[38;5;124mf\u001b[39m\u001b[38;5;124m\"\u001b[39m\u001b[38;5;124m traceback):\u001b[39m\u001b[38;5;130;01m\\n\u001b[39;00m\u001b[38;5;132;01m{\u001b[39;00me\u001b[38;5;132;01m}\u001b[39;00m\u001b[38;5;124m\"\u001b[39m\n\u001b[1;32m   1822\u001b[0m     ) \u001b[38;5;28;01mfrom\u001b[39;00m\u001b[38;5;250m \u001b[39m\u001b[38;5;21;01me\u001b[39;00m\n",
      "\u001b[0;31mRuntimeError\u001b[0m: Failed to import transformers.models.auto.processing_auto because of the following error (look up to see its traceback):\nNo module named '_bz2'"
     ]
    }
   ],
   "source": [
    "# !pip install smolagents[transformers]\n",
    "from smolagents import CodeAgent, TransformersModel\n",
    "\n",
    "model_id = \"meta-llama/Llama-3.2-3B-Instruct\"\n",
    "\n",
    "model = TransformersModel(model_id=model_id)\n",
    "agent = CodeAgent(tools=[], model=model, add_base_tools=True)\n",
    "\n",
    "agent.run(\n",
    "    \"Could you give me the 118th number in the Fibonacci sequence?\",\n",
    ")"
   ]
  },
  {
   "cell_type": "code",
   "execution_count": 9,
   "metadata": {},
   "outputs": [
    {
     "data": {
      "text/html": [
       "<pre style=\"white-space:pre;overflow-x:auto;line-height:normal;font-family:Menlo,'DejaVu Sans Mono',consolas,'Courier New',monospace\"><span style=\"color: #d4b702; text-decoration-color: #d4b702\">╭──────────────────────────────────────────────────── </span><span style=\"color: #d4b702; text-decoration-color: #d4b702; font-weight: bold\">New run</span><span style=\"color: #d4b702; text-decoration-color: #d4b702\"> ────────────────────────────────────────────────────╮</span>\n",
       "<span style=\"color: #d4b702; text-decoration-color: #d4b702\">│</span>                                                                                                                 <span style=\"color: #d4b702; text-decoration-color: #d4b702\">│</span>\n",
       "<span style=\"color: #d4b702; text-decoration-color: #d4b702\">│</span> <span style=\"font-weight: bold\">Could you give me the 118th number in the Fibonacci sequence?</span>                                                   <span style=\"color: #d4b702; text-decoration-color: #d4b702\">│</span>\n",
       "<span style=\"color: #d4b702; text-decoration-color: #d4b702\">│</span>                                                                                                                 <span style=\"color: #d4b702; text-decoration-color: #d4b702\">│</span>\n",
       "<span style=\"color: #d4b702; text-decoration-color: #d4b702\">╰─ LiteLLMModel - ollama_chat/deepseek-r1:32b ────────────────────────────────────────────────────────────────────╯</span>\n",
       "</pre>\n"
      ],
      "text/plain": [
       "\u001b[38;2;212;183;2m╭─\u001b[0m\u001b[38;2;212;183;2m───────────────────────────────────────────────────\u001b[0m\u001b[38;2;212;183;2m \u001b[0m\u001b[1;38;2;212;183;2mNew run\u001b[0m\u001b[38;2;212;183;2m \u001b[0m\u001b[38;2;212;183;2m───────────────────────────────────────────────────\u001b[0m\u001b[38;2;212;183;2m─╮\u001b[0m\n",
       "\u001b[38;2;212;183;2m│\u001b[0m                                                                                                                 \u001b[38;2;212;183;2m│\u001b[0m\n",
       "\u001b[38;2;212;183;2m│\u001b[0m \u001b[1mCould you give me the 118th number in the Fibonacci sequence?\u001b[0m                                                   \u001b[38;2;212;183;2m│\u001b[0m\n",
       "\u001b[38;2;212;183;2m│\u001b[0m                                                                                                                 \u001b[38;2;212;183;2m│\u001b[0m\n",
       "\u001b[38;2;212;183;2m╰─\u001b[0m\u001b[38;2;212;183;2m LiteLLMModel - ollama_chat/deepseek-r1:32b \u001b[0m\u001b[38;2;212;183;2m───────────────────────────────────────────────────────────────────\u001b[0m\u001b[38;2;212;183;2m─╯\u001b[0m\n"
      ]
     },
     "metadata": {},
     "output_type": "display_data"
    },
    {
     "data": {
      "text/html": [
       "<pre style=\"white-space:pre;overflow-x:auto;line-height:normal;font-family:Menlo,'DejaVu Sans Mono',consolas,'Courier New',monospace\"><span style=\"color: #d4b702; text-decoration-color: #d4b702\">━━━━━━━━━━━━━━━━━━━━━━━━━━━━━━━━━━━━━━━━━━━━━━━━━━━━━ </span><span style=\"font-weight: bold\">Step </span><span style=\"color: #008080; text-decoration-color: #008080; font-weight: bold\">1</span><span style=\"color: #d4b702; text-decoration-color: #d4b702\"> ━━━━━━━━━━━━━━━━━━━━━━━━━━━━━━━━━━━━━━━━━━━━━━━━━━━━━━</span>\n",
       "</pre>\n"
      ],
      "text/plain": [
       "\u001b[38;2;212;183;2m━━━━━━━━━━━━━━━━━━━━━━━━━━━━━━━━━━━━━━━━━━━━━━━━━━━━━ \u001b[0m\u001b[1mStep \u001b[0m\u001b[1;36m1\u001b[0m\u001b[38;2;212;183;2m ━━━━━━━━━━━━━━━━━━━━━━━━━━━━━━━━━━━━━━━━━━━━━━━━━━━━━━\u001b[0m\n"
      ]
     },
     "metadata": {},
     "output_type": "display_data"
    },
    {
     "name": "stdout",
     "output_type": "stream",
     "text": [
      "\n",
      "\u001b[1;31mGive Feedback / Get Help: https://github.com/BerriAI/litellm/issues/new\u001b[0m\n",
      "LiteLLM.Info: If you need to debug this error, use `litellm._turn_on_debug()'.\n",
      "\n"
     ]
    },
    {
     "data": {
      "text/html": [
       "<pre style=\"white-space:pre;overflow-x:auto;line-height:normal;font-family:Menlo,'DejaVu Sans Mono',consolas,'Courier New',monospace\"><span style=\"color: #800000; text-decoration-color: #800000; font-weight: bold\">Error in generating model output:</span>\n",
       "<span style=\"color: #800000; text-decoration-color: #800000; font-weight: bold\">litellm.APIConnectionError: Ollama_chatException - Client error </span><span style=\"color: #800000; text-decoration-color: #800000; font-weight: bold\">'400 Bad Request'</span><span style=\"color: #800000; text-decoration-color: #800000; font-weight: bold\"> for url </span>\n",
       "<span style=\"color: #800000; text-decoration-color: #800000; font-weight: bold\">'http://localhost:11434/api/chat'</span>\n",
       "<span style=\"color: #800000; text-decoration-color: #800000; font-weight: bold\">For more information check: </span><span style=\"color: #800000; text-decoration-color: #800000; font-weight: bold; text-decoration: underline\">https://developer.mozilla.org/en-US/docs/Web/HTTP/Status/400</span>\n",
       "</pre>\n"
      ],
      "text/plain": [
       "\u001b[1;31mError in generating model output:\u001b[0m\n",
       "\u001b[1;31mlitellm.APIConnectionError: Ollama_chatException - Client error \u001b[0m\u001b[1;31m'400 Bad Request'\u001b[0m\u001b[1;31m for url \u001b[0m\n",
       "\u001b[1;31m'http://localhost:11434/api/chat'\u001b[0m\n",
       "\u001b[1;31mFor more information check: \u001b[0m\u001b[1;4;31mhttps://developer.mozilla.org/en-US/docs/Web/HTTP/Status/400\u001b[0m\n"
      ]
     },
     "metadata": {},
     "output_type": "display_data"
    },
    {
     "data": {
      "text/html": [
       "<pre style=\"white-space:pre;overflow-x:auto;line-height:normal;font-family:Menlo,'DejaVu Sans Mono',consolas,'Courier New',monospace\"><span style=\"color: #7f7f7f; text-decoration-color: #7f7f7f\">[Step 0: Duration 0.02 seconds]</span>\n",
       "</pre>\n"
      ],
      "text/plain": [
       "\u001b[2m[Step 0: Duration 0.02 seconds]\u001b[0m\n"
      ]
     },
     "metadata": {},
     "output_type": "display_data"
    },
    {
     "data": {
      "text/html": [
       "<pre style=\"white-space:pre;overflow-x:auto;line-height:normal;font-family:Menlo,'DejaVu Sans Mono',consolas,'Courier New',monospace\"><span style=\"color: #d4b702; text-decoration-color: #d4b702\">━━━━━━━━━━━━━━━━━━━━━━━━━━━━━━━━━━━━━━━━━━━━━━━━━━━━━ </span><span style=\"font-weight: bold\">Step </span><span style=\"color: #008080; text-decoration-color: #008080; font-weight: bold\">2</span><span style=\"color: #d4b702; text-decoration-color: #d4b702\"> ━━━━━━━━━━━━━━━━━━━━━━━━━━━━━━━━━━━━━━━━━━━━━━━━━━━━━━</span>\n",
       "</pre>\n"
      ],
      "text/plain": [
       "\u001b[38;2;212;183;2m━━━━━━━━━━━━━━━━━━━━━━━━━━━━━━━━━━━━━━━━━━━━━━━━━━━━━ \u001b[0m\u001b[1mStep \u001b[0m\u001b[1;36m2\u001b[0m\u001b[38;2;212;183;2m ━━━━━━━━━━━━━━━━━━━━━━━━━━━━━━━━━━━━━━━━━━━━━━━━━━━━━━\u001b[0m\n"
      ]
     },
     "metadata": {},
     "output_type": "display_data"
    },
    {
     "name": "stdout",
     "output_type": "stream",
     "text": [
      "\n",
      "\u001b[1;31mGive Feedback / Get Help: https://github.com/BerriAI/litellm/issues/new\u001b[0m\n",
      "LiteLLM.Info: If you need to debug this error, use `litellm._turn_on_debug()'.\n",
      "\n"
     ]
    },
    {
     "data": {
      "text/html": [
       "<pre style=\"white-space:pre;overflow-x:auto;line-height:normal;font-family:Menlo,'DejaVu Sans Mono',consolas,'Courier New',monospace\"><span style=\"color: #800000; text-decoration-color: #800000; font-weight: bold\">Error in generating model output:</span>\n",
       "<span style=\"color: #800000; text-decoration-color: #800000; font-weight: bold\">litellm.APIConnectionError: Ollama_chatException - Client error </span><span style=\"color: #800000; text-decoration-color: #800000; font-weight: bold\">'400 Bad Request'</span><span style=\"color: #800000; text-decoration-color: #800000; font-weight: bold\"> for url </span>\n",
       "<span style=\"color: #800000; text-decoration-color: #800000; font-weight: bold\">'http://localhost:11434/api/chat'</span>\n",
       "<span style=\"color: #800000; text-decoration-color: #800000; font-weight: bold\">For more information check: </span><span style=\"color: #800000; text-decoration-color: #800000; font-weight: bold; text-decoration: underline\">https://developer.mozilla.org/en-US/docs/Web/HTTP/Status/400</span>\n",
       "</pre>\n"
      ],
      "text/plain": [
       "\u001b[1;31mError in generating model output:\u001b[0m\n",
       "\u001b[1;31mlitellm.APIConnectionError: Ollama_chatException - Client error \u001b[0m\u001b[1;31m'400 Bad Request'\u001b[0m\u001b[1;31m for url \u001b[0m\n",
       "\u001b[1;31m'http://localhost:11434/api/chat'\u001b[0m\n",
       "\u001b[1;31mFor more information check: \u001b[0m\u001b[1;4;31mhttps://developer.mozilla.org/en-US/docs/Web/HTTP/Status/400\u001b[0m\n"
      ]
     },
     "metadata": {},
     "output_type": "display_data"
    },
    {
     "data": {
      "text/html": [
       "<pre style=\"white-space:pre;overflow-x:auto;line-height:normal;font-family:Menlo,'DejaVu Sans Mono',consolas,'Courier New',monospace\"><span style=\"color: #7f7f7f; text-decoration-color: #7f7f7f\">[Step 1: Duration 0.01 seconds]</span>\n",
       "</pre>\n"
      ],
      "text/plain": [
       "\u001b[2m[Step 1: Duration 0.01 seconds]\u001b[0m\n"
      ]
     },
     "metadata": {},
     "output_type": "display_data"
    },
    {
     "data": {
      "text/html": [
       "<pre style=\"white-space:pre;overflow-x:auto;line-height:normal;font-family:Menlo,'DejaVu Sans Mono',consolas,'Courier New',monospace\"><span style=\"color: #d4b702; text-decoration-color: #d4b702\">━━━━━━━━━━━━━━━━━━━━━━━━━━━━━━━━━━━━━━━━━━━━━━━━━━━━━ </span><span style=\"font-weight: bold\">Step </span><span style=\"color: #008080; text-decoration-color: #008080; font-weight: bold\">3</span><span style=\"color: #d4b702; text-decoration-color: #d4b702\"> ━━━━━━━━━━━━━━━━━━━━━━━━━━━━━━━━━━━━━━━━━━━━━━━━━━━━━━</span>\n",
       "</pre>\n"
      ],
      "text/plain": [
       "\u001b[38;2;212;183;2m━━━━━━━━━━━━━━━━━━━━━━━━━━━━━━━━━━━━━━━━━━━━━━━━━━━━━ \u001b[0m\u001b[1mStep \u001b[0m\u001b[1;36m3\u001b[0m\u001b[38;2;212;183;2m ━━━━━━━━━━━━━━━━━━━━━━━━━━━━━━━━━━━━━━━━━━━━━━━━━━━━━━\u001b[0m\n"
      ]
     },
     "metadata": {},
     "output_type": "display_data"
    },
    {
     "name": "stdout",
     "output_type": "stream",
     "text": [
      "\n",
      "\u001b[1;31mGive Feedback / Get Help: https://github.com/BerriAI/litellm/issues/new\u001b[0m\n",
      "LiteLLM.Info: If you need to debug this error, use `litellm._turn_on_debug()'.\n",
      "\n"
     ]
    },
    {
     "data": {
      "text/html": [
       "<pre style=\"white-space:pre;overflow-x:auto;line-height:normal;font-family:Menlo,'DejaVu Sans Mono',consolas,'Courier New',monospace\"><span style=\"color: #800000; text-decoration-color: #800000; font-weight: bold\">Error in generating model output:</span>\n",
       "<span style=\"color: #800000; text-decoration-color: #800000; font-weight: bold\">litellm.APIConnectionError: Ollama_chatException - Client error </span><span style=\"color: #800000; text-decoration-color: #800000; font-weight: bold\">'400 Bad Request'</span><span style=\"color: #800000; text-decoration-color: #800000; font-weight: bold\"> for url </span>\n",
       "<span style=\"color: #800000; text-decoration-color: #800000; font-weight: bold\">'http://localhost:11434/api/chat'</span>\n",
       "<span style=\"color: #800000; text-decoration-color: #800000; font-weight: bold\">For more information check: </span><span style=\"color: #800000; text-decoration-color: #800000; font-weight: bold; text-decoration: underline\">https://developer.mozilla.org/en-US/docs/Web/HTTP/Status/400</span>\n",
       "</pre>\n"
      ],
      "text/plain": [
       "\u001b[1;31mError in generating model output:\u001b[0m\n",
       "\u001b[1;31mlitellm.APIConnectionError: Ollama_chatException - Client error \u001b[0m\u001b[1;31m'400 Bad Request'\u001b[0m\u001b[1;31m for url \u001b[0m\n",
       "\u001b[1;31m'http://localhost:11434/api/chat'\u001b[0m\n",
       "\u001b[1;31mFor more information check: \u001b[0m\u001b[1;4;31mhttps://developer.mozilla.org/en-US/docs/Web/HTTP/Status/400\u001b[0m\n"
      ]
     },
     "metadata": {},
     "output_type": "display_data"
    },
    {
     "data": {
      "text/html": [
       "<pre style=\"white-space:pre;overflow-x:auto;line-height:normal;font-family:Menlo,'DejaVu Sans Mono',consolas,'Courier New',monospace\"><span style=\"color: #7f7f7f; text-decoration-color: #7f7f7f\">[Step 2: Duration 0.01 seconds]</span>\n",
       "</pre>\n"
      ],
      "text/plain": [
       "\u001b[2m[Step 2: Duration 0.01 seconds]\u001b[0m\n"
      ]
     },
     "metadata": {},
     "output_type": "display_data"
    },
    {
     "data": {
      "text/html": [
       "<pre style=\"white-space:pre;overflow-x:auto;line-height:normal;font-family:Menlo,'DejaVu Sans Mono',consolas,'Courier New',monospace\"><span style=\"color: #d4b702; text-decoration-color: #d4b702\">━━━━━━━━━━━━━━━━━━━━━━━━━━━━━━━━━━━━━━━━━━━━━━━━━━━━━ </span><span style=\"font-weight: bold\">Step </span><span style=\"color: #008080; text-decoration-color: #008080; font-weight: bold\">4</span><span style=\"color: #d4b702; text-decoration-color: #d4b702\"> ━━━━━━━━━━━━━━━━━━━━━━━━━━━━━━━━━━━━━━━━━━━━━━━━━━━━━━</span>\n",
       "</pre>\n"
      ],
      "text/plain": [
       "\u001b[38;2;212;183;2m━━━━━━━━━━━━━━━━━━━━━━━━━━━━━━━━━━━━━━━━━━━━━━━━━━━━━ \u001b[0m\u001b[1mStep \u001b[0m\u001b[1;36m4\u001b[0m\u001b[38;2;212;183;2m ━━━━━━━━━━━━━━━━━━━━━━━━━━━━━━━━━━━━━━━━━━━━━━━━━━━━━━\u001b[0m\n"
      ]
     },
     "metadata": {},
     "output_type": "display_data"
    },
    {
     "name": "stdout",
     "output_type": "stream",
     "text": [
      "\n",
      "\u001b[1;31mGive Feedback / Get Help: https://github.com/BerriAI/litellm/issues/new\u001b[0m\n",
      "LiteLLM.Info: If you need to debug this error, use `litellm._turn_on_debug()'.\n",
      "\n"
     ]
    },
    {
     "data": {
      "text/html": [
       "<pre style=\"white-space:pre;overflow-x:auto;line-height:normal;font-family:Menlo,'DejaVu Sans Mono',consolas,'Courier New',monospace\"><span style=\"color: #800000; text-decoration-color: #800000; font-weight: bold\">Error in generating model output:</span>\n",
       "<span style=\"color: #800000; text-decoration-color: #800000; font-weight: bold\">litellm.APIConnectionError: Ollama_chatException - Client error </span><span style=\"color: #800000; text-decoration-color: #800000; font-weight: bold\">'400 Bad Request'</span><span style=\"color: #800000; text-decoration-color: #800000; font-weight: bold\"> for url </span>\n",
       "<span style=\"color: #800000; text-decoration-color: #800000; font-weight: bold\">'http://localhost:11434/api/chat'</span>\n",
       "<span style=\"color: #800000; text-decoration-color: #800000; font-weight: bold\">For more information check: </span><span style=\"color: #800000; text-decoration-color: #800000; font-weight: bold; text-decoration: underline\">https://developer.mozilla.org/en-US/docs/Web/HTTP/Status/400</span>\n",
       "</pre>\n"
      ],
      "text/plain": [
       "\u001b[1;31mError in generating model output:\u001b[0m\n",
       "\u001b[1;31mlitellm.APIConnectionError: Ollama_chatException - Client error \u001b[0m\u001b[1;31m'400 Bad Request'\u001b[0m\u001b[1;31m for url \u001b[0m\n",
       "\u001b[1;31m'http://localhost:11434/api/chat'\u001b[0m\n",
       "\u001b[1;31mFor more information check: \u001b[0m\u001b[1;4;31mhttps://developer.mozilla.org/en-US/docs/Web/HTTP/Status/400\u001b[0m\n"
      ]
     },
     "metadata": {},
     "output_type": "display_data"
    },
    {
     "data": {
      "text/html": [
       "<pre style=\"white-space:pre;overflow-x:auto;line-height:normal;font-family:Menlo,'DejaVu Sans Mono',consolas,'Courier New',monospace\"><span style=\"color: #7f7f7f; text-decoration-color: #7f7f7f\">[Step 3: Duration 0.01 seconds]</span>\n",
       "</pre>\n"
      ],
      "text/plain": [
       "\u001b[2m[Step 3: Duration 0.01 seconds]\u001b[0m\n"
      ]
     },
     "metadata": {},
     "output_type": "display_data"
    },
    {
     "data": {
      "text/html": [
       "<pre style=\"white-space:pre;overflow-x:auto;line-height:normal;font-family:Menlo,'DejaVu Sans Mono',consolas,'Courier New',monospace\"><span style=\"color: #d4b702; text-decoration-color: #d4b702\">━━━━━━━━━━━━━━━━━━━━━━━━━━━━━━━━━━━━━━━━━━━━━━━━━━━━━ </span><span style=\"font-weight: bold\">Step </span><span style=\"color: #008080; text-decoration-color: #008080; font-weight: bold\">5</span><span style=\"color: #d4b702; text-decoration-color: #d4b702\"> ━━━━━━━━━━━━━━━━━━━━━━━━━━━━━━━━━━━━━━━━━━━━━━━━━━━━━━</span>\n",
       "</pre>\n"
      ],
      "text/plain": [
       "\u001b[38;2;212;183;2m━━━━━━━━━━━━━━━━━━━━━━━━━━━━━━━━━━━━━━━━━━━━━━━━━━━━━ \u001b[0m\u001b[1mStep \u001b[0m\u001b[1;36m5\u001b[0m\u001b[38;2;212;183;2m ━━━━━━━━━━━━━━━━━━━━━━━━━━━━━━━━━━━━━━━━━━━━━━━━━━━━━━\u001b[0m\n"
      ]
     },
     "metadata": {},
     "output_type": "display_data"
    },
    {
     "name": "stdout",
     "output_type": "stream",
     "text": [
      "\n",
      "\u001b[1;31mGive Feedback / Get Help: https://github.com/BerriAI/litellm/issues/new\u001b[0m\n",
      "LiteLLM.Info: If you need to debug this error, use `litellm._turn_on_debug()'.\n",
      "\n"
     ]
    },
    {
     "data": {
      "text/html": [
       "<pre style=\"white-space:pre;overflow-x:auto;line-height:normal;font-family:Menlo,'DejaVu Sans Mono',consolas,'Courier New',monospace\"><span style=\"color: #800000; text-decoration-color: #800000; font-weight: bold\">Error in generating model output:</span>\n",
       "<span style=\"color: #800000; text-decoration-color: #800000; font-weight: bold\">litellm.APIConnectionError: Ollama_chatException - Client error </span><span style=\"color: #800000; text-decoration-color: #800000; font-weight: bold\">'400 Bad Request'</span><span style=\"color: #800000; text-decoration-color: #800000; font-weight: bold\"> for url </span>\n",
       "<span style=\"color: #800000; text-decoration-color: #800000; font-weight: bold\">'http://localhost:11434/api/chat'</span>\n",
       "<span style=\"color: #800000; text-decoration-color: #800000; font-weight: bold\">For more information check: </span><span style=\"color: #800000; text-decoration-color: #800000; font-weight: bold; text-decoration: underline\">https://developer.mozilla.org/en-US/docs/Web/HTTP/Status/400</span>\n",
       "</pre>\n"
      ],
      "text/plain": [
       "\u001b[1;31mError in generating model output:\u001b[0m\n",
       "\u001b[1;31mlitellm.APIConnectionError: Ollama_chatException - Client error \u001b[0m\u001b[1;31m'400 Bad Request'\u001b[0m\u001b[1;31m for url \u001b[0m\n",
       "\u001b[1;31m'http://localhost:11434/api/chat'\u001b[0m\n",
       "\u001b[1;31mFor more information check: \u001b[0m\u001b[1;4;31mhttps://developer.mozilla.org/en-US/docs/Web/HTTP/Status/400\u001b[0m\n"
      ]
     },
     "metadata": {},
     "output_type": "display_data"
    },
    {
     "data": {
      "text/html": [
       "<pre style=\"white-space:pre;overflow-x:auto;line-height:normal;font-family:Menlo,'DejaVu Sans Mono',consolas,'Courier New',monospace\"><span style=\"color: #7f7f7f; text-decoration-color: #7f7f7f\">[Step 4: Duration 0.01 seconds]</span>\n",
       "</pre>\n"
      ],
      "text/plain": [
       "\u001b[2m[Step 4: Duration 0.01 seconds]\u001b[0m\n"
      ]
     },
     "metadata": {},
     "output_type": "display_data"
    },
    {
     "data": {
      "text/html": [
       "<pre style=\"white-space:pre;overflow-x:auto;line-height:normal;font-family:Menlo,'DejaVu Sans Mono',consolas,'Courier New',monospace\"><span style=\"color: #d4b702; text-decoration-color: #d4b702\">━━━━━━━━━━━━━━━━━━━━━━━━━━━━━━━━━━━━━━━━━━━━━━━━━━━━━ </span><span style=\"font-weight: bold\">Step </span><span style=\"color: #008080; text-decoration-color: #008080; font-weight: bold\">6</span><span style=\"color: #d4b702; text-decoration-color: #d4b702\"> ━━━━━━━━━━━━━━━━━━━━━━━━━━━━━━━━━━━━━━━━━━━━━━━━━━━━━━</span>\n",
       "</pre>\n"
      ],
      "text/plain": [
       "\u001b[38;2;212;183;2m━━━━━━━━━━━━━━━━━━━━━━━━━━━━━━━━━━━━━━━━━━━━━━━━━━━━━ \u001b[0m\u001b[1mStep \u001b[0m\u001b[1;36m6\u001b[0m\u001b[38;2;212;183;2m ━━━━━━━━━━━━━━━━━━━━━━━━━━━━━━━━━━━━━━━━━━━━━━━━━━━━━━\u001b[0m\n"
      ]
     },
     "metadata": {},
     "output_type": "display_data"
    },
    {
     "name": "stdout",
     "output_type": "stream",
     "text": [
      "\n",
      "\u001b[1;31mGive Feedback / Get Help: https://github.com/BerriAI/litellm/issues/new\u001b[0m\n",
      "LiteLLM.Info: If you need to debug this error, use `litellm._turn_on_debug()'.\n",
      "\n"
     ]
    },
    {
     "data": {
      "text/html": [
       "<pre style=\"white-space:pre;overflow-x:auto;line-height:normal;font-family:Menlo,'DejaVu Sans Mono',consolas,'Courier New',monospace\"><span style=\"color: #800000; text-decoration-color: #800000; font-weight: bold\">Error in generating model output:</span>\n",
       "<span style=\"color: #800000; text-decoration-color: #800000; font-weight: bold\">litellm.APIConnectionError: Ollama_chatException - Client error </span><span style=\"color: #800000; text-decoration-color: #800000; font-weight: bold\">'400 Bad Request'</span><span style=\"color: #800000; text-decoration-color: #800000; font-weight: bold\"> for url </span>\n",
       "<span style=\"color: #800000; text-decoration-color: #800000; font-weight: bold\">'http://localhost:11434/api/chat'</span>\n",
       "<span style=\"color: #800000; text-decoration-color: #800000; font-weight: bold\">For more information check: </span><span style=\"color: #800000; text-decoration-color: #800000; font-weight: bold; text-decoration: underline\">https://developer.mozilla.org/en-US/docs/Web/HTTP/Status/400</span>\n",
       "</pre>\n"
      ],
      "text/plain": [
       "\u001b[1;31mError in generating model output:\u001b[0m\n",
       "\u001b[1;31mlitellm.APIConnectionError: Ollama_chatException - Client error \u001b[0m\u001b[1;31m'400 Bad Request'\u001b[0m\u001b[1;31m for url \u001b[0m\n",
       "\u001b[1;31m'http://localhost:11434/api/chat'\u001b[0m\n",
       "\u001b[1;31mFor more information check: \u001b[0m\u001b[1;4;31mhttps://developer.mozilla.org/en-US/docs/Web/HTTP/Status/400\u001b[0m\n"
      ]
     },
     "metadata": {},
     "output_type": "display_data"
    },
    {
     "data": {
      "text/html": [
       "<pre style=\"white-space:pre;overflow-x:auto;line-height:normal;font-family:Menlo,'DejaVu Sans Mono',consolas,'Courier New',monospace\"><span style=\"color: #7f7f7f; text-decoration-color: #7f7f7f\">[Step 5: Duration 0.01 seconds]</span>\n",
       "</pre>\n"
      ],
      "text/plain": [
       "\u001b[2m[Step 5: Duration 0.01 seconds]\u001b[0m\n"
      ]
     },
     "metadata": {},
     "output_type": "display_data"
    },
    {
     "name": "stdout",
     "output_type": "stream",
     "text": [
      "\n",
      "\u001b[1;31mGive Feedback / Get Help: https://github.com/BerriAI/litellm/issues/new\u001b[0m\n",
      "LiteLLM.Info: If you need to debug this error, use `litellm._turn_on_debug()'.\n",
      "\n"
     ]
    },
    {
     "data": {
      "text/html": [
       "<pre style=\"white-space:pre;overflow-x:auto;line-height:normal;font-family:Menlo,'DejaVu Sans Mono',consolas,'Courier New',monospace\"><span style=\"color: #800000; text-decoration-color: #800000; font-weight: bold\">Reached max steps.</span>\n",
       "</pre>\n"
      ],
      "text/plain": [
       "\u001b[1;31mReached max steps.\u001b[0m\n"
      ]
     },
     "metadata": {},
     "output_type": "display_data"
    },
    {
     "data": {
      "text/html": [
       "<pre style=\"white-space:pre;overflow-x:auto;line-height:normal;font-family:Menlo,'DejaVu Sans Mono',consolas,'Courier New',monospace\"><span style=\"color: #7f7f7f; text-decoration-color: #7f7f7f\">[Step 6: Duration 0.01 seconds]</span>\n",
       "</pre>\n"
      ],
      "text/plain": [
       "\u001b[2m[Step 6: Duration 0.01 seconds]\u001b[0m\n"
      ]
     },
     "metadata": {},
     "output_type": "display_data"
    },
    {
     "data": {
      "text/plain": [
       "\"Error in generating final LLM output:\\nlitellm.APIConnectionError: Ollama_chatException - Client error '400 Bad Request' for url 'http://localhost:11434/api/chat'\\nFor more information check: https://developer.mozilla.org/en-US/docs/Web/HTTP/Status/400\""
      ]
     },
     "execution_count": 9,
     "metadata": {},
     "output_type": "execute_result"
    }
   ],
   "source": [
    "# !pip install smolagents[litellm]\n",
    "from smolagents import CodeAgent, LiteLLMModel\n",
    "\n",
    "model = LiteLLMModel(\n",
    "    # model_id=\"ollama_chat/llama3.2\", # This model is a bit weak for agentic behaviours though\n",
    "    model_id=\"ollama_chat/deepseek-r1:32b\", \n",
    "    api_base=\"http://localhost:11434\", # replace with 127.0.0.1:11434 or remote open-ai compatible server if necessary\n",
    "    # api_key=\"12345\" # replace with API key if necessary\n",
    "    num_ctx=8192 # ollama default is 2048 which will fail horribly. 8192 works for easy tasks, more is better. Check https://huggingface.co/spaces/NyxKrage/LLM-Model-VRAM-Calculator to calculate how much VRAM this will need for the selected model.\n",
    ")\n",
    "\n",
    "agent = CodeAgent(tools=[], model=model, add_base_tools=True)\n",
    "\n",
    "agent.run(\n",
    "    \"Could you give me the 118th number in the Fibonacci sequence?\",\n",
    ")"
   ]
  }
 ],
 "metadata": {
  "kernelspec": {
   "display_name": ".smolagents",
   "language": "python",
   "name": "python3"
  },
  "language_info": {
   "codemirror_mode": {
    "name": "ipython",
    "version": 3
   },
   "file_extension": ".py",
   "mimetype": "text/x-python",
   "name": "python",
   "nbconvert_exporter": "python",
   "pygments_lexer": "ipython3",
   "version": "3.11.8"
  }
 },
 "nbformat": 4,
 "nbformat_minor": 2
}
