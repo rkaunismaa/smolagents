{
 "cells": [
  {
   "cell_type": "markdown",
   "metadata": {},
   "source": [
    "[smolagents repo](https://github.com/huggingface/smolagents)"
   ]
  },
  {
   "cell_type": "code",
   "execution_count": 1,
   "metadata": {},
   "outputs": [
    {
     "name": "stderr",
     "output_type": "stream",
     "text": [
      "/home/rob/Data/Documents/Github/rkaunismaa/smolagents/.smolagents/lib/python3.11/site-packages/tqdm/auto.py:21: TqdmWarning: IProgress not found. Please update jupyter and ipywidgets. See https://ipywidgets.readthedocs.io/en/stable/user_install.html\n",
      "  from .autonotebook import tqdm as notebook_tqdm\n"
     ]
    },
    {
     "data": {
      "text/html": [
       "<pre style=\"white-space:pre;overflow-x:auto;line-height:normal;font-family:Menlo,'DejaVu Sans Mono',consolas,'Courier New',monospace\"><span style=\"color: #d4b702; text-decoration-color: #d4b702\">╭──────────────────────────────────────────────────── </span><span style=\"color: #d4b702; text-decoration-color: #d4b702; font-weight: bold\">New run</span><span style=\"color: #d4b702; text-decoration-color: #d4b702\"> ────────────────────────────────────────────────────╮</span>\n",
       "<span style=\"color: #d4b702; text-decoration-color: #d4b702\">│</span>                                                                                                                 <span style=\"color: #d4b702; text-decoration-color: #d4b702\">│</span>\n",
       "<span style=\"color: #d4b702; text-decoration-color: #d4b702\">│</span> <span style=\"font-weight: bold\">How many seconds would it take for a leopard at full speed to run through Pont des Arts?</span>                        <span style=\"color: #d4b702; text-decoration-color: #d4b702\">│</span>\n",
       "<span style=\"color: #d4b702; text-decoration-color: #d4b702\">│</span>                                                                                                                 <span style=\"color: #d4b702; text-decoration-color: #d4b702\">│</span>\n",
       "<span style=\"color: #d4b702; text-decoration-color: #d4b702\">╰─ HfApiModel - Qwen/Qwen2.5-Coder-32B-Instruct ──────────────────────────────────────────────────────────────────╯</span>\n",
       "</pre>\n"
      ],
      "text/plain": [
       "\u001b[38;2;212;183;2m╭─\u001b[0m\u001b[38;2;212;183;2m───────────────────────────────────────────────────\u001b[0m\u001b[38;2;212;183;2m \u001b[0m\u001b[1;38;2;212;183;2mNew run\u001b[0m\u001b[38;2;212;183;2m \u001b[0m\u001b[38;2;212;183;2m───────────────────────────────────────────────────\u001b[0m\u001b[38;2;212;183;2m─╮\u001b[0m\n",
       "\u001b[38;2;212;183;2m│\u001b[0m                                                                                                                 \u001b[38;2;212;183;2m│\u001b[0m\n",
       "\u001b[38;2;212;183;2m│\u001b[0m \u001b[1mHow many seconds would it take for a leopard at full speed to run through Pont des Arts?\u001b[0m                        \u001b[38;2;212;183;2m│\u001b[0m\n",
       "\u001b[38;2;212;183;2m│\u001b[0m                                                                                                                 \u001b[38;2;212;183;2m│\u001b[0m\n",
       "\u001b[38;2;212;183;2m╰─\u001b[0m\u001b[38;2;212;183;2m HfApiModel - Qwen/Qwen2.5-Coder-32B-Instruct \u001b[0m\u001b[38;2;212;183;2m─────────────────────────────────────────────────────────────────\u001b[0m\u001b[38;2;212;183;2m─╯\u001b[0m\n"
      ]
     },
     "metadata": {},
     "output_type": "display_data"
    },
    {
     "data": {
      "text/html": [
       "<pre style=\"white-space:pre;overflow-x:auto;line-height:normal;font-family:Menlo,'DejaVu Sans Mono',consolas,'Courier New',monospace\"><span style=\"color: #d4b702; text-decoration-color: #d4b702\">━━━━━━━━━━━━━━━━━━━━━━━━━━━━━━━━━━━━━━━━━━━━━━━━━━━━━ </span><span style=\"font-weight: bold\">Step </span><span style=\"color: #008080; text-decoration-color: #008080; font-weight: bold\">1</span><span style=\"color: #d4b702; text-decoration-color: #d4b702\"> ━━━━━━━━━━━━━━━━━━━━━━━━━━━━━━━━━━━━━━━━━━━━━━━━━━━━━━</span>\n",
       "</pre>\n"
      ],
      "text/plain": [
       "\u001b[38;2;212;183;2m━━━━━━━━━━━━━━━━━━━━━━━━━━━━━━━━━━━━━━━━━━━━━━━━━━━━━ \u001b[0m\u001b[1mStep \u001b[0m\u001b[1;36m1\u001b[0m\u001b[38;2;212;183;2m ━━━━━━━━━━━━━━━━━━━━━━━━━━━━━━━━━━━━━━━━━━━━━━━━━━━━━━\u001b[0m\n"
      ]
     },
     "metadata": {},
     "output_type": "display_data"
    },
    {
     "data": {
      "text/html": [
       "<pre style=\"white-space:pre;overflow-x:auto;line-height:normal;font-family:Menlo,'DejaVu Sans Mono',consolas,'Courier New',monospace\"> ─ <span style=\"font-weight: bold\">Executing parsed code:</span> ──────────────────────────────────────────────────────────────────────────────────────── \n",
       "  <span style=\"color: #f8f8f2; text-decoration-color: #f8f8f2; background-color: #272822\">pont_des_arts_length </span><span style=\"color: #ff4689; text-decoration-color: #ff4689; background-color: #272822\">=</span><span style=\"color: #f8f8f2; text-decoration-color: #f8f8f2; background-color: #272822\"> web_search(query</span><span style=\"color: #ff4689; text-decoration-color: #ff4689; background-color: #272822\">=</span><span style=\"color: #e6db74; text-decoration-color: #e6db74; background-color: #272822\">\"length of pont des arts in meters\"</span><span style=\"color: #f8f8f2; text-decoration-color: #f8f8f2; background-color: #272822\">)</span><span style=\"background-color: #272822\">                                   </span>  \n",
       "  <span style=\"color: #f8f8f2; text-decoration-color: #f8f8f2; background-color: #272822\">print(pont_des_arts_length)</span><span style=\"background-color: #272822\">                                                                                    </span>  \n",
       " ───────────────────────────────────────────────────────────────────────────────────────────────────────────────── \n",
       "</pre>\n"
      ],
      "text/plain": [
       " ─ \u001b[1mExecuting parsed code:\u001b[0m ──────────────────────────────────────────────────────────────────────────────────────── \n",
       "  \u001b[38;2;248;248;242;48;2;39;40;34mpont_des_arts_length\u001b[0m\u001b[38;2;248;248;242;48;2;39;40;34m \u001b[0m\u001b[38;2;255;70;137;48;2;39;40;34m=\u001b[0m\u001b[38;2;248;248;242;48;2;39;40;34m \u001b[0m\u001b[38;2;248;248;242;48;2;39;40;34mweb_search\u001b[0m\u001b[38;2;248;248;242;48;2;39;40;34m(\u001b[0m\u001b[38;2;248;248;242;48;2;39;40;34mquery\u001b[0m\u001b[38;2;255;70;137;48;2;39;40;34m=\u001b[0m\u001b[38;2;230;219;116;48;2;39;40;34m\"\u001b[0m\u001b[38;2;230;219;116;48;2;39;40;34mlength of pont des arts in meters\u001b[0m\u001b[38;2;230;219;116;48;2;39;40;34m\"\u001b[0m\u001b[38;2;248;248;242;48;2;39;40;34m)\u001b[0m\u001b[48;2;39;40;34m                                   \u001b[0m  \n",
       "  \u001b[38;2;248;248;242;48;2;39;40;34mprint\u001b[0m\u001b[38;2;248;248;242;48;2;39;40;34m(\u001b[0m\u001b[38;2;248;248;242;48;2;39;40;34mpont_des_arts_length\u001b[0m\u001b[38;2;248;248;242;48;2;39;40;34m)\u001b[0m\u001b[48;2;39;40;34m                                                                                    \u001b[0m  \n",
       " ───────────────────────────────────────────────────────────────────────────────────────────────────────────────── \n"
      ]
     },
     "metadata": {},
     "output_type": "display_data"
    },
    {
     "data": {
      "text/html": [
       "<pre style=\"white-space:pre;overflow-x:auto;line-height:normal;font-family:Menlo,'DejaVu Sans Mono',consolas,'Courier New',monospace\"><span style=\"font-weight: bold\">Execution logs:</span>\n",
       "## Search Results\n",
       "\n",
       "[Pont des Arts, Paris, France - LatLong](https://www.latlong.net/place/pont-des-arts-paris-france-32945.html)\n",
       "Pont des Arts, Paris, France. Latitude and longitude coordinates are: 48.858334, 2.337369. Pont des Arts is a \n",
       "scenic pedestrian bridge over the Seine River in Paris, France. The bridge connects the Musée du Louvre and the \n",
       "Institut de France. It has a length of 155 m (509 ft) and a width of 11 m (36 ft). It was constructed between 1981 \n",
       "and 1984.\n",
       "\n",
       "[Pont des Arts - Wikipedia](https://en.wikipedia.org/wiki/Pont_des_Arts)\n",
       "The Pont des Arts (French pronunciation: [pɔ̃ dez‿aʁ]) or Passerelle des Arts ([pasʁɛl-]) is a pedestrian bridge in\n",
       "Paris which crosses the River Seine. It links the Institut de France and the central square ( cour carrée ) of the \n",
       "Palais du Louvre , (which had been termed the \"Palais des Arts\" under the First French Empire ).\n",
       "\n",
       "[The Unique Architecture of the Pont des Arts in \n",
       "Paris](https://www.parisartstravel.com/the-unique-architecture-of-the-pont-des-arts-in-paris/)\n",
       "The bridge is composed of nine arches and spans approximately 155 meters in length. Its iron structure, adorned \n",
       "with numerous decorative details, gives it an elegant and romantic appearance. ... The Pont des Arts was first \n",
       "opened in 1804; however, the current bridge that we see today is a reconstruction dating back to 1984. During the \n",
       "1980s ...\n",
       "\n",
       "[10 Picturesque Facts About The Pont Des Arts](https://art-facts.com/pont-des-arts-facts/)\n",
       "1. It connects two famous buildings in the heart of Paris. The Pont des Arts literally translates to \"The Bridge of\n",
       "the Arts\" and is also sometimes referred to as the \"Passarelles des Arts.\"That's because it's a pedestrian-only \n",
       "bridge that allows people to easily cross the River Seine in the heart of Paris.\n",
       "\n",
       "[17 Famous Bridges in France: Must-See Wonders! - Salut from \n",
       "Paris](https://www.salutfromparis.com/famous-bridges-in-france/)\n",
       "(built in 2004, 2460m length) Millau Viaduct in Aveyron - the world's tallest bridge. ... #10 Pont des Arts, Paris \n",
       "(initial construction between 1801 and 1804, 155m length) ... Spanning about 60 meters, it's a testament to \n",
       "nature's artistry, formed by the erosive action of the Ardèche River over millennia. ...\n",
       "\n",
       "[Exploring the History of the Pont des Arts in \n",
       "Paris](https://www.parisartstravel.com/exploring-the-history-of-the-pont-des-arts-in-paris/)\n",
       "This new bridge featured seven arches and a length of 155 meters. The Pont des Arts continued to evolve with the \n",
       "city's changing needs. In the 20th century, the bridge faced increased traffic demands, leading to rising concerns \n",
       "about its stability. As a result, it underwent another major renovation in 1984, modernizing the structure and ...\n",
       "\n",
       "[Pont des Arts - Wikidata](https://www.wikidata.org/wiki/Q1329141)\n",
       "bridge across the Seine in Paris. This page was last edited on 21 November 2024, at 14:39. All structured data from\n",
       "the main, Property, Lexeme, and EntitySchema namespaces is available under the Creative Commons CC0 License; text \n",
       "in the other namespaces is available under the Creative Commons Attribution-ShareAlike License; additional terms \n",
       "may apply.\n",
       "\n",
       "[Pont des Arts Map - Bridge - Paris, Île-de-France, France - Mapcarta](https://mapcarta.com/29198828)\n",
       "The Pont Neuf is the oldest standing bridge across the river Seine in Paris, France. Pont Neuf is situated 330 \n",
       "metres east of Pont des Arts.\n",
       "\n",
       "[Pont des Arts - Medium](https://medium.com/@SATPALDA/pont-des-arts-308c7214834c)\n",
       "The Pont des Arts is a pedestrian Arch shape bridge made up of steel in Paris, France, over the River Seine. \n",
       "WorldView-3 satellite courtesy of DigitalGlobe captured this UNESCO World Heritage Site…\n",
       "\n",
       "[Pont Des Arts, Paris: How To Reach, Best Time &amp; Tips - \n",
       "Thrillophilia](https://www.thrillophilia.com/attractions/pont-des-arts)\n",
       "1. By Metro: The nearest metro stations to Pont des Arts are. Pont des Arts - Quai De Conti, situated 80 meters \n",
       "from the bridge and walking time of 2 min; Pont des Arts, situated 158 meters from the bridge and walking time of 3\n",
       "min; Pont du Carrousel - Quai Voltaire, 326 meters from the bridge and walking time of 5 min\n",
       "\n",
       "Out: None\n",
       "</pre>\n"
      ],
      "text/plain": [
       "\u001b[1mExecution logs:\u001b[0m\n",
       "## Search Results\n",
       "\n",
       "[Pont des Arts, Paris, France - LatLong](https://www.latlong.net/place/pont-des-arts-paris-france-32945.html)\n",
       "Pont des Arts, Paris, France. Latitude and longitude coordinates are: 48.858334, 2.337369. Pont des Arts is a \n",
       "scenic pedestrian bridge over the Seine River in Paris, France. The bridge connects the Musée du Louvre and the \n",
       "Institut de France. It has a length of 155 m (509 ft) and a width of 11 m (36 ft). It was constructed between 1981 \n",
       "and 1984.\n",
       "\n",
       "[Pont des Arts - Wikipedia](https://en.wikipedia.org/wiki/Pont_des_Arts)\n",
       "The Pont des Arts (French pronunciation: [pɔ̃ dez‿aʁ]) or Passerelle des Arts ([pasʁɛl-]) is a pedestrian bridge in\n",
       "Paris which crosses the River Seine. It links the Institut de France and the central square ( cour carrée ) of the \n",
       "Palais du Louvre , (which had been termed the \"Palais des Arts\" under the First French Empire ).\n",
       "\n",
       "[The Unique Architecture of the Pont des Arts in \n",
       "Paris](https://www.parisartstravel.com/the-unique-architecture-of-the-pont-des-arts-in-paris/)\n",
       "The bridge is composed of nine arches and spans approximately 155 meters in length. Its iron structure, adorned \n",
       "with numerous decorative details, gives it an elegant and romantic appearance. ... The Pont des Arts was first \n",
       "opened in 1804; however, the current bridge that we see today is a reconstruction dating back to 1984. During the \n",
       "1980s ...\n",
       "\n",
       "[10 Picturesque Facts About The Pont Des Arts](https://art-facts.com/pont-des-arts-facts/)\n",
       "1. It connects two famous buildings in the heart of Paris. The Pont des Arts literally translates to \"The Bridge of\n",
       "the Arts\" and is also sometimes referred to as the \"Passarelles des Arts.\"That's because it's a pedestrian-only \n",
       "bridge that allows people to easily cross the River Seine in the heart of Paris.\n",
       "\n",
       "[17 Famous Bridges in France: Must-See Wonders! - Salut from \n",
       "Paris](https://www.salutfromparis.com/famous-bridges-in-france/)\n",
       "(built in 2004, 2460m length) Millau Viaduct in Aveyron - the world's tallest bridge. ... #10 Pont des Arts, Paris \n",
       "(initial construction between 1801 and 1804, 155m length) ... Spanning about 60 meters, it's a testament to \n",
       "nature's artistry, formed by the erosive action of the Ardèche River over millennia. ...\n",
       "\n",
       "[Exploring the History of the Pont des Arts in \n",
       "Paris](https://www.parisartstravel.com/exploring-the-history-of-the-pont-des-arts-in-paris/)\n",
       "This new bridge featured seven arches and a length of 155 meters. The Pont des Arts continued to evolve with the \n",
       "city's changing needs. In the 20th century, the bridge faced increased traffic demands, leading to rising concerns \n",
       "about its stability. As a result, it underwent another major renovation in 1984, modernizing the structure and ...\n",
       "\n",
       "[Pont des Arts - Wikidata](https://www.wikidata.org/wiki/Q1329141)\n",
       "bridge across the Seine in Paris. This page was last edited on 21 November 2024, at 14:39. All structured data from\n",
       "the main, Property, Lexeme, and EntitySchema namespaces is available under the Creative Commons CC0 License; text \n",
       "in the other namespaces is available under the Creative Commons Attribution-ShareAlike License; additional terms \n",
       "may apply.\n",
       "\n",
       "[Pont des Arts Map - Bridge - Paris, Île-de-France, France - Mapcarta](https://mapcarta.com/29198828)\n",
       "The Pont Neuf is the oldest standing bridge across the river Seine in Paris, France. Pont Neuf is situated 330 \n",
       "metres east of Pont des Arts.\n",
       "\n",
       "[Pont des Arts - Medium](https://medium.com/@SATPALDA/pont-des-arts-308c7214834c)\n",
       "The Pont des Arts is a pedestrian Arch shape bridge made up of steel in Paris, France, over the River Seine. \n",
       "WorldView-3 satellite courtesy of DigitalGlobe captured this UNESCO World Heritage Site…\n",
       "\n",
       "[Pont Des Arts, Paris: How To Reach, Best Time & Tips - \n",
       "Thrillophilia](https://www.thrillophilia.com/attractions/pont-des-arts)\n",
       "1. By Metro: The nearest metro stations to Pont des Arts are. Pont des Arts - Quai De Conti, situated 80 meters \n",
       "from the bridge and walking time of 2 min; Pont des Arts, situated 158 meters from the bridge and walking time of 3\n",
       "min; Pont du Carrousel - Quai Voltaire, 326 meters from the bridge and walking time of 5 min\n",
       "\n",
       "Out: None\n"
      ]
     },
     "metadata": {},
     "output_type": "display_data"
    },
    {
     "data": {
      "text/html": [
       "<pre style=\"white-space:pre;overflow-x:auto;line-height:normal;font-family:Menlo,'DejaVu Sans Mono',consolas,'Courier New',monospace\"><span style=\"color: #7f7f7f; text-decoration-color: #7f7f7f\">[Step 0: Duration 6.17 seconds| Input tokens: 2,086 | Output tokens: 175]</span>\n",
       "</pre>\n"
      ],
      "text/plain": [
       "\u001b[2m[Step 0: Duration 6.17 seconds| Input tokens: 2,086 | Output tokens: 175]\u001b[0m\n"
      ]
     },
     "metadata": {},
     "output_type": "display_data"
    },
    {
     "data": {
      "text/html": [
       "<pre style=\"white-space:pre;overflow-x:auto;line-height:normal;font-family:Menlo,'DejaVu Sans Mono',consolas,'Courier New',monospace\"><span style=\"color: #d4b702; text-decoration-color: #d4b702\">━━━━━━━━━━━━━━━━━━━━━━━━━━━━━━━━━━━━━━━━━━━━━━━━━━━━━ </span><span style=\"font-weight: bold\">Step </span><span style=\"color: #008080; text-decoration-color: #008080; font-weight: bold\">2</span><span style=\"color: #d4b702; text-decoration-color: #d4b702\"> ━━━━━━━━━━━━━━━━━━━━━━━━━━━━━━━━━━━━━━━━━━━━━━━━━━━━━━</span>\n",
       "</pre>\n"
      ],
      "text/plain": [
       "\u001b[38;2;212;183;2m━━━━━━━━━━━━━━━━━━━━━━━━━━━━━━━━━━━━━━━━━━━━━━━━━━━━━ \u001b[0m\u001b[1mStep \u001b[0m\u001b[1;36m2\u001b[0m\u001b[38;2;212;183;2m ━━━━━━━━━━━━━━━━━━━━━━━━━━━━━━━━━━━━━━━━━━━━━━━━━━━━━━\u001b[0m\n"
      ]
     },
     "metadata": {},
     "output_type": "display_data"
    },
    {
     "data": {
      "text/html": [
       "<pre style=\"white-space:pre;overflow-x:auto;line-height:normal;font-family:Menlo,'DejaVu Sans Mono',consolas,'Courier New',monospace\"> ─ <span style=\"font-weight: bold\">Executing parsed code:</span> ──────────────────────────────────────────────────────────────────────────────────────── \n",
       "  <span style=\"color: #f8f8f2; text-decoration-color: #f8f8f2; background-color: #272822\">leopard_speed </span><span style=\"color: #ff4689; text-decoration-color: #ff4689; background-color: #272822\">=</span><span style=\"color: #f8f8f2; text-decoration-color: #f8f8f2; background-color: #272822\"> web_search(query</span><span style=\"color: #ff4689; text-decoration-color: #ff4689; background-color: #272822\">=</span><span style=\"color: #e6db74; text-decoration-color: #e6db74; background-color: #272822\">\"top speed of a leopard in meters per second\"</span><span style=\"color: #f8f8f2; text-decoration-color: #f8f8f2; background-color: #272822\">)</span><span style=\"background-color: #272822\">                                </span>  \n",
       "  <span style=\"color: #f8f8f2; text-decoration-color: #f8f8f2; background-color: #272822\">print(leopard_speed)</span><span style=\"background-color: #272822\">                                                                                           </span>  \n",
       " ───────────────────────────────────────────────────────────────────────────────────────────────────────────────── \n",
       "</pre>\n"
      ],
      "text/plain": [
       " ─ \u001b[1mExecuting parsed code:\u001b[0m ──────────────────────────────────────────────────────────────────────────────────────── \n",
       "  \u001b[38;2;248;248;242;48;2;39;40;34mleopard_speed\u001b[0m\u001b[38;2;248;248;242;48;2;39;40;34m \u001b[0m\u001b[38;2;255;70;137;48;2;39;40;34m=\u001b[0m\u001b[38;2;248;248;242;48;2;39;40;34m \u001b[0m\u001b[38;2;248;248;242;48;2;39;40;34mweb_search\u001b[0m\u001b[38;2;248;248;242;48;2;39;40;34m(\u001b[0m\u001b[38;2;248;248;242;48;2;39;40;34mquery\u001b[0m\u001b[38;2;255;70;137;48;2;39;40;34m=\u001b[0m\u001b[38;2;230;219;116;48;2;39;40;34m\"\u001b[0m\u001b[38;2;230;219;116;48;2;39;40;34mtop speed of a leopard in meters per second\u001b[0m\u001b[38;2;230;219;116;48;2;39;40;34m\"\u001b[0m\u001b[38;2;248;248;242;48;2;39;40;34m)\u001b[0m\u001b[48;2;39;40;34m                                \u001b[0m  \n",
       "  \u001b[38;2;248;248;242;48;2;39;40;34mprint\u001b[0m\u001b[38;2;248;248;242;48;2;39;40;34m(\u001b[0m\u001b[38;2;248;248;242;48;2;39;40;34mleopard_speed\u001b[0m\u001b[38;2;248;248;242;48;2;39;40;34m)\u001b[0m\u001b[48;2;39;40;34m                                                                                           \u001b[0m  \n",
       " ───────────────────────────────────────────────────────────────────────────────────────────────────────────────── \n"
      ]
     },
     "metadata": {},
     "output_type": "display_data"
    },
    {
     "data": {
      "text/html": [
       "<pre style=\"white-space:pre;overflow-x:auto;line-height:normal;font-family:Menlo,'DejaVu Sans Mono',consolas,'Courier New',monospace\"><span style=\"font-weight: bold\">Execution logs:</span>\n",
       "## Search Results\n",
       "\n",
       "[How Fast Are Leopards? Top Speeds and How It Compares ... - AZ \n",
       "Animals](https://a-z-animals.com/blog/how-fast-leopards-top-speeds-how-compares-other-big-cats/)\n",
       "Tigers can run between 30-40 miles per hour, and lions 50 miles per hour. Snow leopards are not much faster than \n",
       "their \"regular\" leopard relatives, maxing out at around 40 miles per hour. How Fast is a Leopard Compared to a \n",
       "Human? The fastest human runner, Usain Bolt, maxes out at 27.5 miles per hour.\n",
       "\n",
       "[How Fast Can a Leopard Run? A Fascinating Look at Their \n",
       "Speed](https://tiger-universe.com/blogs/tiger-blog/how-fast-can-a-leopard-run)\n",
       "The Incredible Speed of a Leopard: How Fast Can a Leopard Run? Leopards are known for their ability to sprint \n",
       "quickly in just a few steps. To really understand their speed, we need to explore how fast can a leopard run and \n",
       "their agility during the hunt. ... Top Speed (mph) Sprint Distance (meters) Leopard: 36: 200: Cheetah: 75: 460-500:\n",
       "Tiger ...\n",
       "\n",
       "[The fastest land animals - Our Planet](https://ourplnt.com/fastest-land-animals/)\n",
       "African wild dog (Lycaon pictus, see notes 2), Leopard (Panthera pardus), Snow leopard (Panthera uncia ... (43 mph)\n",
       "within 30 meters (98 ft) or six strides from the boxes, traveling at almost 20 meters per second (66 ft/s) for the \n",
       "first 250 meters (820 ft) of a race. ... Some sources claim that the Jaguar has a top speed of 50 mph (80.5 km/h). \n",
       "...\n",
       "\n",
       "[16 Leopard Facts You Should Know - Fact Animal](https://factanimal.com/leopard/)\n",
       "Top Speed: 58 km/h (36 mph) No. of Species: 1: ... P. p. tulliana, Amur leopard, Indochinese leopard and Sri Lankan\n",
       "leopard. The leopard is a nocturnal carnivore found most commonly in rainforests and savannas. However, they can \n",
       "also be found near deserts, mountains and the coast. ... On top of having fast speeds nearing 60 kilometers per \n",
       "hour ...\n",
       "\n",
       "[How Fast Are Snow Leopards? See Their Top Speeds Compared ... - AZ \n",
       "Animals](https://a-z-animals.com/articles/how-fast-are-snow-leopards-see-their-top-speeds-compared-to-other-fast-ca\n",
       "ts/)\n",
       "Often called the king of beasts, the lion is the second largest cat and fifth on this list with a top speed around \n",
       "46 miles per hour. However, they typically sprint between 30 to 40 miles per hour, and only for short distances. \n",
       "Lions tend to stalk their prey before beginning a chase, and sometimes hunt in groups. Tiger. A tiger, Panthera \n",
       "tigris\n",
       "\n",
       "[African Leopard - Facts, Diet, Habitat &amp; Pictures on Animalia.bio](https://animalia.bio/african-leopard)\n",
       "Basic facts about African Leopard: lifespan, distribution and habitat map, lifestyle and social behavior, mating \n",
       "habits, diet and nutrition, population size and status. ... Top speed. 58. 36. km/h mph. km/h mph . Weight. 35-91. \n",
       "77-200.2 ... They are very agile and can run at over 58 km per hour (36 mph), leap over 6 m (20 ft) horizontally, \n",
       "and ...\n",
       "\n",
       "[Unraveling the Speed of Leopards: How Fast Can They Actually \n",
       "Run?](https://startingrun.com/unraveling-the-speed-of-leopards-how-fast-can-they-actually-run/)\n",
       "An adult leopard, fully grown and experienced, achieves the remarkable top speed of 58 mph. Their masterful control\n",
       "and strategic implementation of speed set them apart. Im a gine a race car driver, they're not just managing \n",
       "velocity, they're navigating complex terrains, spotting opportunities, and making split-second decisions while ...\n",
       "\n",
       "[How Fast Can a Leopard Run? It's Slower than Most of Its Prey](https://africafreak.com/how-fast-can-a-leopard-run)\n",
       "African leopards have a top speed of 56-60 km/h (35-37 mph). That's significantly slower than cheetahs and lions, \n",
       "as well as being slower than a lot of its prey. But this top speed isn't the full story. The leopard is one of the \n",
       "greatest predators on the African savannah and speed is just one piece of its hunting prowess.\n",
       "\n",
       "[Leopard - Facts, Diet, Habitat &amp; Pictures on Animalia.bio](https://animalia.bio/leopard)\n",
       "Basic facts about Leopard: lifespan, distribution and habitat map, lifestyle and social behavior, mating habits, \n",
       "diet and nutrition, population size and status. ... Top speed. 58. 36. km/h mph. km/h mph . Weight. 28-90. \n",
       "61.6-198. kg lbs. kg lbs . Height. 57-70. 22.4-27.6. cm inch. cm inch . Length. 90-190. ... Leopards are top \n",
       "predators of ...\n",
       "\n",
       "[18 Fascinating Leopard Facts. Everything You Should \n",
       "Know](https://africanwildlifereport.com/18-fascinating-leopard-facts-everything-you-should-know/)\n",
       "Top speed: 37 mph (60 km/h) Primary food: Medium-sized antelopes: Where in Africa: Sub-Saharan Africa: Habitat: \n",
       "Savanna, forest, shrubland, desert, grassland, and mountains: ... Leopard mothers will keep their cubs hidden for \n",
       "the first 6 weeks of their lives to keep them safe from predators such as hostile male leopards as mentioned above \n",
       "but ...\n",
       "\n",
       "Out: None\n",
       "</pre>\n"
      ],
      "text/plain": [
       "\u001b[1mExecution logs:\u001b[0m\n",
       "## Search Results\n",
       "\n",
       "[How Fast Are Leopards? Top Speeds and How It Compares ... - AZ \n",
       "Animals](https://a-z-animals.com/blog/how-fast-leopards-top-speeds-how-compares-other-big-cats/)\n",
       "Tigers can run between 30-40 miles per hour, and lions 50 miles per hour. Snow leopards are not much faster than \n",
       "their \"regular\" leopard relatives, maxing out at around 40 miles per hour. How Fast is a Leopard Compared to a \n",
       "Human? The fastest human runner, Usain Bolt, maxes out at 27.5 miles per hour.\n",
       "\n",
       "[How Fast Can a Leopard Run? A Fascinating Look at Their \n",
       "Speed](https://tiger-universe.com/blogs/tiger-blog/how-fast-can-a-leopard-run)\n",
       "The Incredible Speed of a Leopard: How Fast Can a Leopard Run? Leopards are known for their ability to sprint \n",
       "quickly in just a few steps. To really understand their speed, we need to explore how fast can a leopard run and \n",
       "their agility during the hunt. ... Top Speed (mph) Sprint Distance (meters) Leopard: 36: 200: Cheetah: 75: 460-500:\n",
       "Tiger ...\n",
       "\n",
       "[The fastest land animals - Our Planet](https://ourplnt.com/fastest-land-animals/)\n",
       "African wild dog (Lycaon pictus, see notes 2), Leopard (Panthera pardus), Snow leopard (Panthera uncia ... (43 mph)\n",
       "within 30 meters (98 ft) or six strides from the boxes, traveling at almost 20 meters per second (66 ft/s) for the \n",
       "first 250 meters (820 ft) of a race. ... Some sources claim that the Jaguar has a top speed of 50 mph (80.5 km/h). \n",
       "...\n",
       "\n",
       "[16 Leopard Facts You Should Know - Fact Animal](https://factanimal.com/leopard/)\n",
       "Top Speed: 58 km/h (36 mph) No. of Species: 1: ... P. p. tulliana, Amur leopard, Indochinese leopard and Sri Lankan\n",
       "leopard. The leopard is a nocturnal carnivore found most commonly in rainforests and savannas. However, they can \n",
       "also be found near deserts, mountains and the coast. ... On top of having fast speeds nearing 60 kilometers per \n",
       "hour ...\n",
       "\n",
       "[How Fast Are Snow Leopards? See Their Top Speeds Compared ... - AZ \n",
       "Animals](https://a-z-animals.com/articles/how-fast-are-snow-leopards-see-their-top-speeds-compared-to-other-fast-ca\n",
       "ts/)\n",
       "Often called the king of beasts, the lion is the second largest cat and fifth on this list with a top speed around \n",
       "46 miles per hour. However, they typically sprint between 30 to 40 miles per hour, and only for short distances. \n",
       "Lions tend to stalk their prey before beginning a chase, and sometimes hunt in groups. Tiger. A tiger, Panthera \n",
       "tigris\n",
       "\n",
       "[African Leopard - Facts, Diet, Habitat & Pictures on Animalia.bio](https://animalia.bio/african-leopard)\n",
       "Basic facts about African Leopard: lifespan, distribution and habitat map, lifestyle and social behavior, mating \n",
       "habits, diet and nutrition, population size and status. ... Top speed. 58. 36. km/h mph. km/h mph . Weight. 35-91. \n",
       "77-200.2 ... They are very agile and can run at over 58 km per hour (36 mph), leap over 6 m (20 ft) horizontally, \n",
       "and ...\n",
       "\n",
       "[Unraveling the Speed of Leopards: How Fast Can They Actually \n",
       "Run?](https://startingrun.com/unraveling-the-speed-of-leopards-how-fast-can-they-actually-run/)\n",
       "An adult leopard, fully grown and experienced, achieves the remarkable top speed of 58 mph. Their masterful control\n",
       "and strategic implementation of speed set them apart. Im a gine a race car driver, they're not just managing \n",
       "velocity, they're navigating complex terrains, spotting opportunities, and making split-second decisions while ...\n",
       "\n",
       "[How Fast Can a Leopard Run? It's Slower than Most of Its Prey](https://africafreak.com/how-fast-can-a-leopard-run)\n",
       "African leopards have a top speed of 56-60 km/h (35-37 mph). That's significantly slower than cheetahs and lions, \n",
       "as well as being slower than a lot of its prey. But this top speed isn't the full story. The leopard is one of the \n",
       "greatest predators on the African savannah and speed is just one piece of its hunting prowess.\n",
       "\n",
       "[Leopard - Facts, Diet, Habitat & Pictures on Animalia.bio](https://animalia.bio/leopard)\n",
       "Basic facts about Leopard: lifespan, distribution and habitat map, lifestyle and social behavior, mating habits, \n",
       "diet and nutrition, population size and status. ... Top speed. 58. 36. km/h mph. km/h mph . Weight. 28-90. \n",
       "61.6-198. kg lbs. kg lbs . Height. 57-70. 22.4-27.6. cm inch. cm inch . Length. 90-190. ... Leopards are top \n",
       "predators of ...\n",
       "\n",
       "[18 Fascinating Leopard Facts. Everything You Should \n",
       "Know](https://africanwildlifereport.com/18-fascinating-leopard-facts-everything-you-should-know/)\n",
       "Top speed: 37 mph (60 km/h) Primary food: Medium-sized antelopes: Where in Africa: Sub-Saharan Africa: Habitat: \n",
       "Savanna, forest, shrubland, desert, grassland, and mountains: ... Leopard mothers will keep their cubs hidden for \n",
       "the first 6 weeks of their lives to keep them safe from predators such as hostile male leopards as mentioned above \n",
       "but ...\n",
       "\n",
       "Out: None\n"
      ]
     },
     "metadata": {},
     "output_type": "display_data"
    },
    {
     "data": {
      "text/html": [
       "<pre style=\"white-space:pre;overflow-x:auto;line-height:normal;font-family:Menlo,'DejaVu Sans Mono',consolas,'Courier New',monospace\"><span style=\"color: #7f7f7f; text-decoration-color: #7f7f7f\">[Step 1: Duration 4.09 seconds| Input tokens: 5,544 | Output tokens: 245]</span>\n",
       "</pre>\n"
      ],
      "text/plain": [
       "\u001b[2m[Step 1: Duration 4.09 seconds| Input tokens: 5,544 | Output tokens: 245]\u001b[0m\n"
      ]
     },
     "metadata": {},
     "output_type": "display_data"
    },
    {
     "data": {
      "text/html": [
       "<pre style=\"white-space:pre;overflow-x:auto;line-height:normal;font-family:Menlo,'DejaVu Sans Mono',consolas,'Courier New',monospace\"><span style=\"color: #d4b702; text-decoration-color: #d4b702\">━━━━━━━━━━━━━━━━━━━━━━━━━━━━━━━━━━━━━━━━━━━━━━━━━━━━━ </span><span style=\"font-weight: bold\">Step </span><span style=\"color: #008080; text-decoration-color: #008080; font-weight: bold\">3</span><span style=\"color: #d4b702; text-decoration-color: #d4b702\"> ━━━━━━━━━━━━━━━━━━━━━━━━━━━━━━━━━━━━━━━━━━━━━━━━━━━━━━</span>\n",
       "</pre>\n"
      ],
      "text/plain": [
       "\u001b[38;2;212;183;2m━━━━━━━━━━━━━━━━━━━━━━━━━━━━━━━━━━━━━━━━━━━━━━━━━━━━━ \u001b[0m\u001b[1mStep \u001b[0m\u001b[1;36m3\u001b[0m\u001b[38;2;212;183;2m ━━━━━━━━━━━━━━━━━━━━━━━━━━━━━━━━━━━━━━━━━━━━━━━━━━━━━━\u001b[0m\n"
      ]
     },
     "metadata": {},
     "output_type": "display_data"
    },
    {
     "data": {
      "text/html": [
       "<pre style=\"white-space:pre;overflow-x:auto;line-height:normal;font-family:Menlo,'DejaVu Sans Mono',consolas,'Courier New',monospace\"> ─ <span style=\"font-weight: bold\">Executing parsed code:</span> ──────────────────────────────────────────────────────────────────────────────────────── \n",
       "  <span style=\"color: #959077; text-decoration-color: #959077; background-color: #272822\"># Convert top speed of leopard from km/h to m/s</span><span style=\"background-color: #272822\">                                                                </span>  \n",
       "  <span style=\"color: #f8f8f2; text-decoration-color: #f8f8f2; background-color: #272822\">leopard_speed_kph </span><span style=\"color: #ff4689; text-decoration-color: #ff4689; background-color: #272822\">=</span><span style=\"color: #f8f8f2; text-decoration-color: #f8f8f2; background-color: #272822\"> </span><span style=\"color: #ae81ff; text-decoration-color: #ae81ff; background-color: #272822\">58</span><span style=\"color: #f8f8f2; text-decoration-color: #f8f8f2; background-color: #272822\">  </span><span style=\"color: #959077; text-decoration-color: #959077; background-color: #272822\"># leopard's top speed in km/h</span><span style=\"background-color: #272822\">                                                          </span>  \n",
       "  <span style=\"color: #f8f8f2; text-decoration-color: #f8f8f2; background-color: #272822\">leopard_speed_mps </span><span style=\"color: #ff4689; text-decoration-color: #ff4689; background-color: #272822\">=</span><span style=\"color: #f8f8f2; text-decoration-color: #f8f8f2; background-color: #272822\"> leopard_speed_kph </span><span style=\"color: #ff4689; text-decoration-color: #ff4689; background-color: #272822\">*</span><span style=\"color: #f8f8f2; text-decoration-color: #f8f8f2; background-color: #272822\"> (</span><span style=\"color: #ae81ff; text-decoration-color: #ae81ff; background-color: #272822\">1000</span><span style=\"color: #f8f8f2; text-decoration-color: #f8f8f2; background-color: #272822\"> </span><span style=\"color: #ff4689; text-decoration-color: #ff4689; background-color: #272822\">/</span><span style=\"color: #f8f8f2; text-decoration-color: #f8f8f2; background-color: #272822\"> </span><span style=\"color: #ae81ff; text-decoration-color: #ae81ff; background-color: #272822\">3600</span><span style=\"color: #f8f8f2; text-decoration-color: #f8f8f2; background-color: #272822\">)  </span><span style=\"color: #959077; text-decoration-color: #959077; background-color: #272822\"># convert km/h to m/s</span><span style=\"background-color: #272822\">                                   </span>  \n",
       "  <span style=\"background-color: #272822\">                                                                                                               </span>  \n",
       "  <span style=\"color: #959077; text-decoration-color: #959077; background-color: #272822\"># Length of Pont des Arts in meters</span><span style=\"background-color: #272822\">                                                                            </span>  \n",
       "  <span style=\"color: #f8f8f2; text-decoration-color: #f8f8f2; background-color: #272822\">pont_des_arts_length </span><span style=\"color: #ff4689; text-decoration-color: #ff4689; background-color: #272822\">=</span><span style=\"color: #f8f8f2; text-decoration-color: #f8f8f2; background-color: #272822\"> </span><span style=\"color: #ae81ff; text-decoration-color: #ae81ff; background-color: #272822\">155</span><span style=\"color: #f8f8f2; text-decoration-color: #f8f8f2; background-color: #272822\">  </span><span style=\"color: #959077; text-decoration-color: #959077; background-color: #272822\"># length in meters</span><span style=\"background-color: #272822\">                                                                 </span>  \n",
       "  <span style=\"background-color: #272822\">                                                                                                               </span>  \n",
       "  <span style=\"color: #959077; text-decoration-color: #959077; background-color: #272822\"># Calculate the time it would take for a leopard to run through Pont des Arts</span><span style=\"background-color: #272822\">                                  </span>  \n",
       "  <span style=\"color: #f8f8f2; text-decoration-color: #f8f8f2; background-color: #272822\">time_to_run </span><span style=\"color: #ff4689; text-decoration-color: #ff4689; background-color: #272822\">=</span><span style=\"color: #f8f8f2; text-decoration-color: #f8f8f2; background-color: #272822\"> pont_des_arts_length </span><span style=\"color: #ff4689; text-decoration-color: #ff4689; background-color: #272822\">/</span><span style=\"color: #f8f8f2; text-decoration-color: #f8f8f2; background-color: #272822\"> leopard_speed_mps</span><span style=\"background-color: #272822\">                                                         </span>  \n",
       "  <span style=\"color: #f8f8f2; text-decoration-color: #f8f8f2; background-color: #272822\">final_answer(time_to_run)</span><span style=\"background-color: #272822\">                                                                                      </span>  \n",
       " ───────────────────────────────────────────────────────────────────────────────────────────────────────────────── \n",
       "</pre>\n"
      ],
      "text/plain": [
       " ─ \u001b[1mExecuting parsed code:\u001b[0m ──────────────────────────────────────────────────────────────────────────────────────── \n",
       "  \u001b[38;2;149;144;119;48;2;39;40;34m# Convert top speed of leopard from km/h to m/s\u001b[0m\u001b[48;2;39;40;34m                                                                \u001b[0m  \n",
       "  \u001b[38;2;248;248;242;48;2;39;40;34mleopard_speed_kph\u001b[0m\u001b[38;2;248;248;242;48;2;39;40;34m \u001b[0m\u001b[38;2;255;70;137;48;2;39;40;34m=\u001b[0m\u001b[38;2;248;248;242;48;2;39;40;34m \u001b[0m\u001b[38;2;174;129;255;48;2;39;40;34m58\u001b[0m\u001b[38;2;248;248;242;48;2;39;40;34m  \u001b[0m\u001b[38;2;149;144;119;48;2;39;40;34m# leopard's top speed in km/h\u001b[0m\u001b[48;2;39;40;34m                                                          \u001b[0m  \n",
       "  \u001b[38;2;248;248;242;48;2;39;40;34mleopard_speed_mps\u001b[0m\u001b[38;2;248;248;242;48;2;39;40;34m \u001b[0m\u001b[38;2;255;70;137;48;2;39;40;34m=\u001b[0m\u001b[38;2;248;248;242;48;2;39;40;34m \u001b[0m\u001b[38;2;248;248;242;48;2;39;40;34mleopard_speed_kph\u001b[0m\u001b[38;2;248;248;242;48;2;39;40;34m \u001b[0m\u001b[38;2;255;70;137;48;2;39;40;34m*\u001b[0m\u001b[38;2;248;248;242;48;2;39;40;34m \u001b[0m\u001b[38;2;248;248;242;48;2;39;40;34m(\u001b[0m\u001b[38;2;174;129;255;48;2;39;40;34m1000\u001b[0m\u001b[38;2;248;248;242;48;2;39;40;34m \u001b[0m\u001b[38;2;255;70;137;48;2;39;40;34m/\u001b[0m\u001b[38;2;248;248;242;48;2;39;40;34m \u001b[0m\u001b[38;2;174;129;255;48;2;39;40;34m3600\u001b[0m\u001b[38;2;248;248;242;48;2;39;40;34m)\u001b[0m\u001b[38;2;248;248;242;48;2;39;40;34m  \u001b[0m\u001b[38;2;149;144;119;48;2;39;40;34m# convert km/h to m/s\u001b[0m\u001b[48;2;39;40;34m                                   \u001b[0m  \n",
       "  \u001b[48;2;39;40;34m                                                                                                               \u001b[0m  \n",
       "  \u001b[38;2;149;144;119;48;2;39;40;34m# Length of Pont des Arts in meters\u001b[0m\u001b[48;2;39;40;34m                                                                            \u001b[0m  \n",
       "  \u001b[38;2;248;248;242;48;2;39;40;34mpont_des_arts_length\u001b[0m\u001b[38;2;248;248;242;48;2;39;40;34m \u001b[0m\u001b[38;2;255;70;137;48;2;39;40;34m=\u001b[0m\u001b[38;2;248;248;242;48;2;39;40;34m \u001b[0m\u001b[38;2;174;129;255;48;2;39;40;34m155\u001b[0m\u001b[38;2;248;248;242;48;2;39;40;34m  \u001b[0m\u001b[38;2;149;144;119;48;2;39;40;34m# length in meters\u001b[0m\u001b[48;2;39;40;34m                                                                 \u001b[0m  \n",
       "  \u001b[48;2;39;40;34m                                                                                                               \u001b[0m  \n",
       "  \u001b[38;2;149;144;119;48;2;39;40;34m# Calculate the time it would take for a leopard to run through Pont des Arts\u001b[0m\u001b[48;2;39;40;34m                                  \u001b[0m  \n",
       "  \u001b[38;2;248;248;242;48;2;39;40;34mtime_to_run\u001b[0m\u001b[38;2;248;248;242;48;2;39;40;34m \u001b[0m\u001b[38;2;255;70;137;48;2;39;40;34m=\u001b[0m\u001b[38;2;248;248;242;48;2;39;40;34m \u001b[0m\u001b[38;2;248;248;242;48;2;39;40;34mpont_des_arts_length\u001b[0m\u001b[38;2;248;248;242;48;2;39;40;34m \u001b[0m\u001b[38;2;255;70;137;48;2;39;40;34m/\u001b[0m\u001b[38;2;248;248;242;48;2;39;40;34m \u001b[0m\u001b[38;2;248;248;242;48;2;39;40;34mleopard_speed_mps\u001b[0m\u001b[48;2;39;40;34m                                                         \u001b[0m  \n",
       "  \u001b[38;2;248;248;242;48;2;39;40;34mfinal_answer\u001b[0m\u001b[38;2;248;248;242;48;2;39;40;34m(\u001b[0m\u001b[38;2;248;248;242;48;2;39;40;34mtime_to_run\u001b[0m\u001b[38;2;248;248;242;48;2;39;40;34m)\u001b[0m\u001b[48;2;39;40;34m                                                                                      \u001b[0m  \n",
       " ───────────────────────────────────────────────────────────────────────────────────────────────────────────────── \n"
      ]
     },
     "metadata": {},
     "output_type": "display_data"
    },
    {
     "data": {
      "text/html": [
       "<pre style=\"white-space:pre;overflow-x:auto;line-height:normal;font-family:Menlo,'DejaVu Sans Mono',consolas,'Courier New',monospace\"><span style=\"color: #d4b702; text-decoration-color: #d4b702; font-weight: bold\">Out - Final answer: 9.620689655172415</span>\n",
       "</pre>\n"
      ],
      "text/plain": [
       "\u001b[1;38;2;212;183;2mOut - Final answer: 9.620689655172415\u001b[0m\n"
      ]
     },
     "metadata": {},
     "output_type": "display_data"
    },
    {
     "data": {
      "text/html": [
       "<pre style=\"white-space:pre;overflow-x:auto;line-height:normal;font-family:Menlo,'DejaVu Sans Mono',consolas,'Courier New',monospace\"><span style=\"color: #7f7f7f; text-decoration-color: #7f7f7f\">[Step 2: Duration 7.80 seconds| Input tokens: 10,440 | Output tokens: 444]</span>\n",
       "</pre>\n"
      ],
      "text/plain": [
       "\u001b[2m[Step 2: Duration 7.80 seconds| Input tokens: 10,440 | Output tokens: 444]\u001b[0m\n"
      ]
     },
     "metadata": {},
     "output_type": "display_data"
    },
    {
     "data": {
      "text/plain": [
       "9.620689655172415"
      ]
     },
     "execution_count": 1,
     "metadata": {},
     "output_type": "execute_result"
    }
   ],
   "source": [
    "from smolagents import CodeAgent, DuckDuckGoSearchTool, HfApiModel\n",
    "\n",
    "model = HfApiModel()\n",
    "agent = CodeAgent(tools=[DuckDuckGoSearchTool()], model=model)\n",
    "\n",
    "agent.run(\"How many seconds would it take for a leopard at full speed to run through Pont des Arts?\")"
   ]
  }
 ],
 "metadata": {
  "kernelspec": {
   "display_name": ".smolagents",
   "language": "python",
   "name": "python3"
  },
  "language_info": {
   "codemirror_mode": {
    "name": "ipython",
    "version": 3
   },
   "file_extension": ".py",
   "mimetype": "text/x-python",
   "name": "python",
   "nbconvert_exporter": "python",
   "pygments_lexer": "ipython3",
   "version": "3.11.8"
  }
 },
 "nbformat": 4,
 "nbformat_minor": 2
}
