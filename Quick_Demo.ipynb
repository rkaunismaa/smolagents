{
 "cells": [
  {
   "cell_type": "markdown",
   "metadata": {},
   "source": [
    "[smolagents repo](https://github.com/huggingface/smolagents)"
   ]
  },
  {
   "cell_type": "code",
   "execution_count": 1,
   "metadata": {},
   "outputs": [
    {
     "data": {
      "text/html": [
       "<pre style=\"white-space:pre;overflow-x:auto;line-height:normal;font-family:Menlo,'DejaVu Sans Mono',consolas,'Courier New',monospace\"><span style=\"color: #d4b702; text-decoration-color: #d4b702\">╭──────────────────────────────────────────────────── </span><span style=\"color: #d4b702; text-decoration-color: #d4b702; font-weight: bold\">New run</span><span style=\"color: #d4b702; text-decoration-color: #d4b702\"> ────────────────────────────────────────────────────╮</span>\n",
       "<span style=\"color: #d4b702; text-decoration-color: #d4b702\">│</span>                                                                                                                 <span style=\"color: #d4b702; text-decoration-color: #d4b702\">│</span>\n",
       "<span style=\"color: #d4b702; text-decoration-color: #d4b702\">│</span> <span style=\"font-weight: bold\">How many seconds would it take for a leopard at full speed to run through Pont des Arts?</span>                        <span style=\"color: #d4b702; text-decoration-color: #d4b702\">│</span>\n",
       "<span style=\"color: #d4b702; text-decoration-color: #d4b702\">│</span>                                                                                                                 <span style=\"color: #d4b702; text-decoration-color: #d4b702\">│</span>\n",
       "<span style=\"color: #d4b702; text-decoration-color: #d4b702\">╰─ HfApiModel - Qwen/Qwen2.5-Coder-32B-Instruct ──────────────────────────────────────────────────────────────────╯</span>\n",
       "</pre>\n"
      ],
      "text/plain": [
       "\u001b[38;2;212;183;2m╭─\u001b[0m\u001b[38;2;212;183;2m───────────────────────────────────────────────────\u001b[0m\u001b[38;2;212;183;2m \u001b[0m\u001b[1;38;2;212;183;2mNew run\u001b[0m\u001b[38;2;212;183;2m \u001b[0m\u001b[38;2;212;183;2m───────────────────────────────────────────────────\u001b[0m\u001b[38;2;212;183;2m─╮\u001b[0m\n",
       "\u001b[38;2;212;183;2m│\u001b[0m                                                                                                                 \u001b[38;2;212;183;2m│\u001b[0m\n",
       "\u001b[38;2;212;183;2m│\u001b[0m \u001b[1mHow many seconds would it take for a leopard at full speed to run through Pont des Arts?\u001b[0m                        \u001b[38;2;212;183;2m│\u001b[0m\n",
       "\u001b[38;2;212;183;2m│\u001b[0m                                                                                                                 \u001b[38;2;212;183;2m│\u001b[0m\n",
       "\u001b[38;2;212;183;2m╰─\u001b[0m\u001b[38;2;212;183;2m HfApiModel - Qwen/Qwen2.5-Coder-32B-Instruct \u001b[0m\u001b[38;2;212;183;2m─────────────────────────────────────────────────────────────────\u001b[0m\u001b[38;2;212;183;2m─╯\u001b[0m\n"
      ]
     },
     "metadata": {},
     "output_type": "display_data"
    },
    {
     "data": {
      "text/html": [
       "<pre style=\"white-space:pre;overflow-x:auto;line-height:normal;font-family:Menlo,'DejaVu Sans Mono',consolas,'Courier New',monospace\"><span style=\"color: #d4b702; text-decoration-color: #d4b702\">━━━━━━━━━━━━━━━━━━━━━━━━━━━━━━━━━━━━━━━━━━━━━━━━━━━━━ </span><span style=\"font-weight: bold\">Step </span><span style=\"color: #008080; text-decoration-color: #008080; font-weight: bold\">1</span><span style=\"color: #d4b702; text-decoration-color: #d4b702\"> ━━━━━━━━━━━━━━━━━━━━━━━━━━━━━━━━━━━━━━━━━━━━━━━━━━━━━━</span>\n",
       "</pre>\n"
      ],
      "text/plain": [
       "\u001b[38;2;212;183;2m━━━━━━━━━━━━━━━━━━━━━━━━━━━━━━━━━━━━━━━━━━━━━━━━━━━━━ \u001b[0m\u001b[1mStep \u001b[0m\u001b[1;36m1\u001b[0m\u001b[38;2;212;183;2m ━━━━━━━━━━━━━━━━━━━━━━━━━━━━━━━━━━━━━━━━━━━━━━━━━━━━━━\u001b[0m\n"
      ]
     },
     "metadata": {},
     "output_type": "display_data"
    },
    {
     "data": {
      "text/html": [
       "<pre style=\"white-space:pre;overflow-x:auto;line-height:normal;font-family:Menlo,'DejaVu Sans Mono',consolas,'Courier New',monospace\"> ─ <span style=\"font-weight: bold\">Executing parsed code:</span> ──────────────────────────────────────────────────────────────────────────────────────── \n",
       "  <span style=\"color: #f8f8f2; text-decoration-color: #f8f8f2; background-color: #272822\">pont_des_arts_length </span><span style=\"color: #ff4689; text-decoration-color: #ff4689; background-color: #272822\">=</span><span style=\"color: #f8f8f2; text-decoration-color: #f8f8f2; background-color: #272822\"> web_search(query</span><span style=\"color: #ff4689; text-decoration-color: #ff4689; background-color: #272822\">=</span><span style=\"color: #e6db74; text-decoration-color: #e6db74; background-color: #272822\">\"length of Pont des Arts\"</span><span style=\"color: #f8f8f2; text-decoration-color: #f8f8f2; background-color: #272822\">)</span><span style=\"background-color: #272822\">                                             </span>  \n",
       "  <span style=\"color: #f8f8f2; text-decoration-color: #f8f8f2; background-color: #272822\">leopard_speed </span><span style=\"color: #ff4689; text-decoration-color: #ff4689; background-color: #272822\">=</span><span style=\"color: #f8f8f2; text-decoration-color: #f8f8f2; background-color: #272822\"> web_search(query</span><span style=\"color: #ff4689; text-decoration-color: #ff4689; background-color: #272822\">=</span><span style=\"color: #e6db74; text-decoration-color: #e6db74; background-color: #272822\">\"maximum speed of a leopard\"</span><span style=\"color: #f8f8f2; text-decoration-color: #f8f8f2; background-color: #272822\">)</span><span style=\"background-color: #272822\">                                                 </span>  \n",
       "  <span style=\"color: #f8f8f2; text-decoration-color: #f8f8f2; background-color: #272822\">print(</span><span style=\"color: #e6db74; text-decoration-color: #e6db74; background-color: #272822\">\"Pont des Arts length:\"</span><span style=\"color: #f8f8f2; text-decoration-color: #f8f8f2; background-color: #272822\">, pont_des_arts_length)</span><span style=\"background-color: #272822\">                                                           </span>  \n",
       "  <span style=\"color: #f8f8f2; text-decoration-color: #f8f8f2; background-color: #272822\">print(</span><span style=\"color: #e6db74; text-decoration-color: #e6db74; background-color: #272822\">\"Leopard speed:\"</span><span style=\"color: #f8f8f2; text-decoration-color: #f8f8f2; background-color: #272822\">, leopard_speed)</span><span style=\"background-color: #272822\">                                                                         </span>  \n",
       " ───────────────────────────────────────────────────────────────────────────────────────────────────────────────── \n",
       "</pre>\n"
      ],
      "text/plain": [
       " ─ \u001b[1mExecuting parsed code:\u001b[0m ──────────────────────────────────────────────────────────────────────────────────────── \n",
       "  \u001b[38;2;248;248;242;48;2;39;40;34mpont_des_arts_length\u001b[0m\u001b[38;2;248;248;242;48;2;39;40;34m \u001b[0m\u001b[38;2;255;70;137;48;2;39;40;34m=\u001b[0m\u001b[38;2;248;248;242;48;2;39;40;34m \u001b[0m\u001b[38;2;248;248;242;48;2;39;40;34mweb_search\u001b[0m\u001b[38;2;248;248;242;48;2;39;40;34m(\u001b[0m\u001b[38;2;248;248;242;48;2;39;40;34mquery\u001b[0m\u001b[38;2;255;70;137;48;2;39;40;34m=\u001b[0m\u001b[38;2;230;219;116;48;2;39;40;34m\"\u001b[0m\u001b[38;2;230;219;116;48;2;39;40;34mlength of Pont des Arts\u001b[0m\u001b[38;2;230;219;116;48;2;39;40;34m\"\u001b[0m\u001b[38;2;248;248;242;48;2;39;40;34m)\u001b[0m\u001b[48;2;39;40;34m                                             \u001b[0m  \n",
       "  \u001b[38;2;248;248;242;48;2;39;40;34mleopard_speed\u001b[0m\u001b[38;2;248;248;242;48;2;39;40;34m \u001b[0m\u001b[38;2;255;70;137;48;2;39;40;34m=\u001b[0m\u001b[38;2;248;248;242;48;2;39;40;34m \u001b[0m\u001b[38;2;248;248;242;48;2;39;40;34mweb_search\u001b[0m\u001b[38;2;248;248;242;48;2;39;40;34m(\u001b[0m\u001b[38;2;248;248;242;48;2;39;40;34mquery\u001b[0m\u001b[38;2;255;70;137;48;2;39;40;34m=\u001b[0m\u001b[38;2;230;219;116;48;2;39;40;34m\"\u001b[0m\u001b[38;2;230;219;116;48;2;39;40;34mmaximum speed of a leopard\u001b[0m\u001b[38;2;230;219;116;48;2;39;40;34m\"\u001b[0m\u001b[38;2;248;248;242;48;2;39;40;34m)\u001b[0m\u001b[48;2;39;40;34m                                                 \u001b[0m  \n",
       "  \u001b[38;2;248;248;242;48;2;39;40;34mprint\u001b[0m\u001b[38;2;248;248;242;48;2;39;40;34m(\u001b[0m\u001b[38;2;230;219;116;48;2;39;40;34m\"\u001b[0m\u001b[38;2;230;219;116;48;2;39;40;34mPont des Arts length:\u001b[0m\u001b[38;2;230;219;116;48;2;39;40;34m\"\u001b[0m\u001b[38;2;248;248;242;48;2;39;40;34m,\u001b[0m\u001b[38;2;248;248;242;48;2;39;40;34m \u001b[0m\u001b[38;2;248;248;242;48;2;39;40;34mpont_des_arts_length\u001b[0m\u001b[38;2;248;248;242;48;2;39;40;34m)\u001b[0m\u001b[48;2;39;40;34m                                                           \u001b[0m  \n",
       "  \u001b[38;2;248;248;242;48;2;39;40;34mprint\u001b[0m\u001b[38;2;248;248;242;48;2;39;40;34m(\u001b[0m\u001b[38;2;230;219;116;48;2;39;40;34m\"\u001b[0m\u001b[38;2;230;219;116;48;2;39;40;34mLeopard speed:\u001b[0m\u001b[38;2;230;219;116;48;2;39;40;34m\"\u001b[0m\u001b[38;2;248;248;242;48;2;39;40;34m,\u001b[0m\u001b[38;2;248;248;242;48;2;39;40;34m \u001b[0m\u001b[38;2;248;248;242;48;2;39;40;34mleopard_speed\u001b[0m\u001b[38;2;248;248;242;48;2;39;40;34m)\u001b[0m\u001b[48;2;39;40;34m                                                                         \u001b[0m  \n",
       " ───────────────────────────────────────────────────────────────────────────────────────────────────────────────── \n"
      ]
     },
     "metadata": {},
     "output_type": "display_data"
    },
    {
     "data": {
      "text/html": [
       "<pre style=\"white-space:pre;overflow-x:auto;line-height:normal;font-family:Menlo,'DejaVu Sans Mono',consolas,'Courier New',monospace\"><span style=\"font-weight: bold\">Execution logs:</span>\n",
       "Pont des Arts length: ## Search Results\n",
       "\n",
       "[Pont des Arts - Wikipedia](https://en.wikipedia.org/wiki/Pont_des_Arts)\n",
       "The Pont des Arts (French pronunciation: [pɔ̃ dez‿aʁ]) or Passerelle des Arts ([pasʁɛl -]) is a pedestrian bridge in\n",
       "Paris which crosses the River Seine. It links the Institut de France and the central square (cour carrée) of the \n",
       "Palais du Louvre, (which had been termed the \"Palais des Arts\" under the First French Empire).\n",
       "\n",
       "[Pont des Arts, Paris, France - LatLong](https://www.latlong.net/place/pont-des-arts-paris-france-32945.html)\n",
       "Pont des Arts, Paris, France Latitude and longitude coordinates are: 48.858334, 2.337369. Pont des Arts is a scenic\n",
       "pedestrian bridge over the Seine River in Paris, France. The bridge connects the Musée du Louvre and the Institut \n",
       "de France. It has a length of 155 m (509 ft) and a width of 11 m (36 ft). It was constructed between 1981 and 1984.\n",
       "The bridge is part of the UNESCO World Heritage ...\n",
       "\n",
       "[Pont des Arts - The Parisian Guide](https://www.theparisianguide.com/s/pont-des-arts/)\n",
       "The Pont des Arts, connecting the Louvre and the Institut de France, holds a prominent place not only in Parisian \n",
       "architecture but also in the city's heart.\n",
       "\n",
       "[10 Picturesque Facts About The Pont Des Arts](https://art-facts.com/pont-des-arts-facts/)\n",
       "In this article, we'll take a closer look at some of the most interesting facts about the Pont des Arts, a \n",
       "remarkable structure in the City of Light.\n",
       "\n",
       "[10 things to know about the Pont des Arts in Paris. - \n",
       "ParisCadenas.com](https://www.pariscadenas.com/articles/read/art-bridge)\n",
       "The Pont des Arts is a wooden pedestrian bridge that connects the two sides of the Seine in Paris, between the \n",
       "Louvre and the rue de Seine. It was built between 1802 and 1804 by architect Louis-Alexandre de Cessart and \n",
       "engineer Jean-Rodolphe Perronet. The Pont des Arts is the first wooden bridge to be built over the Seine in Paris.\n",
       "\n",
       "[Pont des Arts - All You Need to Know BEFORE You Go \n",
       "(2025)](https://www.tripadvisor.com/Attraction_Review-g187147-d2072995-Reviews-Pont_des_Arts-Paris_Ile_de_France.ht\n",
       "ml)\n",
       "Pont des Arts is a lovely pedestrian bridge over the Seine River. At one entry side of the bridge is the Institut \n",
       "de France, and at the other side is the Palais du Louvre. The bridge is famous for all the love locks placed on it \n",
       "by thousands of visitors over time.\n",
       "\n",
       "[Pont des Arts (Passerelle des Arts), Paris, France - \n",
       "solosophie](https://www.solosophie.com/pont-des-arts-passerelle-des-arts-paris/)\n",
       "Here's a history of Pont des Arts (which is sometimes referred to as Passerelle des Arts), as well as how to visit,\n",
       "and things to know before you go.\n",
       "\n",
       "[A Complete Guide to the Pont des Arts in Paris - \n",
       "TripSavvy](https://www.tripsavvy.com/a-complete-guide-to-the-pont-des-arts-in-paris-4584846)\n",
       "One of the loveliest of Paris' many bridges, the Pont des Arts is a photogenic delight. It's appeared in countless \n",
       "films, including one that shares its name. Connecting the central courtyard of the Louvre Palace on one side of the\n",
       "Seine River to the prestigious Institut de France on the other, the bridge seems to embody the city at its most \n",
       "elegant.\n",
       "\n",
       "[Pont des Arts - Medium](https://medium.com/@SATPALDA/pont-des-arts-308c7214834c)\n",
       "The Pont des Arts is a pedestrian Arch shape bridge made up of steel in Paris, France, over the River Seine. \n",
       "WorldView-3 satellite courtesy…\n",
       "\n",
       "[Love Lock bridge in Paris then &amp; now: The Pont des Arts - \n",
       "CosmopoliClan](https://cosmopoliclan.com/travel-with-kids/inspiration/love-lock-bridge-paris-pont-des-arts/)\n",
       "The Pont des Arts or Passerelle des Arts is the pedestrian bridge over the Seine that connects the Louvre Museum on\n",
       "the Right bank to the Institut de France on the Left Bank. As a result, it connects the 1st and the 6th Paris \n",
       "arrondissements. It is flanked by the Pont du Carrousel downstream and by the Pont-Neuf and the Île de la Cité, \n",
       "home to the Notre Dame cathedral, upstream. The closest ...\n",
       "Leopard speed: ## Search Results\n",
       "\n",
       "[How Fast Can a Leopard Run? It's Slower than Most of Its Prey](https://africafreak.com/how-fast-can-a-leopard-run)\n",
       "African leopards have a top speed of 56-60 km/h (35-37 mph). That's significantly slower than cheetahs and lions, \n",
       "as well as being slower than a lot of its prey. But this top speed isn't the full story. The leopard is one of the \n",
       "greatest predators on the African savannah and speed is just one piece of its hunting prowess.\n",
       "\n",
       "[How Fast Are Leopards? Top Speeds and How It Compares ... - AZ \n",
       "Animals](https://a-z-animals.com/blog/how-fast-leopards-top-speeds-how-compares-other-big-cats/)\n",
       "Cats of all sizes can reach impressive speeds. These are all attributes of their anatomy. Much like how the \n",
       "strength of an animal's bite is due to their jaw and skull anatomy, a cat's speed is determined by their \n",
       "musculature and skeletal composition. However, you can boil down their speed and agility to a very important \n",
       "structure: the spine.\n",
       "\n",
       "[How fast can leopards run and how agile are they? - \n",
       "WildLifeFAQs](https://www.wildlifefaq.com/leopard-speed-and-agility/)\n",
       "The Speed and Agility of Amur Leopards. Amur leopards, a subspecies of leopard, are known for their exceptional \n",
       "speed and agility. These magnificent creatures can reach speeds of almost 37 miles per hour (58 km/h), allowing \n",
       "them to swiftly chase down prey and escape potential threats.\n",
       "\n",
       "[How fast can a leopard run per hour? - \n",
       "Quick-Advice.com](https://yourquickadvice.com/how-fast-can-a-leopard-run-per-hour/)\n",
       "The average top speed of a leopard is 35 miles ( 56 kilometers) per hour. If a leopard is particularly hungry, they\n",
       "can go even faster and even reach up to 40 miles ( 64 kilometers) per hour. ... Snow leopards can run at a maximum \n",
       "speed of 55 miles per hour though they cannot maintain this much speed for longer time. They will only attain the \n",
       "...\n",
       "\n",
       "[Unraveling the Speed of Leopards: How Fast Can They Actually \n",
       "Run?](https://startingrun.com/unraveling-the-speed-of-leopards-how-fast-can-they-actually-run/)\n",
       "Environmental and situational factors, including terrain, prey's size and speed, climatic conditions, fatigue, age,\n",
       "and health, significantly influence the leopard's speed. Compared to other big cats such as lions, cheetahs, \n",
       "jaguars, and tigers, leopards hold a respectable position with a top speed of 58 km/h (36 mph), showcasing a ...\n",
       "\n",
       "[How Fast Can a Leopard Run (Average Speed) - \n",
       "brotherspets.com](https://brotherspets.com/how-fast-can-a-leopard-run/)\n",
       "How Fast Can a Leopard Run? Leopards are known for their speed and agility, and they are capable of reaching \n",
       "impressive top speeds when they need to. According to various sources, leopards can run at speeds ranging from \n",
       "30-56 mph (48-90 km/h) with an average speed of 58 km/h.\n",
       "\n",
       "[Leopard - Facts, Diet, Habitat &amp; Pictures on Animalia.bio](https://animalia.bio/leopard)\n",
       "The leopard is distinguished by its well-camouflaged fur, opportunistic hunting behavior, broad diet, strength, and\n",
       "its ability to adapt to a variety of habitats ranging from rainforest to steppe, including arid and montane areas. \n",
       "It can run at speeds of up to 58 km/h (36 mph).\n",
       "\n",
       "[Leopard's Peak Speed: Unleashing Their Running \n",
       "Power](https://startingrun.com/unleashing-the-speed-how-fast-can-a-leopard-run/)\n",
       "Unique shoulder bone structure contributes to leopard's speed by allowing an extended range of motion for running \n",
       "and climbing, leading to longer strides. ... is often touted for its strength and might. Yet, when it comes to \n",
       "speed lions max out at around 50 mph - a fair bit slower than their leopard counterparts. Tigers, the biggest cats \n",
       "of ...\n",
       "\n",
       "[Leopard Animal Facts - Panthera pardus - A-Z Animals](https://a-z-animals.com/animals/leopard/)\n",
       "Top Speed 36 mph Lifespan 10 - 15 years Weight 30kg - 90kg (66lbs - 198lbs) Length ... The leopard is a \n",
       "medium-sized wildcat that lives in a variety of different habitats across sub-Saharan Africa and southern Asia. ...\n",
       "using the biologyof a jaguar to populate their physical statistics. Panthers can weigh upwards of 300lbs, but \n",
       "leopards max out ...\n",
       "\n",
       "[Leopard's Agile Movement And Impressive Speed - Big Cat \n",
       "Facts](https://bigcatfacts.net/leopards-agile-movement-and-impressive-speed/)\n",
       "Comparing the Leopard's Speed with that of the Cheetah. The leopard and the cheetah, two of the big cats in the \n",
       "world, are acclaimed for their swift and robust nature, each a formidable predator and a master in their hunting \n",
       "strategies. They are known for their speed, agility, strength and stealth which set them apart in the animal \n",
       "kingdom.\n",
       "\n",
       "Out: None\n",
       "</pre>\n"
      ],
      "text/plain": [
       "\u001b[1mExecution logs:\u001b[0m\n",
       "Pont des Arts length: ## Search Results\n",
       "\n",
       "[Pont des Arts - Wikipedia](https://en.wikipedia.org/wiki/Pont_des_Arts)\n",
       "The Pont des Arts (French pronunciation: [pɔ̃ dez‿aʁ]) or Passerelle des Arts ([pasʁɛl -]) is a pedestrian bridge in\n",
       "Paris which crosses the River Seine. It links the Institut de France and the central square (cour carrée) of the \n",
       "Palais du Louvre, (which had been termed the \"Palais des Arts\" under the First French Empire).\n",
       "\n",
       "[Pont des Arts, Paris, France - LatLong](https://www.latlong.net/place/pont-des-arts-paris-france-32945.html)\n",
       "Pont des Arts, Paris, France Latitude and longitude coordinates are: 48.858334, 2.337369. Pont des Arts is a scenic\n",
       "pedestrian bridge over the Seine River in Paris, France. The bridge connects the Musée du Louvre and the Institut \n",
       "de France. It has a length of 155 m (509 ft) and a width of 11 m (36 ft). It was constructed between 1981 and 1984.\n",
       "The bridge is part of the UNESCO World Heritage ...\n",
       "\n",
       "[Pont des Arts - The Parisian Guide](https://www.theparisianguide.com/s/pont-des-arts/)\n",
       "The Pont des Arts, connecting the Louvre and the Institut de France, holds a prominent place not only in Parisian \n",
       "architecture but also in the city's heart.\n",
       "\n",
       "[10 Picturesque Facts About The Pont Des Arts](https://art-facts.com/pont-des-arts-facts/)\n",
       "In this article, we'll take a closer look at some of the most interesting facts about the Pont des Arts, a \n",
       "remarkable structure in the City of Light.\n",
       "\n",
       "[10 things to know about the Pont des Arts in Paris. - \n",
       "ParisCadenas.com](https://www.pariscadenas.com/articles/read/art-bridge)\n",
       "The Pont des Arts is a wooden pedestrian bridge that connects the two sides of the Seine in Paris, between the \n",
       "Louvre and the rue de Seine. It was built between 1802 and 1804 by architect Louis-Alexandre de Cessart and \n",
       "engineer Jean-Rodolphe Perronet. The Pont des Arts is the first wooden bridge to be built over the Seine in Paris.\n",
       "\n",
       "[Pont des Arts - All You Need to Know BEFORE You Go \n",
       "(2025)](https://www.tripadvisor.com/Attraction_Review-g187147-d2072995-Reviews-Pont_des_Arts-Paris_Ile_de_France.ht\n",
       "ml)\n",
       "Pont des Arts is a lovely pedestrian bridge over the Seine River. At one entry side of the bridge is the Institut \n",
       "de France, and at the other side is the Palais du Louvre. The bridge is famous for all the love locks placed on it \n",
       "by thousands of visitors over time.\n",
       "\n",
       "[Pont des Arts (Passerelle des Arts), Paris, France - \n",
       "solosophie](https://www.solosophie.com/pont-des-arts-passerelle-des-arts-paris/)\n",
       "Here's a history of Pont des Arts (which is sometimes referred to as Passerelle des Arts), as well as how to visit,\n",
       "and things to know before you go.\n",
       "\n",
       "[A Complete Guide to the Pont des Arts in Paris - \n",
       "TripSavvy](https://www.tripsavvy.com/a-complete-guide-to-the-pont-des-arts-in-paris-4584846)\n",
       "One of the loveliest of Paris' many bridges, the Pont des Arts is a photogenic delight. It's appeared in countless \n",
       "films, including one that shares its name. Connecting the central courtyard of the Louvre Palace on one side of the\n",
       "Seine River to the prestigious Institut de France on the other, the bridge seems to embody the city at its most \n",
       "elegant.\n",
       "\n",
       "[Pont des Arts - Medium](https://medium.com/@SATPALDA/pont-des-arts-308c7214834c)\n",
       "The Pont des Arts is a pedestrian Arch shape bridge made up of steel in Paris, France, over the River Seine. \n",
       "WorldView-3 satellite courtesy…\n",
       "\n",
       "[Love Lock bridge in Paris then & now: The Pont des Arts - \n",
       "CosmopoliClan](https://cosmopoliclan.com/travel-with-kids/inspiration/love-lock-bridge-paris-pont-des-arts/)\n",
       "The Pont des Arts or Passerelle des Arts is the pedestrian bridge over the Seine that connects the Louvre Museum on\n",
       "the Right bank to the Institut de France on the Left Bank. As a result, it connects the 1st and the 6th Paris \n",
       "arrondissements. It is flanked by the Pont du Carrousel downstream and by the Pont-Neuf and the Île de la Cité, \n",
       "home to the Notre Dame cathedral, upstream. The closest ...\n",
       "Leopard speed: ## Search Results\n",
       "\n",
       "[How Fast Can a Leopard Run? It's Slower than Most of Its Prey](https://africafreak.com/how-fast-can-a-leopard-run)\n",
       "African leopards have a top speed of 56-60 km/h (35-37 mph). That's significantly slower than cheetahs and lions, \n",
       "as well as being slower than a lot of its prey. But this top speed isn't the full story. The leopard is one of the \n",
       "greatest predators on the African savannah and speed is just one piece of its hunting prowess.\n",
       "\n",
       "[How Fast Are Leopards? Top Speeds and How It Compares ... - AZ \n",
       "Animals](https://a-z-animals.com/blog/how-fast-leopards-top-speeds-how-compares-other-big-cats/)\n",
       "Cats of all sizes can reach impressive speeds. These are all attributes of their anatomy. Much like how the \n",
       "strength of an animal's bite is due to their jaw and skull anatomy, a cat's speed is determined by their \n",
       "musculature and skeletal composition. However, you can boil down their speed and agility to a very important \n",
       "structure: the spine.\n",
       "\n",
       "[How fast can leopards run and how agile are they? - \n",
       "WildLifeFAQs](https://www.wildlifefaq.com/leopard-speed-and-agility/)\n",
       "The Speed and Agility of Amur Leopards. Amur leopards, a subspecies of leopard, are known for their exceptional \n",
       "speed and agility. These magnificent creatures can reach speeds of almost 37 miles per hour (58 km/h), allowing \n",
       "them to swiftly chase down prey and escape potential threats.\n",
       "\n",
       "[How fast can a leopard run per hour? - \n",
       "Quick-Advice.com](https://yourquickadvice.com/how-fast-can-a-leopard-run-per-hour/)\n",
       "The average top speed of a leopard is 35 miles ( 56 kilometers) per hour. If a leopard is particularly hungry, they\n",
       "can go even faster and even reach up to 40 miles ( 64 kilometers) per hour. ... Snow leopards can run at a maximum \n",
       "speed of 55 miles per hour though they cannot maintain this much speed for longer time. They will only attain the \n",
       "...\n",
       "\n",
       "[Unraveling the Speed of Leopards: How Fast Can They Actually \n",
       "Run?](https://startingrun.com/unraveling-the-speed-of-leopards-how-fast-can-they-actually-run/)\n",
       "Environmental and situational factors, including terrain, prey's size and speed, climatic conditions, fatigue, age,\n",
       "and health, significantly influence the leopard's speed. Compared to other big cats such as lions, cheetahs, \n",
       "jaguars, and tigers, leopards hold a respectable position with a top speed of 58 km/h (36 mph), showcasing a ...\n",
       "\n",
       "[How Fast Can a Leopard Run (Average Speed) - \n",
       "brotherspets.com](https://brotherspets.com/how-fast-can-a-leopard-run/)\n",
       "How Fast Can a Leopard Run? Leopards are known for their speed and agility, and they are capable of reaching \n",
       "impressive top speeds when they need to. According to various sources, leopards can run at speeds ranging from \n",
       "30-56 mph (48-90 km/h) with an average speed of 58 km/h.\n",
       "\n",
       "[Leopard - Facts, Diet, Habitat & Pictures on Animalia.bio](https://animalia.bio/leopard)\n",
       "The leopard is distinguished by its well-camouflaged fur, opportunistic hunting behavior, broad diet, strength, and\n",
       "its ability to adapt to a variety of habitats ranging from rainforest to steppe, including arid and montane areas. \n",
       "It can run at speeds of up to 58 km/h (36 mph).\n",
       "\n",
       "[Leopard's Peak Speed: Unleashing Their Running \n",
       "Power](https://startingrun.com/unleashing-the-speed-how-fast-can-a-leopard-run/)\n",
       "Unique shoulder bone structure contributes to leopard's speed by allowing an extended range of motion for running \n",
       "and climbing, leading to longer strides. ... is often touted for its strength and might. Yet, when it comes to \n",
       "speed lions max out at around 50 mph - a fair bit slower than their leopard counterparts. Tigers, the biggest cats \n",
       "of ...\n",
       "\n",
       "[Leopard Animal Facts - Panthera pardus - A-Z Animals](https://a-z-animals.com/animals/leopard/)\n",
       "Top Speed 36 mph Lifespan 10 - 15 years Weight 30kg - 90kg (66lbs - 198lbs) Length ... The leopard is a \n",
       "medium-sized wildcat that lives in a variety of different habitats across sub-Saharan Africa and southern Asia. ...\n",
       "using the biologyof a jaguar to populate their physical statistics. Panthers can weigh upwards of 300lbs, but \n",
       "leopards max out ...\n",
       "\n",
       "[Leopard's Agile Movement And Impressive Speed - Big Cat \n",
       "Facts](https://bigcatfacts.net/leopards-agile-movement-and-impressive-speed/)\n",
       "Comparing the Leopard's Speed with that of the Cheetah. The leopard and the cheetah, two of the big cats in the \n",
       "world, are acclaimed for their swift and robust nature, each a formidable predator and a master in their hunting \n",
       "strategies. They are known for their speed, agility, strength and stealth which set them apart in the animal \n",
       "kingdom.\n",
       "\n",
       "Out: None\n"
      ]
     },
     "metadata": {},
     "output_type": "display_data"
    },
    {
     "data": {
      "text/html": [
       "<pre style=\"white-space:pre;overflow-x:auto;line-height:normal;font-family:Menlo,'DejaVu Sans Mono',consolas,'Courier New',monospace\"><span style=\"color: #7f7f7f; text-decoration-color: #7f7f7f\">[Step 0: Duration 7.52 seconds| Input tokens: 2,086 | Output tokens: 114]</span>\n",
       "</pre>\n"
      ],
      "text/plain": [
       "\u001b[2m[Step 0: Duration 7.52 seconds| Input tokens: 2,086 | Output tokens: 114]\u001b[0m\n"
      ]
     },
     "metadata": {},
     "output_type": "display_data"
    },
    {
     "data": {
      "text/html": [
       "<pre style=\"white-space:pre;overflow-x:auto;line-height:normal;font-family:Menlo,'DejaVu Sans Mono',consolas,'Courier New',monospace\"><span style=\"color: #d4b702; text-decoration-color: #d4b702\">━━━━━━━━━━━━━━━━━━━━━━━━━━━━━━━━━━━━━━━━━━━━━━━━━━━━━ </span><span style=\"font-weight: bold\">Step </span><span style=\"color: #008080; text-decoration-color: #008080; font-weight: bold\">2</span><span style=\"color: #d4b702; text-decoration-color: #d4b702\"> ━━━━━━━━━━━━━━━━━━━━━━━━━━━━━━━━━━━━━━━━━━━━━━━━━━━━━━</span>\n",
       "</pre>\n"
      ],
      "text/plain": [
       "\u001b[38;2;212;183;2m━━━━━━━━━━━━━━━━━━━━━━━━━━━━━━━━━━━━━━━━━━━━━━━━━━━━━ \u001b[0m\u001b[1mStep \u001b[0m\u001b[1;36m2\u001b[0m\u001b[38;2;212;183;2m ━━━━━━━━━━━━━━━━━━━━━━━━━━━━━━━━━━━━━━━━━━━━━━━━━━━━━━\u001b[0m\n"
      ]
     },
     "metadata": {},
     "output_type": "display_data"
    },
    {
     "data": {
      "text/html": [
       "<pre style=\"white-space:pre;overflow-x:auto;line-height:normal;font-family:Menlo,'DejaVu Sans Mono',consolas,'Courier New',monospace\"> ─ <span style=\"font-weight: bold\">Executing parsed code:</span> ──────────────────────────────────────────────────────────────────────────────────────── \n",
       "  <span style=\"color: #959077; text-decoration-color: #959077; background-color: #272822\"># Convert leopard speed from km/h to m/s</span><span style=\"background-color: #272822\">                                                                       </span>  \n",
       "  <span style=\"color: #f8f8f2; text-decoration-color: #f8f8f2; background-color: #272822\">leopard_speed_kmh </span><span style=\"color: #ff4689; text-decoration-color: #ff4689; background-color: #272822\">=</span><span style=\"color: #f8f8f2; text-decoration-color: #f8f8f2; background-color: #272822\"> </span><span style=\"color: #ae81ff; text-decoration-color: #ae81ff; background-color: #272822\">58</span><span style=\"color: #f8f8f2; text-decoration-color: #f8f8f2; background-color: #272822\">  </span><span style=\"color: #959077; text-decoration-color: #959077; background-color: #272822\"># Using the average speed of 58 km/h</span><span style=\"background-color: #272822\">                                                   </span>  \n",
       "  <span style=\"color: #f8f8f2; text-decoration-color: #f8f8f2; background-color: #272822\">leopard_speed_ms </span><span style=\"color: #ff4689; text-decoration-color: #ff4689; background-color: #272822\">=</span><span style=\"color: #f8f8f2; text-decoration-color: #f8f8f2; background-color: #272822\"> leopard_speed_kmh </span><span style=\"color: #ff4689; text-decoration-color: #ff4689; background-color: #272822\">*</span><span style=\"color: #f8f8f2; text-decoration-color: #f8f8f2; background-color: #272822\"> (</span><span style=\"color: #ae81ff; text-decoration-color: #ae81ff; background-color: #272822\">1000</span><span style=\"color: #f8f8f2; text-decoration-color: #f8f8f2; background-color: #272822\"> </span><span style=\"color: #ff4689; text-decoration-color: #ff4689; background-color: #272822\">/</span><span style=\"color: #f8f8f2; text-decoration-color: #f8f8f2; background-color: #272822\"> </span><span style=\"color: #ae81ff; text-decoration-color: #ae81ff; background-color: #272822\">3600</span><span style=\"color: #f8f8f2; text-decoration-color: #f8f8f2; background-color: #272822\">)</span><span style=\"background-color: #272822\">                                                           </span>  \n",
       "  <span style=\"background-color: #272822\">                                                                                                               </span>  \n",
       "  <span style=\"color: #959077; text-decoration-color: #959077; background-color: #272822\"># Length of Pont des Arts in meters</span><span style=\"background-color: #272822\">                                                                            </span>  \n",
       "  <span style=\"color: #f8f8f2; text-decoration-color: #f8f8f2; background-color: #272822\">pont_des_arts_length </span><span style=\"color: #ff4689; text-decoration-color: #ff4689; background-color: #272822\">=</span><span style=\"color: #f8f8f2; text-decoration-color: #f8f8f2; background-color: #272822\"> </span><span style=\"color: #ae81ff; text-decoration-color: #ae81ff; background-color: #272822\">155</span><span style=\"background-color: #272822\">                                                                                     </span>  \n",
       "  <span style=\"background-color: #272822\">                                                                                                               </span>  \n",
       "  <span style=\"color: #959077; text-decoration-color: #959077; background-color: #272822\"># Calculate the time in seconds</span><span style=\"background-color: #272822\">                                                                                </span>  \n",
       "  <span style=\"color: #f8f8f2; text-decoration-color: #f8f8f2; background-color: #272822\">time_seconds </span><span style=\"color: #ff4689; text-decoration-color: #ff4689; background-color: #272822\">=</span><span style=\"color: #f8f8f2; text-decoration-color: #f8f8f2; background-color: #272822\"> pont_des_arts_length </span><span style=\"color: #ff4689; text-decoration-color: #ff4689; background-color: #272822\">/</span><span style=\"color: #f8f8f2; text-decoration-color: #f8f8f2; background-color: #272822\"> leopard_speed_ms</span><span style=\"background-color: #272822\">                                                         </span>  \n",
       "  <span style=\"color: #f8f8f2; text-decoration-color: #f8f8f2; background-color: #272822\">final_answer(time_seconds)</span><span style=\"background-color: #272822\">                                                                                     </span>  \n",
       " ───────────────────────────────────────────────────────────────────────────────────────────────────────────────── \n",
       "</pre>\n"
      ],
      "text/plain": [
       " ─ \u001b[1mExecuting parsed code:\u001b[0m ──────────────────────────────────────────────────────────────────────────────────────── \n",
       "  \u001b[38;2;149;144;119;48;2;39;40;34m# Convert leopard speed from km/h to m/s\u001b[0m\u001b[48;2;39;40;34m                                                                       \u001b[0m  \n",
       "  \u001b[38;2;248;248;242;48;2;39;40;34mleopard_speed_kmh\u001b[0m\u001b[38;2;248;248;242;48;2;39;40;34m \u001b[0m\u001b[38;2;255;70;137;48;2;39;40;34m=\u001b[0m\u001b[38;2;248;248;242;48;2;39;40;34m \u001b[0m\u001b[38;2;174;129;255;48;2;39;40;34m58\u001b[0m\u001b[38;2;248;248;242;48;2;39;40;34m  \u001b[0m\u001b[38;2;149;144;119;48;2;39;40;34m# Using the average speed of 58 km/h\u001b[0m\u001b[48;2;39;40;34m                                                   \u001b[0m  \n",
       "  \u001b[38;2;248;248;242;48;2;39;40;34mleopard_speed_ms\u001b[0m\u001b[38;2;248;248;242;48;2;39;40;34m \u001b[0m\u001b[38;2;255;70;137;48;2;39;40;34m=\u001b[0m\u001b[38;2;248;248;242;48;2;39;40;34m \u001b[0m\u001b[38;2;248;248;242;48;2;39;40;34mleopard_speed_kmh\u001b[0m\u001b[38;2;248;248;242;48;2;39;40;34m \u001b[0m\u001b[38;2;255;70;137;48;2;39;40;34m*\u001b[0m\u001b[38;2;248;248;242;48;2;39;40;34m \u001b[0m\u001b[38;2;248;248;242;48;2;39;40;34m(\u001b[0m\u001b[38;2;174;129;255;48;2;39;40;34m1000\u001b[0m\u001b[38;2;248;248;242;48;2;39;40;34m \u001b[0m\u001b[38;2;255;70;137;48;2;39;40;34m/\u001b[0m\u001b[38;2;248;248;242;48;2;39;40;34m \u001b[0m\u001b[38;2;174;129;255;48;2;39;40;34m3600\u001b[0m\u001b[38;2;248;248;242;48;2;39;40;34m)\u001b[0m\u001b[48;2;39;40;34m                                                           \u001b[0m  \n",
       "  \u001b[48;2;39;40;34m                                                                                                               \u001b[0m  \n",
       "  \u001b[38;2;149;144;119;48;2;39;40;34m# Length of Pont des Arts in meters\u001b[0m\u001b[48;2;39;40;34m                                                                            \u001b[0m  \n",
       "  \u001b[38;2;248;248;242;48;2;39;40;34mpont_des_arts_length\u001b[0m\u001b[38;2;248;248;242;48;2;39;40;34m \u001b[0m\u001b[38;2;255;70;137;48;2;39;40;34m=\u001b[0m\u001b[38;2;248;248;242;48;2;39;40;34m \u001b[0m\u001b[38;2;174;129;255;48;2;39;40;34m155\u001b[0m\u001b[48;2;39;40;34m                                                                                     \u001b[0m  \n",
       "  \u001b[48;2;39;40;34m                                                                                                               \u001b[0m  \n",
       "  \u001b[38;2;149;144;119;48;2;39;40;34m# Calculate the time in seconds\u001b[0m\u001b[48;2;39;40;34m                                                                                \u001b[0m  \n",
       "  \u001b[38;2;248;248;242;48;2;39;40;34mtime_seconds\u001b[0m\u001b[38;2;248;248;242;48;2;39;40;34m \u001b[0m\u001b[38;2;255;70;137;48;2;39;40;34m=\u001b[0m\u001b[38;2;248;248;242;48;2;39;40;34m \u001b[0m\u001b[38;2;248;248;242;48;2;39;40;34mpont_des_arts_length\u001b[0m\u001b[38;2;248;248;242;48;2;39;40;34m \u001b[0m\u001b[38;2;255;70;137;48;2;39;40;34m/\u001b[0m\u001b[38;2;248;248;242;48;2;39;40;34m \u001b[0m\u001b[38;2;248;248;242;48;2;39;40;34mleopard_speed_ms\u001b[0m\u001b[48;2;39;40;34m                                                         \u001b[0m  \n",
       "  \u001b[38;2;248;248;242;48;2;39;40;34mfinal_answer\u001b[0m\u001b[38;2;248;248;242;48;2;39;40;34m(\u001b[0m\u001b[38;2;248;248;242;48;2;39;40;34mtime_seconds\u001b[0m\u001b[38;2;248;248;242;48;2;39;40;34m)\u001b[0m\u001b[48;2;39;40;34m                                                                                     \u001b[0m  \n",
       " ───────────────────────────────────────────────────────────────────────────────────────────────────────────────── \n"
      ]
     },
     "metadata": {},
     "output_type": "display_data"
    },
    {
     "data": {
      "text/html": [
       "<pre style=\"white-space:pre;overflow-x:auto;line-height:normal;font-family:Menlo,'DejaVu Sans Mono',consolas,'Courier New',monospace\"><span style=\"color: #d4b702; text-decoration-color: #d4b702; font-weight: bold\">Out - Final answer: 9.620689655172415</span>\n",
       "</pre>\n"
      ],
      "text/plain": [
       "\u001b[1;38;2;212;183;2mOut - Final answer: 9.620689655172415\u001b[0m\n"
      ]
     },
     "metadata": {},
     "output_type": "display_data"
    },
    {
     "data": {
      "text/html": [
       "<pre style=\"white-space:pre;overflow-x:auto;line-height:normal;font-family:Menlo,'DejaVu Sans Mono',consolas,'Courier New',monospace\"><span style=\"color: #7f7f7f; text-decoration-color: #7f7f7f\">[Step 1: Duration 5.42 seconds| Input tokens: 6,566 | Output tokens: 315]</span>\n",
       "</pre>\n"
      ],
      "text/plain": [
       "\u001b[2m[Step 1: Duration 5.42 seconds| Input tokens: 6,566 | Output tokens: 315]\u001b[0m\n"
      ]
     },
     "metadata": {},
     "output_type": "display_data"
    },
    {
     "data": {
      "text/plain": [
       "9.620689655172415"
      ]
     },
     "execution_count": 1,
     "metadata": {},
     "output_type": "execute_result"
    }
   ],
   "source": [
    "from smolagents import CodeAgent, DuckDuckGoSearchTool, HfApiModel\n",
    "\n",
    "model = HfApiModel()\n",
    "agent = CodeAgent(tools=[DuckDuckGoSearchTool()], model=model)\n",
    "\n",
    "agent.run(\"How many seconds would it take for a leopard at full speed to run through Pont des Arts?\")"
   ]
  }
 ],
 "metadata": {
  "kernelspec": {
   "display_name": ".smolagents",
   "language": "python",
   "name": "python3"
  },
  "language_info": {
   "codemirror_mode": {
    "name": "ipython",
    "version": 3
   },
   "file_extension": ".py",
   "mimetype": "text/x-python",
   "name": "python",
   "nbconvert_exporter": "python",
   "pygments_lexer": "ipython3",
   "version": "3.11.8"
  }
 },
 "nbformat": 4,
 "nbformat_minor": 2
}
