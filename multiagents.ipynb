{
 "cells": [
  {
   "cell_type": "markdown",
   "metadata": {},
   "source": [
    "#### Wednesday, February 12, 2025\n",
    "\n",
    "This notebook was created from [Orchestrate a multi-agent system](https://huggingface.co/docs/smolagents/examples/multiagents), using the github resource [Orchestrated a multi-agent system](https://github.com/huggingface/smolagents/blob/main/docs/source/en/examples/multiagents.md)\n",
    "\n",
    "This all runs. IF you want to runs stuff again, create new cells! I want to retain the output from the original run."
   ]
  },
  {
   "cell_type": "code",
   "execution_count": null,
   "metadata": {},
   "outputs": [],
   "source": [
    "# !pip install markdownify duckduckgo-search smolagents --upgrade -q"
   ]
  },
  {
   "cell_type": "code",
   "execution_count": null,
   "metadata": {},
   "outputs": [],
   "source": [
    "from huggingface_hub import login\n",
    "\n",
    "login()"
   ]
  },
  {
   "cell_type": "code",
   "execution_count": 1,
   "metadata": {},
   "outputs": [],
   "source": [
    "model_id = \"Qwen/Qwen2.5-Coder-32B-Instruct\""
   ]
  },
  {
   "cell_type": "code",
   "execution_count": 2,
   "metadata": {},
   "outputs": [],
   "source": [
    "import re\n",
    "import requests\n",
    "from markdownify import markdownify\n",
    "from requests.exceptions import RequestException\n",
    "from smolagents import tool"
   ]
  },
  {
   "cell_type": "code",
   "execution_count": 3,
   "metadata": {},
   "outputs": [],
   "source": [
    "@tool\n",
    "def visit_webpage(url: str) -> str:\n",
    "    \"\"\"Visits a webpage at the given URL and returns its content as a markdown string.\n",
    "\n",
    "    Args:\n",
    "        url: The URL of the webpage to visit.\n",
    "\n",
    "    Returns:\n",
    "        The content of the webpage converted to Markdown, or an error message if the request fails.\n",
    "    \"\"\"\n",
    "    try:\n",
    "        # Send a GET request to the URL\n",
    "        response = requests.get(url)\n",
    "        response.raise_for_status()  # Raise an exception for bad status codes\n",
    "\n",
    "        # Convert the HTML content to Markdown\n",
    "        markdown_content = markdownify(response.text).strip()\n",
    "\n",
    "        # Remove multiple line breaks\n",
    "        markdown_content = re.sub(r\"\\n{3,}\", \"\\n\\n\", markdown_content)\n",
    "\n",
    "        return markdown_content\n",
    "\n",
    "    except RequestException as e:\n",
    "        return f\"Error fetching the webpage: {str(e)}\"\n",
    "    except Exception as e:\n",
    "        return f\"An unexpected error occurred: {str(e)}\""
   ]
  },
  {
   "cell_type": "code",
   "execution_count": 4,
   "metadata": {},
   "outputs": [
    {
     "name": "stdout",
     "output_type": "stream",
     "text": [
      "Hugging Face - Wikipedia\n",
      "\n",
      "[Jump to content](#bodyContent)\n",
      "\n",
      "Main menu\n",
      "\n",
      "Main menu\n",
      "move to sidebar\n",
      "hide\n",
      "\n",
      "Navigation\n",
      "\n",
      "* [Main page](/wiki/Main_Page \"Visit the main page [z]\")\n",
      "* [Contents](/wiki/Wikipedia:Contents \"Guides to browsing Wikipedia\")\n",
      "* [Current events](/wiki/Portal:Current_events \"Articles related to current events\")\n",
      "* [Random article](/wiki/Special:Random \"Visit a randomly selected article [x]\")\n",
      "* [About Wikipedia](/wiki/Wikipedia:About \"Learn about Wikipedia and how it works\")\n",
      "* [Contac\n"
     ]
    }
   ],
   "source": [
    "print(visit_webpage(\"https://en.wikipedia.org/wiki/Hugging_Face\")[:500])"
   ]
  },
  {
   "cell_type": "code",
   "execution_count": 5,
   "metadata": {},
   "outputs": [],
   "source": [
    "from smolagents import (\n",
    "    CodeAgent,\n",
    "    ToolCallingAgent,\n",
    "    HfApiModel,\n",
    "    DuckDuckGoSearchTool,\n",
    "    LiteLLMModel,\n",
    ")\n"
   ]
  },
  {
   "cell_type": "code",
   "execution_count": 6,
   "metadata": {},
   "outputs": [],
   "source": [
    "model = HfApiModel(model_id)\n",
    "\n",
    "web_agent = ToolCallingAgent(\n",
    "    tools=[DuckDuckGoSearchTool(), visit_webpage],\n",
    "    model=model,\n",
    "    max_steps=10,\n",
    "    name=\"search\",\n",
    "    description=\"Runs web searches for you. Give it your query as an argument.\",\n",
    ")"
   ]
  },
  {
   "cell_type": "code",
   "execution_count": 7,
   "metadata": {},
   "outputs": [],
   "source": [
    "manager_agent = CodeAgent(\n",
    "    tools=[],\n",
    "    model=model,\n",
    "    managed_agents=[web_agent],\n",
    "    additional_authorized_imports=[\"time\", \"numpy\", \"pandas\"],\n",
    ")"
   ]
  },
  {
   "cell_type": "code",
   "execution_count": null,
   "metadata": {},
   "outputs": [
    {
     "data": {
      "text/html": [
       "<pre style=\"white-space:pre;overflow-x:auto;line-height:normal;font-family:Menlo,'DejaVu Sans Mono',consolas,'Courier New',monospace\"><span style=\"color: #d4b702; text-decoration-color: #d4b702\">╭──────────────────────────────────────────────────── </span><span style=\"color: #d4b702; text-decoration-color: #d4b702; font-weight: bold\">New run</span><span style=\"color: #d4b702; text-decoration-color: #d4b702\"> ────────────────────────────────────────────────────╮</span>\n",
       "<span style=\"color: #d4b702; text-decoration-color: #d4b702\">│</span>                                                                                                                 <span style=\"color: #d4b702; text-decoration-color: #d4b702\">│</span>\n",
       "<span style=\"color: #d4b702; text-decoration-color: #d4b702\">│</span> <span style=\"font-weight: bold\">If LLM training continues to scale up at the current rhythm until 2030, what would be the electric power in GW </span> <span style=\"color: #d4b702; text-decoration-color: #d4b702\">│</span>\n",
       "<span style=\"color: #d4b702; text-decoration-color: #d4b702\">│</span> <span style=\"font-weight: bold\">required to power the biggest training runs by 2030? What would that correspond to, compared to some countries?</span> <span style=\"color: #d4b702; text-decoration-color: #d4b702\">│</span>\n",
       "<span style=\"color: #d4b702; text-decoration-color: #d4b702\">│</span> <span style=\"font-weight: bold\">Please provide a source for any numbers used.</span>                                                                   <span style=\"color: #d4b702; text-decoration-color: #d4b702\">│</span>\n",
       "<span style=\"color: #d4b702; text-decoration-color: #d4b702\">│</span>                                                                                                                 <span style=\"color: #d4b702; text-decoration-color: #d4b702\">│</span>\n",
       "<span style=\"color: #d4b702; text-decoration-color: #d4b702\">╰─ HfApiModel - Qwen/Qwen2.5-Coder-32B-Instruct ──────────────────────────────────────────────────────────────────╯</span>\n",
       "</pre>\n"
      ],
      "text/plain": [
       "\u001b[38;2;212;183;2m╭─\u001b[0m\u001b[38;2;212;183;2m───────────────────────────────────────────────────\u001b[0m\u001b[38;2;212;183;2m \u001b[0m\u001b[1;38;2;212;183;2mNew run\u001b[0m\u001b[38;2;212;183;2m \u001b[0m\u001b[38;2;212;183;2m───────────────────────────────────────────────────\u001b[0m\u001b[38;2;212;183;2m─╮\u001b[0m\n",
       "\u001b[38;2;212;183;2m│\u001b[0m                                                                                                                 \u001b[38;2;212;183;2m│\u001b[0m\n",
       "\u001b[38;2;212;183;2m│\u001b[0m \u001b[1mIf LLM training continues to scale up at the current rhythm until 2030, what would be the electric power in GW \u001b[0m \u001b[38;2;212;183;2m│\u001b[0m\n",
       "\u001b[38;2;212;183;2m│\u001b[0m \u001b[1mrequired to power the biggest training runs by 2030? What would that correspond to, compared to some countries?\u001b[0m \u001b[38;2;212;183;2m│\u001b[0m\n",
       "\u001b[38;2;212;183;2m│\u001b[0m \u001b[1mPlease provide a source for any numbers used.\u001b[0m                                                                   \u001b[38;2;212;183;2m│\u001b[0m\n",
       "\u001b[38;2;212;183;2m│\u001b[0m                                                                                                                 \u001b[38;2;212;183;2m│\u001b[0m\n",
       "\u001b[38;2;212;183;2m╰─\u001b[0m\u001b[38;2;212;183;2m HfApiModel - Qwen/Qwen2.5-Coder-32B-Instruct \u001b[0m\u001b[38;2;212;183;2m─────────────────────────────────────────────────────────────────\u001b[0m\u001b[38;2;212;183;2m─╯\u001b[0m\n"
      ]
     },
     "metadata": {},
     "output_type": "display_data"
    },
    {
     "data": {
      "text/html": [
       "<pre style=\"white-space:pre;overflow-x:auto;line-height:normal;font-family:Menlo,'DejaVu Sans Mono',consolas,'Courier New',monospace\"><span style=\"color: #d4b702; text-decoration-color: #d4b702\">━━━━━━━━━━━━━━━━━━━━━━━━━━━━━━━━━━━━━━━━━━━━━━━━━━━━━ </span><span style=\"font-weight: bold\">Step </span><span style=\"color: #008080; text-decoration-color: #008080; font-weight: bold\">1</span><span style=\"color: #d4b702; text-decoration-color: #d4b702\"> ━━━━━━━━━━━━━━━━━━━━━━━━━━━━━━━━━━━━━━━━━━━━━━━━━━━━━━</span>\n",
       "</pre>\n"
      ],
      "text/plain": [
       "\u001b[38;2;212;183;2m━━━━━━━━━━━━━━━━━━━━━━━━━━━━━━━━━━━━━━━━━━━━━━━━━━━━━ \u001b[0m\u001b[1mStep \u001b[0m\u001b[1;36m1\u001b[0m\u001b[38;2;212;183;2m ━━━━━━━━━━━━━━━━━━━━━━━━━━━━━━━━━━━━━━━━━━━━━━━━━━━━━━\u001b[0m\n"
      ]
     },
     "metadata": {},
     "output_type": "display_data"
    },
    {
     "data": {
      "text/html": [
       "<pre style=\"white-space:pre;overflow-x:auto;line-height:normal;font-family:Menlo,'DejaVu Sans Mono',consolas,'Courier New',monospace\"> ─ <span style=\"font-weight: bold\">Executing parsed code:</span> ──────────────────────────────────────────────────────────────────────────────────────── \n",
       "  <span style=\"color: #f8f8f2; text-decoration-color: #f8f8f2; background-color: #272822\">trend_data </span><span style=\"color: #ff4689; text-decoration-color: #ff4689; background-color: #272822\">=</span><span style=\"color: #f8f8f2; text-decoration-color: #f8f8f2; background-color: #272822\"> search(query</span><span style=\"color: #ff4689; text-decoration-color: #ff4689; background-color: #272822\">=</span><span style=\"color: #e6db74; text-decoration-color: #e6db74; background-color: #272822\">\"LLM training energy consumption trends 2030\"</span><span style=\"color: #f8f8f2; text-decoration-color: #f8f8f2; background-color: #272822\">)</span><span style=\"background-color: #272822\">                                       </span>  \n",
       "  <span style=\"color: #f8f8f2; text-decoration-color: #f8f8f2; background-color: #272822\">print(trend_data)</span><span style=\"background-color: #272822\">                                                                                              </span>  \n",
       " ───────────────────────────────────────────────────────────────────────────────────────────────────────────────── \n",
       "</pre>\n"
      ],
      "text/plain": [
       " ─ \u001b[1mExecuting parsed code:\u001b[0m ──────────────────────────────────────────────────────────────────────────────────────── \n",
       "  \u001b[38;2;248;248;242;48;2;39;40;34mtrend_data\u001b[0m\u001b[38;2;248;248;242;48;2;39;40;34m \u001b[0m\u001b[38;2;255;70;137;48;2;39;40;34m=\u001b[0m\u001b[38;2;248;248;242;48;2;39;40;34m \u001b[0m\u001b[38;2;248;248;242;48;2;39;40;34msearch\u001b[0m\u001b[38;2;248;248;242;48;2;39;40;34m(\u001b[0m\u001b[38;2;248;248;242;48;2;39;40;34mquery\u001b[0m\u001b[38;2;255;70;137;48;2;39;40;34m=\u001b[0m\u001b[38;2;230;219;116;48;2;39;40;34m\"\u001b[0m\u001b[38;2;230;219;116;48;2;39;40;34mLLM training energy consumption trends 2030\u001b[0m\u001b[38;2;230;219;116;48;2;39;40;34m\"\u001b[0m\u001b[38;2;248;248;242;48;2;39;40;34m)\u001b[0m\u001b[48;2;39;40;34m                                       \u001b[0m  \n",
       "  \u001b[38;2;248;248;242;48;2;39;40;34mprint\u001b[0m\u001b[38;2;248;248;242;48;2;39;40;34m(\u001b[0m\u001b[38;2;248;248;242;48;2;39;40;34mtrend_data\u001b[0m\u001b[38;2;248;248;242;48;2;39;40;34m)\u001b[0m\u001b[48;2;39;40;34m                                                                                              \u001b[0m  \n",
       " ───────────────────────────────────────────────────────────────────────────────────────────────────────────────── \n"
      ]
     },
     "metadata": {},
     "output_type": "display_data"
    },
    {
     "data": {
      "text/html": [
       "<pre style=\"white-space:pre;overflow-x:auto;line-height:normal;font-family:Menlo,'DejaVu Sans Mono',consolas,'Courier New',monospace\"><span style=\"color: #800000; text-decoration-color: #800000; font-weight: bold\">Code execution failed at line </span><span style=\"color: #800000; text-decoration-color: #800000; font-weight: bold\">'trend_data = search(query=\"LLM training energy consumption trends 2030\")'</span><span style=\"color: #800000; text-decoration-color: #800000; font-weight: bold\"> due to: </span>\n",
       "<span style=\"color: #800000; text-decoration-color: #800000; font-weight: bold\">TypeError:MultiStepAgent.__call__() missing </span><span style=\"color: #800000; text-decoration-color: #800000; font-weight: bold\">1</span><span style=\"color: #800000; text-decoration-color: #800000; font-weight: bold\"> required positional argument: </span><span style=\"color: #800000; text-decoration-color: #800000; font-weight: bold\">'task'</span>\n",
       "</pre>\n"
      ],
      "text/plain": [
       "\u001b[1;31mCode execution failed at line \u001b[0m\u001b[1;31m'trend_data = search\u001b[0m\u001b[1;31m(\u001b[0m\u001b[1;31mquery\u001b[0m\u001b[1;31m=\u001b[0m\u001b[1;31m\"LLM\u001b[0m\u001b[1;31m training energy consumption trends 2030\"\u001b[0m\u001b[1;31m)\u001b[0m\u001b[1;31m'\u001b[0m\u001b[1;31m due to: \u001b[0m\n",
       "\u001b[1;31mTypeError:\u001b[0m\u001b[1;31mMultiStepAgent.__call__\u001b[0m\u001b[1;31m(\u001b[0m\u001b[1;31m)\u001b[0m\u001b[1;31m missing \u001b[0m\u001b[1;31m1\u001b[0m\u001b[1;31m required positional argument: \u001b[0m\u001b[1;31m'task'\u001b[0m\n"
      ]
     },
     "metadata": {},
     "output_type": "display_data"
    },
    {
     "data": {
      "text/html": [
       "<pre style=\"white-space:pre;overflow-x:auto;line-height:normal;font-family:Menlo,'DejaVu Sans Mono',consolas,'Courier New',monospace\"><span style=\"color: #7f7f7f; text-decoration-color: #7f7f7f\">[Step 0: Duration 6.42 seconds| Input tokens: 2,170 | Output tokens: 124]</span>\n",
       "</pre>\n"
      ],
      "text/plain": [
       "\u001b[2m[Step 0: Duration 6.42 seconds| Input tokens: 2,170 | Output tokens: 124]\u001b[0m\n"
      ]
     },
     "metadata": {},
     "output_type": "display_data"
    },
    {
     "data": {
      "text/html": [
       "<pre style=\"white-space:pre;overflow-x:auto;line-height:normal;font-family:Menlo,'DejaVu Sans Mono',consolas,'Courier New',monospace\"><span style=\"color: #d4b702; text-decoration-color: #d4b702\">━━━━━━━━━━━━━━━━━━━━━━━━━━━━━━━━━━━━━━━━━━━━━━━━━━━━━ </span><span style=\"font-weight: bold\">Step </span><span style=\"color: #008080; text-decoration-color: #008080; font-weight: bold\">2</span><span style=\"color: #d4b702; text-decoration-color: #d4b702\"> ━━━━━━━━━━━━━━━━━━━━━━━━━━━━━━━━━━━━━━━━━━━━━━━━━━━━━━</span>\n",
       "</pre>\n"
      ],
      "text/plain": [
       "\u001b[38;2;212;183;2m━━━━━━━━━━━━━━━━━━━━━━━━━━━━━━━━━━━━━━━━━━━━━━━━━━━━━ \u001b[0m\u001b[1mStep \u001b[0m\u001b[1;36m2\u001b[0m\u001b[38;2;212;183;2m ━━━━━━━━━━━━━━━━━━━━━━━━━━━━━━━━━━━━━━━━━━━━━━━━━━━━━━\u001b[0m\n"
      ]
     },
     "metadata": {},
     "output_type": "display_data"
    },
    {
     "data": {
      "text/html": [
       "<pre style=\"white-space:pre;overflow-x:auto;line-height:normal;font-family:Menlo,'DejaVu Sans Mono',consolas,'Courier New',monospace\"> ─ <span style=\"font-weight: bold\">Executing parsed code:</span> ──────────────────────────────────────────────────────────────────────────────────────── \n",
       "  <span style=\"color: #f8f8f2; text-decoration-color: #f8f8f2; background-color: #272822\">current_estimates </span><span style=\"color: #ff4689; text-decoration-color: #ff4689; background-color: #272822\">=</span><span style=\"color: #f8f8f2; text-decoration-color: #f8f8f2; background-color: #272822\"> search(query</span><span style=\"color: #ff4689; text-decoration-color: #ff4689; background-color: #272822\">=</span><span style=\"color: #e6db74; text-decoration-color: #e6db74; background-color: #272822\">\"current estimates for LLM training energy consumption\"</span><span style=\"color: #f8f8f2; text-decoration-color: #f8f8f2; background-color: #272822\">)</span><span style=\"background-color: #272822\">                      </span>  \n",
       "  <span style=\"color: #f8f8f2; text-decoration-color: #f8f8f2; background-color: #272822\">print(current_estimates)</span><span style=\"background-color: #272822\">                                                                                       </span>  \n",
       " ───────────────────────────────────────────────────────────────────────────────────────────────────────────────── \n",
       "</pre>\n"
      ],
      "text/plain": [
       " ─ \u001b[1mExecuting parsed code:\u001b[0m ──────────────────────────────────────────────────────────────────────────────────────── \n",
       "  \u001b[38;2;248;248;242;48;2;39;40;34mcurrent_estimates\u001b[0m\u001b[38;2;248;248;242;48;2;39;40;34m \u001b[0m\u001b[38;2;255;70;137;48;2;39;40;34m=\u001b[0m\u001b[38;2;248;248;242;48;2;39;40;34m \u001b[0m\u001b[38;2;248;248;242;48;2;39;40;34msearch\u001b[0m\u001b[38;2;248;248;242;48;2;39;40;34m(\u001b[0m\u001b[38;2;248;248;242;48;2;39;40;34mquery\u001b[0m\u001b[38;2;255;70;137;48;2;39;40;34m=\u001b[0m\u001b[38;2;230;219;116;48;2;39;40;34m\"\u001b[0m\u001b[38;2;230;219;116;48;2;39;40;34mcurrent estimates for LLM training energy consumption\u001b[0m\u001b[38;2;230;219;116;48;2;39;40;34m\"\u001b[0m\u001b[38;2;248;248;242;48;2;39;40;34m)\u001b[0m\u001b[48;2;39;40;34m                      \u001b[0m  \n",
       "  \u001b[38;2;248;248;242;48;2;39;40;34mprint\u001b[0m\u001b[38;2;248;248;242;48;2;39;40;34m(\u001b[0m\u001b[38;2;248;248;242;48;2;39;40;34mcurrent_estimates\u001b[0m\u001b[38;2;248;248;242;48;2;39;40;34m)\u001b[0m\u001b[48;2;39;40;34m                                                                                       \u001b[0m  \n",
       " ───────────────────────────────────────────────────────────────────────────────────────────────────────────────── \n"
      ]
     },
     "metadata": {},
     "output_type": "display_data"
    },
    {
     "data": {
      "text/html": [
       "<pre style=\"white-space:pre;overflow-x:auto;line-height:normal;font-family:Menlo,'DejaVu Sans Mono',consolas,'Courier New',monospace\"><span style=\"color: #800000; text-decoration-color: #800000; font-weight: bold\">Code execution failed at line </span><span style=\"color: #800000; text-decoration-color: #800000; font-weight: bold\">'current_estimates = search(query=\"current estimates for LLM training energy </span>\n",
       "<span style=\"color: #800000; text-decoration-color: #800000; font-weight: bold\">consumption\")'</span><span style=\"color: #800000; text-decoration-color: #800000; font-weight: bold\"> due to: TypeError:MultiStepAgent.__call__() missing </span><span style=\"color: #800000; text-decoration-color: #800000; font-weight: bold\">1</span><span style=\"color: #800000; text-decoration-color: #800000; font-weight: bold\"> required positional argument: </span><span style=\"color: #800000; text-decoration-color: #800000; font-weight: bold\">'task'</span>\n",
       "</pre>\n"
      ],
      "text/plain": [
       "\u001b[1;31mCode execution failed at line \u001b[0m\u001b[1;31m'current_estimates = search\u001b[0m\u001b[1;31m(\u001b[0m\u001b[1;31mquery\u001b[0m\u001b[1;31m=\u001b[0m\u001b[1;31m\"current\u001b[0m\u001b[1;31m estimates for LLM training energy \u001b[0m\n",
       "\u001b[1;31mconsumption\"\u001b[0m\u001b[1;31m)\u001b[0m\u001b[1;31m'\u001b[0m\u001b[1;31m due to: TypeError:\u001b[0m\u001b[1;31mMultiStepAgent.__call__\u001b[0m\u001b[1;31m(\u001b[0m\u001b[1;31m)\u001b[0m\u001b[1;31m missing \u001b[0m\u001b[1;31m1\u001b[0m\u001b[1;31m required positional argument: \u001b[0m\u001b[1;31m'task'\u001b[0m\n"
      ]
     },
     "metadata": {},
     "output_type": "display_data"
    },
    {
     "data": {
      "text/html": [
       "<pre style=\"white-space:pre;overflow-x:auto;line-height:normal;font-family:Menlo,'DejaVu Sans Mono',consolas,'Courier New',monospace\"><span style=\"color: #7f7f7f; text-decoration-color: #7f7f7f\">[Step 1: Duration 6.72 seconds| Input tokens: 4,618 | Output tokens: 261]</span>\n",
       "</pre>\n"
      ],
      "text/plain": [
       "\u001b[2m[Step 1: Duration 6.72 seconds| Input tokens: 4,618 | Output tokens: 261]\u001b[0m\n"
      ]
     },
     "metadata": {},
     "output_type": "display_data"
    },
    {
     "data": {
      "text/html": [
       "<pre style=\"white-space:pre;overflow-x:auto;line-height:normal;font-family:Menlo,'DejaVu Sans Mono',consolas,'Courier New',monospace\"><span style=\"color: #d4b702; text-decoration-color: #d4b702\">━━━━━━━━━━━━━━━━━━━━━━━━━━━━━━━━━━━━━━━━━━━━━━━━━━━━━ </span><span style=\"font-weight: bold\">Step </span><span style=\"color: #008080; text-decoration-color: #008080; font-weight: bold\">3</span><span style=\"color: #d4b702; text-decoration-color: #d4b702\"> ━━━━━━━━━━━━━━━━━━━━━━━━━━━━━━━━━━━━━━━━━━━━━━━━━━━━━━</span>\n",
       "</pre>\n"
      ],
      "text/plain": [
       "\u001b[38;2;212;183;2m━━━━━━━━━━━━━━━━━━━━━━━━━━━━━━━━━━━━━━━━━━━━━━━━━━━━━ \u001b[0m\u001b[1mStep \u001b[0m\u001b[1;36m3\u001b[0m\u001b[38;2;212;183;2m ━━━━━━━━━━━━━━━━━━━━━━━━━━━━━━━━━━━━━━━━━━━━━━━━━━━━━━\u001b[0m\n"
      ]
     },
     "metadata": {},
     "output_type": "display_data"
    },
    {
     "data": {
      "text/html": [
       "<pre style=\"white-space:pre;overflow-x:auto;line-height:normal;font-family:Menlo,'DejaVu Sans Mono',consolas,'Courier New',monospace\"> ─ <span style=\"font-weight: bold\">Executing parsed code:</span> ──────────────────────────────────────────────────────────────────────────────────────── \n",
       "  <span style=\"color: #959077; text-decoration-color: #959077; background-color: #272822\"># Manually searching for the required data</span><span style=\"background-color: #272822\">                                                                     </span>  \n",
       "  <span style=\"color: #959077; text-decoration-color: #959077; background-color: #272822\"># Current estimates for LLM training energy consumption</span><span style=\"background-color: #272822\">                                                        </span>  \n",
       "  <span style=\"color: #959077; text-decoration-color: #959077; background-color: #272822\"># Trends and projections for LLM training energy consumption in 2030</span><span style=\"background-color: #272822\">                                           </span>  \n",
       "  <span style=\"color: #959077; text-decoration-color: #959077; background-color: #272822\"># Total electricity consumption of some countries for comparison</span><span style=\"background-color: #272822\">                                               </span>  \n",
       "  <span style=\"background-color: #272822\">                                                                                                               </span>  \n",
       "  <span style=\"color: #959077; text-decoration-color: #959077; background-color: #272822\"># Let's ask for this information through a human search</span><span style=\"background-color: #272822\">                                                        </span>  \n",
       "  <span style=\"color: #f8f8f2; text-decoration-color: #f8f8f2; background-color: #272822\">task </span><span style=\"color: #ff4689; text-decoration-color: #ff4689; background-color: #272822\">=</span><span style=\"color: #f8f8f2; text-decoration-color: #f8f8f2; background-color: #272822\"> </span><span style=\"color: #e6db74; text-decoration-color: #e6db74; background-color: #272822\">\"\"\"</span><span style=\"background-color: #272822\">                                                                                                     </span>  \n",
       "  <span style=\"color: #e6db74; text-decoration-color: #e6db74; background-color: #272822\">Perform the following searches and provide the results:</span><span style=\"background-color: #272822\">                                                        </span>  \n",
       "  <span style=\"background-color: #272822\">                                                                                                               </span>  \n",
       "  <span style=\"color: #e6db74; text-decoration-color: #e6db74; background-color: #272822\">1. Current estimates for the energy consumption of large LLM training runs.</span><span style=\"background-color: #272822\">                                    </span>  \n",
       "  <span style=\"color: #e6db74; text-decoration-color: #e6db74; background-color: #272822\">2. Trends and projections for LLM training energy consumption by 2030.</span><span style=\"background-color: #272822\">                                         </span>  \n",
       "  <span style=\"color: #e6db74; text-decoration-color: #e6db74; background-color: #272822\">3. Total electricity consumption (in GW) of some countries for comparison (e.g., Ireland, Singapore, </span><span style=\"background-color: #272822\">          </span>  \n",
       "  <span style=\"color: #e6db74; text-decoration-color: #e6db74; background-color: #272822\">Luxembourg).</span><span style=\"background-color: #272822\">                                                                                                   </span>  \n",
       "  <span style=\"background-color: #272822\">                                                                                                               </span>  \n",
       "  <span style=\"color: #e6db74; text-decoration-color: #e6db74; background-color: #272822\">Please provide the results in a structured format for the next step.</span><span style=\"background-color: #272822\">                                           </span>  \n",
       "  <span style=\"color: #e6db74; text-decoration-color: #e6db74; background-color: #272822\">\"\"\"</span><span style=\"background-color: #272822\">                                                                                                            </span>  \n",
       "  <span style=\"color: #f8f8f2; text-decoration-color: #f8f8f2; background-color: #272822\">result </span><span style=\"color: #ff4689; text-decoration-color: #ff4689; background-color: #272822\">=</span><span style=\"color: #f8f8f2; text-decoration-color: #f8f8f2; background-color: #272822\"> search(task</span><span style=\"color: #ff4689; text-decoration-color: #ff4689; background-color: #272822\">=</span><span style=\"color: #f8f8f2; text-decoration-color: #f8f8f2; background-color: #272822\">task)</span><span style=\"background-color: #272822\">                                                                                     </span>  \n",
       "  <span style=\"color: #f8f8f2; text-decoration-color: #f8f8f2; background-color: #272822\">print(result)</span><span style=\"background-color: #272822\">                                                                                                  </span>  \n",
       " ───────────────────────────────────────────────────────────────────────────────────────────────────────────────── \n",
       "</pre>\n"
      ],
      "text/plain": [
       " ─ \u001b[1mExecuting parsed code:\u001b[0m ──────────────────────────────────────────────────────────────────────────────────────── \n",
       "  \u001b[38;2;149;144;119;48;2;39;40;34m# Manually searching for the required data\u001b[0m\u001b[48;2;39;40;34m                                                                     \u001b[0m  \n",
       "  \u001b[38;2;149;144;119;48;2;39;40;34m# Current estimates for LLM training energy consumption\u001b[0m\u001b[48;2;39;40;34m                                                        \u001b[0m  \n",
       "  \u001b[38;2;149;144;119;48;2;39;40;34m# Trends and projections for LLM training energy consumption in 2030\u001b[0m\u001b[48;2;39;40;34m                                           \u001b[0m  \n",
       "  \u001b[38;2;149;144;119;48;2;39;40;34m# Total electricity consumption of some countries for comparison\u001b[0m\u001b[48;2;39;40;34m                                               \u001b[0m  \n",
       "  \u001b[48;2;39;40;34m                                                                                                               \u001b[0m  \n",
       "  \u001b[38;2;149;144;119;48;2;39;40;34m# Let's ask for this information through a human search\u001b[0m\u001b[48;2;39;40;34m                                                        \u001b[0m  \n",
       "  \u001b[38;2;248;248;242;48;2;39;40;34mtask\u001b[0m\u001b[38;2;248;248;242;48;2;39;40;34m \u001b[0m\u001b[38;2;255;70;137;48;2;39;40;34m=\u001b[0m\u001b[38;2;248;248;242;48;2;39;40;34m \u001b[0m\u001b[38;2;230;219;116;48;2;39;40;34m\"\"\"\u001b[0m\u001b[48;2;39;40;34m                                                                                                     \u001b[0m  \n",
       "  \u001b[38;2;230;219;116;48;2;39;40;34mPerform the following searches and provide the results:\u001b[0m\u001b[48;2;39;40;34m                                                        \u001b[0m  \n",
       "  \u001b[48;2;39;40;34m                                                                                                               \u001b[0m  \n",
       "  \u001b[38;2;230;219;116;48;2;39;40;34m1. Current estimates for the energy consumption of large LLM training runs.\u001b[0m\u001b[48;2;39;40;34m                                    \u001b[0m  \n",
       "  \u001b[38;2;230;219;116;48;2;39;40;34m2. Trends and projections for LLM training energy consumption by 2030.\u001b[0m\u001b[48;2;39;40;34m                                         \u001b[0m  \n",
       "  \u001b[38;2;230;219;116;48;2;39;40;34m3. Total electricity consumption (in GW) of some countries for comparison (e.g., Ireland, Singapore, \u001b[0m\u001b[48;2;39;40;34m          \u001b[0m  \n",
       "  \u001b[38;2;230;219;116;48;2;39;40;34mLuxembourg).\u001b[0m\u001b[48;2;39;40;34m                                                                                                   \u001b[0m  \n",
       "  \u001b[48;2;39;40;34m                                                                                                               \u001b[0m  \n",
       "  \u001b[38;2;230;219;116;48;2;39;40;34mPlease provide the results in a structured format for the next step.\u001b[0m\u001b[48;2;39;40;34m                                           \u001b[0m  \n",
       "  \u001b[38;2;230;219;116;48;2;39;40;34m\"\"\"\u001b[0m\u001b[48;2;39;40;34m                                                                                                            \u001b[0m  \n",
       "  \u001b[38;2;248;248;242;48;2;39;40;34mresult\u001b[0m\u001b[38;2;248;248;242;48;2;39;40;34m \u001b[0m\u001b[38;2;255;70;137;48;2;39;40;34m=\u001b[0m\u001b[38;2;248;248;242;48;2;39;40;34m \u001b[0m\u001b[38;2;248;248;242;48;2;39;40;34msearch\u001b[0m\u001b[38;2;248;248;242;48;2;39;40;34m(\u001b[0m\u001b[38;2;248;248;242;48;2;39;40;34mtask\u001b[0m\u001b[38;2;255;70;137;48;2;39;40;34m=\u001b[0m\u001b[38;2;248;248;242;48;2;39;40;34mtask\u001b[0m\u001b[38;2;248;248;242;48;2;39;40;34m)\u001b[0m\u001b[48;2;39;40;34m                                                                                     \u001b[0m  \n",
       "  \u001b[38;2;248;248;242;48;2;39;40;34mprint\u001b[0m\u001b[38;2;248;248;242;48;2;39;40;34m(\u001b[0m\u001b[38;2;248;248;242;48;2;39;40;34mresult\u001b[0m\u001b[38;2;248;248;242;48;2;39;40;34m)\u001b[0m\u001b[48;2;39;40;34m                                                                                                  \u001b[0m  \n",
       " ───────────────────────────────────────────────────────────────────────────────────────────────────────────────── \n"
      ]
     },
     "metadata": {},
     "output_type": "display_data"
    },
    {
     "data": {
      "text/html": [
       "<pre style=\"white-space:pre;overflow-x:auto;line-height:normal;font-family:Menlo,'DejaVu Sans Mono',consolas,'Courier New',monospace\"><span style=\"color: #d4b702; text-decoration-color: #d4b702\">╭─────────────────────────────────────────────── </span><span style=\"color: #d4b702; text-decoration-color: #d4b702; font-weight: bold\">New run - search</span><span style=\"color: #d4b702; text-decoration-color: #d4b702\"> ────────────────────────────────────────────────╮</span>\n",
       "<span style=\"color: #d4b702; text-decoration-color: #d4b702\">│</span>                                                                                                                 <span style=\"color: #d4b702; text-decoration-color: #d4b702\">│</span>\n",
       "<span style=\"color: #d4b702; text-decoration-color: #d4b702\">│</span> <span style=\"font-weight: bold\">You're a helpful agent named 'search'.</span>                                                                          <span style=\"color: #d4b702; text-decoration-color: #d4b702\">│</span>\n",
       "<span style=\"color: #d4b702; text-decoration-color: #d4b702\">│</span> <span style=\"font-weight: bold\">You have been submitted this task by your manager.</span>                                                              <span style=\"color: #d4b702; text-decoration-color: #d4b702\">│</span>\n",
       "<span style=\"color: #d4b702; text-decoration-color: #d4b702\">│</span> <span style=\"font-weight: bold\">---</span>                                                                                                             <span style=\"color: #d4b702; text-decoration-color: #d4b702\">│</span>\n",
       "<span style=\"color: #d4b702; text-decoration-color: #d4b702\">│</span> <span style=\"font-weight: bold\">Task:</span>                                                                                                           <span style=\"color: #d4b702; text-decoration-color: #d4b702\">│</span>\n",
       "<span style=\"color: #d4b702; text-decoration-color: #d4b702\">│</span>                                                                                                                 <span style=\"color: #d4b702; text-decoration-color: #d4b702\">│</span>\n",
       "<span style=\"color: #d4b702; text-decoration-color: #d4b702\">│</span> <span style=\"font-weight: bold\">Perform the following searches and provide the results:</span>                                                         <span style=\"color: #d4b702; text-decoration-color: #d4b702\">│</span>\n",
       "<span style=\"color: #d4b702; text-decoration-color: #d4b702\">│</span>                                                                                                                 <span style=\"color: #d4b702; text-decoration-color: #d4b702\">│</span>\n",
       "<span style=\"color: #d4b702; text-decoration-color: #d4b702\">│</span> <span style=\"font-weight: bold\">1. Current estimates for the energy consumption of large LLM training runs.</span>                                     <span style=\"color: #d4b702; text-decoration-color: #d4b702\">│</span>\n",
       "<span style=\"color: #d4b702; text-decoration-color: #d4b702\">│</span> <span style=\"font-weight: bold\">2. Trends and projections for LLM training energy consumption by 2030.</span>                                          <span style=\"color: #d4b702; text-decoration-color: #d4b702\">│</span>\n",
       "<span style=\"color: #d4b702; text-decoration-color: #d4b702\">│</span> <span style=\"font-weight: bold\">3. Total electricity consumption (in GW) of some countries for comparison (e.g., Ireland, Singapore, </span>           <span style=\"color: #d4b702; text-decoration-color: #d4b702\">│</span>\n",
       "<span style=\"color: #d4b702; text-decoration-color: #d4b702\">│</span> <span style=\"font-weight: bold\">Luxembourg).</span>                                                                                                    <span style=\"color: #d4b702; text-decoration-color: #d4b702\">│</span>\n",
       "<span style=\"color: #d4b702; text-decoration-color: #d4b702\">│</span>                                                                                                                 <span style=\"color: #d4b702; text-decoration-color: #d4b702\">│</span>\n",
       "<span style=\"color: #d4b702; text-decoration-color: #d4b702\">│</span> <span style=\"font-weight: bold\">Please provide the results in a structured format for the next step.</span>                                            <span style=\"color: #d4b702; text-decoration-color: #d4b702\">│</span>\n",
       "<span style=\"color: #d4b702; text-decoration-color: #d4b702\">│</span>                                                                                                                 <span style=\"color: #d4b702; text-decoration-color: #d4b702\">│</span>\n",
       "<span style=\"color: #d4b702; text-decoration-color: #d4b702\">│</span> <span style=\"font-weight: bold\">---</span>                                                                                                             <span style=\"color: #d4b702; text-decoration-color: #d4b702\">│</span>\n",
       "<span style=\"color: #d4b702; text-decoration-color: #d4b702\">│</span> <span style=\"font-weight: bold\">You're helping your manager solve a wider task: so make sure to not provide a one-line answer, but give as much</span> <span style=\"color: #d4b702; text-decoration-color: #d4b702\">│</span>\n",
       "<span style=\"color: #d4b702; text-decoration-color: #d4b702\">│</span> <span style=\"font-weight: bold\">information as possible to give them a clear understanding of the answer.</span>                                       <span style=\"color: #d4b702; text-decoration-color: #d4b702\">│</span>\n",
       "<span style=\"color: #d4b702; text-decoration-color: #d4b702\">│</span>                                                                                                                 <span style=\"color: #d4b702; text-decoration-color: #d4b702\">│</span>\n",
       "<span style=\"color: #d4b702; text-decoration-color: #d4b702\">│</span> <span style=\"font-weight: bold\">Your final_answer WILL HAVE to contain these parts:</span>                                                             <span style=\"color: #d4b702; text-decoration-color: #d4b702\">│</span>\n",
       "<span style=\"color: #d4b702; text-decoration-color: #d4b702\">│</span> <span style=\"font-weight: bold\">### 1. Task outcome (short version):</span>                                                                            <span style=\"color: #d4b702; text-decoration-color: #d4b702\">│</span>\n",
       "<span style=\"color: #d4b702; text-decoration-color: #d4b702\">│</span> <span style=\"font-weight: bold\">### 2. Task outcome (extremely detailed version):</span>                                                               <span style=\"color: #d4b702; text-decoration-color: #d4b702\">│</span>\n",
       "<span style=\"color: #d4b702; text-decoration-color: #d4b702\">│</span> <span style=\"font-weight: bold\">### 3. Additional context (if relevant):</span>                                                                        <span style=\"color: #d4b702; text-decoration-color: #d4b702\">│</span>\n",
       "<span style=\"color: #d4b702; text-decoration-color: #d4b702\">│</span>                                                                                                                 <span style=\"color: #d4b702; text-decoration-color: #d4b702\">│</span>\n",
       "<span style=\"color: #d4b702; text-decoration-color: #d4b702\">│</span> <span style=\"font-weight: bold\">Put all these in your final_answer tool, everything that you do not pass as an argument to final_answer will be</span> <span style=\"color: #d4b702; text-decoration-color: #d4b702\">│</span>\n",
       "<span style=\"color: #d4b702; text-decoration-color: #d4b702\">│</span> <span style=\"font-weight: bold\">lost.</span>                                                                                                           <span style=\"color: #d4b702; text-decoration-color: #d4b702\">│</span>\n",
       "<span style=\"color: #d4b702; text-decoration-color: #d4b702\">│</span> <span style=\"font-weight: bold\">And even if your task resolution is not successful, please return as much context as possible, so that your </span>    <span style=\"color: #d4b702; text-decoration-color: #d4b702\">│</span>\n",
       "<span style=\"color: #d4b702; text-decoration-color: #d4b702\">│</span> <span style=\"font-weight: bold\">manager can act upon this feedback.</span>                                                                             <span style=\"color: #d4b702; text-decoration-color: #d4b702\">│</span>\n",
       "<span style=\"color: #d4b702; text-decoration-color: #d4b702\">│</span>                                                                                                                 <span style=\"color: #d4b702; text-decoration-color: #d4b702\">│</span>\n",
       "<span style=\"color: #d4b702; text-decoration-color: #d4b702\">╰─ HfApiModel - Qwen/Qwen2.5-Coder-32B-Instruct ──────────────────────────────────────────────────────────────────╯</span>\n",
       "</pre>\n"
      ],
      "text/plain": [
       "\u001b[38;2;212;183;2m╭─\u001b[0m\u001b[38;2;212;183;2m──────────────────────────────────────────────\u001b[0m\u001b[38;2;212;183;2m \u001b[0m\u001b[1;38;2;212;183;2mNew run - search\u001b[0m\u001b[38;2;212;183;2m \u001b[0m\u001b[38;2;212;183;2m───────────────────────────────────────────────\u001b[0m\u001b[38;2;212;183;2m─╮\u001b[0m\n",
       "\u001b[38;2;212;183;2m│\u001b[0m                                                                                                                 \u001b[38;2;212;183;2m│\u001b[0m\n",
       "\u001b[38;2;212;183;2m│\u001b[0m \u001b[1mYou're a helpful agent named 'search'.\u001b[0m                                                                          \u001b[38;2;212;183;2m│\u001b[0m\n",
       "\u001b[38;2;212;183;2m│\u001b[0m \u001b[1mYou have been submitted this task by your manager.\u001b[0m                                                              \u001b[38;2;212;183;2m│\u001b[0m\n",
       "\u001b[38;2;212;183;2m│\u001b[0m \u001b[1m---\u001b[0m                                                                                                             \u001b[38;2;212;183;2m│\u001b[0m\n",
       "\u001b[38;2;212;183;2m│\u001b[0m \u001b[1mTask:\u001b[0m                                                                                                           \u001b[38;2;212;183;2m│\u001b[0m\n",
       "\u001b[38;2;212;183;2m│\u001b[0m                                                                                                                 \u001b[38;2;212;183;2m│\u001b[0m\n",
       "\u001b[38;2;212;183;2m│\u001b[0m \u001b[1mPerform the following searches and provide the results:\u001b[0m                                                         \u001b[38;2;212;183;2m│\u001b[0m\n",
       "\u001b[38;2;212;183;2m│\u001b[0m                                                                                                                 \u001b[38;2;212;183;2m│\u001b[0m\n",
       "\u001b[38;2;212;183;2m│\u001b[0m \u001b[1m1. Current estimates for the energy consumption of large LLM training runs.\u001b[0m                                     \u001b[38;2;212;183;2m│\u001b[0m\n",
       "\u001b[38;2;212;183;2m│\u001b[0m \u001b[1m2. Trends and projections for LLM training energy consumption by 2030.\u001b[0m                                          \u001b[38;2;212;183;2m│\u001b[0m\n",
       "\u001b[38;2;212;183;2m│\u001b[0m \u001b[1m3. Total electricity consumption (in GW) of some countries for comparison (e.g., Ireland, Singapore, \u001b[0m           \u001b[38;2;212;183;2m│\u001b[0m\n",
       "\u001b[38;2;212;183;2m│\u001b[0m \u001b[1mLuxembourg).\u001b[0m                                                                                                    \u001b[38;2;212;183;2m│\u001b[0m\n",
       "\u001b[38;2;212;183;2m│\u001b[0m                                                                                                                 \u001b[38;2;212;183;2m│\u001b[0m\n",
       "\u001b[38;2;212;183;2m│\u001b[0m \u001b[1mPlease provide the results in a structured format for the next step.\u001b[0m                                            \u001b[38;2;212;183;2m│\u001b[0m\n",
       "\u001b[38;2;212;183;2m│\u001b[0m                                                                                                                 \u001b[38;2;212;183;2m│\u001b[0m\n",
       "\u001b[38;2;212;183;2m│\u001b[0m \u001b[1m---\u001b[0m                                                                                                             \u001b[38;2;212;183;2m│\u001b[0m\n",
       "\u001b[38;2;212;183;2m│\u001b[0m \u001b[1mYou're helping your manager solve a wider task: so make sure to not provide a one-line answer, but give as much\u001b[0m \u001b[38;2;212;183;2m│\u001b[0m\n",
       "\u001b[38;2;212;183;2m│\u001b[0m \u001b[1minformation as possible to give them a clear understanding of the answer.\u001b[0m                                       \u001b[38;2;212;183;2m│\u001b[0m\n",
       "\u001b[38;2;212;183;2m│\u001b[0m                                                                                                                 \u001b[38;2;212;183;2m│\u001b[0m\n",
       "\u001b[38;2;212;183;2m│\u001b[0m \u001b[1mYour final_answer WILL HAVE to contain these parts:\u001b[0m                                                             \u001b[38;2;212;183;2m│\u001b[0m\n",
       "\u001b[38;2;212;183;2m│\u001b[0m \u001b[1m### 1. Task outcome (short version):\u001b[0m                                                                            \u001b[38;2;212;183;2m│\u001b[0m\n",
       "\u001b[38;2;212;183;2m│\u001b[0m \u001b[1m### 2. Task outcome (extremely detailed version):\u001b[0m                                                               \u001b[38;2;212;183;2m│\u001b[0m\n",
       "\u001b[38;2;212;183;2m│\u001b[0m \u001b[1m### 3. Additional context (if relevant):\u001b[0m                                                                        \u001b[38;2;212;183;2m│\u001b[0m\n",
       "\u001b[38;2;212;183;2m│\u001b[0m                                                                                                                 \u001b[38;2;212;183;2m│\u001b[0m\n",
       "\u001b[38;2;212;183;2m│\u001b[0m \u001b[1mPut all these in your final_answer tool, everything that you do not pass as an argument to final_answer will be\u001b[0m \u001b[38;2;212;183;2m│\u001b[0m\n",
       "\u001b[38;2;212;183;2m│\u001b[0m \u001b[1mlost.\u001b[0m                                                                                                           \u001b[38;2;212;183;2m│\u001b[0m\n",
       "\u001b[38;2;212;183;2m│\u001b[0m \u001b[1mAnd even if your task resolution is not successful, please return as much context as possible, so that your \u001b[0m    \u001b[38;2;212;183;2m│\u001b[0m\n",
       "\u001b[38;2;212;183;2m│\u001b[0m \u001b[1mmanager can act upon this feedback.\u001b[0m                                                                             \u001b[38;2;212;183;2m│\u001b[0m\n",
       "\u001b[38;2;212;183;2m│\u001b[0m                                                                                                                 \u001b[38;2;212;183;2m│\u001b[0m\n",
       "\u001b[38;2;212;183;2m╰─\u001b[0m\u001b[38;2;212;183;2m HfApiModel - Qwen/Qwen2.5-Coder-32B-Instruct \u001b[0m\u001b[38;2;212;183;2m─────────────────────────────────────────────────────────────────\u001b[0m\u001b[38;2;212;183;2m─╯\u001b[0m\n"
      ]
     },
     "metadata": {},
     "output_type": "display_data"
    },
    {
     "data": {
      "text/html": [
       "<pre style=\"white-space:pre;overflow-x:auto;line-height:normal;font-family:Menlo,'DejaVu Sans Mono',consolas,'Courier New',monospace\"><span style=\"color: #d4b702; text-decoration-color: #d4b702\">━━━━━━━━━━━━━━━━━━━━━━━━━━━━━━━━━━━━━━━━━━━━━━━━━━━━━ </span><span style=\"font-weight: bold\">Step </span><span style=\"color: #008080; text-decoration-color: #008080; font-weight: bold\">1</span><span style=\"color: #d4b702; text-decoration-color: #d4b702\"> ━━━━━━━━━━━━━━━━━━━━━━━━━━━━━━━━━━━━━━━━━━━━━━━━━━━━━━</span>\n",
       "</pre>\n"
      ],
      "text/plain": [
       "\u001b[38;2;212;183;2m━━━━━━━━━━━━━━━━━━━━━━━━━━━━━━━━━━━━━━━━━━━━━━━━━━━━━ \u001b[0m\u001b[1mStep \u001b[0m\u001b[1;36m1\u001b[0m\u001b[38;2;212;183;2m ━━━━━━━━━━━━━━━━━━━━━━━━━━━━━━━━━━━━━━━━━━━━━━━━━━━━━━\u001b[0m\n"
      ]
     },
     "metadata": {},
     "output_type": "display_data"
    },
    {
     "data": {
      "text/html": [
       "<pre style=\"white-space:pre;overflow-x:auto;line-height:normal;font-family:Menlo,'DejaVu Sans Mono',consolas,'Courier New',monospace\">╭─────────────────────────────────────────────────────────────────────────────────────────────────────────────────╮\n",
       "│ Calling tool: 'web_search' with arguments: {'query': 'Current estimates for the energy consumption of large LLM │\n",
       "│ training runs'}                                                                                                 │\n",
       "╰─────────────────────────────────────────────────────────────────────────────────────────────────────────────────╯\n",
       "</pre>\n"
      ],
      "text/plain": [
       "╭─────────────────────────────────────────────────────────────────────────────────────────────────────────────────╮\n",
       "│ Calling tool: 'web_search' with arguments: {'query': 'Current estimates for the energy consumption of large LLM │\n",
       "│ training runs'}                                                                                                 │\n",
       "╰─────────────────────────────────────────────────────────────────────────────────────────────────────────────────╯\n"
      ]
     },
     "metadata": {},
     "output_type": "display_data"
    },
    {
     "data": {
      "text/html": [
       "<pre style=\"white-space:pre;overflow-x:auto;line-height:normal;font-family:Menlo,'DejaVu Sans Mono',consolas,'Courier New',monospace\">Observations: ## Search Results\n",
       "\n",
       "|How Much Energy Do LLMs Consume? Unveiling the Power Behind \n",
       "AI<span style=\"font-weight: bold\">](</span><span style=\"color: #0000ff; text-decoration-color: #0000ff; text-decoration: underline\">https://adasci.org/how-much-energy-do-llms-consume-unveiling-the-power-behind-ai/)</span>\n",
       "The infrastructure supporting LLM training, including data centres, also plays a vital role in determining energy \n",
       "consumption. For example, Google's data centres, known for their energy efficiency, use advanced cooling \n",
       "technologies and have a Power Usage Effectiveness <span style=\"font-weight: bold\">(</span>PUE<span style=\"font-weight: bold\">)</span> ratio of <span style=\"color: #008080; text-decoration-color: #008080; font-weight: bold\">1.12</span>, meaning only <span style=\"color: #008080; text-decoration-color: #008080; font-weight: bold\">12</span>% of the energy is used for \n",
       "cooling and <span style=\"color: #808000; text-decoration-color: #808000\">...</span>\n",
       "\n",
       "|From Words to Watts: Benchmarking the Energy Costs of Large Language <span style=\"color: #808000; text-decoration-color: #808000\">...</span><span style=\"font-weight: bold\">](</span><span style=\"color: #0000ff; text-decoration-color: #0000ff; text-decoration: underline\">https://arxiv.org/pdf/2310.03003)</span>\n",
       "energy—required for using and deploying some of the large language models <span style=\"font-weight: bold\">(</span>LLM<span style=\"font-weight: bold\">)</span> like those that underlie ChatGPT, \n",
       "Bard, etc. Several prior works have estimated the compute and energy costs of training language models. Works like \n",
       "|<span style=\"color: #008080; text-decoration-color: #008080; font-weight: bold\">6</span><span style=\"font-weight: bold\">]</span> discuss the carbon footprint of language models such as BERT, ELMo, and precursors to larger models such as GPT\n",
       "<span style=\"color: #808000; text-decoration-color: #808000\">...</span>\n",
       "\n",
       "|The Energy Footprint of Humans and Large Language \n",
       "Models<span style=\"font-weight: bold\">](</span><span style=\"color: #0000ff; text-decoration-color: #0000ff; text-decoration: underline\">https://cacm.acm.org/blogcacm/the-energy-footprint-of-humans-and-large-language-models/)</span>\n",
       "Model Training. The cost of training a big foundation model can be daunting. The electricity required to train \n",
       "GPT-<span style=\"color: #008080; text-decoration-color: #008080; font-weight: bold\">3</span> was estimated at around <span style=\"color: #008080; text-decoration-color: #008080; font-weight: bold\">1</span>,<span style=\"color: #008080; text-decoration-color: #008080; font-weight: bold\">287</span>,<span style=\"color: #008080; text-decoration-color: #008080; font-weight: bold\">000</span> kWh |<span style=\"color: #008080; text-decoration-color: #008080; font-weight: bold\">5</span><span style=\"font-weight: bold\">]</span>. Estimates for Llama <span style=\"color: #008080; text-decoration-color: #008080; font-weight: bold\">3</span> are a little above <span style=\"color: #008080; text-decoration-color: #008080; font-weight: bold\">500</span>,<span style=\"color: #008080; text-decoration-color: #008080; font-weight: bold\">000</span> kWh, a value that\n",
       "is in the ballpark of the energy use of a seven-hour flight of a big airliner. However, in contrast to a single \n",
       "long <span style=\"color: #808000; text-decoration-color: #808000\">...</span>\n",
       "\n",
       "|Power use in training LLMs <span style=\"color: #008080; text-decoration-color: #008080; font-weight: bold\">2022</span> | \n",
       "Statista<span style=\"font-weight: bold\">](</span><span style=\"color: #0000ff; text-decoration-color: #0000ff; text-decoration: underline\">https://www.statista.com/statistics/1384401/energy-use-when-training-llm-models/)</span>\n",
       "Power consumption when training artificial intelligence <span style=\"font-weight: bold\">(</span>AI<span style=\"font-weight: bold\">)</span> based large language models <span style=\"font-weight: bold\">(</span>LLMs<span style=\"font-weight: bold\">)</span> in <span style=\"color: #008080; text-decoration-color: #008080; font-weight: bold\">2023</span> <span style=\"font-weight: bold\">(</span>in \n",
       "megawatt hours<span style=\"font-weight: bold\">)</span> |Graph<span style=\"font-weight: bold\">]</span>, Cornell University, November <span style=\"color: #008080; text-decoration-color: #008080; font-weight: bold\">3</span>, <span style=\"color: #008080; text-decoration-color: #008080; font-weight: bold\">2022</span>. |Online<span style=\"font-weight: bold\">]</span>.\n",
       "\n",
       "|AWS CEO estimates large city scale power consumption of future AI model \n",
       "<span style=\"color: #808000; text-decoration-color: #808000\">...</span><span style=\"font-weight: bold\">](</span><span style=\"color: #0000ff; text-decoration-color: #0000ff; text-decoration: underline\">https://www.tomshardware.com/tech-industry/artificial-intelligence/aws-ceo-estimates-large-city-scale-power-co</span>\n",
       "<span style=\"color: #0000ff; text-decoration-color: #0000ff; text-decoration: underline\">nsumption-of-future-ai-model-training-tasks-an-individual-model-may-require-somewhere-between-one-to-5gw-of-power)</span>\n",
       "With this information, we could say that a typical new LLM generation takes about a year or two to train at current\n",
       "hardware levels. While AI companies are using more AI GPUs to train their models <span style=\"color: #808000; text-decoration-color: #808000\">...</span>\n",
       "\n",
       "|From Words to Watts: Benchmarking the Energy Costs of Large Language \n",
       "<span style=\"color: #808000; text-decoration-color: #808000\">...</span><span style=\"font-weight: bold\">](</span><span style=\"color: #0000ff; text-decoration-color: #0000ff; text-decoration: underline\">https://ieeexplore.ieee.org/document/10363447)</span>\n",
       "Large language models <span style=\"font-weight: bold\">(</span>LLMs<span style=\"font-weight: bold\">)</span> have exploded in popularity due to their new generative capabilities that go far \n",
       "beyond prior state-of-the-art. These technologies are increasingly being leveraged in various domains such as law, \n",
       "finance, and medicine. However, these models carry significant computational challenges, especially the compute and\n",
       "energy costs required for inference. Inference energy <span style=\"color: #808000; text-decoration-color: #808000\">...</span>\n",
       "\n",
       "|Power Consumption Of Large Language Models | \n",
       "Restackio<span style=\"font-weight: bold\">](</span><span style=\"color: #0000ff; text-decoration-color: #0000ff; text-decoration: underline\">https://www.restack.io/p/large-language-models-answer-power-consumption-cat-ai)</span>\n",
       "Training Energy Requirements. Training LLMs involves processing vast amounts of data, which translates to \n",
       "substantial energy use. For instance, training a model like GPT-<span style=\"color: #008080; text-decoration-color: #008080; font-weight: bold\">3</span>, which has <span style=\"color: #008080; text-decoration-color: #008080; font-weight: bold\">175</span> billion parameters, is estimated \n",
       "to consume around <span style=\"color: #008080; text-decoration-color: #008080; font-weight: bold\">1</span>,<span style=\"color: #008080; text-decoration-color: #008080; font-weight: bold\">287</span> megawatt-hours of electricity. This is equivalent to the annual energy consumption of \n",
       "approximately <span style=\"color: #808000; text-decoration-color: #808000\">...</span>\n",
       "\n",
       "|Reconciling the contrasting narratives on the environmental impact of \n",
       "<span style=\"color: #808000; text-decoration-color: #808000\">...</span><span style=\"font-weight: bold\">](</span><span style=\"color: #0000ff; text-decoration-color: #0000ff; text-decoration: underline\">https://www.nature.com/articles/s41598-024-76682-6)</span>\n",
       "In our estimate, we used <span style=\"color: #008080; text-decoration-color: #008080; font-weight: bold\">0.0002</span> kWh to represent the energy consumption for a lightweight LLM, although this value \n",
       "could be lower when further using advanced hardware and software optimization <span style=\"color: #808000; text-decoration-color: #808000\">...</span>\n",
       "\n",
       "|Large Language Models Energy Consumption | \n",
       "Restackio<span style=\"font-weight: bold\">](</span><span style=\"color: #0000ff; text-decoration-color: #0000ff; text-decoration: underline\">https://www.restack.io/p/large-language-models-answer-energy-consumption-cat-ai)</span>\n",
       "The environmental impact of artificial intelligence, particularly in terms of energy consumption, has become a \n",
       "focal point of research. Large Language Models <span style=\"font-weight: bold\">(</span>LLMs<span style=\"font-weight: bold\">)</span> like GPT-<span style=\"color: #008080; text-decoration-color: #008080; font-weight: bold\">3</span> demand extensive computational resources for \n",
       "training, resulting in significant energy consumption and carbon emissions.\n",
       "\n",
       "|Preventing the Immense Increase in the Life-Cycle Energy and Carbon \n",
       "<span style=\"color: #808000; text-decoration-color: #808000\">...</span><span style=\"font-weight: bold\">](</span><span style=\"color: #0000ff; text-decoration-color: #0000ff; text-decoration: underline\">https://www.sciencedirect.com/science/article/pii/S2095809924002315)</span>\n",
       "Moreover, if the LLM training algorithms were to be significantly improved, energy consumption and emissions would \n",
       "skyrocket, as LLMs continue to increase in terms of model size and input data volume—for example, from GPT-<span style=\"color: #008080; text-decoration-color: #008080; font-weight: bold\">1</span>'s <span style=\"color: #008080; text-decoration-color: #008080; font-weight: bold\">117</span> \n",
       "million parameters and <span style=\"color: #008080; text-decoration-color: #008080; font-weight: bold\">5</span> GB of data, to GPT-<span style=\"color: #008080; text-decoration-color: #008080; font-weight: bold\">2</span>'s <span style=\"color: #008080; text-decoration-color: #008080; font-weight: bold\">1.2</span> billion parameters and <span style=\"color: #008080; text-decoration-color: #008080; font-weight: bold\">40</span> GB of data, to GPT-<span style=\"color: #008080; text-decoration-color: #008080; font-weight: bold\">3</span>'s <span style=\"color: #008080; text-decoration-color: #008080; font-weight: bold\">175</span> <span style=\"color: #808000; text-decoration-color: #808000\">...</span>\n",
       "</pre>\n"
      ],
      "text/plain": [
       "Observations: ## Search Results\n",
       "\n",
       "|How Much Energy Do LLMs Consume? Unveiling the Power Behind \n",
       "AI\u001b[1m]\u001b[0m\u001b[1m(\u001b[0m\u001b[4;94mhttps://adasci.org/how-much-energy-do-llms-consume-unveiling-the-power-behind-ai/\u001b[0m\u001b[4;94m)\u001b[0m\n",
       "The infrastructure supporting LLM training, including data centres, also plays a vital role in determining energy \n",
       "consumption. For example, Google's data centres, known for their energy efficiency, use advanced cooling \n",
       "technologies and have a Power Usage Effectiveness \u001b[1m(\u001b[0mPUE\u001b[1m)\u001b[0m ratio of \u001b[1;36m1.12\u001b[0m, meaning only \u001b[1;36m12\u001b[0m% of the energy is used for \n",
       "cooling and \u001b[33m...\u001b[0m\n",
       "\n",
       "|From Words to Watts: Benchmarking the Energy Costs of Large Language \u001b[33m...\u001b[0m\u001b[1m]\u001b[0m\u001b[1m(\u001b[0m\u001b[4;94mhttps://arxiv.org/pdf/2310.03003\u001b[0m\u001b[4;94m)\u001b[0m\n",
       "energy—required for using and deploying some of the large language models \u001b[1m(\u001b[0mLLM\u001b[1m)\u001b[0m like those that underlie ChatGPT, \n",
       "Bard, etc. Several prior works have estimated the compute and energy costs of training language models. Works like \n",
       "|\u001b[1;36m6\u001b[0m\u001b[1m]\u001b[0m discuss the carbon footprint of language models such as BERT, ELMo, and precursors to larger models such as GPT\n",
       "\u001b[33m...\u001b[0m\n",
       "\n",
       "|The Energy Footprint of Humans and Large Language \n",
       "Models\u001b[1m]\u001b[0m\u001b[1m(\u001b[0m\u001b[4;94mhttps://cacm.acm.org/blogcacm/the-energy-footprint-of-humans-and-large-language-models/\u001b[0m\u001b[4;94m)\u001b[0m\n",
       "Model Training. The cost of training a big foundation model can be daunting. The electricity required to train \n",
       "GPT-\u001b[1;36m3\u001b[0m was estimated at around \u001b[1;36m1\u001b[0m,\u001b[1;36m287\u001b[0m,\u001b[1;36m000\u001b[0m kWh |\u001b[1;36m5\u001b[0m\u001b[1m]\u001b[0m. Estimates for Llama \u001b[1;36m3\u001b[0m are a little above \u001b[1;36m500\u001b[0m,\u001b[1;36m000\u001b[0m kWh, a value that\n",
       "is in the ballpark of the energy use of a seven-hour flight of a big airliner. However, in contrast to a single \n",
       "long \u001b[33m...\u001b[0m\n",
       "\n",
       "|Power use in training LLMs \u001b[1;36m2022\u001b[0m | \n",
       "Statista\u001b[1m]\u001b[0m\u001b[1m(\u001b[0m\u001b[4;94mhttps://www.statista.com/statistics/1384401/energy-use-when-training-llm-models/\u001b[0m\u001b[4;94m)\u001b[0m\n",
       "Power consumption when training artificial intelligence \u001b[1m(\u001b[0mAI\u001b[1m)\u001b[0m based large language models \u001b[1m(\u001b[0mLLMs\u001b[1m)\u001b[0m in \u001b[1;36m2023\u001b[0m \u001b[1m(\u001b[0min \n",
       "megawatt hours\u001b[1m)\u001b[0m |Graph\u001b[1m]\u001b[0m, Cornell University, November \u001b[1;36m3\u001b[0m, \u001b[1;36m2022\u001b[0m. |Online\u001b[1m]\u001b[0m.\n",
       "\n",
       "|AWS CEO estimates large city scale power consumption of future AI model \n",
       "\u001b[33m...\u001b[0m\u001b[1m]\u001b[0m\u001b[1m(\u001b[0m\u001b[4;94mhttps://www.tomshardware.com/tech-industry/artificial-intelligence/aws-ceo-estimates-large-city-scale-power-co\u001b[0m\n",
       "\u001b[4;94mnsumption-of-future-ai-model-training-tasks-an-individual-model-may-require-somewhere-between-one-to-5gw-of-power\u001b[0m\u001b[4;94m)\u001b[0m\n",
       "With this information, we could say that a typical new LLM generation takes about a year or two to train at current\n",
       "hardware levels. While AI companies are using more AI GPUs to train their models \u001b[33m...\u001b[0m\n",
       "\n",
       "|From Words to Watts: Benchmarking the Energy Costs of Large Language \n",
       "\u001b[33m...\u001b[0m\u001b[1m]\u001b[0m\u001b[1m(\u001b[0m\u001b[4;94mhttps://ieeexplore.ieee.org/document/10363447\u001b[0m\u001b[4;94m)\u001b[0m\n",
       "Large language models \u001b[1m(\u001b[0mLLMs\u001b[1m)\u001b[0m have exploded in popularity due to their new generative capabilities that go far \n",
       "beyond prior state-of-the-art. These technologies are increasingly being leveraged in various domains such as law, \n",
       "finance, and medicine. However, these models carry significant computational challenges, especially the compute and\n",
       "energy costs required for inference. Inference energy \u001b[33m...\u001b[0m\n",
       "\n",
       "|Power Consumption Of Large Language Models | \n",
       "Restackio\u001b[1m]\u001b[0m\u001b[1m(\u001b[0m\u001b[4;94mhttps://www.restack.io/p/large-language-models-answer-power-consumption-cat-ai\u001b[0m\u001b[4;94m)\u001b[0m\n",
       "Training Energy Requirements. Training LLMs involves processing vast amounts of data, which translates to \n",
       "substantial energy use. For instance, training a model like GPT-\u001b[1;36m3\u001b[0m, which has \u001b[1;36m175\u001b[0m billion parameters, is estimated \n",
       "to consume around \u001b[1;36m1\u001b[0m,\u001b[1;36m287\u001b[0m megawatt-hours of electricity. This is equivalent to the annual energy consumption of \n",
       "approximately \u001b[33m...\u001b[0m\n",
       "\n",
       "|Reconciling the contrasting narratives on the environmental impact of \n",
       "\u001b[33m...\u001b[0m\u001b[1m]\u001b[0m\u001b[1m(\u001b[0m\u001b[4;94mhttps://www.nature.com/articles/s41598-024-76682-6\u001b[0m\u001b[4;94m)\u001b[0m\n",
       "In our estimate, we used \u001b[1;36m0.0002\u001b[0m kWh to represent the energy consumption for a lightweight LLM, although this value \n",
       "could be lower when further using advanced hardware and software optimization \u001b[33m...\u001b[0m\n",
       "\n",
       "|Large Language Models Energy Consumption | \n",
       "Restackio\u001b[1m]\u001b[0m\u001b[1m(\u001b[0m\u001b[4;94mhttps://www.restack.io/p/large-language-models-answer-energy-consumption-cat-ai\u001b[0m\u001b[4;94m)\u001b[0m\n",
       "The environmental impact of artificial intelligence, particularly in terms of energy consumption, has become a \n",
       "focal point of research. Large Language Models \u001b[1m(\u001b[0mLLMs\u001b[1m)\u001b[0m like GPT-\u001b[1;36m3\u001b[0m demand extensive computational resources for \n",
       "training, resulting in significant energy consumption and carbon emissions.\n",
       "\n",
       "|Preventing the Immense Increase in the Life-Cycle Energy and Carbon \n",
       "\u001b[33m...\u001b[0m\u001b[1m]\u001b[0m\u001b[1m(\u001b[0m\u001b[4;94mhttps://www.sciencedirect.com/science/article/pii/S2095809924002315\u001b[0m\u001b[4;94m)\u001b[0m\n",
       "Moreover, if the LLM training algorithms were to be significantly improved, energy consumption and emissions would \n",
       "skyrocket, as LLMs continue to increase in terms of model size and input data volume—for example, from GPT-\u001b[1;36m1\u001b[0m's \u001b[1;36m117\u001b[0m \n",
       "million parameters and \u001b[1;36m5\u001b[0m GB of data, to GPT-\u001b[1;36m2\u001b[0m's \u001b[1;36m1.2\u001b[0m billion parameters and \u001b[1;36m40\u001b[0m GB of data, to GPT-\u001b[1;36m3\u001b[0m's \u001b[1;36m175\u001b[0m \u001b[33m...\u001b[0m\n"
      ]
     },
     "metadata": {},
     "output_type": "display_data"
    },
    {
     "data": {
      "text/html": [
       "<pre style=\"white-space:pre;overflow-x:auto;line-height:normal;font-family:Menlo,'DejaVu Sans Mono',consolas,'Courier New',monospace\"><span style=\"color: #7f7f7f; text-decoration-color: #7f7f7f\">[Step 0: Duration 3.91 seconds| Input tokens: 1,512 | Output tokens: 32]</span>\n",
       "</pre>\n"
      ],
      "text/plain": [
       "\u001b[2m[Step 0: Duration 3.91 seconds| Input tokens: 1,512 | Output tokens: 32]\u001b[0m\n"
      ]
     },
     "metadata": {},
     "output_type": "display_data"
    },
    {
     "data": {
      "text/html": [
       "<pre style=\"white-space:pre;overflow-x:auto;line-height:normal;font-family:Menlo,'DejaVu Sans Mono',consolas,'Courier New',monospace\"><span style=\"color: #d4b702; text-decoration-color: #d4b702\">━━━━━━━━━━━━━━━━━━━━━━━━━━━━━━━━━━━━━━━━━━━━━━━━━━━━━ </span><span style=\"font-weight: bold\">Step </span><span style=\"color: #008080; text-decoration-color: #008080; font-weight: bold\">2</span><span style=\"color: #d4b702; text-decoration-color: #d4b702\"> ━━━━━━━━━━━━━━━━━━━━━━━━━━━━━━━━━━━━━━━━━━━━━━━━━━━━━━</span>\n",
       "</pre>\n"
      ],
      "text/plain": [
       "\u001b[38;2;212;183;2m━━━━━━━━━━━━━━━━━━━━━━━━━━━━━━━━━━━━━━━━━━━━━━━━━━━━━ \u001b[0m\u001b[1mStep \u001b[0m\u001b[1;36m2\u001b[0m\u001b[38;2;212;183;2m ━━━━━━━━━━━━━━━━━━━━━━━━━━━━━━━━━━━━━━━━━━━━━━━━━━━━━━\u001b[0m\n"
      ]
     },
     "metadata": {},
     "output_type": "display_data"
    },
    {
     "data": {
      "text/html": [
       "<pre style=\"white-space:pre;overflow-x:auto;line-height:normal;font-family:Menlo,'DejaVu Sans Mono',consolas,'Courier New',monospace\">╭─────────────────────────────────────────────────────────────────────────────────────────────────────────────────╮\n",
       "│ Calling tool: 'web_search' with arguments: {'query': 'Trends and projections for LLM training energy            │\n",
       "│ consumption by 2030'}                                                                                           │\n",
       "╰─────────────────────────────────────────────────────────────────────────────────────────────────────────────────╯\n",
       "</pre>\n"
      ],
      "text/plain": [
       "╭─────────────────────────────────────────────────────────────────────────────────────────────────────────────────╮\n",
       "│ Calling tool: 'web_search' with arguments: {'query': 'Trends and projections for LLM training energy            │\n",
       "│ consumption by 2030'}                                                                                           │\n",
       "╰─────────────────────────────────────────────────────────────────────────────────────────────────────────────────╯\n"
      ]
     },
     "metadata": {},
     "output_type": "display_data"
    },
    {
     "data": {
      "text/html": [
       "<pre style=\"white-space:pre;overflow-x:auto;line-height:normal;font-family:Menlo,'DejaVu Sans Mono',consolas,'Courier New',monospace\">Observations: ## Search Results\n",
       "\n",
       "|Projecting the Electricity Demand Growth of Generative AI Large \n",
       "<span style=\"color: #808000; text-decoration-color: #808000\">...</span><span style=\"font-weight: bold\">](</span><span style=\"color: #0000ff; text-decoration-color: #0000ff; text-decoration: underline\">https://www.energypolicy.columbia.edu/projecting-the-electricity-demand-growth-of-generative-ai-large-language</span>\n",
       "<span style=\"color: #0000ff; text-decoration-color: #0000ff; text-decoration: underline\">-models-in-the-us/)</span>\n",
       "Specifically, it analyzes server specifications and the power consumption of servers used in the data centers |<span style=\"color: #008080; text-decoration-color: #008080; font-weight: bold\">10</span><span style=\"font-weight: bold\">]</span> \n",
       "as well as the expected number of GPU shipments over the next few years |<span style=\"color: #008080; text-decoration-color: #008080; font-weight: bold\">11</span><span style=\"font-weight: bold\">]</span> and the energy required to operate \n",
       "these GPUs, |<span style=\"color: #008080; text-decoration-color: #008080; font-weight: bold\">12</span><span style=\"font-weight: bold\">]</span> which together yield a comprehensive estimate of the overall electricity needs of AI LLM centers.\n",
       "\n",
       "|How Much Energy Do LLMs Consume? Unveiling the Power Behind \n",
       "AI<span style=\"font-weight: bold\">](</span><span style=\"color: #0000ff; text-decoration-color: #0000ff; text-decoration: underline\">https://adasci.org/how-much-energy-do-llms-consume-unveiling-the-power-behind-ai/)</span>\n",
       "The infrastructure supporting LLM training, including data centres, also plays a vital role in determining energy \n",
       "consumption. For example, Google's data centres, known for their energy efficiency, use advanced cooling \n",
       "technologies and have a Power Usage Effectiveness <span style=\"font-weight: bold\">(</span>PUE<span style=\"font-weight: bold\">)</span> ratio of <span style=\"color: #008080; text-decoration-color: #008080; font-weight: bold\">1.12</span>, meaning only <span style=\"color: #008080; text-decoration-color: #008080; font-weight: bold\">12</span>% of the energy is used for \n",
       "cooling and <span style=\"color: #808000; text-decoration-color: #808000\">...</span>\n",
       "\n",
       "|PDF<span style=\"font-weight: bold\">](</span><span style=\"color: #0000ff; text-decoration-color: #0000ff; text-decoration: underline\">https://www.energy.gov/sites/default/files/2024-08/Powering+AI+and+Data+Center+Infrastructure+Recommendations</span>\n",
       "<span style=\"color: #0000ff; text-decoration-color: #0000ff; text-decoration: underline\">+July+2024.pdf)</span>\n",
       "future breakthroughs in energy efficiency of training and inference that could reduce energy demand below current \n",
       "projections. <span style=\"color: #008080; text-decoration-color: #008080; font-weight: bold\">2</span>. While many LLMs are trained at a single data center, some large models are now being trained across\n",
       "geographically distributed data centers. This regional distribution, while largely static, can alleviate\n",
       "\n",
       "|Rethinking Data Center Demand: The Future of AI, Energy Consumption \n",
       "<span style=\"color: #808000; text-decoration-color: #808000\">...</span><span style=\"font-weight: bold\">](</span><span style=\"color: #0000ff; text-decoration-color: #0000ff; text-decoration: underline\">https://www.peterkellydetwiler.com/news-updates/data-center-demand-ai-energy-consumption)</span>\n",
       "As far as the first claim, that remains to be verified. However, if it's remotely true, it could dramatically \n",
       "change how much the current energy-intensive, brute force approach is applied to LLM model development in the \n",
       "future. That would bring energy consumption figures way down, though nobody knows by quite how much - this is all \n",
       "too new.\n",
       "\n",
       "|Trends in AI inference energy consumption: Beyond the performance-vs \n",
       "<span style=\"color: #808000; text-decoration-color: #808000\">...</span><span style=\"font-weight: bold\">](</span><span style=\"color: #0000ff; text-decoration-color: #0000ff; text-decoration: underline\">https://www.sciencedirect.com/science/article/pii/S2210537923000124)</span>\n",
       "Many studies report that the size of neural networks is growing exponentially |<span style=\"color: #008080; text-decoration-color: #008080; font-weight: bold\">16</span><span style=\"font-weight: bold\">]</span>, |<span style=\"color: #008080; text-decoration-color: #008080; font-weight: bold\">17</span><span style=\"font-weight: bold\">]</span>.However, this does not \n",
       "necessarily imply that the cost is also growing exponentially, as more weights could be implemented with the same \n",
       "amount of energy, mostly due to hardware specialisation but especially as the energy consumption per unit of \n",
       "compute is decreasing.\n",
       "\n",
       "|From Words to Watts: Benchmarking the Energy Costs of Large Language <span style=\"color: #808000; text-decoration-color: #808000\">...</span><span style=\"font-weight: bold\">](</span><span style=\"color: #0000ff; text-decoration-color: #0000ff; text-decoration: underline\">https://arxiv.org/pdf/2310.03003)</span>\n",
       "energy—required for using and deploying some of the large language models <span style=\"font-weight: bold\">(</span>LLM<span style=\"font-weight: bold\">)</span> like those that underlie ChatGPT, \n",
       "Bard, etc. Several prior works have estimated the compute and energy costs of training language models. Works like \n",
       "|<span style=\"color: #008080; text-decoration-color: #008080; font-weight: bold\">6</span><span style=\"font-weight: bold\">]</span> discuss the carbon footprint of language models such as BERT, ELMo, and precursors to larger models such as GPT\n",
       "<span style=\"color: #808000; text-decoration-color: #808000\">...</span>\n",
       "\n",
       "|Preventing the Immense Increase in the Life-Cycle Energy and Carbon \n",
       "<span style=\"color: #808000; text-decoration-color: #808000\">...</span><span style=\"font-weight: bold\">](</span><span style=\"color: #0000ff; text-decoration-color: #0000ff; text-decoration: underline\">https://www.sciencedirect.com/science/article/pii/S2095809924002315)</span>\n",
       "Moreover, if the LLM training algorithms were to be significantly improved, energy consumption and emissions would \n",
       "skyrocket, as LLMs continue to increase in terms of model size and input data volume—for example, from GPT-<span style=\"color: #008080; text-decoration-color: #008080; font-weight: bold\">1</span>'s <span style=\"color: #008080; text-decoration-color: #008080; font-weight: bold\">117</span> \n",
       "million parameters and <span style=\"color: #008080; text-decoration-color: #008080; font-weight: bold\">5</span> GB of data, to GPT-<span style=\"color: #008080; text-decoration-color: #008080; font-weight: bold\">2</span>'s <span style=\"color: #008080; text-decoration-color: #008080; font-weight: bold\">1.2</span> billion parameters and <span style=\"color: #008080; text-decoration-color: #008080; font-weight: bold\">40</span> GB of data, to GPT-<span style=\"color: #008080; text-decoration-color: #008080; font-weight: bold\">3</span>'s <span style=\"color: #008080; text-decoration-color: #008080; font-weight: bold\">175</span> <span style=\"color: #808000; text-decoration-color: #808000\">...</span>\n",
       "\n",
       "|Power-hungry AI: Researchers evaluate energy consumption across \n",
       "models<span style=\"font-weight: bold\">](</span><span style=\"color: #0000ff; text-decoration-color: #0000ff; text-decoration: underline\">https://cse.engin.umich.edu/stories/power-hungry-ai-researchers-evaluate-energy-consumption-across-models)</span>\n",
       "The tech industry is a major and growing contributor to global energy consumption. Data centers, in particular, are\n",
       "responsible for an estimated <span style=\"color: #008080; text-decoration-color: #008080; font-weight: bold\">2</span>% of electricity use in the U.S., consuming up to <span style=\"color: #008080; text-decoration-color: #008080; font-weight: bold\">50</span> times more energy than an \n",
       "average commercial building, and that number is only trending up as increasingly popular large language models \n",
       "<span style=\"font-weight: bold\">(</span>LLMs<span style=\"font-weight: bold\">)</span> become connected to data centers and eat up huge <span style=\"color: #808000; text-decoration-color: #808000\">...</span>\n",
       "\n",
       "|The Sustainability Challenge of AI: Tackling the Energy Footprint of \n",
       "LLMs<span style=\"font-weight: bold\">](</span><span style=\"color: #0000ff; text-decoration-color: #0000ff; text-decoration: underline\">https://blog.withmartian.com/post/energy-routing)</span>\n",
       "The energy consumption of LLMs can be attributed to two primary stages: training and inference. Training an LLM \n",
       "involves learning the model's parameters from vast amounts of data, a process that requires immense computational \n",
       "resources, including powerful GPUs and TPUs. As reported by The Verge, training GPT-<span style=\"color: #008080; text-decoration-color: #008080; font-weight: bold\">3</span> was estimated to consume \n",
       "nearly <span style=\"color: #808000; text-decoration-color: #808000\">...</span>\n",
       "\n",
       "|Proposed solutions to high energy consumption of Generative AI LLMs \n",
       "<span style=\"color: #808000; text-decoration-color: #808000\">...</span><span style=\"font-weight: bold\">](</span><span style=\"color: #0000ff; text-decoration-color: #0000ff; text-decoration: underline\">https://techblog.comsoc.org/2023/11/09/proposed-solutions-to-high-energy-consumption-of-generative-ai-llms-opt</span>\n",
       "<span style=\"color: #0000ff; text-decoration-color: #0000ff; text-decoration: underline\">imized-hardware-new-algorithms-green-data-centers/)</span>\n",
       "There are productivity gains, growing the pie <span style=\"font-weight: bold\">(</span>improved quality of life<span style=\"font-weight: bold\">)</span>, improved efficiencies <span style=\"font-weight: bold\">(</span>e.g., detecting \n",
       "patterns of grid energy consumption and shifting loads<span style=\"font-weight: bold\">)</span>, and the use of fuel/energy that would be otherwise wasted \n",
       "<span style=\"font-weight: bold\">(</span>e.g. instead of flaring methane, powering distributed data centers in the hinterlands<span style=\"font-weight: bold\">)</span>.\n",
       "</pre>\n"
      ],
      "text/plain": [
       "Observations: ## Search Results\n",
       "\n",
       "|Projecting the Electricity Demand Growth of Generative AI Large \n",
       "\u001b[33m...\u001b[0m\u001b[1m]\u001b[0m\u001b[1m(\u001b[0m\u001b[4;94mhttps://www.energypolicy.columbia.edu/projecting-the-electricity-demand-growth-of-generative-ai-large-language\u001b[0m\n",
       "\u001b[4;94m-models-in-the-us/\u001b[0m\u001b[4;94m)\u001b[0m\n",
       "Specifically, it analyzes server specifications and the power consumption of servers used in the data centers |\u001b[1;36m10\u001b[0m\u001b[1m]\u001b[0m \n",
       "as well as the expected number of GPU shipments over the next few years |\u001b[1;36m11\u001b[0m\u001b[1m]\u001b[0m and the energy required to operate \n",
       "these GPUs, |\u001b[1;36m12\u001b[0m\u001b[1m]\u001b[0m which together yield a comprehensive estimate of the overall electricity needs of AI LLM centers.\n",
       "\n",
       "|How Much Energy Do LLMs Consume? Unveiling the Power Behind \n",
       "AI\u001b[1m]\u001b[0m\u001b[1m(\u001b[0m\u001b[4;94mhttps://adasci.org/how-much-energy-do-llms-consume-unveiling-the-power-behind-ai/\u001b[0m\u001b[4;94m)\u001b[0m\n",
       "The infrastructure supporting LLM training, including data centres, also plays a vital role in determining energy \n",
       "consumption. For example, Google's data centres, known for their energy efficiency, use advanced cooling \n",
       "technologies and have a Power Usage Effectiveness \u001b[1m(\u001b[0mPUE\u001b[1m)\u001b[0m ratio of \u001b[1;36m1.12\u001b[0m, meaning only \u001b[1;36m12\u001b[0m% of the energy is used for \n",
       "cooling and \u001b[33m...\u001b[0m\n",
       "\n",
       "|PDF\u001b[1m]\u001b[0m\u001b[1m(\u001b[0m\u001b[4;94mhttps://www.energy.gov/sites/default/files/2024-08/Powering+AI+and+Data+Center+Infrastructure+Recommendations\u001b[0m\n",
       "\u001b[4;94m+July+2024.pdf\u001b[0m\u001b[4;94m)\u001b[0m\n",
       "future breakthroughs in energy efficiency of training and inference that could reduce energy demand below current \n",
       "projections. \u001b[1;36m2\u001b[0m. While many LLMs are trained at a single data center, some large models are now being trained across\n",
       "geographically distributed data centers. This regional distribution, while largely static, can alleviate\n",
       "\n",
       "|Rethinking Data Center Demand: The Future of AI, Energy Consumption \n",
       "\u001b[33m...\u001b[0m\u001b[1m]\u001b[0m\u001b[1m(\u001b[0m\u001b[4;94mhttps://www.peterkellydetwiler.com/news-updates/data-center-demand-ai-energy-consumption\u001b[0m\u001b[4;94m)\u001b[0m\n",
       "As far as the first claim, that remains to be verified. However, if it's remotely true, it could dramatically \n",
       "change how much the current energy-intensive, brute force approach is applied to LLM model development in the \n",
       "future. That would bring energy consumption figures way down, though nobody knows by quite how much - this is all \n",
       "too new.\n",
       "\n",
       "|Trends in AI inference energy consumption: Beyond the performance-vs \n",
       "\u001b[33m...\u001b[0m\u001b[1m]\u001b[0m\u001b[1m(\u001b[0m\u001b[4;94mhttps://www.sciencedirect.com/science/article/pii/S2210537923000124\u001b[0m\u001b[4;94m)\u001b[0m\n",
       "Many studies report that the size of neural networks is growing exponentially |\u001b[1;36m16\u001b[0m\u001b[1m]\u001b[0m, |\u001b[1;36m17\u001b[0m\u001b[1m]\u001b[0m.However, this does not \n",
       "necessarily imply that the cost is also growing exponentially, as more weights could be implemented with the same \n",
       "amount of energy, mostly due to hardware specialisation but especially as the energy consumption per unit of \n",
       "compute is decreasing.\n",
       "\n",
       "|From Words to Watts: Benchmarking the Energy Costs of Large Language \u001b[33m...\u001b[0m\u001b[1m]\u001b[0m\u001b[1m(\u001b[0m\u001b[4;94mhttps://arxiv.org/pdf/2310.03003\u001b[0m\u001b[4;94m)\u001b[0m\n",
       "energy—required for using and deploying some of the large language models \u001b[1m(\u001b[0mLLM\u001b[1m)\u001b[0m like those that underlie ChatGPT, \n",
       "Bard, etc. Several prior works have estimated the compute and energy costs of training language models. Works like \n",
       "|\u001b[1;36m6\u001b[0m\u001b[1m]\u001b[0m discuss the carbon footprint of language models such as BERT, ELMo, and precursors to larger models such as GPT\n",
       "\u001b[33m...\u001b[0m\n",
       "\n",
       "|Preventing the Immense Increase in the Life-Cycle Energy and Carbon \n",
       "\u001b[33m...\u001b[0m\u001b[1m]\u001b[0m\u001b[1m(\u001b[0m\u001b[4;94mhttps://www.sciencedirect.com/science/article/pii/S2095809924002315\u001b[0m\u001b[4;94m)\u001b[0m\n",
       "Moreover, if the LLM training algorithms were to be significantly improved, energy consumption and emissions would \n",
       "skyrocket, as LLMs continue to increase in terms of model size and input data volume—for example, from GPT-\u001b[1;36m1\u001b[0m's \u001b[1;36m117\u001b[0m \n",
       "million parameters and \u001b[1;36m5\u001b[0m GB of data, to GPT-\u001b[1;36m2\u001b[0m's \u001b[1;36m1.2\u001b[0m billion parameters and \u001b[1;36m40\u001b[0m GB of data, to GPT-\u001b[1;36m3\u001b[0m's \u001b[1;36m175\u001b[0m \u001b[33m...\u001b[0m\n",
       "\n",
       "|Power-hungry AI: Researchers evaluate energy consumption across \n",
       "models\u001b[1m]\u001b[0m\u001b[1m(\u001b[0m\u001b[4;94mhttps://cse.engin.umich.edu/stories/power-hungry-ai-researchers-evaluate-energy-consumption-across-models\u001b[0m\u001b[4;94m)\u001b[0m\n",
       "The tech industry is a major and growing contributor to global energy consumption. Data centers, in particular, are\n",
       "responsible for an estimated \u001b[1;36m2\u001b[0m% of electricity use in the U.S., consuming up to \u001b[1;36m50\u001b[0m times more energy than an \n",
       "average commercial building, and that number is only trending up as increasingly popular large language models \n",
       "\u001b[1m(\u001b[0mLLMs\u001b[1m)\u001b[0m become connected to data centers and eat up huge \u001b[33m...\u001b[0m\n",
       "\n",
       "|The Sustainability Challenge of AI: Tackling the Energy Footprint of \n",
       "LLMs\u001b[1m]\u001b[0m\u001b[1m(\u001b[0m\u001b[4;94mhttps://blog.withmartian.com/post/energy-routing\u001b[0m\u001b[4;94m)\u001b[0m\n",
       "The energy consumption of LLMs can be attributed to two primary stages: training and inference. Training an LLM \n",
       "involves learning the model's parameters from vast amounts of data, a process that requires immense computational \n",
       "resources, including powerful GPUs and TPUs. As reported by The Verge, training GPT-\u001b[1;36m3\u001b[0m was estimated to consume \n",
       "nearly \u001b[33m...\u001b[0m\n",
       "\n",
       "|Proposed solutions to high energy consumption of Generative AI LLMs \n",
       "\u001b[33m...\u001b[0m\u001b[1m]\u001b[0m\u001b[1m(\u001b[0m\u001b[4;94mhttps://techblog.comsoc.org/2023/11/09/proposed-solutions-to-high-energy-consumption-of-generative-ai-llms-opt\u001b[0m\n",
       "\u001b[4;94mimized-hardware-new-algorithms-green-data-centers/\u001b[0m\u001b[4;94m)\u001b[0m\n",
       "There are productivity gains, growing the pie \u001b[1m(\u001b[0mimproved quality of life\u001b[1m)\u001b[0m, improved efficiencies \u001b[1m(\u001b[0me.g., detecting \n",
       "patterns of grid energy consumption and shifting loads\u001b[1m)\u001b[0m, and the use of fuel/energy that would be otherwise wasted \n",
       "\u001b[1m(\u001b[0me.g. instead of flaring methane, powering distributed data centers in the hinterlands\u001b[1m)\u001b[0m.\n"
      ]
     },
     "metadata": {},
     "output_type": "display_data"
    },
    {
     "data": {
      "text/html": [
       "<pre style=\"white-space:pre;overflow-x:auto;line-height:normal;font-family:Menlo,'DejaVu Sans Mono',consolas,'Courier New',monospace\"><span style=\"color: #7f7f7f; text-decoration-color: #7f7f7f\">[Step 1: Duration 4.96 seconds| Input tokens: 4,169 | Output tokens: 68]</span>\n",
       "</pre>\n"
      ],
      "text/plain": [
       "\u001b[2m[Step 1: Duration 4.96 seconds| Input tokens: 4,169 | Output tokens: 68]\u001b[0m\n"
      ]
     },
     "metadata": {},
     "output_type": "display_data"
    },
    {
     "data": {
      "text/html": [
       "<pre style=\"white-space:pre;overflow-x:auto;line-height:normal;font-family:Menlo,'DejaVu Sans Mono',consolas,'Courier New',monospace\"><span style=\"color: #d4b702; text-decoration-color: #d4b702\">━━━━━━━━━━━━━━━━━━━━━━━━━━━━━━━━━━━━━━━━━━━━━━━━━━━━━ </span><span style=\"font-weight: bold\">Step </span><span style=\"color: #008080; text-decoration-color: #008080; font-weight: bold\">3</span><span style=\"color: #d4b702; text-decoration-color: #d4b702\"> ━━━━━━━━━━━━━━━━━━━━━━━━━━━━━━━━━━━━━━━━━━━━━━━━━━━━━━</span>\n",
       "</pre>\n"
      ],
      "text/plain": [
       "\u001b[38;2;212;183;2m━━━━━━━━━━━━━━━━━━━━━━━━━━━━━━━━━━━━━━━━━━━━━━━━━━━━━ \u001b[0m\u001b[1mStep \u001b[0m\u001b[1;36m3\u001b[0m\u001b[38;2;212;183;2m ━━━━━━━━━━━━━━━━━━━━━━━━━━━━━━━━━━━━━━━━━━━━━━━━━━━━━━\u001b[0m\n"
      ]
     },
     "metadata": {},
     "output_type": "display_data"
    },
    {
     "data": {
      "text/html": [
       "<pre style=\"white-space:pre;overflow-x:auto;line-height:normal;font-family:Menlo,'DejaVu Sans Mono',consolas,'Courier New',monospace\">╭─────────────────────────────────────────────────────────────────────────────────────────────────────────────────╮\n",
       "│ Calling tool: 'web_search' with arguments: {'query': 'Total electricity consumption (in GW) of Ireland,         │\n",
       "│ Singapore, Luxembourg'}                                                                                         │\n",
       "╰─────────────────────────────────────────────────────────────────────────────────────────────────────────────────╯\n",
       "</pre>\n"
      ],
      "text/plain": [
       "╭─────────────────────────────────────────────────────────────────────────────────────────────────────────────────╮\n",
       "│ Calling tool: 'web_search' with arguments: {'query': 'Total electricity consumption (in GW) of Ireland,         │\n",
       "│ Singapore, Luxembourg'}                                                                                         │\n",
       "╰─────────────────────────────────────────────────────────────────────────────────────────────────────────────────╯\n"
      ]
     },
     "metadata": {},
     "output_type": "display_data"
    },
    {
     "data": {
      "text/html": [
       "<pre style=\"white-space:pre;overflow-x:auto;line-height:normal;font-family:Menlo,'DejaVu Sans Mono',consolas,'Courier New',monospace\">Observations: ## Search Results\n",
       "\n",
       "|List of countries by electricity consumption - \n",
       "Wikipedia<span style=\"font-weight: bold\">](</span><span style=\"color: #0000ff; text-decoration-color: #0000ff; text-decoration: underline\">https://en.wikipedia.org/wiki/List_of_countries_by_electricity_consumption)</span>\n",
       "Electricity consumption by continent |<span style=\"color: #008080; text-decoration-color: #008080; font-weight: bold\">1</span><span style=\"font-weight: bold\">]</span> This is a list of countries by electric energy consumption. China is the \n",
       "largest producer and consumer of electricity, representing <span style=\"color: #008080; text-decoration-color: #008080; font-weight: bold\">55</span>% of consumption in Asia and <span style=\"color: #008080; text-decoration-color: #008080; font-weight: bold\">31</span>% of the world in <span style=\"color: #008080; text-decoration-color: #008080; font-weight: bold\">2023</span>.\n",
       "<span style=\"color: #808000; text-decoration-color: #808000\">...</span> Singapore: <span style=\"color: #008080; text-decoration-color: #008080; font-weight: bold\">57.40</span>: <span style=\"color: #008080; text-decoration-color: #008080; font-weight: bold\">9.92</span>: <span style=\"color: #008080; text-decoration-color: #008080; font-weight: bold\">2023</span> <span style=\"color: #808000; text-decoration-color: #808000\">...</span> Ireland: <span style=\"color: #008080; text-decoration-color: #008080; font-weight: bold\">34.51</span>: <span style=\"color: #008080; text-decoration-color: #008080; font-weight: bold\">6.64</span>: <span style=\"color: #008080; text-decoration-color: #008080; font-weight: bold\">2023</span>\n",
       "\n",
       "|Energy consumption in Ireland - Worlddata.info<span style=\"font-weight: bold\">](</span><span style=\"color: #0000ff; text-decoration-color: #0000ff; text-decoration: underline\">https://www.worlddata.info/europe/ireland/energy-consumption.php)</span>\n",
       "The most important figure in the energy balance of Ireland is the total consumption of . <span style=\"color: #008080; text-decoration-color: #008080; font-weight: bold\">30.74</span> billion kWh. <span style=\"color: #808000; text-decoration-color: #808000\">...</span> \n",
       "Electricity total/year Ireland per capita USA per capita; Own consumption: <span style=\"color: #008080; text-decoration-color: #008080; font-weight: bold\">30.74</span> bn kWh: <span style=\"color: #008080; text-decoration-color: #008080; font-weight: bold\">5</span>,<span style=\"color: #008080; text-decoration-color: #008080; font-weight: bold\">790.94</span> kWh: <span style=\"color: #008080; text-decoration-color: #008080; font-weight: bold\">12</span>,<span style=\"color: #008080; text-decoration-color: #008080; font-weight: bold\">325.52</span> \n",
       "kWh: Production: <span style=\"color: #008080; text-decoration-color: #008080; font-weight: bold\">32.98</span> bn kWh: <span style=\"color: #008080; text-decoration-color: #008080; font-weight: bold\">6</span>,<span style=\"color: #008080; text-decoration-color: #008080; font-weight: bold\">213.92</span> kWh: <span style=\"color: #008080; text-decoration-color: #008080; font-weight: bold\">12</span>,<span style=\"color: #008080; text-decoration-color: #008080; font-weight: bold\">814.53</span> kWh: Import:\n",
       "\n",
       "|Electricity | Energy Statistics In Ireland | \n",
       "SEAI<span style=\"font-weight: bold\">](</span><span style=\"color: #0000ff; text-decoration-color: #0000ff; text-decoration: underline\">https://www.seai.ie/data-and-insights/seai-statistics/electricity)</span>\n",
       "Hydro,Total Fuel Inputs,<span style=\"color: #008080; text-decoration-color: #008080; font-weight: bold\">1.8</span> Other Renewables &amp; Wastes,Total Fuel Inputs,<span style=\"color: #008080; text-decoration-color: #008080; font-weight: bold\">7.9</span> Wind,Total Fuel Inputs,<span style=\"color: #008080; text-decoration-color: #008080; font-weight: bold\">22</span> Natural \n",
       "Gas,Total Fuel Inputs,<span style=\"color: #008080; text-decoration-color: #008080; font-weight: bold\">53.2</span> Coal,Total Fuel Inputs,<span style=\"color: #008080; text-decoration-color: #008080; font-weight: bold\">6.9</span> Peat,Total Fuel Inputs,<span style=\"color: #008080; text-decoration-color: #008080; font-weight: bold\">0.8</span> Oil,Total Fuel Inputs,<span style=\"color: #008080; text-decoration-color: #008080; font-weight: bold\">1.2</span> Total \n",
       "Fuel Inputs,Electricity Transformation losses,<span style=\"color: #008080; text-decoration-color: #008080; font-weight: bold\">34.9</span> Total Fuel Inputs,Gross Electricity Consumption,<span style=\"color: #008080; text-decoration-color: #008080; font-weight: bold\">65.1</span> Gross \n",
       "Electricity <span style=\"color: #808000; text-decoration-color: #808000\">...</span>\n",
       "\n",
       "|Electricity - consumption - The World \n",
       "Factbook<span style=\"font-weight: bold\">](</span><span style=\"color: #0000ff; text-decoration-color: #0000ff; text-decoration: underline\">https://www.cia.gov/the-world-factbook/about/archives/2021/field/electricity-consumption/country-comparis</span>\n",
       "<span style=\"color: #0000ff; text-decoration-color: #0000ff; text-decoration: underline\">on)</span>\n",
       "Electricity - consumption Electricity - consumption compares total electricity generated annually plus imports and \n",
       "minus exports, expressed in kilowatt-hours. <span style=\"color: #008080; text-decoration-color: #008080; font-weight: bold\">217</span> Results\n",
       "\n",
       "|Total energy consumption and total electricity \n",
       "consumption<span style=\"font-weight: bold\">](</span><span style=\"color: #0000ff; text-decoration-color: #0000ff; text-decoration: underline\">https://www.eea.europa.eu/en/analysis/maps-and-charts/total-energy-consumption-and-total-electricity-c</span>\n",
       "<span style=\"color: #0000ff; text-decoration-color: #0000ff; text-decoration: underline\">onsumption)</span>\n",
       "The difference between total and final energy consumption is due mainly to losses in the conversion process, such \n",
       "as electricity generation, transport and distribution, and the part allocated to final non-energy consumption <span style=\"font-weight: bold\">(</span>e.g.\n",
       "feedstock used by the chemical industry<span style=\"font-weight: bold\">)</span>.\n",
       "\n",
       "|Ireland: Energy Country Profile - Our World in Data<span style=\"font-weight: bold\">](</span><span style=\"color: #0000ff; text-decoration-color: #0000ff; text-decoration: underline\">https://ourworldindata.org/energy/country/ireland)</span>\n",
       "Many people assume energy and electricity to mean the same, but electricity is just one component of total energy \n",
       "consumption. We look at electricity consumption later in this profile. These figures are based on primary energy \n",
       "consumption - given by the <span style=\"color: #008000; text-decoration-color: #008000\">'substitution method'</span>.\n",
       "\n",
       "|List of countries by energy consumption and \n",
       "production<span style=\"font-weight: bold\">](</span><span style=\"color: #0000ff; text-decoration-color: #0000ff; text-decoration: underline\">https://en.wikipedia.org/wiki/List_of_countries_by_energy_consumption_and_production)</span>\n",
       "World energy consumption from <span style=\"color: #008080; text-decoration-color: #008080; font-weight: bold\">1989</span> to <span style=\"color: #008080; text-decoration-color: #008080; font-weight: bold\">1999</span>.. This is a list of countries by total primary energy consumption and \n",
       "production.. <span style=\"color: #008080; text-decoration-color: #008080; font-weight: bold\">1</span> quadrillion BTU = <span style=\"color: #008080; text-decoration-color: #008080; font-weight: bold\">293</span> TW·h = <span style=\"color: #008080; text-decoration-color: #008080; font-weight: bold\">1.055</span> EJ <span style=\"color: #008080; text-decoration-color: #008080; font-weight: bold\">1</span> quadrillion BTU/yr = <span style=\"color: #008080; text-decoration-color: #008080; font-weight: bold\">1.055</span> EJ/yr = <span style=\"color: #008080; text-decoration-color: #008080; font-weight: bold\">293</span> TW·h/yr = <span style=\"color: #008080; text-decoration-color: #008080; font-weight: bold\">33.433</span> GW. \n",
       "The numbers below are for the total energy consumption or production in a whole year, so should be multiplied by \n",
       "<span style=\"color: #008080; text-decoration-color: #008080; font-weight: bold\">33.433</span> to get the average value in GW in that year.\n",
       "\n",
       "|Ireland Energy Information - Enerdata<span style=\"font-weight: bold\">](</span><span style=\"color: #0000ff; text-decoration-color: #0000ff; text-decoration: underline\">https://www.enerdata.net/estore/energy-market/ireland/)</span>\n",
       "Ireland Total Energy Consumption. In <span style=\"color: #008080; text-decoration-color: #008080; font-weight: bold\">2023</span>, consumption per capita was <span style=\"color: #008080; text-decoration-color: #008080; font-weight: bold\">2.6</span> toe <span style=\"font-weight: bold\">(</span>down from <span style=\"color: #008080; text-decoration-color: #008080; font-weight: bold\">3.2</span> toe in <span style=\"color: #008080; text-decoration-color: #008080; font-weight: bold\">2010</span><span style=\"font-weight: bold\">)</span> and <span style=\"color: #008080; text-decoration-color: #008080; font-weight: bold\">7</span>% \n",
       "below the EU average. Per capita electricity consumption was almost <span style=\"color: #008080; text-decoration-color: #008080; font-weight: bold\">6100</span> kWh in <span style=\"color: #008080; text-decoration-color: #008080; font-weight: bold\">2023</span>, <span style=\"color: #008080; text-decoration-color: #008080; font-weight: bold\">13</span>% above the EU average. \n",
       "Graph: CONSUMPTION TRENDS BY ENERGY SOURCE <span style=\"font-weight: bold\">(</span>Mtoe<span style=\"font-weight: bold\">)</span> Interactive Chart Ireland Total Energy Consumption\n",
       "\n",
       "|Energy Use Overview | Energy Statistics In Ireland | \n",
       "SEAI<span style=\"font-weight: bold\">](</span><span style=\"color: #0000ff; text-decoration-color: #0000ff; text-decoration: underline\">https://www.seai.ie/data-and-insights/seai-statistics/energy-use-overview)</span>\n",
       "The sum of all final energy used in all sectors is known as Total Final Consumption <span style=\"font-weight: bold\">(</span>TFC<span style=\"font-weight: bold\">)</span>. Also on the right is the\n",
       "energy that is lost during transformation processes such as electricity generation and oil refining. The \n",
       "electricity system has become much more efficient since <span style=\"color: #008080; text-decoration-color: #008080; font-weight: bold\">2000</span> but is still only just over <span style=\"color: #008080; text-decoration-color: #008080; font-weight: bold\">50</span>% efficient.\n",
       "\n",
       "|Electricity and heat statistics - Statistics \n",
       "Explained<span style=\"font-weight: bold\">](</span><span style=\"color: #0000ff; text-decoration-color: #0000ff; text-decoration: underline\">https://ec.europa.eu/eurostat/statistics-explained/index.php/Electricity_and_heat_statistics)</span>\n",
       "Having a close look at the relative shares of electricity available for final consumption, the net imports of \n",
       "electricity in <span style=\"color: #008080; text-decoration-color: #008080; font-weight: bold\">2023</span> <span style=\"font-weight: bold\">(</span>preliminary data<span style=\"font-weight: bold\">)</span> in Luxembourg represented as much as <span style=\"color: #008080; text-decoration-color: #008080; font-weight: bold\">88.1</span>%, in Lithuania they amounted to \n",
       "<span style=\"color: #008080; text-decoration-color: #008080; font-weight: bold\">62.4</span>%, in Estonia <span style=\"color: #008080; text-decoration-color: #008080; font-weight: bold\">46.6</span>%, in Hungary <span style=\"color: #008080; text-decoration-color: #008080; font-weight: bold\">26.3</span>% and in Malta <span style=\"color: #008080; text-decoration-color: #008080; font-weight: bold\">22.7</span>%.\n",
       "</pre>\n"
      ],
      "text/plain": [
       "Observations: ## Search Results\n",
       "\n",
       "|List of countries by electricity consumption - \n",
       "Wikipedia\u001b[1m]\u001b[0m\u001b[1m(\u001b[0m\u001b[4;94mhttps://en.wikipedia.org/wiki/List_of_countries_by_electricity_consumption\u001b[0m\u001b[4;94m)\u001b[0m\n",
       "Electricity consumption by continent |\u001b[1;36m1\u001b[0m\u001b[1m]\u001b[0m This is a list of countries by electric energy consumption. China is the \n",
       "largest producer and consumer of electricity, representing \u001b[1;36m55\u001b[0m% of consumption in Asia and \u001b[1;36m31\u001b[0m% of the world in \u001b[1;36m2023\u001b[0m.\n",
       "\u001b[33m...\u001b[0m Singapore: \u001b[1;36m57.40\u001b[0m: \u001b[1;36m9.92\u001b[0m: \u001b[1;36m2023\u001b[0m \u001b[33m...\u001b[0m Ireland: \u001b[1;36m34.51\u001b[0m: \u001b[1;36m6.64\u001b[0m: \u001b[1;36m2023\u001b[0m\n",
       "\n",
       "|Energy consumption in Ireland - Worlddata.info\u001b[1m]\u001b[0m\u001b[1m(\u001b[0m\u001b[4;94mhttps://www.worlddata.info/europe/ireland/energy-consumption.php\u001b[0m\u001b[4;94m)\u001b[0m\n",
       "The most important figure in the energy balance of Ireland is the total consumption of . \u001b[1;36m30.74\u001b[0m billion kWh. \u001b[33m...\u001b[0m \n",
       "Electricity total/year Ireland per capita USA per capita; Own consumption: \u001b[1;36m30.74\u001b[0m bn kWh: \u001b[1;36m5\u001b[0m,\u001b[1;36m790.94\u001b[0m kWh: \u001b[1;36m12\u001b[0m,\u001b[1;36m325.52\u001b[0m \n",
       "kWh: Production: \u001b[1;36m32.98\u001b[0m bn kWh: \u001b[1;36m6\u001b[0m,\u001b[1;36m213.92\u001b[0m kWh: \u001b[1;36m12\u001b[0m,\u001b[1;36m814.53\u001b[0m kWh: Import:\n",
       "\n",
       "|Electricity | Energy Statistics In Ireland | \n",
       "SEAI\u001b[1m]\u001b[0m\u001b[1m(\u001b[0m\u001b[4;94mhttps://www.seai.ie/data-and-insights/seai-statistics/electricity\u001b[0m\u001b[4;94m)\u001b[0m\n",
       "Hydro,Total Fuel Inputs,\u001b[1;36m1.8\u001b[0m Other Renewables & Wastes,Total Fuel Inputs,\u001b[1;36m7.9\u001b[0m Wind,Total Fuel Inputs,\u001b[1;36m22\u001b[0m Natural \n",
       "Gas,Total Fuel Inputs,\u001b[1;36m53.2\u001b[0m Coal,Total Fuel Inputs,\u001b[1;36m6.9\u001b[0m Peat,Total Fuel Inputs,\u001b[1;36m0.8\u001b[0m Oil,Total Fuel Inputs,\u001b[1;36m1.2\u001b[0m Total \n",
       "Fuel Inputs,Electricity Transformation losses,\u001b[1;36m34.9\u001b[0m Total Fuel Inputs,Gross Electricity Consumption,\u001b[1;36m65.1\u001b[0m Gross \n",
       "Electricity \u001b[33m...\u001b[0m\n",
       "\n",
       "|Electricity - consumption - The World \n",
       "Factbook\u001b[1m]\u001b[0m\u001b[1m(\u001b[0m\u001b[4;94mhttps://www.cia.gov/the-world-factbook/about/archives/2021/field/electricity-consumption/country-comparis\u001b[0m\n",
       "\u001b[4;94mon\u001b[0m\u001b[4;94m)\u001b[0m\n",
       "Electricity - consumption Electricity - consumption compares total electricity generated annually plus imports and \n",
       "minus exports, expressed in kilowatt-hours. \u001b[1;36m217\u001b[0m Results\n",
       "\n",
       "|Total energy consumption and total electricity \n",
       "consumption\u001b[1m]\u001b[0m\u001b[1m(\u001b[0m\u001b[4;94mhttps://www.eea.europa.eu/en/analysis/maps-and-charts/total-energy-consumption-and-total-electricity-c\u001b[0m\n",
       "\u001b[4;94monsumption\u001b[0m\u001b[4;94m)\u001b[0m\n",
       "The difference between total and final energy consumption is due mainly to losses in the conversion process, such \n",
       "as electricity generation, transport and distribution, and the part allocated to final non-energy consumption \u001b[1m(\u001b[0me.g.\n",
       "feedstock used by the chemical industry\u001b[1m)\u001b[0m.\n",
       "\n",
       "|Ireland: Energy Country Profile - Our World in Data\u001b[1m]\u001b[0m\u001b[1m(\u001b[0m\u001b[4;94mhttps://ourworldindata.org/energy/country/ireland\u001b[0m\u001b[4;94m)\u001b[0m\n",
       "Many people assume energy and electricity to mean the same, but electricity is just one component of total energy \n",
       "consumption. We look at electricity consumption later in this profile. These figures are based on primary energy \n",
       "consumption - given by the \u001b[32m'substitution method'\u001b[0m.\n",
       "\n",
       "|List of countries by energy consumption and \n",
       "production\u001b[1m]\u001b[0m\u001b[1m(\u001b[0m\u001b[4;94mhttps://en.wikipedia.org/wiki/List_of_countries_by_energy_consumption_and_production\u001b[0m\u001b[4;94m)\u001b[0m\n",
       "World energy consumption from \u001b[1;36m1989\u001b[0m to \u001b[1;36m1999\u001b[0m.. This is a list of countries by total primary energy consumption and \n",
       "production.. \u001b[1;36m1\u001b[0m quadrillion BTU = \u001b[1;36m293\u001b[0m TW·h = \u001b[1;36m1.055\u001b[0m EJ \u001b[1;36m1\u001b[0m quadrillion BTU/yr = \u001b[1;36m1.055\u001b[0m EJ/yr = \u001b[1;36m293\u001b[0m TW·h/yr = \u001b[1;36m33.433\u001b[0m GW. \n",
       "The numbers below are for the total energy consumption or production in a whole year, so should be multiplied by \n",
       "\u001b[1;36m33.433\u001b[0m to get the average value in GW in that year.\n",
       "\n",
       "|Ireland Energy Information - Enerdata\u001b[1m]\u001b[0m\u001b[1m(\u001b[0m\u001b[4;94mhttps://www.enerdata.net/estore/energy-market/ireland/\u001b[0m\u001b[4;94m)\u001b[0m\n",
       "Ireland Total Energy Consumption. In \u001b[1;36m2023\u001b[0m, consumption per capita was \u001b[1;36m2.6\u001b[0m toe \u001b[1m(\u001b[0mdown from \u001b[1;36m3.2\u001b[0m toe in \u001b[1;36m2010\u001b[0m\u001b[1m)\u001b[0m and \u001b[1;36m7\u001b[0m% \n",
       "below the EU average. Per capita electricity consumption was almost \u001b[1;36m6100\u001b[0m kWh in \u001b[1;36m2023\u001b[0m, \u001b[1;36m13\u001b[0m% above the EU average. \n",
       "Graph: CONSUMPTION TRENDS BY ENERGY SOURCE \u001b[1m(\u001b[0mMtoe\u001b[1m)\u001b[0m Interactive Chart Ireland Total Energy Consumption\n",
       "\n",
       "|Energy Use Overview | Energy Statistics In Ireland | \n",
       "SEAI\u001b[1m]\u001b[0m\u001b[1m(\u001b[0m\u001b[4;94mhttps://www.seai.ie/data-and-insights/seai-statistics/energy-use-overview\u001b[0m\u001b[4;94m)\u001b[0m\n",
       "The sum of all final energy used in all sectors is known as Total Final Consumption \u001b[1m(\u001b[0mTFC\u001b[1m)\u001b[0m. Also on the right is the\n",
       "energy that is lost during transformation processes such as electricity generation and oil refining. The \n",
       "electricity system has become much more efficient since \u001b[1;36m2000\u001b[0m but is still only just over \u001b[1;36m50\u001b[0m% efficient.\n",
       "\n",
       "|Electricity and heat statistics - Statistics \n",
       "Explained\u001b[1m]\u001b[0m\u001b[1m(\u001b[0m\u001b[4;94mhttps://ec.europa.eu/eurostat/statistics-explained/index.php/Electricity_and_heat_statistics\u001b[0m\u001b[4;94m)\u001b[0m\n",
       "Having a close look at the relative shares of electricity available for final consumption, the net imports of \n",
       "electricity in \u001b[1;36m2023\u001b[0m \u001b[1m(\u001b[0mpreliminary data\u001b[1m)\u001b[0m in Luxembourg represented as much as \u001b[1;36m88.1\u001b[0m%, in Lithuania they amounted to \n",
       "\u001b[1;36m62.4\u001b[0m%, in Estonia \u001b[1;36m46.6\u001b[0m%, in Hungary \u001b[1;36m26.3\u001b[0m% and in Malta \u001b[1;36m22.7\u001b[0m%.\n"
      ]
     },
     "metadata": {},
     "output_type": "display_data"
    },
    {
     "data": {
      "text/html": [
       "<pre style=\"white-space:pre;overflow-x:auto;line-height:normal;font-family:Menlo,'DejaVu Sans Mono',consolas,'Courier New',monospace\"><span style=\"color: #7f7f7f; text-decoration-color: #7f7f7f\">[Step 2: Duration 7.21 seconds| Input tokens: 8,058 | Output tokens: 98]</span>\n",
       "</pre>\n"
      ],
      "text/plain": [
       "\u001b[2m[Step 2: Duration 7.21 seconds| Input tokens: 8,058 | Output tokens: 98]\u001b[0m\n"
      ]
     },
     "metadata": {},
     "output_type": "display_data"
    },
    {
     "data": {
      "text/html": [
       "<pre style=\"white-space:pre;overflow-x:auto;line-height:normal;font-family:Menlo,'DejaVu Sans Mono',consolas,'Courier New',monospace\"><span style=\"color: #d4b702; text-decoration-color: #d4b702\">━━━━━━━━━━━━━━━━━━━━━━━━━━━━━━━━━━━━━━━━━━━━━━━━━━━━━ </span><span style=\"font-weight: bold\">Step </span><span style=\"color: #008080; text-decoration-color: #008080; font-weight: bold\">4</span><span style=\"color: #d4b702; text-decoration-color: #d4b702\"> ━━━━━━━━━━━━━━━━━━━━━━━━━━━━━━━━━━━━━━━━━━━━━━━━━━━━━━</span>\n",
       "</pre>\n"
      ],
      "text/plain": [
       "\u001b[38;2;212;183;2m━━━━━━━━━━━━━━━━━━━━━━━━━━━━━━━━━━━━━━━━━━━━━━━━━━━━━ \u001b[0m\u001b[1mStep \u001b[0m\u001b[1;36m4\u001b[0m\u001b[38;2;212;183;2m ━━━━━━━━━━━━━━━━━━━━━━━━━━━━━━━━━━━━━━━━━━━━━━━━━━━━━━\u001b[0m\n"
      ]
     },
     "metadata": {},
     "output_type": "display_data"
    },
    {
     "data": {
      "text/html": [
       "<pre style=\"white-space:pre;overflow-x:auto;line-height:normal;font-family:Menlo,'DejaVu Sans Mono',consolas,'Courier New',monospace\">╭─────────────────────────────────────────────────────────────────────────────────────────────────────────────────╮\n",
       "│ Calling tool: 'web_search' with arguments: {'query': 'Total electricity consumption (in GW) of Luxembourg'}     │\n",
       "╰─────────────────────────────────────────────────────────────────────────────────────────────────────────────────╯\n",
       "</pre>\n"
      ],
      "text/plain": [
       "╭─────────────────────────────────────────────────────────────────────────────────────────────────────────────────╮\n",
       "│ Calling tool: 'web_search' with arguments: {'query': 'Total electricity consumption (in GW) of Luxembourg'}     │\n",
       "╰─────────────────────────────────────────────────────────────────────────────────────────────────────────────────╯\n"
      ]
     },
     "metadata": {},
     "output_type": "display_data"
    },
    {
     "data": {
      "text/html": [
       "<pre style=\"white-space:pre;overflow-x:auto;line-height:normal;font-family:Menlo,'DejaVu Sans Mono',consolas,'Courier New',monospace\">Observations: ## Search Results\n",
       "\n",
       "|List of countries by electricity consumption - \n",
       "Wikipedia<span style=\"font-weight: bold\">](</span><span style=\"color: #0000ff; text-decoration-color: #0000ff; text-decoration: underline\">https://en.wikipedia.org/wiki/List_of_countries_by_electricity_consumption)</span>\n",
       "This is a list of countries by electric energy consumption. China is the largest producer and consumer of \n",
       "electricity, representing <span style=\"color: #008080; text-decoration-color: #008080; font-weight: bold\">55</span>% of consumption in Asia and <span style=\"color: #008080; text-decoration-color: #008080; font-weight: bold\">31</span>% of the world in <span style=\"color: #008080; text-decoration-color: #008080; font-weight: bold\">2023</span>. <span style=\"color: #808000; text-decoration-color: #808000\">...</span> Total consumption figures \n",
       "are in terawatt-hours while per-capita figures are in megawatt-hours. Links for each location go to the relevant \n",
       "electricity <span style=\"color: #808000; text-decoration-color: #808000\">...</span>\n",
       "\n",
       "|Energy consumption in Luxembourg - \n",
       "Worlddata.info<span style=\"font-weight: bold\">](</span><span style=\"color: #0000ff; text-decoration-color: #0000ff; text-decoration: underline\">https://www.worlddata.info/europe/luxembourg/energy-consumption.php)</span>\n",
       "The most important figure in the energy balance of Luxembourg is the total consumption of . <span style=\"color: #008080; text-decoration-color: #008080; font-weight: bold\">6.12</span> billion kWh. of \n",
       "electric energy per year. <span style=\"color: #808000; text-decoration-color: #808000\">...</span> Electricity total/year Luxembourg per capita USA per capita; Own consumption: <span style=\"color: #008080; text-decoration-color: #008080; font-weight: bold\">6.12</span> bn\n",
       "kWh: <span style=\"color: #008080; text-decoration-color: #008080; font-weight: bold\">9</span>,<span style=\"color: #008080; text-decoration-color: #008080; font-weight: bold\">186.26</span> kWh: <span style=\"color: #008080; text-decoration-color: #008080; font-weight: bold\">12</span>,<span style=\"color: #008080; text-decoration-color: #008080; font-weight: bold\">325.52</span> kWh: Production: <span style=\"color: #008080; text-decoration-color: #008080; font-weight: bold\">762.93</span> m kWh: <span style=\"color: #008080; text-decoration-color: #008080; font-weight: bold\">1</span>,<span style=\"color: #008080; text-decoration-color: #008080; font-weight: bold\">144.81</span> kWh: <span style=\"color: #008080; text-decoration-color: #008080; font-weight: bold\">12</span>,<span style=\"color: #008080; text-decoration-color: #008080; font-weight: bold\">814.53</span> kWh: Import:\n",
       "\n",
       "|Luxembourg: Energy Country Profile - Our World in Data<span style=\"font-weight: bold\">](</span><span style=\"color: #0000ff; text-decoration-color: #0000ff; text-decoration: underline\">https://ourworldindata.org/energy/country/luxembourg)</span>\n",
       "These figures reflect energy consumption - that is the sum of all energy uses including electricity, transport and \n",
       "heating. Many people assume energy and electricity to mean the same, but electricity is just one component of total\n",
       "energy consumption. We look at electricity consumption later in this profile.\n",
       "\n",
       "|Luxembourg Electricity consumption - data, chart - \n",
       "TheGlobalEconomy.com<span style=\"font-weight: bold\">](</span><span style=\"color: #0000ff; text-decoration-color: #0000ff; text-decoration: underline\">https://www.theglobaleconomy.com/Luxembourg/electricity_consumption/)</span>\n",
       "Luxembourg: Electricity consumption, billion kilowatthours: The latest value from <span style=\"color: #008080; text-decoration-color: #008080; font-weight: bold\">2022</span> is <span style=\"color: #008080; text-decoration-color: #008080; font-weight: bold\">6.12</span> billion \n",
       "kilowatthours, a decline from <span style=\"color: #008080; text-decoration-color: #008080; font-weight: bold\">6.41</span> billion kilowatthours in <span style=\"color: #008080; text-decoration-color: #008080; font-weight: bold\">2021</span>. In comparison, the world average is <span style=\"color: #008080; text-decoration-color: #008080; font-weight: bold\">139.77</span> \n",
       "billion kilowatthours, based on data from <span style=\"color: #008080; text-decoration-color: #008080; font-weight: bold\">190</span> countries. Historically, the average for Luxembourg from <span style=\"color: #008080; text-decoration-color: #008080; font-weight: bold\">1980</span> to <span style=\"color: #008080; text-decoration-color: #008080; font-weight: bold\">2022</span>\n",
       "is <span style=\"color: #008080; text-decoration-color: #008080; font-weight: bold\">5.36</span> billion kilowatthours. The minimum value, <span style=\"color: #008080; text-decoration-color: #008080; font-weight: bold\">3.41</span> billion <span style=\"color: #808000; text-decoration-color: #808000\">...</span>\n",
       "\n",
       "|Luxembourg Energy Information - Enerdata<span style=\"font-weight: bold\">](</span><span style=\"color: #0000ff; text-decoration-color: #0000ff; text-decoration: underline\">https://www.enerdata.net/estore/energy-market/luxembourg/)</span>\n",
       "<span style=\"color: #008080; text-decoration-color: #008080; font-weight: bold\">22</span>/<span style=\"color: #008080; text-decoration-color: #008080; font-weight: bold\">11</span>/<span style=\"color: #008080; text-decoration-color: #008080; font-weight: bold\">2023</span> - <span style=\"color: #008080; text-decoration-color: #008080; font-weight: bold\">9</span> European countries agree to tender <span style=\"color: #008080; text-decoration-color: #008080; font-weight: bold\">100</span> GW of offshore wind capacity by <span style=\"color: #008080; text-decoration-color: #008080; font-weight: bold\">2030</span>. <span style=\"color: #008080; text-decoration-color: #008080; font-weight: bold\">26</span>/<span style=\"color: #008080; text-decoration-color: #008080; font-weight: bold\">04</span>/<span style=\"color: #008080; text-decoration-color: #008080; font-weight: bold\">2023</span> - Nine North\n",
       "Sea countries aim to develop <span style=\"color: #008080; text-decoration-color: #008080; font-weight: bold\">300</span> GW of offshore wind by <span style=\"color: #008080; text-decoration-color: #008080; font-weight: bold\">2050</span>. <span style=\"color: #808000; text-decoration-color: #808000\">...</span> Luxembourg Total Energy Consumption. The \n",
       "country's consumption per capita decreased by <span style=\"color: #008080; text-decoration-color: #008080; font-weight: bold\">7</span>% to <span style=\"color: #008080; text-decoration-color: #008080; font-weight: bold\">4.5</span> toe in <span style=\"color: #008080; text-decoration-color: #008080; font-weight: bold\">2023</span>, of which electricity accounts for about <span style=\"color: #008080; text-decoration-color: #008080; font-weight: bold\">0.9</span> \n",
       "MWh, which <span style=\"color: #808000; text-decoration-color: #808000\">...</span>\n",
       "\n",
       "|Luxembourg Total Energy Consumption | Economic Indicators | \n",
       "CEIC<span style=\"font-weight: bold\">](</span><span style=\"color: #0000ff; text-decoration-color: #0000ff; text-decoration: underline\">https://www.ceicdata.com/en/luxembourg/energy-production-and-consumption-annual/total-energy-consumption)</span>\n",
       "Luxembourg Total Energy Consumption data was reported at <span style=\"color: #008080; text-decoration-color: #008080; font-weight: bold\">0.153</span> BTU qn in Dec <span style=\"color: #008080; text-decoration-color: #008080; font-weight: bold\">2022</span>. This records a decrease from the\n",
       "previous number of <span style=\"color: #008080; text-decoration-color: #008080; font-weight: bold\">0.174</span> BTU qn for Dec <span style=\"color: #008080; text-decoration-color: #008080; font-weight: bold\">2021</span>. Luxembourg Total Energy Consumption data is updated yearly, averaging\n",
       "<span style=\"color: #008080; text-decoration-color: #008080; font-weight: bold\">0.160</span> BTU qn <span style=\"font-weight: bold\">(</span>Median<span style=\"font-weight: bold\">)</span> from Dec <span style=\"color: #008080; text-decoration-color: #008080; font-weight: bold\">1980</span> to <span style=\"color: #008080; text-decoration-color: #008080; font-weight: bold\">2022</span>, with <span style=\"color: #008080; text-decoration-color: #008080; font-weight: bold\">43</span> observations. The data reached an all-time high of <span style=\"color: #008080; text-decoration-color: #008080; font-weight: bold\">0.203</span> BTU \n",
       "qn in <span style=\"color: #008080; text-decoration-color: #008080; font-weight: bold\">2005</span> and a record low of <span style=\"color: #008080; text-decoration-color: #008080; font-weight: bold\">0.117</span> BTU qn in <span style=\"color: #008080; text-decoration-color: #008080; font-weight: bold\">1983</span>.\n",
       "\n",
       "|Luxembourg - Electricity consumption <span style=\"color: #008080; text-decoration-color: #008080; font-weight: bold\">2022</span> - \n",
       "countryeconomy.com<span style=\"font-weight: bold\">](</span><span style=\"color: #0000ff; text-decoration-color: #0000ff; text-decoration: underline\">https://countryeconomy.com/energy-and-environment/electricity-consumption/luxembourg)</span>\n",
       "Luxembourg - Electricity consumption. Subscribe to our free email alert service\n",
       "\n",
       "| ENERGY PROFILE Luxembourg - \n",
       "IRENA<span style=\"font-weight: bold\">](</span><span style=\"color: #0000ff; text-decoration-color: #0000ff; text-decoration: underline\">https://www.irena.org/-/media/Files/IRENA/Agency/Statistics/Statistical_Profiles/Europe/Luxembourg_Europe_RE</span>\n",
       "<span style=\"color: #0000ff; text-decoration-color: #0000ff; text-decoration: underline\">_SP.pdf)</span>\n",
       "Total <span style=\"font-weight: bold\">(</span>%<span style=\"font-weight: bold\">)</span> <span style=\"color: #008080; text-decoration-color: #008080; font-weight: bold\">-2.2</span> +<span style=\"color: #008080; text-decoration-color: #008080; font-weight: bold\">5.5</span> Primary energy trade <span style=\"color: #008080; text-decoration-color: #008080; font-weight: bold\">2016</span> <span style=\"color: #008080; text-decoration-color: #008080; font-weight: bold\">2021</span> Imports <span style=\"font-weight: bold\">(</span>TJ<span style=\"font-weight: bold\">)</span> <span style=\"color: #008080; text-decoration-color: #008080; font-weight: bold\">177</span> <span style=\"color: #008080; text-decoration-color: #008080; font-weight: bold\">986</span> <span style=\"color: #008080; text-decoration-color: #008080; font-weight: bold\">171</span> <span style=\"color: #008080; text-decoration-color: #008080; font-weight: bold\">288</span> Exports <span style=\"font-weight: bold\">(</span>TJ<span style=\"font-weight: bold\">)</span> <span style=\"color: #008080; text-decoration-color: #008080; font-weight: bold\">6</span> <span style=\"color: #008080; text-decoration-color: #008080; font-weight: bold\">660</span> <span style=\"color: #008080; text-decoration-color: #008080; font-weight: bold\">4</span> <span style=\"color: #008080; text-decoration-color: #008080; font-weight: bold\">662</span> Net trade \n",
       "<span style=\"font-weight: bold\">(</span>TJ<span style=\"font-weight: bold\">)</span> - <span style=\"color: #008080; text-decoration-color: #008080; font-weight: bold\">171</span> <span style=\"color: #008080; text-decoration-color: #008080; font-weight: bold\">326</span> - <span style=\"color: #008080; text-decoration-color: #008080; font-weight: bold\">166</span> <span style=\"color: #008080; text-decoration-color: #008080; font-weight: bold\">626</span> Imports <span style=\"font-weight: bold\">(</span>% of supply<span style=\"font-weight: bold\">)</span> <span style=\"color: #008080; text-decoration-color: #008080; font-weight: bold\">114</span> <span style=\"color: #008080; text-decoration-color: #008080; font-weight: bold\">112</span> Exports <span style=\"font-weight: bold\">(</span>% of production<span style=\"font-weight: bold\">)</span> <span style=\"color: #008080; text-decoration-color: #008080; font-weight: bold\">94</span> <span style=\"color: #008080; text-decoration-color: #008080; font-weight: bold\">36</span> Energy self-sufficiency <span style=\"font-weight: bold\">(</span>%<span style=\"font-weight: bold\">)</span> \n",
       "<span style=\"color: #008080; text-decoration-color: #008080; font-weight: bold\">5</span> <span style=\"color: #008080; text-decoration-color: #008080; font-weight: bold\">9</span> Luxembourg COUNTRY INDICATORS AND SDGS TOTAL ENERGY SUPPLY <span style=\"font-weight: bold\">(</span>TES<span style=\"font-weight: bold\">)</span> Total energy supply in <span style=\"color: #008080; text-decoration-color: #008080; font-weight: bold\">2021</span> Renewable energy \n",
       "<span style=\"color: #808000; text-decoration-color: #808000\">...</span>\n",
       "\n",
       "|Electric power consumption <span style=\"font-weight: bold\">(</span>kWh per capita<span style=\"font-weight: bold\">)</span> - \n",
       "Luxembourg<span style=\"font-weight: bold\">](</span><span style=\"color: #0000ff; text-decoration-color: #0000ff; text-decoration: underline\">https://data.worldbank.org/indicator/EG.USE.ELEC.KH.PC?locations=LU)</span>\n",
       "Electric power consumption <span style=\"font-weight: bold\">(</span>kWh per capita<span style=\"font-weight: bold\">)</span> - Luxembourg from The World Bank: Data. Free and open access to global \n",
       "development data. Data. This page in: English; Español; Français; <span style=\"color: #808000; text-decoration-color: #808000\">...</span> Fossil fuel energy consumption <span style=\"font-weight: bold\">(</span>% of total<span style=\"font-weight: bold\">)</span> \n",
       "Energy use <span style=\"font-weight: bold\">(</span>kg of oil equivalent<span style=\"font-weight: bold\">)</span> per $<span style=\"color: #008080; text-decoration-color: #008080; font-weight: bold\">1</span>,<span style=\"color: #008080; text-decoration-color: #008080; font-weight: bold\">000</span> GDP <span style=\"font-weight: bold\">(</span>constant <span style=\"color: #008080; text-decoration-color: #008080; font-weight: bold\">2017</span> PPP<span style=\"font-weight: bold\">)</span>\n",
       "\n",
       "|Change in energy consumption of EU Member States between <span style=\"color: #008080; text-decoration-color: #008080; font-weight: bold\">2005</span> and \n",
       "<span style=\"color: #008080; text-decoration-color: #008080; font-weight: bold\">2023</span><span style=\"font-weight: bold\">](</span><span style=\"color: #0000ff; text-decoration-color: #0000ff; text-decoration: underline\">https://www.eea.europa.eu/en/analysis/indicators/primary-and-final-energy-consumption-1738331021/change-in-en</span>\n",
       "<span style=\"color: #0000ff; text-decoration-color: #0000ff; text-decoration: underline\">ergy-consumption)</span>\n",
       "The figure shows the change in energy consumption of EU Member States in <span style=\"color: #008080; text-decoration-color: #008080; font-weight: bold\">2023</span> compared to <span style=\"color: #008080; text-decoration-color: #008080; font-weight: bold\">2005</span>. <span style=\"color: #808000; text-decoration-color: #808000\">...</span> Luxembourg; \n",
       "Ireland; France; Slovakia; Czechia; Italy; Slovenia; Croatia; Greece; <span style=\"color: #808000; text-decoration-color: #808000\">...</span> <span style=\"font-weight: bold\">(</span>FEC<span style=\"font-weight: bold\">)</span> represents the energy used by final\n",
       "consumers. Primary energy consumption <span style=\"font-weight: bold\">(</span>PEC<span style=\"font-weight: bold\">)</span> represents the total energy demand within a country. Methodology. \n",
       "Values <span style=\"color: #808000; text-decoration-color: #808000\">...</span>\n",
       "</pre>\n"
      ],
      "text/plain": [
       "Observations: ## Search Results\n",
       "\n",
       "|List of countries by electricity consumption - \n",
       "Wikipedia\u001b[1m]\u001b[0m\u001b[1m(\u001b[0m\u001b[4;94mhttps://en.wikipedia.org/wiki/List_of_countries_by_electricity_consumption\u001b[0m\u001b[4;94m)\u001b[0m\n",
       "This is a list of countries by electric energy consumption. China is the largest producer and consumer of \n",
       "electricity, representing \u001b[1;36m55\u001b[0m% of consumption in Asia and \u001b[1;36m31\u001b[0m% of the world in \u001b[1;36m2023\u001b[0m. \u001b[33m...\u001b[0m Total consumption figures \n",
       "are in terawatt-hours while per-capita figures are in megawatt-hours. Links for each location go to the relevant \n",
       "electricity \u001b[33m...\u001b[0m\n",
       "\n",
       "|Energy consumption in Luxembourg - \n",
       "Worlddata.info\u001b[1m]\u001b[0m\u001b[1m(\u001b[0m\u001b[4;94mhttps://www.worlddata.info/europe/luxembourg/energy-consumption.php\u001b[0m\u001b[4;94m)\u001b[0m\n",
       "The most important figure in the energy balance of Luxembourg is the total consumption of . \u001b[1;36m6.12\u001b[0m billion kWh. of \n",
       "electric energy per year. \u001b[33m...\u001b[0m Electricity total/year Luxembourg per capita USA per capita; Own consumption: \u001b[1;36m6.12\u001b[0m bn\n",
       "kWh: \u001b[1;36m9\u001b[0m,\u001b[1;36m186.26\u001b[0m kWh: \u001b[1;36m12\u001b[0m,\u001b[1;36m325.52\u001b[0m kWh: Production: \u001b[1;36m762.93\u001b[0m m kWh: \u001b[1;36m1\u001b[0m,\u001b[1;36m144.81\u001b[0m kWh: \u001b[1;36m12\u001b[0m,\u001b[1;36m814.53\u001b[0m kWh: Import:\n",
       "\n",
       "|Luxembourg: Energy Country Profile - Our World in Data\u001b[1m]\u001b[0m\u001b[1m(\u001b[0m\u001b[4;94mhttps://ourworldindata.org/energy/country/luxembourg\u001b[0m\u001b[4;94m)\u001b[0m\n",
       "These figures reflect energy consumption - that is the sum of all energy uses including electricity, transport and \n",
       "heating. Many people assume energy and electricity to mean the same, but electricity is just one component of total\n",
       "energy consumption. We look at electricity consumption later in this profile.\n",
       "\n",
       "|Luxembourg Electricity consumption - data, chart - \n",
       "TheGlobalEconomy.com\u001b[1m]\u001b[0m\u001b[1m(\u001b[0m\u001b[4;94mhttps://www.theglobaleconomy.com/Luxembourg/electricity_consumption/\u001b[0m\u001b[4;94m)\u001b[0m\n",
       "Luxembourg: Electricity consumption, billion kilowatthours: The latest value from \u001b[1;36m2022\u001b[0m is \u001b[1;36m6.12\u001b[0m billion \n",
       "kilowatthours, a decline from \u001b[1;36m6.41\u001b[0m billion kilowatthours in \u001b[1;36m2021\u001b[0m. In comparison, the world average is \u001b[1;36m139.77\u001b[0m \n",
       "billion kilowatthours, based on data from \u001b[1;36m190\u001b[0m countries. Historically, the average for Luxembourg from \u001b[1;36m1980\u001b[0m to \u001b[1;36m2022\u001b[0m\n",
       "is \u001b[1;36m5.36\u001b[0m billion kilowatthours. The minimum value, \u001b[1;36m3.41\u001b[0m billion \u001b[33m...\u001b[0m\n",
       "\n",
       "|Luxembourg Energy Information - Enerdata\u001b[1m]\u001b[0m\u001b[1m(\u001b[0m\u001b[4;94mhttps://www.enerdata.net/estore/energy-market/luxembourg/\u001b[0m\u001b[4;94m)\u001b[0m\n",
       "\u001b[1;36m22\u001b[0m/\u001b[1;36m11\u001b[0m/\u001b[1;36m2023\u001b[0m - \u001b[1;36m9\u001b[0m European countries agree to tender \u001b[1;36m100\u001b[0m GW of offshore wind capacity by \u001b[1;36m2030\u001b[0m. \u001b[1;36m26\u001b[0m/\u001b[1;36m04\u001b[0m/\u001b[1;36m2023\u001b[0m - Nine North\n",
       "Sea countries aim to develop \u001b[1;36m300\u001b[0m GW of offshore wind by \u001b[1;36m2050\u001b[0m. \u001b[33m...\u001b[0m Luxembourg Total Energy Consumption. The \n",
       "country's consumption per capita decreased by \u001b[1;36m7\u001b[0m% to \u001b[1;36m4.5\u001b[0m toe in \u001b[1;36m2023\u001b[0m, of which electricity accounts for about \u001b[1;36m0.9\u001b[0m \n",
       "MWh, which \u001b[33m...\u001b[0m\n",
       "\n",
       "|Luxembourg Total Energy Consumption | Economic Indicators | \n",
       "CEIC\u001b[1m]\u001b[0m\u001b[1m(\u001b[0m\u001b[4;94mhttps://www.ceicdata.com/en/luxembourg/energy-production-and-consumption-annual/total-energy-consumption\u001b[0m\u001b[4;94m)\u001b[0m\n",
       "Luxembourg Total Energy Consumption data was reported at \u001b[1;36m0.153\u001b[0m BTU qn in Dec \u001b[1;36m2022\u001b[0m. This records a decrease from the\n",
       "previous number of \u001b[1;36m0.174\u001b[0m BTU qn for Dec \u001b[1;36m2021\u001b[0m. Luxembourg Total Energy Consumption data is updated yearly, averaging\n",
       "\u001b[1;36m0.160\u001b[0m BTU qn \u001b[1m(\u001b[0mMedian\u001b[1m)\u001b[0m from Dec \u001b[1;36m1980\u001b[0m to \u001b[1;36m2022\u001b[0m, with \u001b[1;36m43\u001b[0m observations. The data reached an all-time high of \u001b[1;36m0.203\u001b[0m BTU \n",
       "qn in \u001b[1;36m2005\u001b[0m and a record low of \u001b[1;36m0.117\u001b[0m BTU qn in \u001b[1;36m1983\u001b[0m.\n",
       "\n",
       "|Luxembourg - Electricity consumption \u001b[1;36m2022\u001b[0m - \n",
       "countryeconomy.com\u001b[1m]\u001b[0m\u001b[1m(\u001b[0m\u001b[4;94mhttps://countryeconomy.com/energy-and-environment/electricity-consumption/luxembourg\u001b[0m\u001b[4;94m)\u001b[0m\n",
       "Luxembourg - Electricity consumption. Subscribe to our free email alert service\n",
       "\n",
       "| ENERGY PROFILE Luxembourg - \n",
       "IRENA\u001b[1m]\u001b[0m\u001b[1m(\u001b[0m\u001b[4;94mhttps://www.irena.org/-/media/Files/IRENA/Agency/Statistics/Statistical_Profiles/Europe/Luxembourg_Europe_RE\u001b[0m\n",
       "\u001b[4;94m_SP.pdf\u001b[0m\u001b[4;94m)\u001b[0m\n",
       "Total \u001b[1m(\u001b[0m%\u001b[1m)\u001b[0m \u001b[1;36m-2.2\u001b[0m +\u001b[1;36m5.5\u001b[0m Primary energy trade \u001b[1;36m2016\u001b[0m \u001b[1;36m2021\u001b[0m Imports \u001b[1m(\u001b[0mTJ\u001b[1m)\u001b[0m \u001b[1;36m177\u001b[0m \u001b[1;36m986\u001b[0m \u001b[1;36m171\u001b[0m \u001b[1;36m288\u001b[0m Exports \u001b[1m(\u001b[0mTJ\u001b[1m)\u001b[0m \u001b[1;36m6\u001b[0m \u001b[1;36m660\u001b[0m \u001b[1;36m4\u001b[0m \u001b[1;36m662\u001b[0m Net trade \n",
       "\u001b[1m(\u001b[0mTJ\u001b[1m)\u001b[0m - \u001b[1;36m171\u001b[0m \u001b[1;36m326\u001b[0m - \u001b[1;36m166\u001b[0m \u001b[1;36m626\u001b[0m Imports \u001b[1m(\u001b[0m% of supply\u001b[1m)\u001b[0m \u001b[1;36m114\u001b[0m \u001b[1;36m112\u001b[0m Exports \u001b[1m(\u001b[0m% of production\u001b[1m)\u001b[0m \u001b[1;36m94\u001b[0m \u001b[1;36m36\u001b[0m Energy self-sufficiency \u001b[1m(\u001b[0m%\u001b[1m)\u001b[0m \n",
       "\u001b[1;36m5\u001b[0m \u001b[1;36m9\u001b[0m Luxembourg COUNTRY INDICATORS AND SDGS TOTAL ENERGY SUPPLY \u001b[1m(\u001b[0mTES\u001b[1m)\u001b[0m Total energy supply in \u001b[1;36m2021\u001b[0m Renewable energy \n",
       "\u001b[33m...\u001b[0m\n",
       "\n",
       "|Electric power consumption \u001b[1m(\u001b[0mkWh per capita\u001b[1m)\u001b[0m - \n",
       "Luxembourg\u001b[1m]\u001b[0m\u001b[1m(\u001b[0m\u001b[4;94mhttps://data.worldbank.org/indicator/EG.USE.ELEC.KH.PC?\u001b[0m\u001b[4;94mlocations\u001b[0m\u001b[4;94m=\u001b[0m\u001b[4;94mLU\u001b[0m\u001b[4;94m)\u001b[0m\n",
       "Electric power consumption \u001b[1m(\u001b[0mkWh per capita\u001b[1m)\u001b[0m - Luxembourg from The World Bank: Data. Free and open access to global \n",
       "development data. Data. This page in: English; Español; Français; \u001b[33m...\u001b[0m Fossil fuel energy consumption \u001b[1m(\u001b[0m% of total\u001b[1m)\u001b[0m \n",
       "Energy use \u001b[1m(\u001b[0mkg of oil equivalent\u001b[1m)\u001b[0m per $\u001b[1;36m1\u001b[0m,\u001b[1;36m000\u001b[0m GDP \u001b[1m(\u001b[0mconstant \u001b[1;36m2017\u001b[0m PPP\u001b[1m)\u001b[0m\n",
       "\n",
       "|Change in energy consumption of EU Member States between \u001b[1;36m2005\u001b[0m and \n",
       "\u001b[1;36m2023\u001b[0m\u001b[1m]\u001b[0m\u001b[1m(\u001b[0m\u001b[4;94mhttps://www.eea.europa.eu/en/analysis/indicators/primary-and-final-energy-consumption-1738331021/change-in-en\u001b[0m\n",
       "\u001b[4;94mergy-consumption\u001b[0m\u001b[4;94m)\u001b[0m\n",
       "The figure shows the change in energy consumption of EU Member States in \u001b[1;36m2023\u001b[0m compared to \u001b[1;36m2005\u001b[0m. \u001b[33m...\u001b[0m Luxembourg; \n",
       "Ireland; France; Slovakia; Czechia; Italy; Slovenia; Croatia; Greece; \u001b[33m...\u001b[0m \u001b[1m(\u001b[0mFEC\u001b[1m)\u001b[0m represents the energy used by final\n",
       "consumers. Primary energy consumption \u001b[1m(\u001b[0mPEC\u001b[1m)\u001b[0m represents the total energy demand within a country. Methodology. \n",
       "Values \u001b[33m...\u001b[0m\n"
      ]
     },
     "metadata": {},
     "output_type": "display_data"
    },
    {
     "data": {
      "text/html": [
       "<pre style=\"white-space:pre;overflow-x:auto;line-height:normal;font-family:Menlo,'DejaVu Sans Mono',consolas,'Courier New',monospace\"><span style=\"color: #7f7f7f; text-decoration-color: #7f7f7f\">[Step 3: Duration 7.26 seconds| Input tokens: 13,134 | Output tokens: 124]</span>\n",
       "</pre>\n"
      ],
      "text/plain": [
       "\u001b[2m[Step 3: Duration 7.26 seconds| Input tokens: 13,134 | Output tokens: 124]\u001b[0m\n"
      ]
     },
     "metadata": {},
     "output_type": "display_data"
    },
    {
     "data": {
      "text/html": [
       "<pre style=\"white-space:pre;overflow-x:auto;line-height:normal;font-family:Menlo,'DejaVu Sans Mono',consolas,'Courier New',monospace\"><span style=\"color: #d4b702; text-decoration-color: #d4b702\">━━━━━━━━━━━━━━━━━━━━━━━━━━━━━━━━━━━━━━━━━━━━━━━━━━━━━ </span><span style=\"font-weight: bold\">Step </span><span style=\"color: #008080; text-decoration-color: #008080; font-weight: bold\">5</span><span style=\"color: #d4b702; text-decoration-color: #d4b702\"> ━━━━━━━━━━━━━━━━━━━━━━━━━━━━━━━━━━━━━━━━━━━━━━━━━━━━━━</span>\n",
       "</pre>\n"
      ],
      "text/plain": [
       "\u001b[38;2;212;183;2m━━━━━━━━━━━━━━━━━━━━━━━━━━━━━━━━━━━━━━━━━━━━━━━━━━━━━ \u001b[0m\u001b[1mStep \u001b[0m\u001b[1;36m5\u001b[0m\u001b[38;2;212;183;2m ━━━━━━━━━━━━━━━━━━━━━━━━━━━━━━━━━━━━━━━━━━━━━━━━━━━━━━\u001b[0m\n"
      ]
     },
     "metadata": {},
     "output_type": "display_data"
    },
    {
     "data": {
      "text/html": [
       "<pre style=\"white-space:pre;overflow-x:auto;line-height:normal;font-family:Menlo,'DejaVu Sans Mono',consolas,'Courier New',monospace\">╭─────────────────────────────────────────────────────────────────────────────────────────────────────────────────╮\n",
       "│ Calling tool: 'final_answer' with arguments: {'answer': \"### 1. Task outcome (short version):\\\\n- The current   │\n",
       "│ estimates for energy consumption of large LLM training runs vary, with GPT-3 consuming around 1, 287, 000 kWh   │\n",
       "│ and LLaMA 3 consuming approximately 500, 000 kWh.\\\\n- Trends project increased energy consumption for LLM       │\n",
       "│ training due to larger models and input data volumes, but advancements in energy efficiency are expected to     │\n",
       "│ mitigate this.\\\\n- Electricity consumption (in GW) for comparison: Ireland consumed around 3. 5 GW, Luxembourg  │\n",
       "│ approximately 0. 6 GW, and Singapore about 9. 9 GW.\\\\n### 2. Task outcome (extremely detailed version):\\\\n####  │\n",
       "│ Energy Consumption of Large LLM Training Runs:\\\\n- **GPT-3 (OpenAI)**: Analogous to the energy consumption of a │\n",
       "│ small city,训练 GPT-3 has been estimated to require around **1, 287, 000 kWh** of electricity. This energy      │\n",
       "│ consumption can be compared to a seven-hour flight of a large airliner.\\\\n- **LLaMA 3 (Meta)**: Estimated at    │\n",
       "│ **500, 000 kWh** of energy, which places it within a similar but slightly lower range than GPT-3's energy       │\n",
       "│ footprint. This is notable as it signifies that advancements in model design can lead to more energy-efficient  │\n",
       "│ training.\\\\n- **Cost and Estimates:** Other studies provide various estimates of energy costs, ranging from     │\n",
       "│ hundreds of kilowatt-hours for smaller models to several million kWh for expansive models. The cost and energy  │\n",
       "│ consumption are intricately tied to the volume of data processed and the computational resources necessitated   │\n",
       "│ for training.\\\\n#### Trends and Projections for LLM Training Energy Consumption by 2030:\\\\n- **Current          │\n",
       "│ Projections:** As of the data up to 2023, the projection points towards significant growth in the energy        │\n",
       "│ consumption associated with training and deploying large language models (LLMs). The trend has been toward      │\n",
       "│ larger, more complex models that require exponentially more computational resources and, consequently, more     │\n",
       "│ energy.\\\\n- **Future Considerations:** Future advancements in algorithmic efficiency, hardware improvements,    │\n",
       "│ and distributed data center operations are expected to reduce this growth. Innovations such as improved         │\n",
       "│ inference techniques and the potential for more energy-efficient GPUs are forecasted to play pivotal roles.     │\n",
       "│ However, there is a cautionary note that continual growth in model complexity could still lead to increased     │\n",
       "│ energy demands.\\\\n- **Policy and Mitigation:** Governments and private sectors are increasingly focusing on     │\n",
       "│ sustainable practices within data centers and AI development. Initiatives to enhance energy efficiency, embrace │\n",
       "│ renewable energy sources, and optimize resource usage are being pursued to manage and reduce the environmental  │\n",
       "│ impact of LLMs.\\\\n#### Total Electricity Consumption (in GW) for Comparison:\\\\n- **Ireland:** The total         │\n",
       "│ electricity consumption for Ireland in 2023 stood at **34. 51 billion kWh**, which translates to approximately  │\n",
       "│ **3. 5 GW** on an average basis over the year.\\\\n- **Luxembourg:** With a total annual electricity production   │\n",
       "│ of 762. 93 million kWh and imports around 5, 357. 1 million kWh in 2023, Luxembourg's total electricity         │\n",
       "│ consumption averaged around **0. 6 GW**.\\\\n- **Singapore:** In 2023, Singapore's total energy consumption       │\n",
       "│ climbed to **57. 40 billion kWh**, equivalent to around **9. 9 GW** on an annual average. This highlights the   │\n",
       "│ significant differences in energy usage across countries, driven by varying population sizes, industry sectors, │\n",
       "│ and development levels.\\\\n### 3. Additional context (if relevant):\\\\n- **Data Center Efficiency:** Advanced     │\n",
       "│ cooling technologies, sophisticated power management systems, and other innovations in data center              │\n",
       "│ infrastructure are pivotal in reducing the energy footprint of LLM training. Google's data centers, for         │\n",
       "│ example, leverage advanced cooling technologies to achieve a Power Usage Effectiveness (PUE) ratio of 1. 12,    │\n",
       "│ where only 12% of the energy is used for cooling.\\\\n- **Carbon Footprint:** The carbon footprint of large LLMs  │\n",
       "│ is a significant area of concern. Estimations of the carbon emissions associated with training these models can │\n",
       "│ vary widely, with more emphasis being placed on minimizing environmental impact through sustainable             │\n",
       "│ practices.\\\\n- **Technological Innovations:** Ongoing research focuses on developing more efficient training    │\n",
       "│ methodologies, lightweight models, and advanced hardware architectures that can reduce both computational       │\n",
       "│ resources and energy consumption. Innovations in hardware such as specialized accelerators and farms of         │\n",
       "│ energy-efficient GPUs are expected to play a crucial role in making LLM training more sustainable.\"}            │\n",
       "╰─────────────────────────────────────────────────────────────────────────────────────────────────────────────────╯\n",
       "</pre>\n"
      ],
      "text/plain": [
       "╭─────────────────────────────────────────────────────────────────────────────────────────────────────────────────╮\n",
       "│ Calling tool: 'final_answer' with arguments: {'answer': \"### 1. Task outcome (short version):\\\\n- The current   │\n",
       "│ estimates for energy consumption of large LLM training runs vary, with GPT-3 consuming around 1, 287, 000 kWh   │\n",
       "│ and LLaMA 3 consuming approximately 500, 000 kWh.\\\\n- Trends project increased energy consumption for LLM       │\n",
       "│ training due to larger models and input data volumes, but advancements in energy efficiency are expected to     │\n",
       "│ mitigate this.\\\\n- Electricity consumption (in GW) for comparison: Ireland consumed around 3. 5 GW, Luxembourg  │\n",
       "│ approximately 0. 6 GW, and Singapore about 9. 9 GW.\\\\n### 2. Task outcome (extremely detailed version):\\\\n####  │\n",
       "│ Energy Consumption of Large LLM Training Runs:\\\\n- **GPT-3 (OpenAI)**: Analogous to the energy consumption of a │\n",
       "│ small city,训练 GPT-3 has been estimated to require around **1, 287, 000 kWh** of electricity. This energy      │\n",
       "│ consumption can be compared to a seven-hour flight of a large airliner.\\\\n- **LLaMA 3 (Meta)**: Estimated at    │\n",
       "│ **500, 000 kWh** of energy, which places it within a similar but slightly lower range than GPT-3's energy       │\n",
       "│ footprint. This is notable as it signifies that advancements in model design can lead to more energy-efficient  │\n",
       "│ training.\\\\n- **Cost and Estimates:** Other studies provide various estimates of energy costs, ranging from     │\n",
       "│ hundreds of kilowatt-hours for smaller models to several million kWh for expansive models. The cost and energy  │\n",
       "│ consumption are intricately tied to the volume of data processed and the computational resources necessitated   │\n",
       "│ for training.\\\\n#### Trends and Projections for LLM Training Energy Consumption by 2030:\\\\n- **Current          │\n",
       "│ Projections:** As of the data up to 2023, the projection points towards significant growth in the energy        │\n",
       "│ consumption associated with training and deploying large language models (LLMs). The trend has been toward      │\n",
       "│ larger, more complex models that require exponentially more computational resources and, consequently, more     │\n",
       "│ energy.\\\\n- **Future Considerations:** Future advancements in algorithmic efficiency, hardware improvements,    │\n",
       "│ and distributed data center operations are expected to reduce this growth. Innovations such as improved         │\n",
       "│ inference techniques and the potential for more energy-efficient GPUs are forecasted to play pivotal roles.     │\n",
       "│ However, there is a cautionary note that continual growth in model complexity could still lead to increased     │\n",
       "│ energy demands.\\\\n- **Policy and Mitigation:** Governments and private sectors are increasingly focusing on     │\n",
       "│ sustainable practices within data centers and AI development. Initiatives to enhance energy efficiency, embrace │\n",
       "│ renewable energy sources, and optimize resource usage are being pursued to manage and reduce the environmental  │\n",
       "│ impact of LLMs.\\\\n#### Total Electricity Consumption (in GW) for Comparison:\\\\n- **Ireland:** The total         │\n",
       "│ electricity consumption for Ireland in 2023 stood at **34. 51 billion kWh**, which translates to approximately  │\n",
       "│ **3. 5 GW** on an average basis over the year.\\\\n- **Luxembourg:** With a total annual electricity production   │\n",
       "│ of 762. 93 million kWh and imports around 5, 357. 1 million kWh in 2023, Luxembourg's total electricity         │\n",
       "│ consumption averaged around **0. 6 GW**.\\\\n- **Singapore:** In 2023, Singapore's total energy consumption       │\n",
       "│ climbed to **57. 40 billion kWh**, equivalent to around **9. 9 GW** on an annual average. This highlights the   │\n",
       "│ significant differences in energy usage across countries, driven by varying population sizes, industry sectors, │\n",
       "│ and development levels.\\\\n### 3. Additional context (if relevant):\\\\n- **Data Center Efficiency:** Advanced     │\n",
       "│ cooling technologies, sophisticated power management systems, and other innovations in data center              │\n",
       "│ infrastructure are pivotal in reducing the energy footprint of LLM training. Google's data centers, for         │\n",
       "│ example, leverage advanced cooling technologies to achieve a Power Usage Effectiveness (PUE) ratio of 1. 12,    │\n",
       "│ where only 12% of the energy is used for cooling.\\\\n- **Carbon Footprint:** The carbon footprint of large LLMs  │\n",
       "│ is a significant area of concern. Estimations of the carbon emissions associated with training these models can │\n",
       "│ vary widely, with more emphasis being placed on minimizing environmental impact through sustainable             │\n",
       "│ practices.\\\\n- **Technological Innovations:** Ongoing research focuses on developing more efficient training    │\n",
       "│ methodologies, lightweight models, and advanced hardware architectures that can reduce both computational       │\n",
       "│ resources and energy consumption. Innovations in hardware such as specialized accelerators and farms of         │\n",
       "│ energy-efficient GPUs are expected to play a crucial role in making LLM training more sustainable.\"}            │\n",
       "╰─────────────────────────────────────────────────────────────────────────────────────────────────────────────────╯\n"
      ]
     },
     "metadata": {},
     "output_type": "display_data"
    },
    {
     "data": {
      "text/html": [
       "<pre style=\"white-space:pre;overflow-x:auto;line-height:normal;font-family:Menlo,'DejaVu Sans Mono',consolas,'Courier New',monospace\"><span style=\"color: #d4b702; text-decoration-color: #d4b702; font-weight: bold\">Final answer: ### 1. Task outcome (short version):\\n- The current estimates for energy consumption of large LLM </span>\n",
       "<span style=\"color: #d4b702; text-decoration-color: #d4b702; font-weight: bold\">training runs vary, with GPT-3 consuming around 1, 287, 000 kWh and LLaMA 3 consuming approximately 500, 000 </span>\n",
       "<span style=\"color: #d4b702; text-decoration-color: #d4b702; font-weight: bold\">kWh.\\n- Trends project increased energy consumption for LLM training due to larger models and input data volumes, </span>\n",
       "<span style=\"color: #d4b702; text-decoration-color: #d4b702; font-weight: bold\">but advancements in energy efficiency are expected to mitigate this.\\n- Electricity consumption (in GW) for </span>\n",
       "<span style=\"color: #d4b702; text-decoration-color: #d4b702; font-weight: bold\">comparison: Ireland consumed around 3. 5 GW, Luxembourg approximately 0. 6 GW, and Singapore about 9. 9 GW.\\n### 2.</span>\n",
       "<span style=\"color: #d4b702; text-decoration-color: #d4b702; font-weight: bold\">Task outcome (extremely detailed version):\\n#### Energy Consumption of Large LLM Training Runs:\\n- **GPT-3 </span>\n",
       "<span style=\"color: #d4b702; text-decoration-color: #d4b702; font-weight: bold\">(OpenAI)**: Analogous to the energy consumption of a small city,训练 GPT-3 has been estimated to require around </span>\n",
       "<span style=\"color: #d4b702; text-decoration-color: #d4b702; font-weight: bold\">**1, 287, 000 kWh** of electricity. This energy consumption can be compared to a seven-hour flight of a large </span>\n",
       "<span style=\"color: #d4b702; text-decoration-color: #d4b702; font-weight: bold\">airliner.\\n- **LLaMA 3 (Meta)**: Estimated at **500, 000 kWh** of energy, which places it within a similar but </span>\n",
       "<span style=\"color: #d4b702; text-decoration-color: #d4b702; font-weight: bold\">slightly lower range than GPT-3's energy footprint. This is notable as it signifies that advancements in model </span>\n",
       "<span style=\"color: #d4b702; text-decoration-color: #d4b702; font-weight: bold\">design can lead to more energy-efficient training.\\n- **Cost and Estimates:** Other studies provide various </span>\n",
       "<span style=\"color: #d4b702; text-decoration-color: #d4b702; font-weight: bold\">estimates of energy costs, ranging from hundreds of kilowatt-hours for smaller models to several million kWh for </span>\n",
       "<span style=\"color: #d4b702; text-decoration-color: #d4b702; font-weight: bold\">expansive models. The cost and energy consumption are intricately tied to the volume of data processed and the </span>\n",
       "<span style=\"color: #d4b702; text-decoration-color: #d4b702; font-weight: bold\">computational resources necessitated for training.\\n#### Trends and Projections for LLM Training Energy Consumption</span>\n",
       "<span style=\"color: #d4b702; text-decoration-color: #d4b702; font-weight: bold\">by 2030:\\n- **Current Projections:** As of the data up to 2023, the projection points towards significant growth in</span>\n",
       "<span style=\"color: #d4b702; text-decoration-color: #d4b702; font-weight: bold\">the energy consumption associated with training and deploying large language models (LLMs). The trend has been </span>\n",
       "<span style=\"color: #d4b702; text-decoration-color: #d4b702; font-weight: bold\">toward larger, more complex models that require exponentially more computational resources and, consequently, more </span>\n",
       "<span style=\"color: #d4b702; text-decoration-color: #d4b702; font-weight: bold\">energy.\\n- **Future Considerations:** Future advancements in algorithmic efficiency, hardware improvements, and </span>\n",
       "<span style=\"color: #d4b702; text-decoration-color: #d4b702; font-weight: bold\">distributed data center operations are expected to reduce this growth. Innovations such as improved inference </span>\n",
       "<span style=\"color: #d4b702; text-decoration-color: #d4b702; font-weight: bold\">techniques and the potential for more energy-efficient GPUs are forecasted to play pivotal roles. However, there is</span>\n",
       "<span style=\"color: #d4b702; text-decoration-color: #d4b702; font-weight: bold\">a cautionary note that continual growth in model complexity could still lead to increased energy demands.\\n- </span>\n",
       "<span style=\"color: #d4b702; text-decoration-color: #d4b702; font-weight: bold\">**Policy and Mitigation:** Governments and private sectors are increasingly focusing on sustainable practices </span>\n",
       "<span style=\"color: #d4b702; text-decoration-color: #d4b702; font-weight: bold\">within data centers and AI development. Initiatives to enhance energy efficiency, embrace renewable energy sources,</span>\n",
       "<span style=\"color: #d4b702; text-decoration-color: #d4b702; font-weight: bold\">and optimize resource usage are being pursued to manage and reduce the environmental impact of LLMs.\\n#### Total </span>\n",
       "<span style=\"color: #d4b702; text-decoration-color: #d4b702; font-weight: bold\">Electricity Consumption (in GW) for Comparison:\\n- **Ireland:** The total electricity consumption for Ireland in </span>\n",
       "<span style=\"color: #d4b702; text-decoration-color: #d4b702; font-weight: bold\">2023 stood at **34. 51 billion kWh**, which translates to approximately **3. 5 GW** on an average basis over the </span>\n",
       "<span style=\"color: #d4b702; text-decoration-color: #d4b702; font-weight: bold\">year.\\n- **Luxembourg:** With a total annual electricity production of 762. 93 million kWh and imports around 5, </span>\n",
       "<span style=\"color: #d4b702; text-decoration-color: #d4b702; font-weight: bold\">357. 1 million kWh in 2023, Luxembourg's total electricity consumption averaged around **0. 6 GW**.\\n- </span>\n",
       "<span style=\"color: #d4b702; text-decoration-color: #d4b702; font-weight: bold\">**Singapore:** In 2023, Singapore's total energy consumption climbed to **57. 40 billion kWh**, equivalent to </span>\n",
       "<span style=\"color: #d4b702; text-decoration-color: #d4b702; font-weight: bold\">around **9. 9 GW** on an annual average. This highlights the significant differences in energy usage across </span>\n",
       "<span style=\"color: #d4b702; text-decoration-color: #d4b702; font-weight: bold\">countries, driven by varying population sizes, industry sectors, and development levels.\\n### 3. Additional context</span>\n",
       "<span style=\"color: #d4b702; text-decoration-color: #d4b702; font-weight: bold\">(if relevant):\\n- **Data Center Efficiency:** Advanced cooling technologies, sophisticated power management </span>\n",
       "<span style=\"color: #d4b702; text-decoration-color: #d4b702; font-weight: bold\">systems, and other innovations in data center infrastructure are pivotal in reducing the energy footprint of LLM </span>\n",
       "<span style=\"color: #d4b702; text-decoration-color: #d4b702; font-weight: bold\">training. Google's data centers, for example, leverage advanced cooling technologies to achieve a Power Usage </span>\n",
       "<span style=\"color: #d4b702; text-decoration-color: #d4b702; font-weight: bold\">Effectiveness (PUE) ratio of 1. 12, where only 12% of the energy is used for cooling.\\n- **Carbon Footprint:** The </span>\n",
       "<span style=\"color: #d4b702; text-decoration-color: #d4b702; font-weight: bold\">carbon footprint of large LLMs is a significant area of concern. Estimations of the carbon emissions associated </span>\n",
       "<span style=\"color: #d4b702; text-decoration-color: #d4b702; font-weight: bold\">with training these models can vary widely, with more emphasis being placed on minimizing environmental impact </span>\n",
       "<span style=\"color: #d4b702; text-decoration-color: #d4b702; font-weight: bold\">through sustainable practices.\\n- **Technological Innovations:** Ongoing research focuses on developing more </span>\n",
       "<span style=\"color: #d4b702; text-decoration-color: #d4b702; font-weight: bold\">efficient training methodologies, lightweight models, and advanced hardware architectures that can reduce both </span>\n",
       "<span style=\"color: #d4b702; text-decoration-color: #d4b702; font-weight: bold\">computational resources and energy consumption. Innovations in hardware such as specialized accelerators and farms </span>\n",
       "<span style=\"color: #d4b702; text-decoration-color: #d4b702; font-weight: bold\">of energy-efficient GPUs are expected to play a crucial role in making LLM training more sustainable.</span>\n",
       "</pre>\n"
      ],
      "text/plain": [
       "\u001b[1;38;2;212;183;2mFinal answer: ### 1. Task outcome (short version):\\n- The current estimates for energy consumption of large LLM \u001b[0m\n",
       "\u001b[1;38;2;212;183;2mtraining runs vary, with GPT-3 consuming around 1, 287, 000 kWh and LLaMA 3 consuming approximately 500, 000 \u001b[0m\n",
       "\u001b[1;38;2;212;183;2mkWh.\\n- Trends project increased energy consumption for LLM training due to larger models and input data volumes, \u001b[0m\n",
       "\u001b[1;38;2;212;183;2mbut advancements in energy efficiency are expected to mitigate this.\\n- Electricity consumption (in GW) for \u001b[0m\n",
       "\u001b[1;38;2;212;183;2mcomparison: Ireland consumed around 3. 5 GW, Luxembourg approximately 0. 6 GW, and Singapore about 9. 9 GW.\\n### 2.\u001b[0m\n",
       "\u001b[1;38;2;212;183;2mTask outcome (extremely detailed version):\\n#### Energy Consumption of Large LLM Training Runs:\\n- **GPT-3 \u001b[0m\n",
       "\u001b[1;38;2;212;183;2m(OpenAI)**: Analogous to the energy consumption of a small city,训练 GPT-3 has been estimated to require around \u001b[0m\n",
       "\u001b[1;38;2;212;183;2m**1, 287, 000 kWh** of electricity. This energy consumption can be compared to a seven-hour flight of a large \u001b[0m\n",
       "\u001b[1;38;2;212;183;2mairliner.\\n- **LLaMA 3 (Meta)**: Estimated at **500, 000 kWh** of energy, which places it within a similar but \u001b[0m\n",
       "\u001b[1;38;2;212;183;2mslightly lower range than GPT-3's energy footprint. This is notable as it signifies that advancements in model \u001b[0m\n",
       "\u001b[1;38;2;212;183;2mdesign can lead to more energy-efficient training.\\n- **Cost and Estimates:** Other studies provide various \u001b[0m\n",
       "\u001b[1;38;2;212;183;2mestimates of energy costs, ranging from hundreds of kilowatt-hours for smaller models to several million kWh for \u001b[0m\n",
       "\u001b[1;38;2;212;183;2mexpansive models. The cost and energy consumption are intricately tied to the volume of data processed and the \u001b[0m\n",
       "\u001b[1;38;2;212;183;2mcomputational resources necessitated for training.\\n#### Trends and Projections for LLM Training Energy Consumption\u001b[0m\n",
       "\u001b[1;38;2;212;183;2mby 2030:\\n- **Current Projections:** As of the data up to 2023, the projection points towards significant growth in\u001b[0m\n",
       "\u001b[1;38;2;212;183;2mthe energy consumption associated with training and deploying large language models (LLMs). The trend has been \u001b[0m\n",
       "\u001b[1;38;2;212;183;2mtoward larger, more complex models that require exponentially more computational resources and, consequently, more \u001b[0m\n",
       "\u001b[1;38;2;212;183;2menergy.\\n- **Future Considerations:** Future advancements in algorithmic efficiency, hardware improvements, and \u001b[0m\n",
       "\u001b[1;38;2;212;183;2mdistributed data center operations are expected to reduce this growth. Innovations such as improved inference \u001b[0m\n",
       "\u001b[1;38;2;212;183;2mtechniques and the potential for more energy-efficient GPUs are forecasted to play pivotal roles. However, there is\u001b[0m\n",
       "\u001b[1;38;2;212;183;2ma cautionary note that continual growth in model complexity could still lead to increased energy demands.\\n- \u001b[0m\n",
       "\u001b[1;38;2;212;183;2m**Policy and Mitigation:** Governments and private sectors are increasingly focusing on sustainable practices \u001b[0m\n",
       "\u001b[1;38;2;212;183;2mwithin data centers and AI development. Initiatives to enhance energy efficiency, embrace renewable energy sources,\u001b[0m\n",
       "\u001b[1;38;2;212;183;2mand optimize resource usage are being pursued to manage and reduce the environmental impact of LLMs.\\n#### Total \u001b[0m\n",
       "\u001b[1;38;2;212;183;2mElectricity Consumption (in GW) for Comparison:\\n- **Ireland:** The total electricity consumption for Ireland in \u001b[0m\n",
       "\u001b[1;38;2;212;183;2m2023 stood at **34. 51 billion kWh**, which translates to approximately **3. 5 GW** on an average basis over the \u001b[0m\n",
       "\u001b[1;38;2;212;183;2myear.\\n- **Luxembourg:** With a total annual electricity production of 762. 93 million kWh and imports around 5, \u001b[0m\n",
       "\u001b[1;38;2;212;183;2m357. 1 million kWh in 2023, Luxembourg's total electricity consumption averaged around **0. 6 GW**.\\n- \u001b[0m\n",
       "\u001b[1;38;2;212;183;2m**Singapore:** In 2023, Singapore's total energy consumption climbed to **57. 40 billion kWh**, equivalent to \u001b[0m\n",
       "\u001b[1;38;2;212;183;2maround **9. 9 GW** on an annual average. This highlights the significant differences in energy usage across \u001b[0m\n",
       "\u001b[1;38;2;212;183;2mcountries, driven by varying population sizes, industry sectors, and development levels.\\n### 3. Additional context\u001b[0m\n",
       "\u001b[1;38;2;212;183;2m(if relevant):\\n- **Data Center Efficiency:** Advanced cooling technologies, sophisticated power management \u001b[0m\n",
       "\u001b[1;38;2;212;183;2msystems, and other innovations in data center infrastructure are pivotal in reducing the energy footprint of LLM \u001b[0m\n",
       "\u001b[1;38;2;212;183;2mtraining. Google's data centers, for example, leverage advanced cooling technologies to achieve a Power Usage \u001b[0m\n",
       "\u001b[1;38;2;212;183;2mEffectiveness (PUE) ratio of 1. 12, where only 12% of the energy is used for cooling.\\n- **Carbon Footprint:** The \u001b[0m\n",
       "\u001b[1;38;2;212;183;2mcarbon footprint of large LLMs is a significant area of concern. Estimations of the carbon emissions associated \u001b[0m\n",
       "\u001b[1;38;2;212;183;2mwith training these models can vary widely, with more emphasis being placed on minimizing environmental impact \u001b[0m\n",
       "\u001b[1;38;2;212;183;2mthrough sustainable practices.\\n- **Technological Innovations:** Ongoing research focuses on developing more \u001b[0m\n",
       "\u001b[1;38;2;212;183;2mefficient training methodologies, lightweight models, and advanced hardware architectures that can reduce both \u001b[0m\n",
       "\u001b[1;38;2;212;183;2mcomputational resources and energy consumption. Innovations in hardware such as specialized accelerators and farms \u001b[0m\n",
       "\u001b[1;38;2;212;183;2mof energy-efficient GPUs are expected to play a crucial role in making LLM training more sustainable.\u001b[0m\n"
      ]
     },
     "metadata": {},
     "output_type": "display_data"
    },
    {
     "data": {
      "text/html": [
       "<pre style=\"white-space:pre;overflow-x:auto;line-height:normal;font-family:Menlo,'DejaVu Sans Mono',consolas,'Courier New',monospace\"><span style=\"color: #7f7f7f; text-decoration-color: #7f7f7f\">[Step 4: Duration 50.18 seconds| Input tokens: 19,583 | Output tokens: 1,113]</span>\n",
       "</pre>\n"
      ],
      "text/plain": [
       "\u001b[2m[Step 4: Duration 50.18 seconds| Input tokens: 19,583 | Output tokens: 1,113]\u001b[0m\n"
      ]
     },
     "metadata": {},
     "output_type": "display_data"
    },
    {
     "data": {
      "text/html": [
       "<pre style=\"white-space:pre;overflow-x:auto;line-height:normal;font-family:Menlo,'DejaVu Sans Mono',consolas,'Courier New',monospace\"><span style=\"font-weight: bold\">Execution logs:</span>\n",
       "Here is the final answer from your managed agent 'search':\n",
       "### 1. Task outcome (short version):\\n- The current estimates for energy consumption of large LLM training runs \n",
       "vary, with GPT-3 consuming around 1, 287, 000 kWh and LLaMA 3 consuming approximately 500, 000 kWh.\\n- Trends \n",
       "project increased energy consumption for LLM training due to larger models and input data volumes, but advancements\n",
       "in energy efficiency are expected to mitigate this.\\n- Electricity consumption (in GW) for comparison: Ireland \n",
       "consumed around 3. 5 GW, Luxembourg approximately 0. 6 GW, and Singapore about 9. 9 GW.\\n### 2. Task outcome \n",
       "(extremely detailed version):\\n#### Energy Consumption of Large LLM Training Runs:\\n- **GPT-3 (OpenAI)**: Analogous\n",
       "to the energy consumption of a small city,训练 GPT-3 has been estimated to require around **1, 287, 000 kWh** of \n",
       "electricity. This energy consumption can be compared to a seven-hour flight of a large airliner.\\n- **LLaMA 3 \n",
       "(Meta)**: Estimated at **500, 000 kWh** of energy, which places it within a similar but slightly lower range than \n",
       "GPT-3's energy footprint. This is notable as it signifies that advancements in model design can lead to more \n",
       "energy-efficient training.\\n- **Cost and Estimates:** Other studies provide various estimates of energy costs, \n",
       "ranging from hundreds of kilowatt-hours for smaller models to several million kWh for expansive models. The cost \n",
       "and energy consumption are intricately tied to the volume of data processed and the computational resources \n",
       "necessitated for training.\\n#### Trends and Projections for LLM Training Energy Consumption by 2030:\\n- **Current \n",
       "Projections:** As of the data up to 2023, the projection points towards significant growth in the energy \n",
       "consumption associated with training and deploying large language models (LLMs). The trend has been toward larger, \n",
       "more complex models that require exponentially more computational resources and, consequently, more energy.\\n- \n",
       "**Future Considerations:** Future advancements in algorithmic efficiency, hardware improvements, and distributed \n",
       "data center operations are expected to reduce this growth. Innovations such as improved inference techniques and \n",
       "the potential for more energy-efficient GPUs are forecasted to play pivotal roles. However, there is a cautionary \n",
       "note that continual growth in model complexity could still lead to increased energy demands.\\n- **Policy and \n",
       "Mitigation:** Governments and private sectors are increasingly focusing on sustainable practices within data \n",
       "centers and AI development. Initiatives to enhance energy efficiency, embrace renewable energy sources, and \n",
       "optimize resource usage are being pursued to manage and reduce the environmental impact of LLMs.\\n#### Total \n",
       "Electricity Consumption (in GW) for Comparison:\\n- **Ireland:** The total electricity consumption for Ireland in \n",
       "2023 stood at **34. 51 billion kWh**, which translates to approximately **3. 5 GW** on an average basis over the \n",
       "year.\\n- **Luxembourg:** With a total annual electricity production of 762. 93 million kWh and imports around 5, \n",
       "357. 1 million kWh in 2023, Luxembourg's total electricity consumption averaged around **0. 6 GW**.\\n- \n",
       "**Singapore:** In 2023, Singapore's total energy consumption climbed to **57. 40 billion kWh**, equivalent to \n",
       "around **9. 9 GW** on an annual average. This highlights the significant differences in energy usage across \n",
       "countries, driven by varying population sizes, industry sectors, and development levels.\\n### 3. Additional context\n",
       "(if relevant):\\n- **Data Center Efficiency:** Advanced cooling technologies, sophisticated power management \n",
       "systems, and other innovations in data center infrastructure are pivotal in reducing the energy footprint of LLM \n",
       "training. Google's data centers, for example, leverage advanced cooling technologies to achieve a Power Usage \n",
       "Effectiveness (PUE) ratio of 1. 12, where only 12% of the energy is used for cooling.\\n- **Carbon Footprint:** The \n",
       "carbon footprint of large LLMs is a significant area of concern. Estimations of the carbon emissions associated \n",
       "with training these models can vary widely, with more emphasis being placed on minimizing environmental impact \n",
       "through sustainable practices.\\n- **Technological Innovations:** Ongoing research focuses on developing more \n",
       "efficient training methodologies, lightweight models, and advanced hardware architectures that can reduce both \n",
       "computational resources and energy consumption. Innovations in hardware such as specialized accelerators and farms \n",
       "of energy-efficient GPUs are expected to play a crucial role in making LLM training more sustainable.\n",
       "\n",
       "Out: None\n",
       "</pre>\n"
      ],
      "text/plain": [
       "\u001b[1mExecution logs:\u001b[0m\n",
       "Here is the final answer from your managed agent 'search':\n",
       "### 1. Task outcome (short version):\\n- The current estimates for energy consumption of large LLM training runs \n",
       "vary, with GPT-3 consuming around 1, 287, 000 kWh and LLaMA 3 consuming approximately 500, 000 kWh.\\n- Trends \n",
       "project increased energy consumption for LLM training due to larger models and input data volumes, but advancements\n",
       "in energy efficiency are expected to mitigate this.\\n- Electricity consumption (in GW) for comparison: Ireland \n",
       "consumed around 3. 5 GW, Luxembourg approximately 0. 6 GW, and Singapore about 9. 9 GW.\\n### 2. Task outcome \n",
       "(extremely detailed version):\\n#### Energy Consumption of Large LLM Training Runs:\\n- **GPT-3 (OpenAI)**: Analogous\n",
       "to the energy consumption of a small city,训练 GPT-3 has been estimated to require around **1, 287, 000 kWh** of \n",
       "electricity. This energy consumption can be compared to a seven-hour flight of a large airliner.\\n- **LLaMA 3 \n",
       "(Meta)**: Estimated at **500, 000 kWh** of energy, which places it within a similar but slightly lower range than \n",
       "GPT-3's energy footprint. This is notable as it signifies that advancements in model design can lead to more \n",
       "energy-efficient training.\\n- **Cost and Estimates:** Other studies provide various estimates of energy costs, \n",
       "ranging from hundreds of kilowatt-hours for smaller models to several million kWh for expansive models. The cost \n",
       "and energy consumption are intricately tied to the volume of data processed and the computational resources \n",
       "necessitated for training.\\n#### Trends and Projections for LLM Training Energy Consumption by 2030:\\n- **Current \n",
       "Projections:** As of the data up to 2023, the projection points towards significant growth in the energy \n",
       "consumption associated with training and deploying large language models (LLMs). The trend has been toward larger, \n",
       "more complex models that require exponentially more computational resources and, consequently, more energy.\\n- \n",
       "**Future Considerations:** Future advancements in algorithmic efficiency, hardware improvements, and distributed \n",
       "data center operations are expected to reduce this growth. Innovations such as improved inference techniques and \n",
       "the potential for more energy-efficient GPUs are forecasted to play pivotal roles. However, there is a cautionary \n",
       "note that continual growth in model complexity could still lead to increased energy demands.\\n- **Policy and \n",
       "Mitigation:** Governments and private sectors are increasingly focusing on sustainable practices within data \n",
       "centers and AI development. Initiatives to enhance energy efficiency, embrace renewable energy sources, and \n",
       "optimize resource usage are being pursued to manage and reduce the environmental impact of LLMs.\\n#### Total \n",
       "Electricity Consumption (in GW) for Comparison:\\n- **Ireland:** The total electricity consumption for Ireland in \n",
       "2023 stood at **34. 51 billion kWh**, which translates to approximately **3. 5 GW** on an average basis over the \n",
       "year.\\n- **Luxembourg:** With a total annual electricity production of 762. 93 million kWh and imports around 5, \n",
       "357. 1 million kWh in 2023, Luxembourg's total electricity consumption averaged around **0. 6 GW**.\\n- \n",
       "**Singapore:** In 2023, Singapore's total energy consumption climbed to **57. 40 billion kWh**, equivalent to \n",
       "around **9. 9 GW** on an annual average. This highlights the significant differences in energy usage across \n",
       "countries, driven by varying population sizes, industry sectors, and development levels.\\n### 3. Additional context\n",
       "(if relevant):\\n- **Data Center Efficiency:** Advanced cooling technologies, sophisticated power management \n",
       "systems, and other innovations in data center infrastructure are pivotal in reducing the energy footprint of LLM \n",
       "training. Google's data centers, for example, leverage advanced cooling technologies to achieve a Power Usage \n",
       "Effectiveness (PUE) ratio of 1. 12, where only 12% of the energy is used for cooling.\\n- **Carbon Footprint:** The \n",
       "carbon footprint of large LLMs is a significant area of concern. Estimations of the carbon emissions associated \n",
       "with training these models can vary widely, with more emphasis being placed on minimizing environmental impact \n",
       "through sustainable practices.\\n- **Technological Innovations:** Ongoing research focuses on developing more \n",
       "efficient training methodologies, lightweight models, and advanced hardware architectures that can reduce both \n",
       "computational resources and energy consumption. Innovations in hardware such as specialized accelerators and farms \n",
       "of energy-efficient GPUs are expected to play a crucial role in making LLM training more sustainable.\n",
       "\n",
       "Out: None\n"
      ]
     },
     "metadata": {},
     "output_type": "display_data"
    },
    {
     "data": {
      "text/html": [
       "<pre style=\"white-space:pre;overflow-x:auto;line-height:normal;font-family:Menlo,'DejaVu Sans Mono',consolas,'Courier New',monospace\"><span style=\"color: #7f7f7f; text-decoration-color: #7f7f7f\">[Step 2: Duration 85.51 seconds| Input tokens: 11,067 | Output tokens: 1,250]</span>\n",
       "</pre>\n"
      ],
      "text/plain": [
       "\u001b[2m[Step 2: Duration 85.51 seconds| Input tokens: 11,067 | Output tokens: 1,250]\u001b[0m\n"
      ]
     },
     "metadata": {},
     "output_type": "display_data"
    },
    {
     "data": {
      "text/html": [
       "<pre style=\"white-space:pre;overflow-x:auto;line-height:normal;font-family:Menlo,'DejaVu Sans Mono',consolas,'Courier New',monospace\"><span style=\"color: #d4b702; text-decoration-color: #d4b702\">━━━━━━━━━━━━━━━━━━━━━━━━━━━━━━━━━━━━━━━━━━━━━━━━━━━━━ </span><span style=\"font-weight: bold\">Step </span><span style=\"color: #008080; text-decoration-color: #008080; font-weight: bold\">4</span><span style=\"color: #d4b702; text-decoration-color: #d4b702\"> ━━━━━━━━━━━━━━━━━━━━━━━━━━━━━━━━━━━━━━━━━━━━━━━━━━━━━━</span>\n",
       "</pre>\n"
      ],
      "text/plain": [
       "\u001b[38;2;212;183;2m━━━━━━━━━━━━━━━━━━━━━━━━━━━━━━━━━━━━━━━━━━━━━━━━━━━━━ \u001b[0m\u001b[1mStep \u001b[0m\u001b[1;36m4\u001b[0m\u001b[38;2;212;183;2m ━━━━━━━━━━━━━━━━━━━━━━━━━━━━━━━━━━━━━━━━━━━━━━━━━━━━━━\u001b[0m\n"
      ]
     },
     "metadata": {},
     "output_type": "display_data"
    },
    {
     "data": {
      "text/html": [
       "<pre style=\"white-space:pre;overflow-x:auto;line-height:normal;font-family:Menlo,'DejaVu Sans Mono',consolas,'Courier New',monospace\"> ─ <span style=\"font-weight: bold\">Executing parsed code:</span> ──────────────────────────────────────────────────────────────────────────────────────── \n",
       "  <span style=\"color: #959077; text-decoration-color: #959077; background-color: #272822\"># Current estimates for large LLM training runs</span><span style=\"background-color: #272822\">                                                                </span>  \n",
       "  <span style=\"color: #f8f8f2; text-decoration-color: #f8f8f2; background-color: #272822\">gpt3_energy_kwh </span><span style=\"color: #ff4689; text-decoration-color: #ff4689; background-color: #272822\">=</span><span style=\"color: #f8f8f2; text-decoration-color: #f8f8f2; background-color: #272822\"> </span><span style=\"color: #ae81ff; text-decoration-color: #ae81ff; background-color: #272822\">1287000</span><span style=\"color: #f8f8f2; text-decoration-color: #f8f8f2; background-color: #272822\">  </span><span style=\"color: #959077; text-decoration-color: #959077; background-color: #272822\"># kWh</span><span style=\"background-color: #272822\">                                                                               </span>  \n",
       "  <span style=\"color: #f8f8f2; text-decoration-color: #f8f8f2; background-color: #272822\">llama3_energy_kwh </span><span style=\"color: #ff4689; text-decoration-color: #ff4689; background-color: #272822\">=</span><span style=\"color: #f8f8f2; text-decoration-color: #f8f8f2; background-color: #272822\"> </span><span style=\"color: #ae81ff; text-decoration-color: #ae81ff; background-color: #272822\">500000</span><span style=\"color: #f8f8f2; text-decoration-color: #f8f8f2; background-color: #272822\">  </span><span style=\"color: #959077; text-decoration-color: #959077; background-color: #272822\"># kWh</span><span style=\"background-color: #272822\">                                                                              </span>  \n",
       "  <span style=\"background-color: #272822\">                                                                                                               </span>  \n",
       "  <span style=\"color: #959077; text-decoration-color: #959077; background-color: #272822\"># Assume the largest LLM training run is twice as large as GPT-3 for extrapolation</span><span style=\"background-color: #272822\">                             </span>  \n",
       "  <span style=\"color: #f8f8f2; text-decoration-color: #f8f8f2; background-color: #272822\">largest_llm_energy_kwh_2030 </span><span style=\"color: #ff4689; text-decoration-color: #ff4689; background-color: #272822\">=</span><span style=\"color: #f8f8f2; text-decoration-color: #f8f8f2; background-color: #272822\"> </span><span style=\"color: #ae81ff; text-decoration-color: #ae81ff; background-color: #272822\">2</span><span style=\"color: #f8f8f2; text-decoration-color: #f8f8f2; background-color: #272822\"> </span><span style=\"color: #ff4689; text-decoration-color: #ff4689; background-color: #272822\">*</span><span style=\"color: #f8f8f2; text-decoration-color: #f8f8f2; background-color: #272822\"> gpt3_energy_kwh  </span><span style=\"color: #959077; text-decoration-color: #959077; background-color: #272822\"># kWh</span><span style=\"background-color: #272822\">                                                       </span>  \n",
       "  <span style=\"background-color: #272822\">                                                                                                               </span>  \n",
       "  <span style=\"color: #959077; text-decoration-color: #959077; background-color: #272822\"># Convert kWh to GW considering 1 GW = 1,000, 000 kWh and considering 1 year = 8760 hours</span><span style=\"background-color: #272822\">                      </span>  \n",
       "  <span style=\"color: #f8f8f2; text-decoration-color: #f8f8f2; background-color: #272822\">largest_llm_energy_gw_2030 </span><span style=\"color: #ff4689; text-decoration-color: #ff4689; background-color: #272822\">=</span><span style=\"color: #f8f8f2; text-decoration-color: #f8f8f2; background-color: #272822\"> (largest_llm_energy_kwh_2030 </span><span style=\"color: #ff4689; text-decoration-color: #ff4689; background-color: #272822\">/</span><span style=\"color: #f8f8f2; text-decoration-color: #f8f8f2; background-color: #272822\"> </span><span style=\"color: #ae81ff; text-decoration-color: #ae81ff; background-color: #272822\">1000000</span><span style=\"color: #f8f8f2; text-decoration-color: #f8f8f2; background-color: #272822\">) </span><span style=\"color: #ff4689; text-decoration-color: #ff4689; background-color: #272822\">/</span><span style=\"color: #f8f8f2; text-decoration-color: #f8f8f2; background-color: #272822\"> </span><span style=\"color: #ae81ff; text-decoration-color: #ae81ff; background-color: #272822\">8760</span><span style=\"color: #f8f8f2; text-decoration-color: #f8f8f2; background-color: #272822\">  </span><span style=\"color: #959077; text-decoration-color: #959077; background-color: #272822\"># GW</span><span style=\"background-color: #272822\">                              </span>  \n",
       "  <span style=\"background-color: #272822\">                                                                                                               </span>  \n",
       "  <span style=\"color: #959077; text-decoration-color: #959077; background-color: #272822\"># Total electricity consumption for comparison</span><span style=\"background-color: #272822\">                                                                 </span>  \n",
       "  <span style=\"color: #f8f8f2; text-decoration-color: #f8f8f2; background-color: #272822\">ireland_electricity_gw </span><span style=\"color: #ff4689; text-decoration-color: #ff4689; background-color: #272822\">=</span><span style=\"color: #f8f8f2; text-decoration-color: #f8f8f2; background-color: #272822\"> </span><span style=\"color: #ae81ff; text-decoration-color: #ae81ff; background-color: #272822\">3.5</span><span style=\"color: #f8f8f2; text-decoration-color: #f8f8f2; background-color: #272822\">  </span><span style=\"color: #959077; text-decoration-color: #959077; background-color: #272822\"># GW</span><span style=\"background-color: #272822\">                                                                             </span>  \n",
       "  <span style=\"color: #f8f8f2; text-decoration-color: #f8f8f2; background-color: #272822\">luxembourg_electricity_gw </span><span style=\"color: #ff4689; text-decoration-color: #ff4689; background-color: #272822\">=</span><span style=\"color: #f8f8f2; text-decoration-color: #f8f8f2; background-color: #272822\"> </span><span style=\"color: #ae81ff; text-decoration-color: #ae81ff; background-color: #272822\">0.6</span><span style=\"color: #f8f8f2; text-decoration-color: #f8f8f2; background-color: #272822\">  </span><span style=\"color: #959077; text-decoration-color: #959077; background-color: #272822\"># GW</span><span style=\"background-color: #272822\">                                                                          </span>  \n",
       "  <span style=\"color: #f8f8f2; text-decoration-color: #f8f8f2; background-color: #272822\">singapore_electricity_gw </span><span style=\"color: #ff4689; text-decoration-color: #ff4689; background-color: #272822\">=</span><span style=\"color: #f8f8f2; text-decoration-color: #f8f8f2; background-color: #272822\"> </span><span style=\"color: #ae81ff; text-decoration-color: #ae81ff; background-color: #272822\">9.9</span><span style=\"color: #f8f8f2; text-decoration-color: #f8f8f2; background-color: #272822\">  </span><span style=\"color: #959077; text-decoration-color: #959077; background-color: #272822\"># GW</span><span style=\"background-color: #272822\">                                                                           </span>  \n",
       "  <span style=\"background-color: #272822\">                                                                                                               </span>  \n",
       "  <span style=\"color: #f8f8f2; text-decoration-color: #f8f8f2; background-color: #272822\">print(</span><span style=\"color: #e6db74; text-decoration-color: #e6db74; background-color: #272822\">f\"Largest LLM training run energy requirement in 2030: {</span><span style=\"color: #f8f8f2; text-decoration-color: #f8f8f2; background-color: #272822\">largest_llm_energy_gw_2030</span><span style=\"color: #e6db74; text-decoration-color: #e6db74; background-color: #272822\">:.4f} GW\"</span><span style=\"color: #f8f8f2; text-decoration-color: #f8f8f2; background-color: #272822\">)</span><span style=\"background-color: #272822\">             </span>  \n",
       "  <span style=\"color: #f8f8f2; text-decoration-color: #f8f8f2; background-color: #272822\">print(</span><span style=\"color: #e6db74; text-decoration-color: #e6db74; background-color: #272822\">f\"Comparison to Ireland ({</span><span style=\"color: #f8f8f2; text-decoration-color: #f8f8f2; background-color: #272822\">ireland_electricity_gw</span><span style=\"color: #e6db74; text-decoration-color: #e6db74; background-color: #272822\">} GW), Luxembourg ({</span><span style=\"color: #f8f8f2; text-decoration-color: #f8f8f2; background-color: #272822\">luxembourg_electricity_gw</span><span style=\"color: #e6db74; text-decoration-color: #e6db74; background-color: #272822\">} GW), and </span><span style=\"background-color: #272822\"> </span>  \n",
       "  <span style=\"color: #e6db74; text-decoration-color: #e6db74; background-color: #272822\">Singapore ({</span><span style=\"color: #f8f8f2; text-decoration-color: #f8f8f2; background-color: #272822\">singapore_electricity_gw</span><span style=\"color: #e6db74; text-decoration-color: #e6db74; background-color: #272822\">} GW)\"</span><span style=\"color: #f8f8f2; text-decoration-color: #f8f8f2; background-color: #272822\">)</span><span style=\"background-color: #272822\">                                                                    </span>  \n",
       " ───────────────────────────────────────────────────────────────────────────────────────────────────────────────── \n",
       "</pre>\n"
      ],
      "text/plain": [
       " ─ \u001b[1mExecuting parsed code:\u001b[0m ──────────────────────────────────────────────────────────────────────────────────────── \n",
       "  \u001b[38;2;149;144;119;48;2;39;40;34m# Current estimates for large LLM training runs\u001b[0m\u001b[48;2;39;40;34m                                                                \u001b[0m  \n",
       "  \u001b[38;2;248;248;242;48;2;39;40;34mgpt3_energy_kwh\u001b[0m\u001b[38;2;248;248;242;48;2;39;40;34m \u001b[0m\u001b[38;2;255;70;137;48;2;39;40;34m=\u001b[0m\u001b[38;2;248;248;242;48;2;39;40;34m \u001b[0m\u001b[38;2;174;129;255;48;2;39;40;34m1287000\u001b[0m\u001b[38;2;248;248;242;48;2;39;40;34m  \u001b[0m\u001b[38;2;149;144;119;48;2;39;40;34m# kWh\u001b[0m\u001b[48;2;39;40;34m                                                                               \u001b[0m  \n",
       "  \u001b[38;2;248;248;242;48;2;39;40;34mllama3_energy_kwh\u001b[0m\u001b[38;2;248;248;242;48;2;39;40;34m \u001b[0m\u001b[38;2;255;70;137;48;2;39;40;34m=\u001b[0m\u001b[38;2;248;248;242;48;2;39;40;34m \u001b[0m\u001b[38;2;174;129;255;48;2;39;40;34m500000\u001b[0m\u001b[38;2;248;248;242;48;2;39;40;34m  \u001b[0m\u001b[38;2;149;144;119;48;2;39;40;34m# kWh\u001b[0m\u001b[48;2;39;40;34m                                                                              \u001b[0m  \n",
       "  \u001b[48;2;39;40;34m                                                                                                               \u001b[0m  \n",
       "  \u001b[38;2;149;144;119;48;2;39;40;34m# Assume the largest LLM training run is twice as large as GPT-3 for extrapolation\u001b[0m\u001b[48;2;39;40;34m                             \u001b[0m  \n",
       "  \u001b[38;2;248;248;242;48;2;39;40;34mlargest_llm_energy_kwh_2030\u001b[0m\u001b[38;2;248;248;242;48;2;39;40;34m \u001b[0m\u001b[38;2;255;70;137;48;2;39;40;34m=\u001b[0m\u001b[38;2;248;248;242;48;2;39;40;34m \u001b[0m\u001b[38;2;174;129;255;48;2;39;40;34m2\u001b[0m\u001b[38;2;248;248;242;48;2;39;40;34m \u001b[0m\u001b[38;2;255;70;137;48;2;39;40;34m*\u001b[0m\u001b[38;2;248;248;242;48;2;39;40;34m \u001b[0m\u001b[38;2;248;248;242;48;2;39;40;34mgpt3_energy_kwh\u001b[0m\u001b[38;2;248;248;242;48;2;39;40;34m  \u001b[0m\u001b[38;2;149;144;119;48;2;39;40;34m# kWh\u001b[0m\u001b[48;2;39;40;34m                                                       \u001b[0m  \n",
       "  \u001b[48;2;39;40;34m                                                                                                               \u001b[0m  \n",
       "  \u001b[38;2;149;144;119;48;2;39;40;34m# Convert kWh to GW considering 1 GW = 1,000, 000 kWh and considering 1 year = 8760 hours\u001b[0m\u001b[48;2;39;40;34m                      \u001b[0m  \n",
       "  \u001b[38;2;248;248;242;48;2;39;40;34mlargest_llm_energy_gw_2030\u001b[0m\u001b[38;2;248;248;242;48;2;39;40;34m \u001b[0m\u001b[38;2;255;70;137;48;2;39;40;34m=\u001b[0m\u001b[38;2;248;248;242;48;2;39;40;34m \u001b[0m\u001b[38;2;248;248;242;48;2;39;40;34m(\u001b[0m\u001b[38;2;248;248;242;48;2;39;40;34mlargest_llm_energy_kwh_2030\u001b[0m\u001b[38;2;248;248;242;48;2;39;40;34m \u001b[0m\u001b[38;2;255;70;137;48;2;39;40;34m/\u001b[0m\u001b[38;2;248;248;242;48;2;39;40;34m \u001b[0m\u001b[38;2;174;129;255;48;2;39;40;34m1000000\u001b[0m\u001b[38;2;248;248;242;48;2;39;40;34m)\u001b[0m\u001b[38;2;248;248;242;48;2;39;40;34m \u001b[0m\u001b[38;2;255;70;137;48;2;39;40;34m/\u001b[0m\u001b[38;2;248;248;242;48;2;39;40;34m \u001b[0m\u001b[38;2;174;129;255;48;2;39;40;34m8760\u001b[0m\u001b[38;2;248;248;242;48;2;39;40;34m  \u001b[0m\u001b[38;2;149;144;119;48;2;39;40;34m# GW\u001b[0m\u001b[48;2;39;40;34m                              \u001b[0m  \n",
       "  \u001b[48;2;39;40;34m                                                                                                               \u001b[0m  \n",
       "  \u001b[38;2;149;144;119;48;2;39;40;34m# Total electricity consumption for comparison\u001b[0m\u001b[48;2;39;40;34m                                                                 \u001b[0m  \n",
       "  \u001b[38;2;248;248;242;48;2;39;40;34mireland_electricity_gw\u001b[0m\u001b[38;2;248;248;242;48;2;39;40;34m \u001b[0m\u001b[38;2;255;70;137;48;2;39;40;34m=\u001b[0m\u001b[38;2;248;248;242;48;2;39;40;34m \u001b[0m\u001b[38;2;174;129;255;48;2;39;40;34m3.5\u001b[0m\u001b[38;2;248;248;242;48;2;39;40;34m  \u001b[0m\u001b[38;2;149;144;119;48;2;39;40;34m# GW\u001b[0m\u001b[48;2;39;40;34m                                                                             \u001b[0m  \n",
       "  \u001b[38;2;248;248;242;48;2;39;40;34mluxembourg_electricity_gw\u001b[0m\u001b[38;2;248;248;242;48;2;39;40;34m \u001b[0m\u001b[38;2;255;70;137;48;2;39;40;34m=\u001b[0m\u001b[38;2;248;248;242;48;2;39;40;34m \u001b[0m\u001b[38;2;174;129;255;48;2;39;40;34m0.6\u001b[0m\u001b[38;2;248;248;242;48;2;39;40;34m  \u001b[0m\u001b[38;2;149;144;119;48;2;39;40;34m# GW\u001b[0m\u001b[48;2;39;40;34m                                                                          \u001b[0m  \n",
       "  \u001b[38;2;248;248;242;48;2;39;40;34msingapore_electricity_gw\u001b[0m\u001b[38;2;248;248;242;48;2;39;40;34m \u001b[0m\u001b[38;2;255;70;137;48;2;39;40;34m=\u001b[0m\u001b[38;2;248;248;242;48;2;39;40;34m \u001b[0m\u001b[38;2;174;129;255;48;2;39;40;34m9.9\u001b[0m\u001b[38;2;248;248;242;48;2;39;40;34m  \u001b[0m\u001b[38;2;149;144;119;48;2;39;40;34m# GW\u001b[0m\u001b[48;2;39;40;34m                                                                           \u001b[0m  \n",
       "  \u001b[48;2;39;40;34m                                                                                                               \u001b[0m  \n",
       "  \u001b[38;2;248;248;242;48;2;39;40;34mprint\u001b[0m\u001b[38;2;248;248;242;48;2;39;40;34m(\u001b[0m\u001b[38;2;230;219;116;48;2;39;40;34mf\u001b[0m\u001b[38;2;230;219;116;48;2;39;40;34m\"\u001b[0m\u001b[38;2;230;219;116;48;2;39;40;34mLargest LLM training run energy requirement in 2030: \u001b[0m\u001b[38;2;230;219;116;48;2;39;40;34m{\u001b[0m\u001b[38;2;248;248;242;48;2;39;40;34mlargest_llm_energy_gw_2030\u001b[0m\u001b[38;2;230;219;116;48;2;39;40;34m:\u001b[0m\u001b[38;2;230;219;116;48;2;39;40;34m.4f\u001b[0m\u001b[38;2;230;219;116;48;2;39;40;34m}\u001b[0m\u001b[38;2;230;219;116;48;2;39;40;34m GW\u001b[0m\u001b[38;2;230;219;116;48;2;39;40;34m\"\u001b[0m\u001b[38;2;248;248;242;48;2;39;40;34m)\u001b[0m\u001b[48;2;39;40;34m             \u001b[0m  \n",
       "  \u001b[38;2;248;248;242;48;2;39;40;34mprint\u001b[0m\u001b[38;2;248;248;242;48;2;39;40;34m(\u001b[0m\u001b[38;2;230;219;116;48;2;39;40;34mf\u001b[0m\u001b[38;2;230;219;116;48;2;39;40;34m\"\u001b[0m\u001b[38;2;230;219;116;48;2;39;40;34mComparison to Ireland (\u001b[0m\u001b[38;2;230;219;116;48;2;39;40;34m{\u001b[0m\u001b[38;2;248;248;242;48;2;39;40;34mireland_electricity_gw\u001b[0m\u001b[38;2;230;219;116;48;2;39;40;34m}\u001b[0m\u001b[38;2;230;219;116;48;2;39;40;34m GW), Luxembourg (\u001b[0m\u001b[38;2;230;219;116;48;2;39;40;34m{\u001b[0m\u001b[38;2;248;248;242;48;2;39;40;34mluxembourg_electricity_gw\u001b[0m\u001b[38;2;230;219;116;48;2;39;40;34m}\u001b[0m\u001b[38;2;230;219;116;48;2;39;40;34m GW), and \u001b[0m\u001b[48;2;39;40;34m \u001b[0m  \n",
       "  \u001b[38;2;230;219;116;48;2;39;40;34mSingapore (\u001b[0m\u001b[38;2;230;219;116;48;2;39;40;34m{\u001b[0m\u001b[38;2;248;248;242;48;2;39;40;34msingapore_electricity_gw\u001b[0m\u001b[38;2;230;219;116;48;2;39;40;34m}\u001b[0m\u001b[38;2;230;219;116;48;2;39;40;34m GW)\u001b[0m\u001b[38;2;230;219;116;48;2;39;40;34m\"\u001b[0m\u001b[38;2;248;248;242;48;2;39;40;34m)\u001b[0m\u001b[48;2;39;40;34m                                                                    \u001b[0m  \n",
       " ───────────────────────────────────────────────────────────────────────────────────────────────────────────────── \n"
      ]
     },
     "metadata": {},
     "output_type": "display_data"
    },
    {
     "data": {
      "text/html": [
       "<pre style=\"white-space:pre;overflow-x:auto;line-height:normal;font-family:Menlo,'DejaVu Sans Mono',consolas,'Courier New',monospace\"><span style=\"font-weight: bold\">Execution logs:</span>\n",
       "Largest LLM training run energy requirement in 2030: 0.00029383561643835614 GW\n",
       "Comparison to Ireland (3.5 GW), Luxembourg (0.6 GW), and Singapore (9.9 GW)\n",
       "\n",
       "Out: None\n",
       "</pre>\n"
      ],
      "text/plain": [
       "\u001b[1mExecution logs:\u001b[0m\n",
       "Largest LLM training run energy requirement in 2030: 0.00029383561643835614 GW\n",
       "Comparison to Ireland (3.5 GW), Luxembourg (0.6 GW), and Singapore (9.9 GW)\n",
       "\n",
       "Out: None\n"
      ]
     },
     "metadata": {},
     "output_type": "display_data"
    },
    {
     "data": {
      "text/html": [
       "<pre style=\"white-space:pre;overflow-x:auto;line-height:normal;font-family:Menlo,'DejaVu Sans Mono',consolas,'Courier New',monospace\"><span style=\"color: #7f7f7f; text-decoration-color: #7f7f7f\">[Step 3: Duration 21.29 seconds| Input tokens: 15,222 | Output tokens: 1,632]</span>\n",
       "</pre>\n"
      ],
      "text/plain": [
       "\u001b[2m[Step 3: Duration 21.29 seconds| Input tokens: 15,222 | Output tokens: 1,632]\u001b[0m\n"
      ]
     },
     "metadata": {},
     "output_type": "display_data"
    },
    {
     "data": {
      "text/html": [
       "<pre style=\"white-space:pre;overflow-x:auto;line-height:normal;font-family:Menlo,'DejaVu Sans Mono',consolas,'Courier New',monospace\"><span style=\"color: #d4b702; text-decoration-color: #d4b702\">━━━━━━━━━━━━━━━━━━━━━━━━━━━━━━━━━━━━━━━━━━━━━━━━━━━━━ </span><span style=\"font-weight: bold\">Step </span><span style=\"color: #008080; text-decoration-color: #008080; font-weight: bold\">5</span><span style=\"color: #d4b702; text-decoration-color: #d4b702\"> ━━━━━━━━━━━━━━━━━━━━━━━━━━━━━━━━━━━━━━━━━━━━━━━━━━━━━━</span>\n",
       "</pre>\n"
      ],
      "text/plain": [
       "\u001b[38;2;212;183;2m━━━━━━━━━━━━━━━━━━━━━━━━━━━━━━━━━━━━━━━━━━━━━━━━━━━━━ \u001b[0m\u001b[1mStep \u001b[0m\u001b[1;36m5\u001b[0m\u001b[38;2;212;183;2m ━━━━━━━━━━━━━━━━━━━━━━━━━━━━━━━━━━━━━━━━━━━━━━━━━━━━━━\u001b[0m\n"
      ]
     },
     "metadata": {},
     "output_type": "display_data"
    },
    {
     "data": {
      "text/html": [
       "<pre style=\"white-space:pre;overflow-x:auto;line-height:normal;font-family:Menlo,'DejaVu Sans Mono',consolas,'Courier New',monospace\"> ─ <span style=\"font-weight: bold\">Executing parsed code:</span> ──────────────────────────────────────────────────────────────────────────────────────── \n",
       "  <span style=\"color: #959077; text-decoration-color: #959077; background-color: #272822\"># Current estimates for large LLM training runs</span><span style=\"background-color: #272822\">                                                                </span>  \n",
       "  <span style=\"color: #f8f8f2; text-decoration-color: #f8f8f2; background-color: #272822\">gpt3_energy_kwh </span><span style=\"color: #ff4689; text-decoration-color: #ff4689; background-color: #272822\">=</span><span style=\"color: #f8f8f2; text-decoration-color: #f8f8f2; background-color: #272822\"> </span><span style=\"color: #ae81ff; text-decoration-color: #ae81ff; background-color: #272822\">1287000</span><span style=\"color: #f8f8f2; text-decoration-color: #f8f8f2; background-color: #272822\">  </span><span style=\"color: #959077; text-decoration-color: #959077; background-color: #272822\"># kWh</span><span style=\"background-color: #272822\">                                                                               </span>  \n",
       "  <span style=\"color: #f8f8f2; text-decoration-color: #f8f8f2; background-color: #272822\">llama3_energy_kwh </span><span style=\"color: #ff4689; text-decoration-color: #ff4689; background-color: #272822\">=</span><span style=\"color: #f8f8f2; text-decoration-color: #f8f8f2; background-color: #272822\"> </span><span style=\"color: #ae81ff; text-decoration-color: #ae81ff; background-color: #272822\">500000</span><span style=\"color: #f8f8f2; text-decoration-color: #f8f8f2; background-color: #272822\">  </span><span style=\"color: #959077; text-decoration-color: #959077; background-color: #272822\"># kWh</span><span style=\"background-color: #272822\">                                                                              </span>  \n",
       "  <span style=\"background-color: #272822\">                                                                                                               </span>  \n",
       "  <span style=\"color: #959077; text-decoration-color: #959077; background-color: #272822\"># Assume the largest LLM training run is 10 times as large as GPT-3 for extrapolation</span><span style=\"background-color: #272822\">                          </span>  \n",
       "  <span style=\"color: #f8f8f2; text-decoration-color: #f8f8f2; background-color: #272822\">largest_llm_energy_kwh_2030 </span><span style=\"color: #ff4689; text-decoration-color: #ff4689; background-color: #272822\">=</span><span style=\"color: #f8f8f2; text-decoration-color: #f8f8f2; background-color: #272822\"> </span><span style=\"color: #ae81ff; text-decoration-color: #ae81ff; background-color: #272822\">10</span><span style=\"color: #f8f8f2; text-decoration-color: #f8f8f2; background-color: #272822\"> </span><span style=\"color: #ff4689; text-decoration-color: #ff4689; background-color: #272822\">*</span><span style=\"color: #f8f8f2; text-decoration-color: #f8f8f2; background-color: #272822\"> gpt3_energy_kwh  </span><span style=\"color: #959077; text-decoration-color: #959077; background-color: #272822\"># kWh</span><span style=\"background-color: #272822\">                                                      </span>  \n",
       "  <span style=\"background-color: #272822\">                                                                                                               </span>  \n",
       "  <span style=\"color: #959077; text-decoration-color: #959077; background-color: #272822\"># Convert kWh to GW considering 1 GW = 1, 000, 000 kWh and considering 1 year = 8760 hours</span><span style=\"background-color: #272822\">                     </span>  \n",
       "  <span style=\"color: #f8f8f2; text-decoration-color: #f8f8f2; background-color: #272822\">largest_llm_energy_gw_2030 </span><span style=\"color: #ff4689; text-decoration-color: #ff4689; background-color: #272822\">=</span><span style=\"color: #f8f8f2; text-decoration-color: #f8f8f2; background-color: #272822\"> (largest_llm_energy_kwh_2030 </span><span style=\"color: #ff4689; text-decoration-color: #ff4689; background-color: #272822\">/</span><span style=\"color: #f8f8f2; text-decoration-color: #f8f8f2; background-color: #272822\"> </span><span style=\"color: #ae81ff; text-decoration-color: #ae81ff; background-color: #272822\">1000000</span><span style=\"color: #f8f8f2; text-decoration-color: #f8f8f2; background-color: #272822\">) </span><span style=\"color: #ff4689; text-decoration-color: #ff4689; background-color: #272822\">/</span><span style=\"color: #f8f8f2; text-decoration-color: #f8f8f2; background-color: #272822\"> </span><span style=\"color: #ae81ff; text-decoration-color: #ae81ff; background-color: #272822\">8760</span><span style=\"color: #f8f8f2; text-decoration-color: #f8f8f2; background-color: #272822\">  </span><span style=\"color: #959077; text-decoration-color: #959077; background-color: #272822\"># GW</span><span style=\"background-color: #272822\">                              </span>  \n",
       "  <span style=\"background-color: #272822\">                                                                                                               </span>  \n",
       "  <span style=\"color: #959077; text-decoration-color: #959077; background-color: #272822\"># Total electricity consumption for comparison</span><span style=\"background-color: #272822\">                                                                 </span>  \n",
       "  <span style=\"color: #f8f8f2; text-decoration-color: #f8f8f2; background-color: #272822\">ireland_electricity_gw </span><span style=\"color: #ff4689; text-decoration-color: #ff4689; background-color: #272822\">=</span><span style=\"color: #f8f8f2; text-decoration-color: #f8f8f2; background-color: #272822\"> </span><span style=\"color: #ae81ff; text-decoration-color: #ae81ff; background-color: #272822\">3.5</span><span style=\"color: #f8f8f2; text-decoration-color: #f8f8f2; background-color: #272822\">  </span><span style=\"color: #959077; text-decoration-color: #959077; background-color: #272822\"># GW</span><span style=\"background-color: #272822\">                                                                             </span>  \n",
       "  <span style=\"color: #f8f8f2; text-decoration-color: #f8f8f2; background-color: #272822\">luxembourg_electricity_gw </span><span style=\"color: #ff4689; text-decoration-color: #ff4689; background-color: #272822\">=</span><span style=\"color: #f8f8f2; text-decoration-color: #f8f8f2; background-color: #272822\"> </span><span style=\"color: #ae81ff; text-decoration-color: #ae81ff; background-color: #272822\">0.6</span><span style=\"color: #f8f8f2; text-decoration-color: #f8f8f2; background-color: #272822\">  </span><span style=\"color: #959077; text-decoration-color: #959077; background-color: #272822\"># GW</span><span style=\"background-color: #272822\">                                                                          </span>  \n",
       "  <span style=\"color: #f8f8f2; text-decoration-color: #f8f8f2; background-color: #272822\">singapore_electricity_gw </span><span style=\"color: #ff4689; text-decoration-color: #ff4689; background-color: #272822\">=</span><span style=\"color: #f8f8f2; text-decoration-color: #f8f8f2; background-color: #272822\"> </span><span style=\"color: #ae81ff; text-decoration-color: #ae81ff; background-color: #272822\">9.9</span><span style=\"color: #f8f8f2; text-decoration-color: #f8f8f2; background-color: #272822\">  </span><span style=\"color: #959077; text-decoration-color: #959077; background-color: #272822\"># GW</span><span style=\"background-color: #272822\">                                                                           </span>  \n",
       "  <span style=\"background-color: #272822\">                                                                                                               </span>  \n",
       "  <span style=\"color: #f8f8f2; text-decoration-color: #f8f8f2; background-color: #272822\">print(</span><span style=\"color: #e6db74; text-decoration-color: #e6db74; background-color: #272822\">f\"Largest LLM training run energy requirement in 2030: {</span><span style=\"color: #f8f8f2; text-decoration-color: #f8f8f2; background-color: #272822\">largest_llm_energy_gw_2030</span><span style=\"color: #e6db74; text-decoration-color: #e6db74; background-color: #272822\">:.4f} GW\"</span><span style=\"color: #f8f8f2; text-decoration-color: #f8f8f2; background-color: #272822\">)</span><span style=\"background-color: #272822\">             </span>  \n",
       "  <span style=\"color: #f8f8f2; text-decoration-color: #f8f8f2; background-color: #272822\">print(</span><span style=\"color: #e6db74; text-decoration-color: #e6db74; background-color: #272822\">f\"Comparison to Ireland ({</span><span style=\"color: #f8f8f2; text-decoration-color: #f8f8f2; background-color: #272822\">ireland_electricity_gw</span><span style=\"color: #e6db74; text-decoration-color: #e6db74; background-color: #272822\">} GW), Luxembourg ({</span><span style=\"color: #f8f8f2; text-decoration-color: #f8f8f2; background-color: #272822\">luxembourg_electricity_gw</span><span style=\"color: #e6db74; text-decoration-color: #e6db74; background-color: #272822\">} GW), and </span><span style=\"background-color: #272822\"> </span>  \n",
       "  <span style=\"color: #e6db74; text-decoration-color: #e6db74; background-color: #272822\">Singapore ({</span><span style=\"color: #f8f8f2; text-decoration-color: #f8f8f2; background-color: #272822\">singapore_electricity_gw</span><span style=\"color: #e6db74; text-decoration-color: #e6db74; background-color: #272822\">} GW)\"</span><span style=\"color: #f8f8f2; text-decoration-color: #f8f8f2; background-color: #272822\">)</span><span style=\"background-color: #272822\">                                                                    </span>  \n",
       " ───────────────────────────────────────────────────────────────────────────────────────────────────────────────── \n",
       "</pre>\n"
      ],
      "text/plain": [
       " ─ \u001b[1mExecuting parsed code:\u001b[0m ──────────────────────────────────────────────────────────────────────────────────────── \n",
       "  \u001b[38;2;149;144;119;48;2;39;40;34m# Current estimates for large LLM training runs\u001b[0m\u001b[48;2;39;40;34m                                                                \u001b[0m  \n",
       "  \u001b[38;2;248;248;242;48;2;39;40;34mgpt3_energy_kwh\u001b[0m\u001b[38;2;248;248;242;48;2;39;40;34m \u001b[0m\u001b[38;2;255;70;137;48;2;39;40;34m=\u001b[0m\u001b[38;2;248;248;242;48;2;39;40;34m \u001b[0m\u001b[38;2;174;129;255;48;2;39;40;34m1287000\u001b[0m\u001b[38;2;248;248;242;48;2;39;40;34m  \u001b[0m\u001b[38;2;149;144;119;48;2;39;40;34m# kWh\u001b[0m\u001b[48;2;39;40;34m                                                                               \u001b[0m  \n",
       "  \u001b[38;2;248;248;242;48;2;39;40;34mllama3_energy_kwh\u001b[0m\u001b[38;2;248;248;242;48;2;39;40;34m \u001b[0m\u001b[38;2;255;70;137;48;2;39;40;34m=\u001b[0m\u001b[38;2;248;248;242;48;2;39;40;34m \u001b[0m\u001b[38;2;174;129;255;48;2;39;40;34m500000\u001b[0m\u001b[38;2;248;248;242;48;2;39;40;34m  \u001b[0m\u001b[38;2;149;144;119;48;2;39;40;34m# kWh\u001b[0m\u001b[48;2;39;40;34m                                                                              \u001b[0m  \n",
       "  \u001b[48;2;39;40;34m                                                                                                               \u001b[0m  \n",
       "  \u001b[38;2;149;144;119;48;2;39;40;34m# Assume the largest LLM training run is 10 times as large as GPT-3 for extrapolation\u001b[0m\u001b[48;2;39;40;34m                          \u001b[0m  \n",
       "  \u001b[38;2;248;248;242;48;2;39;40;34mlargest_llm_energy_kwh_2030\u001b[0m\u001b[38;2;248;248;242;48;2;39;40;34m \u001b[0m\u001b[38;2;255;70;137;48;2;39;40;34m=\u001b[0m\u001b[38;2;248;248;242;48;2;39;40;34m \u001b[0m\u001b[38;2;174;129;255;48;2;39;40;34m10\u001b[0m\u001b[38;2;248;248;242;48;2;39;40;34m \u001b[0m\u001b[38;2;255;70;137;48;2;39;40;34m*\u001b[0m\u001b[38;2;248;248;242;48;2;39;40;34m \u001b[0m\u001b[38;2;248;248;242;48;2;39;40;34mgpt3_energy_kwh\u001b[0m\u001b[38;2;248;248;242;48;2;39;40;34m  \u001b[0m\u001b[38;2;149;144;119;48;2;39;40;34m# kWh\u001b[0m\u001b[48;2;39;40;34m                                                      \u001b[0m  \n",
       "  \u001b[48;2;39;40;34m                                                                                                               \u001b[0m  \n",
       "  \u001b[38;2;149;144;119;48;2;39;40;34m# Convert kWh to GW considering 1 GW = 1, 000, 000 kWh and considering 1 year = 8760 hours\u001b[0m\u001b[48;2;39;40;34m                     \u001b[0m  \n",
       "  \u001b[38;2;248;248;242;48;2;39;40;34mlargest_llm_energy_gw_2030\u001b[0m\u001b[38;2;248;248;242;48;2;39;40;34m \u001b[0m\u001b[38;2;255;70;137;48;2;39;40;34m=\u001b[0m\u001b[38;2;248;248;242;48;2;39;40;34m \u001b[0m\u001b[38;2;248;248;242;48;2;39;40;34m(\u001b[0m\u001b[38;2;248;248;242;48;2;39;40;34mlargest_llm_energy_kwh_2030\u001b[0m\u001b[38;2;248;248;242;48;2;39;40;34m \u001b[0m\u001b[38;2;255;70;137;48;2;39;40;34m/\u001b[0m\u001b[38;2;248;248;242;48;2;39;40;34m \u001b[0m\u001b[38;2;174;129;255;48;2;39;40;34m1000000\u001b[0m\u001b[38;2;248;248;242;48;2;39;40;34m)\u001b[0m\u001b[38;2;248;248;242;48;2;39;40;34m \u001b[0m\u001b[38;2;255;70;137;48;2;39;40;34m/\u001b[0m\u001b[38;2;248;248;242;48;2;39;40;34m \u001b[0m\u001b[38;2;174;129;255;48;2;39;40;34m8760\u001b[0m\u001b[38;2;248;248;242;48;2;39;40;34m  \u001b[0m\u001b[38;2;149;144;119;48;2;39;40;34m# GW\u001b[0m\u001b[48;2;39;40;34m                              \u001b[0m  \n",
       "  \u001b[48;2;39;40;34m                                                                                                               \u001b[0m  \n",
       "  \u001b[38;2;149;144;119;48;2;39;40;34m# Total electricity consumption for comparison\u001b[0m\u001b[48;2;39;40;34m                                                                 \u001b[0m  \n",
       "  \u001b[38;2;248;248;242;48;2;39;40;34mireland_electricity_gw\u001b[0m\u001b[38;2;248;248;242;48;2;39;40;34m \u001b[0m\u001b[38;2;255;70;137;48;2;39;40;34m=\u001b[0m\u001b[38;2;248;248;242;48;2;39;40;34m \u001b[0m\u001b[38;2;174;129;255;48;2;39;40;34m3.5\u001b[0m\u001b[38;2;248;248;242;48;2;39;40;34m  \u001b[0m\u001b[38;2;149;144;119;48;2;39;40;34m# GW\u001b[0m\u001b[48;2;39;40;34m                                                                             \u001b[0m  \n",
       "  \u001b[38;2;248;248;242;48;2;39;40;34mluxembourg_electricity_gw\u001b[0m\u001b[38;2;248;248;242;48;2;39;40;34m \u001b[0m\u001b[38;2;255;70;137;48;2;39;40;34m=\u001b[0m\u001b[38;2;248;248;242;48;2;39;40;34m \u001b[0m\u001b[38;2;174;129;255;48;2;39;40;34m0.6\u001b[0m\u001b[38;2;248;248;242;48;2;39;40;34m  \u001b[0m\u001b[38;2;149;144;119;48;2;39;40;34m# GW\u001b[0m\u001b[48;2;39;40;34m                                                                          \u001b[0m  \n",
       "  \u001b[38;2;248;248;242;48;2;39;40;34msingapore_electricity_gw\u001b[0m\u001b[38;2;248;248;242;48;2;39;40;34m \u001b[0m\u001b[38;2;255;70;137;48;2;39;40;34m=\u001b[0m\u001b[38;2;248;248;242;48;2;39;40;34m \u001b[0m\u001b[38;2;174;129;255;48;2;39;40;34m9.9\u001b[0m\u001b[38;2;248;248;242;48;2;39;40;34m  \u001b[0m\u001b[38;2;149;144;119;48;2;39;40;34m# GW\u001b[0m\u001b[48;2;39;40;34m                                                                           \u001b[0m  \n",
       "  \u001b[48;2;39;40;34m                                                                                                               \u001b[0m  \n",
       "  \u001b[38;2;248;248;242;48;2;39;40;34mprint\u001b[0m\u001b[38;2;248;248;242;48;2;39;40;34m(\u001b[0m\u001b[38;2;230;219;116;48;2;39;40;34mf\u001b[0m\u001b[38;2;230;219;116;48;2;39;40;34m\"\u001b[0m\u001b[38;2;230;219;116;48;2;39;40;34mLargest LLM training run energy requirement in 2030: \u001b[0m\u001b[38;2;230;219;116;48;2;39;40;34m{\u001b[0m\u001b[38;2;248;248;242;48;2;39;40;34mlargest_llm_energy_gw_2030\u001b[0m\u001b[38;2;230;219;116;48;2;39;40;34m:\u001b[0m\u001b[38;2;230;219;116;48;2;39;40;34m.4f\u001b[0m\u001b[38;2;230;219;116;48;2;39;40;34m}\u001b[0m\u001b[38;2;230;219;116;48;2;39;40;34m GW\u001b[0m\u001b[38;2;230;219;116;48;2;39;40;34m\"\u001b[0m\u001b[38;2;248;248;242;48;2;39;40;34m)\u001b[0m\u001b[48;2;39;40;34m             \u001b[0m  \n",
       "  \u001b[38;2;248;248;242;48;2;39;40;34mprint\u001b[0m\u001b[38;2;248;248;242;48;2;39;40;34m(\u001b[0m\u001b[38;2;230;219;116;48;2;39;40;34mf\u001b[0m\u001b[38;2;230;219;116;48;2;39;40;34m\"\u001b[0m\u001b[38;2;230;219;116;48;2;39;40;34mComparison to Ireland (\u001b[0m\u001b[38;2;230;219;116;48;2;39;40;34m{\u001b[0m\u001b[38;2;248;248;242;48;2;39;40;34mireland_electricity_gw\u001b[0m\u001b[38;2;230;219;116;48;2;39;40;34m}\u001b[0m\u001b[38;2;230;219;116;48;2;39;40;34m GW), Luxembourg (\u001b[0m\u001b[38;2;230;219;116;48;2;39;40;34m{\u001b[0m\u001b[38;2;248;248;242;48;2;39;40;34mluxembourg_electricity_gw\u001b[0m\u001b[38;2;230;219;116;48;2;39;40;34m}\u001b[0m\u001b[38;2;230;219;116;48;2;39;40;34m GW), and \u001b[0m\u001b[48;2;39;40;34m \u001b[0m  \n",
       "  \u001b[38;2;230;219;116;48;2;39;40;34mSingapore (\u001b[0m\u001b[38;2;230;219;116;48;2;39;40;34m{\u001b[0m\u001b[38;2;248;248;242;48;2;39;40;34msingapore_electricity_gw\u001b[0m\u001b[38;2;230;219;116;48;2;39;40;34m}\u001b[0m\u001b[38;2;230;219;116;48;2;39;40;34m GW)\u001b[0m\u001b[38;2;230;219;116;48;2;39;40;34m\"\u001b[0m\u001b[38;2;248;248;242;48;2;39;40;34m)\u001b[0m\u001b[48;2;39;40;34m                                                                    \u001b[0m  \n",
       " ───────────────────────────────────────────────────────────────────────────────────────────────────────────────── \n"
      ]
     },
     "metadata": {},
     "output_type": "display_data"
    },
    {
     "data": {
      "text/html": [
       "<pre style=\"white-space:pre;overflow-x:auto;line-height:normal;font-family:Menlo,'DejaVu Sans Mono',consolas,'Courier New',monospace\"><span style=\"font-weight: bold\">Execution logs:</span>\n",
       "Largest LLM training run energy requirement in 2030: 0.0014691780821917807 GW\n",
       "Comparison to Ireland (3.5 GW), Luxembourg (0.6 GW), and Singapore (9.9 GW)\n",
       "\n",
       "Out: None\n",
       "</pre>\n"
      ],
      "text/plain": [
       "\u001b[1mExecution logs:\u001b[0m\n",
       "Largest LLM training run energy requirement in 2030: 0.0014691780821917807 GW\n",
       "Comparison to Ireland (3.5 GW), Luxembourg (0.6 GW), and Singapore (9.9 GW)\n",
       "\n",
       "Out: None\n"
      ]
     },
     "metadata": {},
     "output_type": "display_data"
    },
    {
     "data": {
      "text/html": [
       "<pre style=\"white-space:pre;overflow-x:auto;line-height:normal;font-family:Menlo,'DejaVu Sans Mono',consolas,'Courier New',monospace\"><span style=\"color: #7f7f7f; text-decoration-color: #7f7f7f\">[Step 4: Duration 24.00 seconds| Input tokens: 20,201 | Output tokens: 2,035]</span>\n",
       "</pre>\n"
      ],
      "text/plain": [
       "\u001b[2m[Step 4: Duration 24.00 seconds| Input tokens: 20,201 | Output tokens: 2,035]\u001b[0m\n"
      ]
     },
     "metadata": {},
     "output_type": "display_data"
    },
    {
     "data": {
      "text/html": [
       "<pre style=\"white-space:pre;overflow-x:auto;line-height:normal;font-family:Menlo,'DejaVu Sans Mono',consolas,'Courier New',monospace\"><span style=\"color: #d4b702; text-decoration-color: #d4b702\">━━━━━━━━━━━━━━━━━━━━━━━━━━━━━━━━━━━━━━━━━━━━━━━━━━━━━ </span><span style=\"font-weight: bold\">Step </span><span style=\"color: #008080; text-decoration-color: #008080; font-weight: bold\">6</span><span style=\"color: #d4b702; text-decoration-color: #d4b702\"> ━━━━━━━━━━━━━━━━━━━━━━━━━━━━━━━━━━━━━━━━━━━━━━━━━━━━━━</span>\n",
       "</pre>\n"
      ],
      "text/plain": [
       "\u001b[38;2;212;183;2m━━━━━━━━━━━━━━━━━━━━━━━━━━━━━━━━━━━━━━━━━━━━━━━━━━━━━ \u001b[0m\u001b[1mStep \u001b[0m\u001b[1;36m6\u001b[0m\u001b[38;2;212;183;2m ━━━━━━━━━━━━━━━━━━━━━━━━━━━━━━━━━━━━━━━━━━━━━━━━━━━━━━\u001b[0m\n"
      ]
     },
     "metadata": {},
     "output_type": "display_data"
    },
    {
     "data": {
      "text/html": [
       "<pre style=\"white-space:pre;overflow-x:auto;line-height:normal;font-family:Menlo,'DejaVu Sans Mono',consolas,'Courier New',monospace\"> ─ <span style=\"font-weight: bold\">Executing parsed code:</span> ──────────────────────────────────────────────────────────────────────────────────────── \n",
       "  <span style=\"color: #959077; text-decoration-color: #959077; background-color: #272822\"># Current estimates for large LLM training runs</span><span style=\"background-color: #272822\">                                                                </span>  \n",
       "  <span style=\"color: #f8f8f2; text-decoration-color: #f8f8f2; background-color: #272822\">gpt3_energy_kwh </span><span style=\"color: #ff4689; text-decoration-color: #ff4689; background-color: #272822\">=</span><span style=\"color: #f8f8f2; text-decoration-color: #f8f8f2; background-color: #272822\"> </span><span style=\"color: #ae81ff; text-decoration-color: #ae81ff; background-color: #272822\">1287000</span><span style=\"color: #f8f8f2; text-decoration-color: #f8f8f2; background-color: #272822\">  </span><span style=\"color: #959077; text-decoration-color: #959077; background-color: #272822\"># kWh</span><span style=\"background-color: #272822\">                                                                               </span>  \n",
       "  <span style=\"background-color: #272822\">                                                                                                               </span>  \n",
       "  <span style=\"color: #959077; text-decoration-color: #959077; background-color: #272822\"># Assume the largest LLM training run is 100 times as large as GPT-3 for extrapolation</span><span style=\"background-color: #272822\">                         </span>  \n",
       "  <span style=\"color: #f8f8f2; text-decoration-color: #f8f8f2; background-color: #272822\">largest_llm_energy_kwh_2030 </span><span style=\"color: #ff4689; text-decoration-color: #ff4689; background-color: #272822\">=</span><span style=\"color: #f8f8f2; text-decoration-color: #f8f8f2; background-color: #272822\"> </span><span style=\"color: #ae81ff; text-decoration-color: #ae81ff; background-color: #272822\">100</span><span style=\"color: #f8f8f2; text-decoration-color: #f8f8f2; background-color: #272822\"> </span><span style=\"color: #ff4689; text-decoration-color: #ff4689; background-color: #272822\">*</span><span style=\"color: #f8f8f2; text-decoration-color: #f8f8f2; background-color: #272822\"> gpt3_energy_kwh  </span><span style=\"color: #959077; text-decoration-color: #959077; background-color: #272822\"># kWh</span><span style=\"background-color: #272822\">                                                     </span>  \n",
       "  <span style=\"background-color: #272822\">                                                                                                               </span>  \n",
       "  <span style=\"color: #959077; text-decoration-color: #959077; background-color: #272822\"># Convert kWh to GW considering 1 GW = 1, 000, 000 kWh and considering 1 year = 8760 hours</span><span style=\"background-color: #272822\">                     </span>  \n",
       "  <span style=\"color: #f8f8f2; text-decoration-color: #f8f8f2; background-color: #272822\">largest_llm_energy_gw_2030 </span><span style=\"color: #ff4689; text-decoration-color: #ff4689; background-color: #272822\">=</span><span style=\"color: #f8f8f2; text-decoration-color: #f8f8f2; background-color: #272822\"> (largest_llm_energy_kwh_2030 </span><span style=\"color: #ff4689; text-decoration-color: #ff4689; background-color: #272822\">/</span><span style=\"color: #f8f8f2; text-decoration-color: #f8f8f2; background-color: #272822\"> </span><span style=\"color: #ae81ff; text-decoration-color: #ae81ff; background-color: #272822\">1000000</span><span style=\"color: #f8f8f2; text-decoration-color: #f8f8f2; background-color: #272822\">) </span><span style=\"color: #ff4689; text-decoration-color: #ff4689; background-color: #272822\">/</span><span style=\"color: #f8f8f2; text-decoration-color: #f8f8f2; background-color: #272822\"> </span><span style=\"color: #ae81ff; text-decoration-color: #ae81ff; background-color: #272822\">8760</span><span style=\"color: #f8f8f2; text-decoration-color: #f8f8f2; background-color: #272822\">  </span><span style=\"color: #959077; text-decoration-color: #959077; background-color: #272822\"># GW</span><span style=\"background-color: #272822\">                              </span>  \n",
       "  <span style=\"background-color: #272822\">                                                                                                               </span>  \n",
       "  <span style=\"color: #959077; text-decoration-color: #959077; background-color: #272822\"># Total electricity consumption for comparison</span><span style=\"background-color: #272822\">                                                                 </span>  \n",
       "  <span style=\"color: #f8f8f2; text-decoration-color: #f8f8f2; background-color: #272822\">ireland_electricity_gw </span><span style=\"color: #ff4689; text-decoration-color: #ff4689; background-color: #272822\">=</span><span style=\"color: #f8f8f2; text-decoration-color: #f8f8f2; background-color: #272822\"> </span><span style=\"color: #ae81ff; text-decoration-color: #ae81ff; background-color: #272822\">3.5</span><span style=\"color: #f8f8f2; text-decoration-color: #f8f8f2; background-color: #272822\">  </span><span style=\"color: #959077; text-decoration-color: #959077; background-color: #272822\"># GW</span><span style=\"background-color: #272822\">                                                                             </span>  \n",
       "  <span style=\"color: #f8f8f2; text-decoration-color: #f8f8f2; background-color: #272822\">luxembourg_electricity_gw </span><span style=\"color: #ff4689; text-decoration-color: #ff4689; background-color: #272822\">=</span><span style=\"color: #f8f8f2; text-decoration-color: #f8f8f2; background-color: #272822\"> </span><span style=\"color: #ae81ff; text-decoration-color: #ae81ff; background-color: #272822\">0.6</span><span style=\"color: #f8f8f2; text-decoration-color: #f8f8f2; background-color: #272822\">  </span><span style=\"color: #959077; text-decoration-color: #959077; background-color: #272822\"># GW</span><span style=\"background-color: #272822\">                                                                          </span>  \n",
       "  <span style=\"color: #f8f8f2; text-decoration-color: #f8f8f2; background-color: #272822\">singapore_electricity_gw </span><span style=\"color: #ff4689; text-decoration-color: #ff4689; background-color: #272822\">=</span><span style=\"color: #f8f8f2; text-decoration-color: #f8f8f2; background-color: #272822\"> </span><span style=\"color: #ae81ff; text-decoration-color: #ae81ff; background-color: #272822\">9.9</span><span style=\"color: #f8f8f2; text-decoration-color: #f8f8f2; background-color: #272822\">  </span><span style=\"color: #959077; text-decoration-color: #959077; background-color: #272822\"># GW</span><span style=\"background-color: #272822\">                                                                           </span>  \n",
       "  <span style=\"background-color: #272822\">                                                                                                               </span>  \n",
       "  <span style=\"color: #f8f8f2; text-decoration-color: #f8f8f2; background-color: #272822\">print(</span><span style=\"color: #e6db74; text-decoration-color: #e6db74; background-color: #272822\">f\"Largest LLM training run energy requirement in 2030: {</span><span style=\"color: #f8f8f2; text-decoration-color: #f8f8f2; background-color: #272822\">largest_llm_energy_gw_2030</span><span style=\"color: #e6db74; text-decoration-color: #e6db74; background-color: #272822\">:.4f} GW\"</span><span style=\"color: #f8f8f2; text-decoration-color: #f8f8f2; background-color: #272822\">)</span><span style=\"background-color: #272822\">             </span>  \n",
       "  <span style=\"color: #f8f8f2; text-decoration-color: #f8f8f2; background-color: #272822\">print(</span><span style=\"color: #e6db74; text-decoration-color: #e6db74; background-color: #272822\">f\"Comparison to Ireland ({</span><span style=\"color: #f8f8f2; text-decoration-color: #f8f8f2; background-color: #272822\">ireland_electricity_gw</span><span style=\"color: #e6db74; text-decoration-color: #e6db74; background-color: #272822\">} GW), Luxembourg ({</span><span style=\"color: #f8f8f2; text-decoration-color: #f8f8f2; background-color: #272822\">luxembourg_electricity_gw</span><span style=\"color: #e6db74; text-decoration-color: #e6db74; background-color: #272822\">} GW), and </span><span style=\"background-color: #272822\"> </span>  \n",
       "  <span style=\"color: #e6db74; text-decoration-color: #e6db74; background-color: #272822\">Singapore ({</span><span style=\"color: #f8f8f2; text-decoration-color: #f8f8f2; background-color: #272822\">singapore_electricity_gw</span><span style=\"color: #e6db74; text-decoration-color: #e6db74; background-color: #272822\">} GW)\"</span><span style=\"color: #f8f8f2; text-decoration-color: #f8f8f2; background-color: #272822\">)</span><span style=\"background-color: #272822\">                                                                    </span>  \n",
       " ───────────────────────────────────────────────────────────────────────────────────────────────────────────────── \n",
       "</pre>\n"
      ],
      "text/plain": [
       " ─ \u001b[1mExecuting parsed code:\u001b[0m ──────────────────────────────────────────────────────────────────────────────────────── \n",
       "  \u001b[38;2;149;144;119;48;2;39;40;34m# Current estimates for large LLM training runs\u001b[0m\u001b[48;2;39;40;34m                                                                \u001b[0m  \n",
       "  \u001b[38;2;248;248;242;48;2;39;40;34mgpt3_energy_kwh\u001b[0m\u001b[38;2;248;248;242;48;2;39;40;34m \u001b[0m\u001b[38;2;255;70;137;48;2;39;40;34m=\u001b[0m\u001b[38;2;248;248;242;48;2;39;40;34m \u001b[0m\u001b[38;2;174;129;255;48;2;39;40;34m1287000\u001b[0m\u001b[38;2;248;248;242;48;2;39;40;34m  \u001b[0m\u001b[38;2;149;144;119;48;2;39;40;34m# kWh\u001b[0m\u001b[48;2;39;40;34m                                                                               \u001b[0m  \n",
       "  \u001b[48;2;39;40;34m                                                                                                               \u001b[0m  \n",
       "  \u001b[38;2;149;144;119;48;2;39;40;34m# Assume the largest LLM training run is 100 times as large as GPT-3 for extrapolation\u001b[0m\u001b[48;2;39;40;34m                         \u001b[0m  \n",
       "  \u001b[38;2;248;248;242;48;2;39;40;34mlargest_llm_energy_kwh_2030\u001b[0m\u001b[38;2;248;248;242;48;2;39;40;34m \u001b[0m\u001b[38;2;255;70;137;48;2;39;40;34m=\u001b[0m\u001b[38;2;248;248;242;48;2;39;40;34m \u001b[0m\u001b[38;2;174;129;255;48;2;39;40;34m100\u001b[0m\u001b[38;2;248;248;242;48;2;39;40;34m \u001b[0m\u001b[38;2;255;70;137;48;2;39;40;34m*\u001b[0m\u001b[38;2;248;248;242;48;2;39;40;34m \u001b[0m\u001b[38;2;248;248;242;48;2;39;40;34mgpt3_energy_kwh\u001b[0m\u001b[38;2;248;248;242;48;2;39;40;34m  \u001b[0m\u001b[38;2;149;144;119;48;2;39;40;34m# kWh\u001b[0m\u001b[48;2;39;40;34m                                                     \u001b[0m  \n",
       "  \u001b[48;2;39;40;34m                                                                                                               \u001b[0m  \n",
       "  \u001b[38;2;149;144;119;48;2;39;40;34m# Convert kWh to GW considering 1 GW = 1, 000, 000 kWh and considering 1 year = 8760 hours\u001b[0m\u001b[48;2;39;40;34m                     \u001b[0m  \n",
       "  \u001b[38;2;248;248;242;48;2;39;40;34mlargest_llm_energy_gw_2030\u001b[0m\u001b[38;2;248;248;242;48;2;39;40;34m \u001b[0m\u001b[38;2;255;70;137;48;2;39;40;34m=\u001b[0m\u001b[38;2;248;248;242;48;2;39;40;34m \u001b[0m\u001b[38;2;248;248;242;48;2;39;40;34m(\u001b[0m\u001b[38;2;248;248;242;48;2;39;40;34mlargest_llm_energy_kwh_2030\u001b[0m\u001b[38;2;248;248;242;48;2;39;40;34m \u001b[0m\u001b[38;2;255;70;137;48;2;39;40;34m/\u001b[0m\u001b[38;2;248;248;242;48;2;39;40;34m \u001b[0m\u001b[38;2;174;129;255;48;2;39;40;34m1000000\u001b[0m\u001b[38;2;248;248;242;48;2;39;40;34m)\u001b[0m\u001b[38;2;248;248;242;48;2;39;40;34m \u001b[0m\u001b[38;2;255;70;137;48;2;39;40;34m/\u001b[0m\u001b[38;2;248;248;242;48;2;39;40;34m \u001b[0m\u001b[38;2;174;129;255;48;2;39;40;34m8760\u001b[0m\u001b[38;2;248;248;242;48;2;39;40;34m  \u001b[0m\u001b[38;2;149;144;119;48;2;39;40;34m# GW\u001b[0m\u001b[48;2;39;40;34m                              \u001b[0m  \n",
       "  \u001b[48;2;39;40;34m                                                                                                               \u001b[0m  \n",
       "  \u001b[38;2;149;144;119;48;2;39;40;34m# Total electricity consumption for comparison\u001b[0m\u001b[48;2;39;40;34m                                                                 \u001b[0m  \n",
       "  \u001b[38;2;248;248;242;48;2;39;40;34mireland_electricity_gw\u001b[0m\u001b[38;2;248;248;242;48;2;39;40;34m \u001b[0m\u001b[38;2;255;70;137;48;2;39;40;34m=\u001b[0m\u001b[38;2;248;248;242;48;2;39;40;34m \u001b[0m\u001b[38;2;174;129;255;48;2;39;40;34m3.5\u001b[0m\u001b[38;2;248;248;242;48;2;39;40;34m  \u001b[0m\u001b[38;2;149;144;119;48;2;39;40;34m# GW\u001b[0m\u001b[48;2;39;40;34m                                                                             \u001b[0m  \n",
       "  \u001b[38;2;248;248;242;48;2;39;40;34mluxembourg_electricity_gw\u001b[0m\u001b[38;2;248;248;242;48;2;39;40;34m \u001b[0m\u001b[38;2;255;70;137;48;2;39;40;34m=\u001b[0m\u001b[38;2;248;248;242;48;2;39;40;34m \u001b[0m\u001b[38;2;174;129;255;48;2;39;40;34m0.6\u001b[0m\u001b[38;2;248;248;242;48;2;39;40;34m  \u001b[0m\u001b[38;2;149;144;119;48;2;39;40;34m# GW\u001b[0m\u001b[48;2;39;40;34m                                                                          \u001b[0m  \n",
       "  \u001b[38;2;248;248;242;48;2;39;40;34msingapore_electricity_gw\u001b[0m\u001b[38;2;248;248;242;48;2;39;40;34m \u001b[0m\u001b[38;2;255;70;137;48;2;39;40;34m=\u001b[0m\u001b[38;2;248;248;242;48;2;39;40;34m \u001b[0m\u001b[38;2;174;129;255;48;2;39;40;34m9.9\u001b[0m\u001b[38;2;248;248;242;48;2;39;40;34m  \u001b[0m\u001b[38;2;149;144;119;48;2;39;40;34m# GW\u001b[0m\u001b[48;2;39;40;34m                                                                           \u001b[0m  \n",
       "  \u001b[48;2;39;40;34m                                                                                                               \u001b[0m  \n",
       "  \u001b[38;2;248;248;242;48;2;39;40;34mprint\u001b[0m\u001b[38;2;248;248;242;48;2;39;40;34m(\u001b[0m\u001b[38;2;230;219;116;48;2;39;40;34mf\u001b[0m\u001b[38;2;230;219;116;48;2;39;40;34m\"\u001b[0m\u001b[38;2;230;219;116;48;2;39;40;34mLargest LLM training run energy requirement in 2030: \u001b[0m\u001b[38;2;230;219;116;48;2;39;40;34m{\u001b[0m\u001b[38;2;248;248;242;48;2;39;40;34mlargest_llm_energy_gw_2030\u001b[0m\u001b[38;2;230;219;116;48;2;39;40;34m:\u001b[0m\u001b[38;2;230;219;116;48;2;39;40;34m.4f\u001b[0m\u001b[38;2;230;219;116;48;2;39;40;34m}\u001b[0m\u001b[38;2;230;219;116;48;2;39;40;34m GW\u001b[0m\u001b[38;2;230;219;116;48;2;39;40;34m\"\u001b[0m\u001b[38;2;248;248;242;48;2;39;40;34m)\u001b[0m\u001b[48;2;39;40;34m             \u001b[0m  \n",
       "  \u001b[38;2;248;248;242;48;2;39;40;34mprint\u001b[0m\u001b[38;2;248;248;242;48;2;39;40;34m(\u001b[0m\u001b[38;2;230;219;116;48;2;39;40;34mf\u001b[0m\u001b[38;2;230;219;116;48;2;39;40;34m\"\u001b[0m\u001b[38;2;230;219;116;48;2;39;40;34mComparison to Ireland (\u001b[0m\u001b[38;2;230;219;116;48;2;39;40;34m{\u001b[0m\u001b[38;2;248;248;242;48;2;39;40;34mireland_electricity_gw\u001b[0m\u001b[38;2;230;219;116;48;2;39;40;34m}\u001b[0m\u001b[38;2;230;219;116;48;2;39;40;34m GW), Luxembourg (\u001b[0m\u001b[38;2;230;219;116;48;2;39;40;34m{\u001b[0m\u001b[38;2;248;248;242;48;2;39;40;34mluxembourg_electricity_gw\u001b[0m\u001b[38;2;230;219;116;48;2;39;40;34m}\u001b[0m\u001b[38;2;230;219;116;48;2;39;40;34m GW), and \u001b[0m\u001b[48;2;39;40;34m \u001b[0m  \n",
       "  \u001b[38;2;230;219;116;48;2;39;40;34mSingapore (\u001b[0m\u001b[38;2;230;219;116;48;2;39;40;34m{\u001b[0m\u001b[38;2;248;248;242;48;2;39;40;34msingapore_electricity_gw\u001b[0m\u001b[38;2;230;219;116;48;2;39;40;34m}\u001b[0m\u001b[38;2;230;219;116;48;2;39;40;34m GW)\u001b[0m\u001b[38;2;230;219;116;48;2;39;40;34m\"\u001b[0m\u001b[38;2;248;248;242;48;2;39;40;34m)\u001b[0m\u001b[48;2;39;40;34m                                                                    \u001b[0m  \n",
       " ───────────────────────────────────────────────────────────────────────────────────────────────────────────────── \n"
      ]
     },
     "metadata": {},
     "output_type": "display_data"
    },
    {
     "data": {
      "text/html": [
       "<pre style=\"white-space:pre;overflow-x:auto;line-height:normal;font-family:Menlo,'DejaVu Sans Mono',consolas,'Courier New',monospace\"><span style=\"font-weight: bold\">Execution logs:</span>\n",
       "Largest LLM training run energy requirement in 2030: 0.014691780821917806 GW\n",
       "Comparison to Ireland (3.5 GW), Luxembourg (0.6 GW), and Singapore (9.9 GW)\n",
       "\n",
       "Out: None\n",
       "</pre>\n"
      ],
      "text/plain": [
       "\u001b[1mExecution logs:\u001b[0m\n",
       "Largest LLM training run energy requirement in 2030: 0.014691780821917806 GW\n",
       "Comparison to Ireland (3.5 GW), Luxembourg (0.6 GW), and Singapore (9.9 GW)\n",
       "\n",
       "Out: None\n"
      ]
     },
     "metadata": {},
     "output_type": "display_data"
    },
    {
     "data": {
      "text/html": [
       "<pre style=\"white-space:pre;overflow-x:auto;line-height:normal;font-family:Menlo,'DejaVu Sans Mono',consolas,'Courier New',monospace\"><span style=\"color: #7f7f7f; text-decoration-color: #7f7f7f\">[Step 5: Duration 22.13 seconds| Input tokens: 26,029 | Output tokens: 2,465]</span>\n",
       "</pre>\n"
      ],
      "text/plain": [
       "\u001b[2m[Step 5: Duration 22.13 seconds| Input tokens: 26,029 | Output tokens: 2,465]\u001b[0m\n"
      ]
     },
     "metadata": {},
     "output_type": "display_data"
    },
    {
     "data": {
      "text/html": [
       "<pre style=\"white-space:pre;overflow-x:auto;line-height:normal;font-family:Menlo,'DejaVu Sans Mono',consolas,'Courier New',monospace\"><span style=\"color: #800000; text-decoration-color: #800000; font-weight: bold\">Reached max steps.</span>\n",
       "</pre>\n"
      ],
      "text/plain": [
       "\u001b[1;31mReached max steps.\u001b[0m\n"
      ]
     },
     "metadata": {},
     "output_type": "display_data"
    },
    {
     "data": {
      "text/html": [
       "<pre style=\"white-space:pre;overflow-x:auto;line-height:normal;font-family:Menlo,'DejaVu Sans Mono',consolas,'Courier New',monospace\"><span style=\"color: #7f7f7f; text-decoration-color: #7f7f7f\">[Step 6: Duration 22.13 seconds| Input tokens: 30,733 | Output tokens: 2,937]</span>\n",
       "</pre>\n"
      ],
      "text/plain": [
       "\u001b[2m[Step 6: Duration 22.13 seconds| Input tokens: 30,733 | Output tokens: 2,937]\u001b[0m\n"
      ]
     },
     "metadata": {},
     "output_type": "display_data"
    }
   ],
   "source": [
    "answer = manager_agent.run(\"If LLM training continues to scale up at the current rhythm until 2030, what would be the electric power in GW required to power the biggest training runs by 2030? What would that correspond to, compared to some countries? Please provide a source for any numbers used.\")\n",
    "\n",
    "# 3m 17.3s"
   ]
  }
 ],
 "metadata": {
  "kernelspec": {
   "display_name": ".smolagents",
   "language": "python",
   "name": "python3"
  },
  "language_info": {
   "codemirror_mode": {
    "name": "ipython",
    "version": 3
   },
   "file_extension": ".py",
   "mimetype": "text/x-python",
   "name": "python",
   "nbconvert_exporter": "python",
   "pygments_lexer": "ipython3",
   "version": "3.10.13"
  }
 },
 "nbformat": 4,
 "nbformat_minor": 2
}
